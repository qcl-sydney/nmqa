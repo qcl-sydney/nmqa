{
 "cells": [
  {
   "cell_type": "code",
   "execution_count": 1,
   "metadata": {
    "collapsed": false
   },
   "outputs": [],
   "source": [
    "from qslamr import ParticleFilter \n",
    "from qslamdesignparams import GRIDDICT, MODELDESIGN, NOISEPARAMS, FIX_LAMBDAS\n",
    "import numpy as np\n",
    "import matplotlib.pyplot as plt"
   ]
  },
  {
   "cell_type": "markdown",
   "metadata": {},
   "source": [
    "This workbook is to resolve a bug in the code. This bug means that the code is breaking upon iteration. The algorithm runs a single iteration without any problems with the following settings:"
   ]
  },
  {
   "cell_type": "code",
   "execution_count": 2,
   "metadata": {
    "collapsed": true
   },
   "outputs": [],
   "source": [
    "# MODELDESIGN[\"MSMTS_PER_NODE\"] = 20 # Works for all values\n",
    "# TOT_MSMTS = 1 # Works for only on value"
   ]
  },
  {
   "cell_type": "markdown",
   "metadata": {},
   "source": [
    "However, changing the number of total measurements on potentially different qubits yields a break."
   ]
  },
  {
   "cell_type": "code",
   "execution_count": 3,
   "metadata": {
    "collapsed": true
   },
   "outputs": [],
   "source": [
    "# MODELDESIGN[\"MSMTS_PER_NODE\"] = 20 # Works for all values\n",
    "# TOT_MSMTS = 2 # Doesn't work for all values"
   ]
  },
  {
   "cell_type": "markdown",
   "metadata": {},
   "source": [
    "#### Bug testing "
   ]
  },
  {
   "cell_type": "markdown",
   "metadata": {},
   "source": [
    "**IDEA 1** We know that the break occurs when the last particle in a set of Alpha particles fails to generate a Beta Layer. We will now try to replicate the error by choosing only 1 Alpha particle and 1 Beta particle."
   ]
  },
  {
   "cell_type": "code",
   "execution_count": 4,
   "metadata": {
    "collapsed": true
   },
   "outputs": [],
   "source": [
    "# MODELDESIGN[\"P_ALPHA\"] = 1\n",
    "# MODELDESIGN[\"P_BETA\"] = 1\n",
    "# MODELDESIGN[\"MSMTS_PER_NODE\"] = 1 # Works for all values\n",
    "# TOT_MSMTS = 2 # Works for P_ALPHA == P_BETA = 1"
   ]
  },
  {
   "cell_type": "markdown",
   "metadata": {},
   "source": [
    "** Result 1** The algorithm appears to work for a single Alpha and a single Beta particle."
   ]
  },
  {
   "cell_type": "markdown",
   "metadata": {},
   "source": [
    "**IDEA 2** We know that for single particle types, the algorithm works. We know that the beta layer generation for an alpha parent fails. We will keep the parent constant (single Alpha particle), and see if algorithms runs by generating Beta layers in multiple iterations if the parent is held constant. This shows that the generation and collapse of beta layers will be working correctly for a single parent outcome. Hence, we test the error by choosing 1 Alpha particle but >1 Beta particles."
   ]
  },
  {
   "cell_type": "code",
   "execution_count": 5,
   "metadata": {
    "collapsed": true
   },
   "outputs": [],
   "source": [
    "# MODELDESIGN[\"P_ALPHA\"] = 1\n",
    "# MODELDESIGN[\"P_BETA\"] = 10\n",
    "# MODELDESIGN[\"MSMTS_PER_NODE\"] = 5 # Works for all values\n",
    "# TOT_MSMTS = 50 # Works for P_ALPHA == P_BETA = 1"
   ]
  },
  {
   "cell_type": "markdown",
   "metadata": {},
   "source": [
    "** Result 2** \n",
    "\n",
    "** 2.1 **  We increase the number of measurements in the above settings:\n",
    "\n",
    "    MODELDESIGN[\"P_ALPHA\"] = 1\n",
    "    MODELDESIGN[\"P_BETA\"] = 2\n",
    "    MODELDESIGN[\"MSMTS_PER_NODE\"] = 1 \n",
    "    TOT_MSMTS = 20 \n",
    "\n",
    "A new error message was receieved:\n",
    "        \n",
    "        Traceback in line 96 of:\n",
    "             /home/riddhisw/Documents/SLAM_project/qslam/control_action.pyc in control_lengthscale_uncertainty(listofcontrolparameters, next_control_neighbourhood, number_of_diff_nodes, dtype)\n",
    "        ``global name 'number_of_nodes' is not defined``\n",
    "\n",
    "This is a local variable name error: `number_of_nodes` should be `number_of_diff_nodes`. It did not show up before.\n",
    "\n",
    "** 2.2 ** With the local name fix,  **2.1** is resolved. Further, algorithm works for a large number of beta particles and large number of measurements, for example:\n",
    "\n",
    "    MODELDESIGN[\"P_ALPHA\"] = 1\n",
    "    MODELDESIGN[\"P_BETA\"] = 10\n",
    "    MODELDESIGN[\"MSMTS_PER_NODE\"] = 10\n",
    "    TOT_MSMTS = 50 \n",
    "\n",
    "Observations:\n",
    "- for a uniform field, less number of beta particles improves performance\n",
    "- increase in number of measurements per node improves performance\n",
    "- the location of the measurements via the auto-controller works \"through\" the grid\n",
    "- qubits at the eddges of the grid don't have good estimates as they are not in enclosed neighbourhoods.\n",
    "- an alternative smoothening function (applied globally) might be the next thing on the list\n",
    "- changing lambda for simple cases doesn't do much - this means the way we're sharing info with other qubits isn't making a difference compared to the \"no sharing \" case.\n",
    "- further for the toy model in uniform field case, it takes 250 measurements to approximate a uniform field. In practice, one should sample from long correlation lengths, and as more iterations are require with large residuals, one should expand the prior for r to include smaller and smaller variations. \n"
   ]
  },
  {
   "cell_type": "markdown",
   "metadata": {},
   "source": [
    "** IDEA 3 ** In Result 2.2 we confirmed that for a single Alpha parent, a beta layer can be generated and collapsed for the following parameter regime changes:\n",
    "- number of total measurement (different qubits) - TOT_MSMTS\n",
    "- number of beta particles in each layer\n",
    "- number of qubit measurements at a single node before sharing info globally\n",
    "    \n",
    "We note that if number of beta particles is larger than number of total measurement (different qubits), then the Posterior weights tend to fail (namely, there is not enough info about spatial field variation captured relative to number of beta particles embodying variation in true length scales). \n",
    "\n",
    "Now we revert to a simple case where multiple Alpha parents exist and all other parameters are unity."
   ]
  },
  {
   "cell_type": "code",
   "execution_count": 6,
   "metadata": {
    "collapsed": true
   },
   "outputs": [],
   "source": [
    "# MODELDESIGN[\"P_ALPHA\"] = 3\n",
    "# MODELDESIGN[\"P_BETA\"] = 2\n",
    "# MODELDESIGN[\"MSMTS_PER_NODE\"] = 1\n",
    "# TOT_MSMTS = 4"
   ]
  },
  {
   "cell_type": "markdown",
   "metadata": {},
   "source": [
    "** Result 3.1 ** : In the following parameter regime, the model works some of the time but not all:\n",
    "\n",
    "    MODELDESIGN[\"P_ALPHA\"] = 2\n",
    "    MODELDESIGN[\"P_BETA\"] = 1\n",
    "    MODELDESIGN[\"MSMTS_PER_NODE\"] = 1\n",
    "    TOT_MSMTS = 2\n",
    "    \n",
    "If it fails, the last function in the traceback error message is:\n",
    "\n",
    "    /home/riddhisw/Documents/SLAM_project/qslam/qslamr.pyc in collapse_beta(self, subtree_list, resampled_indices)\n",
    "        617 \n",
    "        618                 for node in beta_alpha_nodes:\n",
    "    --> 619                     beta_state = self.AlphaSet.particles[alpha_node].BetaAlphaSet_j.particles[node].particle.copy()\n",
    "        620                     beta_lengthscale = beta_state[r_est_index]*1.0\n",
    "        621                     if np.isnan(beta_lengthscale):\n",
    "\n",
    "    AttributeError: 'NoneType' object has no attribute 'particles'\n",
    "    \n",
    "*Symptom: self.AlphaSet.particles[alpha_node].BetaAlphaSet_j == None.*\n",
    "Direct cause: \n",
    "- There is no Beta layer for an Alpha parent\n",
    "Indirect causes:\n",
    "- Alpha parent fails to generate the Beta layer\n",
    "- Alpha parent generates the Beta layer but it is overwritten to `None` later in the code\n",
    "\n",
    "*Symptom: only affects algorithm when more than 1 Alpha particle exists (and possibly, the last Alpha particle in the list has no Beta layer)*\n",
    "Indirect causes:\n",
    "- Alpha parent resampling procedures (and collapsing procedures) are flawed\n",
    "- Alpha particle generation is flawed\n",
    "\n",
    "*Symptom: only affects algorithm when more than one iteration exists: TOT_MSMTS > 1*\n",
    "Indirect causes:\n",
    "- Carry-over of alpha particles from one iteration to the next is buggy, initialisation is okay\n",
    "\n",
    "*Symptom: only affects algorithm some of the time, not all of the time, when if TOT_MSMTS > 1 and number of Alpha particles > 1*\n",
    "- an if-condition is being met only some of the time (randomly) and the if_subloop is incorrect\n",
    "- some other edge case is triggered only some (not all) of the time\n",
    "    - e.g. no particles are sampled from an Alpha parent after resampling\n",
    "    - e.g. for-loop terminates prematurely for an edge case Alpha particle (?) and we fail to generate Alpha weights\n",
    "    - e.g. indexing of Alpha particle accidentally sets the last Alpha weights to zero\n",
    "- theoretical underpinnign of the code is random, so code will initialise randomly in an area of no convergence [unlikely, as theory failure should manifest as a failure of calculating finite weights].\n",
    "\n",
    "\n",
    "** Result 3.2 ** : We now reduce the number of qubits to 2x2 Grid and create the error. \n",
    "\n",
    "    DIMS = 2\n",
    "    MODELDESIGN[\"P_ALPHA\"] = 2\n",
    "    MODELDESIGN[\"P_BETA\"] = 1\n",
    "    MODELDESIGN[\"MSMTS_PER_NODE\"] = 1\n",
    "    TOT_MSMTS = 2\n",
    "    \n",
    "Observations:\n",
    "- The Alpha Particles are identical\n",
    "- Both Alpha particles have not generated a Beta Particle list\n",
    "- Manually, it is posible to call AlphaParticle.generate_beta_pset() and confirm with AlphaParticle.BetaAlphaSet_j that one can generate a Beta layer without any bugs\n",
    "- Since this error only happens some of the time, it must be a bad edge case manifesting as an incorrect for loop / if conditional \n",
    "- Need to follow a Alpha particle from the end of the run to the beginning of the run"
   ]
  },
  {
   "cell_type": "markdown",
   "metadata": {},
   "source": [
    "#### PROBABLE CULPRIT"
   ]
  },
  {
   "cell_type": "markdown",
   "metadata": {},
   "source": [
    "In `self.collapse_beta()`:\n",
    "\n",
    "** self.AlphaSet.particles[alpha_node].BetaAlphaSet_j = None **\n",
    "    \n",
    "    # COMMENT: This line of code resets beta layers for an alpha \n",
    "    # parent. This code only works if the alpha_nodes are unique. For \n",
    "    # alpha parents that are not unique, it will wipe out the BetaLayer\n",
    "    # and the loop over sub-trees will fail if the parent is repeated.\n",
    "    # For re-sampled parents, we will use null_beta_layer() function\n",
    "    # to kill the beta layer for an Alpha parent. \n"
   ]
  },
  {
   "cell_type": "markdown",
   "metadata": {},
   "source": [
    "#### SOLUTION"
   ]
  },
  {
   "cell_type": "markdown",
   "metadata": {},
   "source": [
    "Implement new function, `self.null_beta_layer()` that sets a Beta ParticleSet object to `None`. The function `self.null_beta_layer(`) is called just before returning the output of `self.collapse_beta()` so that is does not mess with any resampling of Alpha particles.\n",
    "\n",
    "The function is defined simply as:\n",
    "\n",
    "    def null_beta_layer(self, list_of_alpha_particles):\n",
    "        ''' Strips input list of Alpha particles of its individual Beta layers '''\n",
    "\n",
    "        for alpha_idx in list_of_alpha_particles:\n",
    "            alpha_idx.BetaAlphaSet_j = None\n",
    "            \n",
    "We now test the bug fully for all possible configurations of parameters:"
   ]
  },
  {
   "cell_type": "code",
   "execution_count": 7,
   "metadata": {
    "collapsed": true
   },
   "outputs": [],
   "source": [
    "MODELDESIGN[\"P_ALPHA\"] = 10\n",
    "MODELDESIGN[\"P_BETA\"] = 3\n",
    "MODELDESIGN[\"MSMTS_PER_NODE\"] = 15\n",
    "TOT_MSMTS = 10"
   ]
  },
  {
   "cell_type": "markdown",
   "metadata": {},
   "source": [
    "####  TOY MODEL: UNIFORM FIELD OVER 3x3 QUBITS"
   ]
  },
  {
   "cell_type": "markdown",
   "metadata": {},
   "source": [
    "The standard parameters under which to run this algoirithm are given as below. It is suspected that the errors relating to a poor initiation of the algorithm's basic configuration (e.g. choice of prior distribution and noise variance parameters) are not relevant to the bug at hand. "
   ]
  },
  {
   "cell_type": "code",
   "execution_count": 8,
   "metadata": {
    "collapsed": false
   },
   "outputs": [
    {
     "data": {
      "image/png": "[encoded data removed]",
      "text/plain": [
       "<matplotlib.figure.Figure at 0x7f5eb44bdbd0>"
      ]
     },
     "metadata": {},
     "output_type": "display_data"
    }
   ],
   "source": [
    "''' STANDARD SIMULATION SETTINGS\n",
    "'''\n",
    "data_file_name=\"bugtestingnewfunctionality\"\n",
    "MODELDESIGN[\"MULTIPLER_R_MAX\"] = 1.0\n",
    "TOT_CNTL = 1\n",
    "REPTS = 1\n",
    "\n",
    "''' QUBIT GRID POSITIONS + TRUE FIELD OVER QUBITS\n",
    "'''\n",
    "DIMS = 6\n",
    "MUX = 2.\n",
    "MUY = 2.\n",
    "VAR = 0.8\n",
    "positions=[]\n",
    "true_noise_map =[]\n",
    "count=1\n",
    "GRIDDICT={}\n",
    "for xidx in range(DIMS):\n",
    "    for yidx in range(DIMS):\n",
    "        GRIDDICT[\"QUBIT_\"+str(count)] = (float(xidx), float(yidx))\n",
    "        positions.append(GRIDDICT[\"QUBIT_\"+str(count)])\n",
    "        truephase = 0.5*np.pi #2.5*np.pi*(1.0 / (np.sqrt(2.0*np.pi*VAR)))*np.exp(-((float(xidx) - MUX)**2 + (float(yidx) - MUY)**2)/ 2*VAR)\n",
    "        if truephase > np.pi:\n",
    "            truephase = np.pi\n",
    "        true_noise_map.append(truephase)\n",
    "        count +=1\n",
    "        \n",
    "NUM_QUBITS = len(GRIDDICT.keys())\n",
    "\n",
    "true_noise_mapgrid = np.asarray(true_noise_map).reshape(DIMS, DIMS)\n",
    "\n",
    "fig = plt.figure()\n",
    "ax = fig.add_subplot(1,1,1)\n",
    "\n",
    "for key in sorted(GRIDDICT.keys()):\n",
    "    x = GRIDDICT[key][0]\n",
    "    y = GRIDDICT[key][1]\n",
    "    ax.plot(x, y, 'wo')\n",
    "\n",
    "im = ax.imshow(true_noise_mapgrid, vmin=0, vmax=np.pi)\n",
    "plt.title(\"True Field (Heatmap) over Sensing Qubits (Dots)\")\n",
    "plt.colorbar(im)\n",
    "plt.show()"
   ]
  },
  {
   "cell_type": "markdown",
   "metadata": {},
   "source": [
    "#### RUN "
   ]
  },
  {
   "cell_type": "code",
   "execution_count": 9,
   "metadata": {
    "collapsed": false,
    "scrolled": false
   },
   "outputs": [
    {
     "name": "stdout",
     "output_type": "stream",
     "text": [
      "Zero value normalisation in ComputePosteriorWeights()\n",
      "[ 0.  0.  0.  0.  0.  0.  0.  0.  0.  0.  0.  0.  0.  0.  0.  0.  0.  0.\n",
      "  0.  0.  0.  0.  0.  0.  0.  0.  0.  0.  0.  0.]\n",
      "PROTOCOL - SAFE END - Max number of measurements taken\n"
     ]
    }
   ],
   "source": [
    "rms_errors_matrix = np.zeros((TOT_CNTL, NUM_QUBITS, REPTS))\n",
    "posteriors_matrix = np.zeros((TOT_CNTL, NUM_QUBITS*4, REPTS))\n",
    "alpha_set_matrix = np.zeros((TOT_CNTL, MODELDESIGN['P_ALPHA'], NUM_QUBITS*4, REPTS))\n",
    "\n",
    "idx_msmt=0\n",
    "\n",
    "for idx_cntl in range(TOT_CNTL):\n",
    "\n",
    "    for idx_run in range(REPTS):\n",
    "\n",
    "        test = ParticleFilter(positions, **MODELDESIGN)\n",
    "        test.QubitGrid.engineeredtruemap = true_noise_map\n",
    "        test.qslamr(autocontrol=\"ON\", cutoff_msmt=TOT_MSMTS, var_thres=0.000001)\n",
    "\n",
    "        posteriors_matrix[idx_cntl, :, idx_run] = test.QubitGrid.state_vector\n",
    "        \n",
    "        for idx_alpha in range(len(test.AlphaSet.particles)):\n",
    "            alpha_set_matrix[idx_cntl, idx_alpha, :, idx_run] = test.AlphaSet.particles[idx_alpha].particle\n",
    "        \n",
    "        np.savez(data_file_name,\n",
    "                 GRIDDICT=GRIDDICT,\n",
    "                 MODELDESIGN=MODELDESIGN,\n",
    "                 NOISEPARAMS=NOISEPARAMS,\n",
    "                 NUM_QUBITS=NUM_QUBITS,\n",
    "                 posteriors_matrix=posteriors_matrix,\n",
    "                 alpha_set_matrix=alpha_set_matrix,\n",
    "                 weight_set = test.AlphaSet.weights_set,\n",
    "                 REPTS=REPTS,\n",
    "                 control_sequence = test.QubitGrid.control_sequence,\n",
    "                 true_noise_map=true_noise_map)"
   ]
  },
  {
   "cell_type": "markdown",
   "metadata": {},
   "source": [
    "#### SIMPLE CHECKS"
   ]
  },
  {
   "cell_type": "markdown",
   "metadata": {},
   "source": [
    "We now do a bunch of simple checks to make sure that we are producing the correct output."
   ]
  },
  {
   "cell_type": "markdown",
   "metadata": {},
   "source": [
    "Check the simulation parameters:"
   ]
  },
  {
   "cell_type": "code",
   "execution_count": 10,
   "metadata": {
    "collapsed": false
   },
   "outputs": [
    {
     "name": "stdout",
     "output_type": "stream",
     "text": [
      " Total num of qubits: 36\n",
      " Total num of Alpha particles: 10 , matches internal attributes:  True\n",
      " Total num of Beta particles: 3\n",
      " Number of measurements per node 15\n",
      " Total Control length 150\n",
      "     The control sequence was:\n",
      "      [15, 15, 15, 15, 15, 15, 15, 15, 15, 15, 15, 15, 15, 15, 15, 35, 35, 35, 35, 35, 35, 35, 35, 35, 35, 35, 35, 35, 35, 35, 29, 29, 29, 29, 29, 29, 29, 29, 29, 29, 29, 29, 29, 29, 29, 17, 17, 17, 17, 17, 17, 17, 17, 17, 17, 17, 17, 17, 17, 17, 23, 23, 23, 23, 23, 23, 23, 23, 23, 23, 23, 23, 23, 23, 23, 26, 26, 26, 26, 26, 26, 26, 26, 26, 26, 26, 26, 26, 26, 26, 32, 32, 32, 32, 32, 32, 32, 32, 32, 32, 32, 32, 32, 32, 32, 24, 24, 24, 24, 24, 24, 24, 24, 24, 24, 24, 24, 24, 24, 24, 19, 19, 19, 19, 19, 19, 19, 19, 19, 19, 19, 19, 19, 19, 19, 12, 12, 12, 12, 12, 12, 12, 12, 12, 12, 12, 12, 12, 12, 12]\n"
     ]
    }
   ],
   "source": [
    "print \" Total num of qubits:\", test.QubitGrid.number_of_nodes\n",
    "psetalpha = len(test.AlphaSet.particles)\n",
    "print \" Total num of Alpha particles:\", psetalpha, \", matches internal attributes: \", psetalpha==test.AlphaSet.p_set\n",
    "print \" Total num of Beta particles:\",  test.AlphaSet.particles[0].pset_beta\n",
    "print \" Number of measurements per node\", test.MODELDESIGN[\"MSMTS_PER_NODE\"]\n",
    "print \" Total Control length\", len(test.QubitGrid.control_sequence)\n",
    "print \"     The control sequence was:\"\n",
    "print \"     \", test.QubitGrid.control_sequence"
   ]
  },
  {
   "cell_type": "markdown",
   "metadata": {},
   "source": [
    "Check the Qubit Grid State Vector"
   ]
  },
  {
   "cell_type": "code",
   "execution_count": 11,
   "metadata": {
    "collapsed": false
   },
   "outputs": [
    {
     "data": {
      "image/png": "[encoded data removed]",
      "text/plain": [
       "<matplotlib.figure.Figure at 0x7f5eb0d83290>"
      ]
     },
     "metadata": {},
     "output_type": "display_data"
    }
   ],
   "source": [
    "state = ['x', 'y', 'f', 'r']\n",
    "\n",
    "plt.figure\n",
    "for idx in range(4):\n",
    "    start = idx*NUM_QUBITS\n",
    "    end = idx*NUM_QUBITS + NUM_QUBITS\n",
    "    x = range(start, end, 1 )\n",
    "    y = test.QubitGrid.state_vector[start:end]\n",
    "    plt.plot(x,y,'o', label=state[idx])\n",
    "plt.legend(loc=2)\n",
    "plt.show()"
   ]
  },
  {
   "cell_type": "markdown",
   "metadata": {},
   "source": [
    "Check Alpha Posterior State"
   ]
  },
  {
   "cell_type": "code",
   "execution_count": 12,
   "metadata": {
    "collapsed": false
   },
   "outputs": [
    {
     "data": {
      "image/png": "[encoded data removed]",
      "text/plain": [
       "<matplotlib.figure.Figure at 0x7f5eb421c710>"
      ]
     },
     "metadata": {},
     "output_type": "display_data"
    }
   ],
   "source": [
    "state = ['x', 'y', 'f', 'r']\n",
    "\n",
    "plt.figure\n",
    "for idx in range(4):\n",
    "    start = idx*NUM_QUBITS\n",
    "    end = idx*NUM_QUBITS + NUM_QUBITS\n",
    "    x = range(start, end, 1 )\n",
    "    y = test.AlphaSet.posterior_state[start:end]\n",
    "    plt.plot(x,y,'o', label=state[idx])\n",
    "plt.legend(loc=2)\n",
    "plt.show()"
   ]
  },
  {
   "cell_type": "code",
   "execution_count": 13,
   "metadata": {
    "collapsed": false
   },
   "outputs": [
    {
     "data": {
      "image/png": "[encoded data removed]",
      "text/plain": [
       "<matplotlib.figure.Figure at 0x7f5eb0aef110>"
      ]
     },
     "metadata": {},
     "output_type": "display_data"
    }
   ],
   "source": [
    "output_map = posteriors_matrix[0,test.QubitGrid.number_of_nodes*2:test.QubitGrid.number_of_nodes*3,0].reshape(DIMS, DIMS)\n",
    "true_map = np.asarray(test.QubitGrid.engineeredtruemap).reshape(DIMS, DIMS)\n",
    "total_error = (output_map - true_map)\n",
    "\n",
    "fig = plt.figure(figsize=(24,6))\n",
    "ax1 = fig.add_subplot(1,4,1)\n",
    "ax2 = fig.add_subplot(1,4,2)\n",
    "ax3 = fig.add_subplot(1,4,3)\n",
    "ax4 = fig.add_subplot(1,4,4)\n",
    "\n",
    "ax1.imshow(output_map, cmap='viridis', vmin=0, vmax=np.pi, origin=\"lower\")\n",
    "cax = ax2.imshow(true_map, cmap='viridis', vmin=0, vmax=np.pi, origin=\"lower\")\n",
    "\n",
    "cbar = fig.colorbar(cax, ticks=[0.0, np.pi], orientation='vertical')\n",
    "cbar.ax.set_xticklabels([['0.0', r'$\\pi$']])  # horizontal colorbar\n",
    "\n",
    "ax3.plot(total_error.flatten(), 'o')\n",
    "ax4.hist(total_error.flatten())\n",
    "ax4.axvline(x=0.0, c='r')\n",
    "\n",
    "plt.show()"
   ]
  }
 ],
 "metadata": {
  "kernelspec": {
   "display_name": "Python 2",
   "language": "python",
   "name": "python2"
  },
  "language_info": {
   "codemirror_mode": {
    "name": "ipython",
    "version": 2
   },
   "file_extension": ".py",
   "mimetype": "text/x-python",
   "name": "python",
   "nbconvert_exporter": "python",
   "pygments_lexer": "ipython2",
   "version": "2.7.13"
  }
 },
 "nbformat": 4,
 "nbformat_minor": 2
}
