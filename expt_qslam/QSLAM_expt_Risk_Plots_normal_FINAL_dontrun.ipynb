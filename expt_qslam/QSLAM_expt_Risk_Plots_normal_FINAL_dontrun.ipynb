{
 "cells": [
  {
   "cell_type": "code",
   "execution_count": 1,
   "metadata": {
    "collapsed": true
   },
   "outputs": [],
   "source": [
    "import numpy as np\n",
    "\n",
    "import sys\n",
    "sys.path.append('../qslam/')\n",
    "from visualiserisk import DataCube\n",
    "\n",
    "from visualiserisk import *\n",
    "from qslamdesignparams import GRIDDICT"
   ]
  },
  {
   "cell_type": "code",
   "execution_count": 5,
   "metadata": {
    "collapsed": true
   },
   "outputs": [],
   "source": [
    "msmt_per_qubit_scan = [1] \n",
    "meta_max_iter_scan = [ 1, 2, 3, 4, 6, 12, 18, 24, 30, 60, 72, 96, 120, 246]\n",
    "lambda_databse = np.load('./lambda_pairs_2.npz')\n",
    "lambda1 = list(lambda_databse['lambda_1']) \n",
    "lambda2 = list(lambda_databse['lambda_2']) \n",
    "\n",
    "lambda_scan = zip(lambda1, lambda2)\n",
    "\n",
    "LOOPS_DICT = {\"meta_max_iter_scan\":meta_max_iter_scan, \n",
    "              \"lambda_scan\":lambda_scan,\n",
    "              \"msmt_per_qubit_scan\": msmt_per_qubit_scan}\n",
    "\n",
    "ParamUpdater = DataCube(LOOPS_DICT)\n",
    "\n",
    "max_msmt_var = len(meta_max_iter_scan)\n",
    "max_lambda_var_= len(lambda_scan) #32, 68, 95 is good but not as good as in paper 1. \n",
    "data_key_list = range(1, 2, 1) # range(1, 5, 1) Only CE Ramsey data analysed\n",
    "\n",
    "THRESHOLD = 0.025 # same as simulations\n",
    "max_cases = len(data_key_list)\n",
    "\n",
    "\n",
    "# Interpolation \n",
    "start_iter=0\n",
    "end_iter=max_msmt_var\n",
    "\n",
    "# Fixed Lambda\n",
    "opt_lambda_at_iteration = 7\n",
    "\n",
    "# Maps, Optimisatio Curves\n",
    "pick_msmt_regimes = [7, 11]\n",
    "pick_msmt_regimes_maps = [4, 11]\n",
    "\n",
    "# Final plot range\n",
    "maxssim = 0.6\n",
    "min_sims = [0.05]*4"
   ]
  },
  {
   "cell_type": "code",
   "execution_count": 6,
   "metadata": {
    "collapsed": true
   },
   "outputs": [],
   "source": [
    "def get_ssim_data(data_key, idx_msmt_var, max_lambda_var=50):\n",
    "    \n",
    "    full_data_matrix = np.load('2019_Jun_qslam_exptdata_'+str(data_key)+'.npz')['meta_ssim_pairs'] \n",
    "    qslamdata = full_data_matrix[0: max_lambda_var, 0 , idx_msmt_var] #qslam is the first index\n",
    "    naivedata = full_data_matrix[0: max_lambda_var, 1 , idx_msmt_var]\n",
    "    index_array = np.argsort(qslamdata)\n",
    "    \n",
    "    return qslamdata, index_array, naivedata\n",
    "\n",
    "\n",
    "def extract_optimal_cases(max_msmt_var, max_lambda_var=50):\n",
    "    \n",
    "#     data_key_list = range(1, 5, 1)\n",
    "#     max_cases = len(data_key_list)\n",
    "    \n",
    "    optimal_matrix = np.zeros((max_cases, max_msmt_var, 3))\n",
    "    naive_matrix = np.zeros((max_cases, max_msmt_var, 2))\n",
    "    optimal_cases = np.zeros((max_cases, max_msmt_var, max_lambda_var))\n",
    "    \n",
    "    for idx_msmt_var in range(max_msmt_var):\n",
    "        \n",
    "        for idx_truth in range(max_cases):\n",
    "            \n",
    "            data_key = data_key_list[idx_truth]\n",
    "            \n",
    "            a, index_array, naive = get_ssim_data(data_key, idx_msmt_var, \n",
    "                                                  max_lambda_var=max_lambda_var)\n",
    "\n",
    "\n",
    "            optimal_matrix[idx_truth, idx_msmt_var, 0] = a[index_array[0]]\n",
    "            optimal_matrix[idx_truth, idx_msmt_var, 1] = lambda1[index_array[0]]\n",
    "            optimal_matrix[idx_truth, idx_msmt_var, 2] = lambda2[index_array[0]]\n",
    "\n",
    "            naive_matrix[idx_truth, idx_msmt_var, 0] = np.mean(naive)\n",
    "            naive_matrix[idx_truth, idx_msmt_var, 1] = np.std(naive)\n",
    "            \n",
    "            truncate = len(index_array)           \n",
    "            optimal_cases[idx_truth, idx_msmt_var, :truncate] = index_array\n",
    "    \n",
    "    return optimal_matrix, naive_matrix, optimal_cases"
   ]
  },
  {
   "cell_type": "code",
   "execution_count": 8,
   "metadata": {
    "collapsed": false
   },
   "outputs": [
    {
     "name": "stdout",
     "output_type": "stream",
     "text": [
      "Pick Msmt regimes 7\n",
      "with total msmts 24\n",
      "Pick Msmt regimes 11\n",
      "with total msmts 96\n"
     ]
    },
    {
     "data": {
      "image/png": "[encoded data removed]",
      "text/plain": [
       "<matplotlib.figure.Figure at 0x7fe480dc9c90>"
      ]
     },
     "metadata": {},
     "output_type": "display_data"
    }
   ],
   "source": [
    "# Choose colormap\n",
    "cmap = plt.cm.inferno\n",
    "# Get the colormap colors\n",
    "my_cmap = cmap(np.arange(cmap.N))\n",
    "# Set alpha\n",
    "my_cmap[:,-1] = np.ones(cmap.N)*0.4\n",
    "# Create new colormap\n",
    "my_cmap = ListedColormap(my_cmap)\n",
    "\n",
    "optimal_matrix, naive_matrix, optimal_cases = extract_optimal_cases(max_msmt_var, max_lambda_var=max_lambda_var_)\n",
    "\n",
    "gslayout = gs(3, 2 , top = 0.95, bottom =0.05, left = 0.1, right = 0.9, wspace = 0.05, hspace = 0.05)\n",
    "\n",
    "fig = plt.figure(figsize=(cm2inch(8.7),cm2inch(12)))\n",
    "\n",
    "for truth in range(len(data_key_list)):\n",
    "       \n",
    "    for idx_opt in range(len(pick_msmt_regimes)):\n",
    "    \n",
    "        filename = data_key_list[truth]\n",
    "        a, index_array, naive = get_ssim_data(filename, pick_msmt_regimes[idx_opt])\n",
    "        \n",
    "        print \"Pick Msmt regimes\", pick_msmt_regimes[idx_opt]\n",
    "        print \"with total msmts\", meta_max_iter_scan[pick_msmt_regimes[idx_opt]]\n",
    "        ax = fig.add_subplot(gslayout[truth, idx_opt ])\n",
    "        ax.plot(lambda1[0:max_lambda_var_], lambda2[0:max_lambda_var_], 'ko', ms=0.5, alpha=1)\n",
    "              \n",
    "        optimal_color = 'green'\n",
    "        diff = a[0] - a[index_array[0]]  \n",
    "        if diff < 0 :\n",
    "            optimal_color = 'g'\n",
    "        elif diff >=0 :\n",
    "            if diff < THRESHOLD: \n",
    "                optimal_color = 'g'\n",
    "\n",
    "\n",
    "\n",
    "        better_than_control=[]\n",
    "        for idx_l in index_array:\n",
    "            diff = a[0] - a[idx_l] \n",
    "\n",
    "            if diff < 0 :\n",
    "                break\n",
    "            elif diff >=0 :\n",
    "                if diff < THRESHOLD: \n",
    "                    break\n",
    "            if idx_l == 0:\n",
    "                break\n",
    "            better_than_control.append(idx_l)\n",
    "        \n",
    "        red_values = np.take(a, better_than_control)\n",
    "        im = ax.scatter(np.take(lambda1, better_than_control), \n",
    "                   np.take(lambda2, better_than_control),\n",
    "                   c= red_values,\n",
    "                   vmin=0.0, vmax=1.0, \n",
    "                   cmap= my_cmap)\n",
    "        \n",
    "        ax.plot(lambda1[index_array[0]],lambda2[index_array[0]], '*', markeredgecolor='darkgreen',\n",
    "                c=optimal_color, ms=10, alpha=1.)\n",
    "        \n",
    "        if idx_opt >0:\n",
    "            ax.get_yaxis().set_ticklabels([])\n",
    "#         if truth < 2:\n",
    "#             ax.get_xaxis().set_ticklabels([])\n",
    "        \n",
    "        # Want square graphs with same number of ticks\n",
    "        # ax.set_aspect(1.)\n",
    "        equaltics = plticker.MultipleLocator(base=0.5) # this locator puts ticks at regular intervals\n",
    "        ax.xaxis.set_major_locator(equaltics)\n",
    "        ax.yaxis.set_major_locator(equaltics)\n",
    "        # ax.set(xlabel=r'$\\lambda_i $', ylabel=r'$\\lambda_j$')\n",
    "        # ax.set_title(str(ParamUpdater.meta_max_iter_scan[pick_msmt_regimes[idx_opt]])+', '+str(np.round(a[index_array[0]] / a[0], 3)))\n",
    "        \n",
    "# plt.colorbar(im, ticks=[0.0, 0.7], format='%0.2f', orientation='horizontal')\n",
    "plt.savefig('../paperfigs/expt_opt_v3.svg', format='svg', dpi=800)\n",
    "plt.show()"
   ]
  },
  {
   "cell_type": "markdown",
   "metadata": {},
   "source": [
    "# Interpolation and Msmt Analysis"
   ]
  },
  {
   "cell_type": "code",
   "execution_count": 9,
   "metadata": {
    "collapsed": true
   },
   "outputs": [],
   "source": [
    "from scipy.interpolate import interp1d\n",
    "from scipy.interpolate import UnivariateSpline"
   ]
  },
  {
   "cell_type": "code",
   "execution_count": 10,
   "metadata": {
    "collapsed": false
   },
   "outputs": [
    {
     "name": "stdout",
     "output_type": "stream",
     "text": [
      "1\n"
     ]
    },
    {
     "name": "stderr",
     "output_type": "stream",
     "text": [
      "/home/riddhisw/anaconda2/lib/python2.7/site-packages/ipykernel/__main__.py:21: VisibleDeprecationWarning: using a non-integer number instead of an integer will result in an error in the future\n",
      "/home/riddhisw/anaconda2/lib/python2.7/site-packages/ipykernel/__main__.py:22: VisibleDeprecationWarning: using a non-integer number instead of an integer will result in an error in the future\n"
     ]
    },
    {
     "data": {
      "image/png": "[encoded data removed]",
      "text/plain": [
       "<matplotlib.figure.Figure at 0x7fe4776fdb90>"
      ]
     },
     "metadata": {},
     "output_type": "display_data"
    }
   ],
   "source": [
    "''' Save optimal_inverse_curves_list and use it in the next Workbook cell.\n",
    "'''\n",
    "\n",
    "\n",
    "algolabel = ['qslam', 'naive']\n",
    "ssim_c = ['indigo', 'firebrick']\n",
    "metrictypename='ssim'\n",
    "\n",
    "gslayout = gs(1, 1, top = 0.95, bottom =0.05, left = 0.12, right = 0.88, wspace = 0.4, hspace = 0.4)\n",
    "\n",
    "optimal_inverse_curves_list = []\n",
    "for idx_truth in range(max_cases):\n",
    "\n",
    "\n",
    "    data_key = data_key_list[idx_truth]\n",
    "    print data_key\n",
    "    pickl = [optimal_cases[idx_truth, idx, 0] for idx in range(max_msmt_var)]\n",
    "    \n",
    "    full_data_matrix = np.load('2019_Jun_qslam_exptdata_'+str(data_key)+'.npz')['meta_ssim_pairs']\n",
    "    \n",
    "    qslam_data = [full_data_matrix[pickl[idx], 0, idx] for idx in range(max_msmt_var)]\n",
    "    naive_data = [full_data_matrix[pickl[idx], 1, idx] for idx in range(max_msmt_var)]\n",
    "    \n",
    "    # Extrapolation range depends on the type of experiment\n",
    "    ssim_vals = np.linspace(min_sims[idx_truth], maxssim, 40)\n",
    "    \n",
    "    # Interpolation 1D linear\n",
    "    msmts = ParamUpdater.meta_max_iter_scan[start_iter: end_iter]\n",
    "    qslam_invfunc = interp1d(qslam_data[start_iter: end_iter], msmts, fill_value='extrapolate')\n",
    "    naive_invfunc = interp1d(naive_data[start_iter: end_iter], msmts, fill_value='extrapolate')\n",
    "\n",
    "    ratio_extrapolated = qslam_invfunc(ssim_vals) / naive_invfunc(ssim_vals)\n",
    "\n",
    "    ydata = [qslam_data, naive_data]\n",
    "    interpy = {algolabel[0]: qslam_invfunc, algolabel[1]: naive_invfunc}\n",
    "        \n",
    "    # ---PLOT INVERSE FIGURE -----------------------------------------------------------------------------\n",
    "    \n",
    "    fig = plt.figure(figsize=(cm2inch(8.7),cm2inch(5)))\n",
    "\n",
    "    ax = fig.add_subplot(gslayout[0,0])\n",
    "    \n",
    "    ax.plot(ssim_vals, ratio_extrapolated*100.0, '-', ms=1.5, lw=1.0, c='green', label=\"Est. from Data\")\n",
    "    ax.set_xlim([0.0, maxssim])\n",
    "    ax.set_yticks(np.arange(0,1.25,0.5)*100.0)\n",
    "    \n",
    "    ax.axhline(y=10, ls='--', label='10%.', c='grey', alpha = 0.75, lw=0.8)\n",
    "    ax.axhline(y=30, ls='-.', label='30%.', c='grey', alpha = 0.5, lw=0.8)\n",
    "    ax.axhline(y=100, ls='-', label='100%.', c='grey', alpha = 0.3, lw=0.8)\n",
    " \n",
    "    ax.set_xlabel('SSIM score (a.u.)')\n",
    "    ax.set_ylabel('% of Msmts \\n (Rel. to Naive)')\n",
    "    ax.legend(loc=0)\n",
    "    \n",
    "    optimal_inverse_curves_list.append([ssim_vals, ratio_extrapolated])\n",
    "        \n",
    "    plt.savefig('../paperfigs/'+metrictypename+str(idx_truth)+'expt_opt_inv_v3.svg', format='svg', dpi=800)\n",
    "    plt.show()"
   ]
  },
  {
   "cell_type": "code",
   "execution_count": 11,
   "metadata": {
    "collapsed": false,
    "scrolled": false
   },
   "outputs": [
    {
     "name": "stdout",
     "output_type": "stream",
     "text": [
      "Truth 0\n",
      "Fixed value case:\n",
      "lambda 1 0.949724918298\n",
      "lambda 2 0.997703630851\n"
     ]
    },
    {
     "name": "stderr",
     "output_type": "stream",
     "text": [
      "/home/riddhisw/anaconda2/lib/python2.7/site-packages/ipykernel/__main__.py:20: VisibleDeprecationWarning: using a non-integer number instead of an integer will result in an error in the future\n",
      "/home/riddhisw/anaconda2/lib/python2.7/site-packages/ipykernel/__main__.py:21: VisibleDeprecationWarning: using a non-integer number instead of an integer will result in an error in the future\n"
     ]
    },
    {
     "data": {
      "image/png": "[encoded data removed]",
      "text/plain": [
       "<matplotlib.figure.Figure at 0x7fe4a402d5d0>"
      ]
     },
     "metadata": {},
     "output_type": "display_data"
    },
    {
     "data": {
      "image/png": "[encoded data removed]",
      "text/plain": [
       "<matplotlib.figure.Figure at 0x7fe4769f6e90>"
      ]
     },
     "metadata": {},
     "output_type": "display_data"
    }
   ],
   "source": [
    "'''Add the fully optimised inverse curves '''\n",
    "\n",
    "algolabel = ['qslam', 'naive']\n",
    "ssim_c = ['indigo', 'firebrick']\n",
    "\n",
    "gslayout = gs(1, 1, top = 0.99, bottom =0.15, left = 0.125, right = 0.95, wspace = 0.01, hspace = 0.01)\n",
    "\n",
    "for idx_truth in range(max_cases):\n",
    "\n",
    "    pick_lambda_idx = optimal_cases[idx_truth, opt_lambda_at_iteration, 0]\n",
    "    \n",
    "    data_key = data_key_list[idx_truth]\n",
    "    full_data_matrix = np.load('2019_Jun_qslam_exptdata_'+str(data_key)+'.npz')['meta_ssim_pairs']\n",
    "    \n",
    "    print 'Truth', idx_truth\n",
    "    print 'Fixed value case:'\n",
    "    print 'lambda 1', lambda1[int(pick_lambda_idx)]\n",
    "    print 'lambda 2', lambda2[int(pick_lambda_idx)]\n",
    "    \n",
    "    qslam_data = full_data_matrix[pick_lambda_idx, 0, :]\n",
    "    naive_data = full_data_matrix[pick_lambda_idx, 1, :]\n",
    "    \n",
    "    # Extrapolation range depends on the type of experiment\n",
    "    ssim_vals = np.linspace(min_sims[idx_truth], maxssim, 40)\n",
    "    \n",
    "    # Interpolation 1D linear\n",
    "    msmts = ParamUpdater.meta_max_iter_scan[start_iter: end_iter]\n",
    "    qslam_invfunc = interp1d(qslam_data[start_iter: end_iter], msmts, fill_value='extrapolate')\n",
    "    naive_invfunc = interp1d(naive_data[start_iter: end_iter], msmts, fill_value='extrapolate')\n",
    "\n",
    "#     # Interpolation Univariate Spline\n",
    "#     qidx = np.argsort(qslam_data)\n",
    "#     nidx = np.argsort(naive_data)\n",
    "#     msmts = ParamUpdater.meta_max_iter_scan[start_iter:]\n",
    "#     qslam_invfunc = UnivariateSpline(np.take(qslam_data, qidx), np.take(msmts, qidx), k=1)#, fill_value='extrapolate')\n",
    "#     naive_invfunc = UnivariateSpline(np.take(naive_data, nidx),  np.take(msmts, nidx), k=1)#, fill_value='extrapolate')\n",
    "\n",
    "    ratio_extrapolated = qslam_invfunc(ssim_vals) / naive_invfunc(ssim_vals)\n",
    "\n",
    "    ydata = [qslam_data, naive_data]\n",
    "    interpy = {algolabel[0]: qslam_invfunc, algolabel[1]: naive_invfunc}\n",
    "\n",
    "\n",
    "    # -------CHECK INTERPOLATION BEFORE INVERTING IT ------------------------------------------\n",
    "    plt.figure()\n",
    "    ax = plt.subplot(111)\n",
    "    for algo in range(2):\n",
    "        ax.plot(interpy[algolabel[algo]](ssim_vals), ssim_vals, '--',  \n",
    "                label = algolabel[algo],\n",
    "                alpha = 1.0,\n",
    "                color = ssim_c[algo],\n",
    "                ms=1.5,\n",
    "                lw=1.)\n",
    "\n",
    "    plt.show()\n",
    "    # ------------------------------------------------------------------------------------------\n",
    "        \n",
    "    # ---PLOT INVERSE FIGURE -----------------------------------------------------------------------------\n",
    "    \n",
    "    fig = plt.figure(figsize=(cm2inch(8.6),cm2inch(7)))\n",
    "    ax = fig.add_subplot(gslayout[0,0])\n",
    "    \n",
    "    # ---- Add optimised curve here ---\n",
    "    \n",
    "    ax.plot(optimal_inverse_curves_list[idx_truth][0], 1./ optimal_inverse_curves_list[idx_truth][1],\n",
    "           '-', ms=1.5, lw=1.5, alpha=1,c='darkred', label=r'$\\lambda_{1,2}$ Optimal')\n",
    "    \n",
    "    # ---- Add a fixed lambda curve here ---\n",
    "    ax.plot(ssim_vals, 1./ ratio_extrapolated, \n",
    "            '--', ms=1.5, lw=1.5, alpha=0.7, c='darkred', label=r'$\\lambda_{1,3}$ at $%s$ iters' %(msmts[opt_lambda_at_iteration]))\n",
    "    \n",
    "    \n",
    "    ax.set_xlim([0.0, maxssim])\n",
    "    ax.set_yticks(np.arange(0, 8, 2))\n",
    "    ax.set_ylim([0, 8])\n",
    " \n",
    "    ax.set_xlabel('SSIM score (a.u.)')\n",
    "    ax.set_ylabel('x-Gain over Naive (a.u.)')\n",
    "    ax.legend(loc=2, fontsize=8, frameon=False)\n",
    "        \n",
    "    plt.savefig('../paperfigs/'+metrictypename+str(idx_truth)+'expt_inv_v3.svg', format='svg', dpi=800)\n",
    "    plt.show()"
   ]
  },
  {
   "cell_type": "code",
   "execution_count": 12,
   "metadata": {
    "collapsed": false,
    "scrolled": true
   },
   "outputs": [
    {
     "data": {
      "image/png": "[encoded data removed]",
      "text/plain": [
       "<matplotlib.figure.Figure at 0x7fe476a84e50>"
      ]
     },
     "metadata": {},
     "output_type": "display_data"
    }
   ],
   "source": [
    "optimal_matrix, naive_matrix, optimal_cases = extract_optimal_cases(max_msmt_var, \n",
    "                                                                    max_lambda_var=max_lambda_var_,\n",
    "                                                                    )\n",
    "\n",
    "gslayout = gs(1,1 , top = 0.9, bottom =0.3, left = 0.3, right = 0.9, wspace = 0.01, hspace = 0.01)\n",
    "\n",
    "for truth in range(len(data_key_list)):\n",
    "    \n",
    "    fig = plt.figure(figsize=(cm2inch(4.5),cm2inch(3.)))\n",
    "    \n",
    "    ax1 = fig.add_subplot(gslayout[0, 0])\n",
    "    \n",
    "    ax1.plot(ParamUpdater.meta_max_iter_scan, naive_matrix[truth, :, 0], label='Naive',\n",
    "            markerfacecolor='white', markeredgecolor='k', color='k', alpha=0.8,\n",
    "            markeredgewidth=0.8, marker='x', linestyle='-', lw=1., ms=4)\n",
    "    ax1.plot(ParamUpdater.meta_max_iter_scan, optimal_matrix[truth, :, 0], label='NMQA',\n",
    "            markerfacecolor='darkred', markeredgecolor='darkred', color='darkred', alpha=0.8,\n",
    "            markeredgewidth=0.8, marker='o', linestyle='-', lw=1., ms=4)\n",
    "\n",
    "    ax1.set_ylim([0, 1])\n",
    "    plt.legend(loc=0, fontsize=8, frameon=False)\n",
    "    \n",
    "    #----------------------------------------------------------------------------------------------------\n",
    "    plt.savefig('../paperfigs/'+metrictypename+str(truth)+'expt_inset_v3.svg', format='svg', dpi=800)\n",
    "    plt.show()\n",
    "    "
   ]
  },
  {
   "cell_type": "code",
   "execution_count": 13,
   "metadata": {
    "collapsed": true
   },
   "outputs": [],
   "source": [
    "data_key = 1\n",
    "\n",
    "num_qubits_list = [6, 6, 5, 5]\n",
    "num_qubits = num_qubits_list[data_key - 1]\n",
    "from qslamdesignparams import GRIDDICT, GLOBALDICT\n",
    "from exptrisk import EmpiricalRisk\n",
    "import copy"
   ]
  },
  {
   "cell_type": "code",
   "execution_count": 14,
   "metadata": {
    "collapsed": true
   },
   "outputs": [],
   "source": [
    "change_MAX_NUM_ITERATIONS = 5\n",
    "change_MSMTS_PER_NODE = 1\n",
    "change_SIGMOID_APPROX_ERROR = 10.0**(-6)\n",
    "change_QUANTISATION_UNCERTY = 10.0**(-4)\n",
    "change_P_ALPHA = 15 \n",
    "change_P_BETA = 10 \n",
    "change_LAMBDA_1 = 0.820\n",
    "change_LAMBDA_2 = 0.968\n",
    "\n",
    "GLOBALDICT[\"MODELDESIGN\"][\"MAX_NUM_ITERATIONS\"] = 5\n",
    "GLOBALDICT[\"MODELDESIGN\"][\"MSMTS_PER_NODE\"] = 1\n",
    "GLOBALDICT[\"NOISEPARAMS\"][\"SIGMOID_APPROX_ERROR\"][\"SIGMA\"] = change_SIGMOID_APPROX_ERROR\n",
    "GLOBALDICT[\"NOISEPARAMS\"][\"QUANTISATION_UNCERTY\"][\"SIGMA\"] = change_QUANTISATION_UNCERTY\n",
    "GLOBALDICT[\"MODELDESIGN\"][\"P_ALPHA\"] = change_P_ALPHA\n",
    "GLOBALDICT[\"MODELDESIGN\"][\"P_BETA\"] = change_P_BETA\n",
    "GLOBALDICT[\"MODELDESIGN\"][\"LAMBDA_1\"] = change_LAMBDA_1\n",
    "GLOBALDICT[\"MODELDESIGN\"][\"LAMBDA_2\"] = change_LAMBDA_2\n"
   ]
  },
  {
   "cell_type": "code",
   "execution_count": 15,
   "metadata": {
    "collapsed": false,
    "scrolled": false
   },
   "outputs": [
    {
     "name": "stdout",
     "output_type": "stream",
     "text": [
      "total msmts 6\n",
      "optimal lambda pair 0.971231028692 0.944597763338\n",
      "\n",
      " QSLAM SSIM  0.57172211758\n",
      "Naive SSIM 0.900762232786\n",
      "total msmts 96\n",
      "optimal lambda pair 0.971231028692 0.944597763338\n",
      "\n",
      " QSLAM SSIM  0.0992109651337\n",
      "Naive SSIM 0.298270749054\n"
     ]
    },
    {
     "data": {
      "image/png": "[encoded data removed]",
      "text/plain": [
       "<matplotlib.figure.Figure at 0x7fe475c1b290>"
      ]
     },
     "metadata": {},
     "output_type": "display_data"
    }
   ],
   "source": [
    "savetopath = ''\n",
    "loadpath = ''\n",
    "qax = qPlotter()\n",
    "\n",
    "gslayout = gs(4, 4, top = 0.95, bottom =0.05, left = 0.05, right = 0.95, wspace = 0.05, hspace = 0.08)\n",
    "\n",
    "QMAP_LIST = []\n",
    "NMAP_LIST = []\n",
    "\n",
    "for trials in range(1): #range(100):\n",
    "    \n",
    "    for idx_truth in range(1): \n",
    "\n",
    "        fig = plt.figure(figsize=(cm2inch(20),cm2inch(11)))\n",
    "        LINFLAG = True\n",
    "        num_qubits = num_qubits_list[idx_truth]\n",
    "\n",
    "        GLOBALDICT[\"GRIDDICT\"] = {}\n",
    "        for idx_posy in range(num_qubits):\n",
    "            if idx_posy < 10 :\n",
    "                GLOBALDICT[\"GRIDDICT\"][\"QUBIT_0\" + str(idx_posy)] = (0.0, float(idx_posy)*0.5)\n",
    "            if idx_posy >= 10 :\n",
    "                GLOBALDICT[\"GRIDDICT\"][\"QUBIT_\" + str(idx_posy)] = (0.0, float(idx_posy)*0.5)\n",
    "\n",
    "\n",
    "        SAMPLE_GLOBAL_MODEL = copy.deepcopy(GLOBALDICT)\n",
    "\n",
    "        qslam = []\n",
    "        truth = []\n",
    "        naive = []\n",
    "        controls = []\n",
    "\n",
    "        data_key = data_key_list[idx_truth]\n",
    "\n",
    "        for idx_msmt_iter in range(len(pick_msmt_regimes)):\n",
    "\n",
    "            pick_regime = pick_msmt_regimes_maps[idx_msmt_iter]\n",
    "            SAMPLE_GLOBAL_MODEL[\"MODELDESIGN\"][\"MAX_NUM_ITERATIONS\"] = ParamUpdater.meta_max_iter_scan[pick_regime]\n",
    "            SAMPLE_GLOBAL_MODEL[\"MODELDESIGN\"][\"LAMBDA_1\"] = optimal_matrix[data_key -1, pick_regime, 1] \n",
    "            SAMPLE_GLOBAL_MODEL[\"MODELDESIGN\"][\"LAMBDA_2\"] = optimal_matrix[data_key -1, pick_regime, 2] \n",
    "\n",
    "            print \"total msmts\", SAMPLE_GLOBAL_MODEL[\"MODELDESIGN\"][\"MAX_NUM_ITERATIONS\"]\n",
    "            print \"optimal lambda pair\", SAMPLE_GLOBAL_MODEL[\"MODELDESIGN\"][\"LAMBDA_1\"], SAMPLE_GLOBAL_MODEL[\"MODELDESIGN\"][\"LAMBDA_2\"]\n",
    "\n",
    "            expt = EmpiricalRisk(SAMPLE_GLOBAL_MODEL, data_key)\n",
    "\n",
    "            qfmap, rmap, path = expt.qslam_trial()\n",
    "            nfmap, truemap = expt.naive_trial()\n",
    "\n",
    "            dataobjs = [truemap, qfmap, nfmap]\n",
    "            dataviews = ['expt', 'expt', 'expt']\n",
    "            \n",
    "            print         \n",
    "            q_ssim = Metric.score_ssim(qfmap, truemap)\n",
    "            n_ssim = Metric.score_ssim(nfmap, truemap)\n",
    "            \n",
    "            print \" QSLAM SSIM \", q_ssim\n",
    "            print \"Naive SSIM\", n_ssim\n",
    "            \n",
    "            if idx_msmt_iter == 1 :\n",
    "                QMAP_LIST.append(qfmap)\n",
    "                NMAP_LIST.append(nfmap)\n",
    "\n",
    "            for idx_key in range(3):\n",
    "\n",
    "                ax = 0.\n",
    "                ax = fig.add_subplot(gslayout[idx_key, idx_msmt_iter])\n",
    "\n",
    "                viewtype = dataviews[idx_key]\n",
    "\n",
    "                if viewtype != 'path':\n",
    "                    if viewtype != 'pred_r':\n",
    "                        ax, cax = qax.show_map(ax, dataobjs[idx_key], viewtype, pickone=None, linear=LINFLAG)\n",
    "\n",
    "\n",
    "                        if idx_key == 1:\n",
    "\n",
    "                            ax1 = fig.add_subplot(gslayout[idx_key, idx_msmt_iter**2 + 2] )\n",
    "\n",
    "                            ax1 = qax.show_control_path(ax1, path, GRIDDICT, \n",
    "                                                        viewtype='expt',\n",
    "                                                        pickone=None, \n",
    "                                                        linear=LINFLAG)\n",
    "                            ax1.get_yaxis().set_visible(False)\n",
    "                            ax1.get_xaxis().set_visible(False)\n",
    "                            for edge, spine in ax1.spines.items():\n",
    "                                spine.set_visible(False)\n",
    "\n",
    "                ax.set_aspect(7)           \n",
    "\n",
    "        # plt.colorbar(cax, ticks=[0.0, np.pi], format='%0.2f', orientation='horizontal')\n",
    "        plt.savefig('../paperfigs/'+metrictypename+str(idx_truth)+'expt_maps_v3.svg', format='svg', dpi=800)\n",
    "        plt.show()\n",
    "        \n",
    "\n",
    "    "
   ]
  },
  {
   "cell_type": "code",
   "execution_count": null,
   "metadata": {
    "collapsed": true
   },
   "outputs": [],
   "source": []
  },
  {
   "cell_type": "code",
   "execution_count": null,
   "metadata": {
    "collapsed": true
   },
   "outputs": [],
   "source": []
  }
 ],
 "metadata": {
  "kernelspec": {
   "display_name": "python27withPyPDF2",
   "language": "python",
   "name": "python27withpypdf2"
  },
  "language_info": {
   "codemirror_mode": {
    "name": "ipython",
    "version": 2
   },
   "file_extension": ".py",
   "mimetype": "text/x-python",
   "name": "python",
   "nbconvert_exporter": "python",
   "pygments_lexer": "ipython2",
   "version": "2.7.13"
  }
 },
 "nbformat": 4,
 "nbformat_minor": 2
}
