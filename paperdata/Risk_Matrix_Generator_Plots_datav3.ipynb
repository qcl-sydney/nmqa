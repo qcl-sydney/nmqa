{
 "cells": [
  {
   "cell_type": "code",
   "execution_count": 1,
   "metadata": {
    "collapsed": false
   },
   "outputs": [],
   "source": [
    "import numpy as np\n",
    "import sys\n",
    "import matplotlib\n",
    "sys.path.append('../qslam')\n",
    "\n",
    "from visualiserisk import *\n",
    "from qslamdesignparams import GRIDDICT"
   ]
  },
  {
   "cell_type": "markdown",
   "metadata": {},
   "source": [
    "# Parameter Regimes\n",
    "\n",
    "The set of parameters are given in the dictionary format, LOOPS_DICT, and used for analysis via ParamUpdater. "
   ]
  },
  {
   "cell_type": "code",
   "execution_count": 2,
   "metadata": {
    "collapsed": false
   },
   "outputs": [],
   "source": [
    "# Choose defaults to match floor case (heights didn't work)\n",
    "TRUTHKWARGS = {}\n",
    "\n",
    "BARRIER_FLOOR = 0.25*np.pi\n",
    "BARRIER_HEIGHT = 0.75*np.pi\n",
    "FLOOR_RATIO = 0.4 # matches floor case\n",
    "\n",
    "TRUTHKWARGS[\"OneStepdheight\"] = {\"low\": BARRIER_FLOOR, \n",
    "                                 \"high\": BARRIER_HEIGHT} \n",
    "TRUTHKWARGS[\"OneStepdfloorarea\"] = FLOOR_RATIO \n",
    "\n",
    "prefix_list = ['2019_Jun_2D', '2019_Jun_2D_Gssn'] #'2019_Jun_1D'\n"
   ]
  },
  {
   "cell_type": "code",
   "execution_count": 11,
   "metadata": {
    "collapsed": false
   },
   "outputs": [
    {
     "data": {
      "text/plain": [
       "250"
      ]
     },
     "execution_count": 11,
     "metadata": {},
     "output_type": "execute_result"
    }
   ],
   "source": [
    "len(lambda1)"
   ]
  },
  {
   "cell_type": "code",
   "execution_count": 3,
   "metadata": {
    "collapsed": true
   },
   "outputs": [],
   "source": [
    "# ------------------------------------------------------------------------------\n",
    "# TURN OFF PARAMETER SCANS\n",
    "# ------------------------------------------------------------------------------\n",
    "\n",
    "idx_prevar = 0 \n",
    "# Fix truth configurations\n",
    "meta_truth_floor_scan = [FLOOR_RATIO] # [0.2, 0.4, 0.6, 0.8, 1.0]\n",
    "lowscan = [BARRIER_FLOOR] # np.asarray([0.2]*5)*np.pi\n",
    "highscan = [BARRIER_HEIGHT] # np.asarray([0.2, 0.4, 0.6, 0.8, 1.0])*np.pi\n",
    "truth_step_scan = zip(lowscan, highscan)\n",
    "\n",
    "\n",
    "idx_noise_var = 0 \n",
    "# Fix to noiseless case\n",
    "noiseclasses = ['noiseless'] \n",
    "noisestrengths = [0.0]\n",
    "meta_noisevar_scan = zip(noiseclasses, noisestrengths)\n",
    "\n",
    "\n",
    "# Fix msmt scan - and turn it off!\n",
    "msmt_per_qubit_scan = [1] # [1, 2, 4, 5, 6, 8, 10, 15, 20, 25, 50]\n",
    "\n",
    "# ------------------------------------------------------------------------------\n",
    "\n",
    "# ------------------------------------------------------------------------------\n",
    "# NEW PARAMETER SCANS\n",
    "# ------------------------------------------------------------------------------\n",
    "\n",
    "meta_max_iter_scan = [ 5, 10, 15, 20, 25, 50, 75, 100, 125, 250]\n",
    "\n",
    "lambda_databse = np.load('./lambda_pairs_2.npz')\n",
    "lambda1 = list(lambda_databse['lambda_1']) # [0.99, 0.956, 0.922, 0.888, 0.854, 0.820, 0.786, 0.752, 0.718, 0.684, 0.65]\n",
    "lambda2 = list(lambda_databse['lambda_2']) # [0.977, 0.9752, 0.9734, 0.9716, 0.9698, 0.968, 0.9662, 0.9644, 0.9626, 0.9608, 0.959]\n",
    "lambda_scan = zip(lambda1, lambda2)\n",
    "\n",
    "LOOPS_DICT = {\"meta_truth_floor_scan\": meta_truth_floor_scan,\n",
    "              \"meta_max_iter_scan\":meta_max_iter_scan, \n",
    "              \"meta_noisevar_scan\": meta_noisevar_scan,\n",
    "              \"truth_step_scan\": truth_step_scan,\n",
    "              \"lambda_scan\":lambda_scan,\n",
    "              \"msmt_per_qubit_scan\": msmt_per_qubit_scan}\n",
    "\n",
    "ParamUpdater = DataCube(LOOPS_DICT)\n"
   ]
  },
  {
   "cell_type": "markdown",
   "metadata": {},
   "source": [
    "#### Get data filenames"
   ]
  },
  {
   "cell_type": "code",
   "execution_count": 4,
   "metadata": {
    "collapsed": false
   },
   "outputs": [],
   "source": [
    "weightratioslist = []\n",
    "msmtperqubitlist = []\n",
    "\n",
    "for prefix in prefix_list:\n",
    "    \n",
    "    # simplify loops\n",
    "    idx_noise_var =0\n",
    "    idx_var_dict =0\n",
    "\n",
    "    regime_ID = prefix + '_n_' + str(idx_noise_var) +'_vset_' + str(idx_var_dict)\n",
    "    datafile = './data_v3/'+'RISK_' + regime_ID +'.npz'\n",
    "\n",
    "    if idx_var_dict == 0:\n",
    "        weightratioslist.append(datafile) \n",
    "#     elif idx_var_dict ==1 :\n",
    "#         msmtperqubitlist.append(datafile)\n",
    "\n",
    "# Data variables\n",
    "max_msmtvar = len(ParamUpdater.meta_max_iter_scan)\n",
    "max_var = max(len(ParamUpdater.lambda_scan), len(ParamUpdater.msmt_per_qubit_scan))"
   ]
  },
  {
   "cell_type": "code",
   "execution_count": 12,
   "metadata": {
    "collapsed": false
   },
   "outputs": [
    {
     "data": {
      "text/plain": [
       "250"
      ]
     },
     "execution_count": 12,
     "metadata": {},
     "output_type": "execute_result"
    }
   ],
   "source": [
    "max_var"
   ]
  },
  {
   "cell_type": "markdown",
   "metadata": {},
   "source": [
    "# Data Analysis"
   ]
  },
  {
   "cell_type": "code",
   "execution_count": 13,
   "metadata": {
    "collapsed": true
   },
   "outputs": [],
   "source": [
    "THRESHOLD = 0.1\n",
    "max_lambda_var_ = max_var\n",
    "max_cases = len(weightratioslist)\n",
    "max_msmt_var = len(ParamUpdater.meta_max_iter_scan)\n",
    "metrictype_ = 3 # SSIM\n",
    "metrictypename = 'SSIM'\n",
    "# metrictype_ = 2 # RMS\n",
    "# metrictypename = 'RMS'\n",
    "max_var = len(ParamUpdater.lambda_scan)\n",
    "idx_prevar=0\n",
    "\n",
    "\n",
    "def get_loss_data(filename, idx_prevar, idx_msmt_var, max_lambda_var=50, metrictype=3):\n",
    "    \n",
    "    full_data_matrix = np.load(filename)[\"full_data_matrix\"]    \n",
    "    qslamdata = full_data_matrix[idx_prevar, idx_msmt_var, : max_lambda_var, 0, metrictype] #qslam is the first index\n",
    "    naivedata = full_data_matrix[idx_prevar, idx_msmt_var, : max_lambda_var, 1, metrictype]\n",
    "    index_array = np.argsort(qslamdata)\n",
    "    \n",
    "    return qslamdata, index_array, naivedata\n",
    "\n",
    "\n",
    "def extract_optimal_cases(max_cases,max_msmt_var, max_lambda_var=50, metrictype=3):\n",
    "    \n",
    "    \n",
    "    optimal_matrix = np.zeros((max_cases, max_msmt_var, 3))\n",
    "    naive_matrix = np.zeros((max_cases, max_msmt_var, 2))\n",
    "    optimal_cases = np.zeros((max_cases, max_msmt_var, max_lambda_var))\n",
    "    \n",
    "    for idx_msmt_var in range(max_msmt_var):\n",
    "        \n",
    "        for idx_truth in range(max_cases):\n",
    "            \n",
    "            filename = weightratioslist[idx_truth]\n",
    "            a, index_array, naive = get_loss_data(filename, idx_prevar, idx_msmt_var, \n",
    "                                                  max_lambda_var=max_lambda_var,\n",
    "                                                  metrictype=metrictype)\n",
    "\n",
    "\n",
    "            optimal_matrix[idx_truth, idx_msmt_var, 0] = a[index_array[0]]\n",
    "            optimal_matrix[idx_truth, idx_msmt_var, 1] = lambda1[index_array[0]]\n",
    "            optimal_matrix[idx_truth, idx_msmt_var, 2] = lambda2[index_array[0]]\n",
    "\n",
    "            naive_matrix[idx_truth, idx_msmt_var, 0] = np.mean(naive)\n",
    "            naive_matrix[idx_truth, idx_msmt_var, 1] = np.std(naive)\n",
    "            \n",
    "            truncate = len(index_array)           \n",
    "            optimal_cases[idx_truth, idx_msmt_var, :truncate] = index_array\n",
    "    \n",
    "    return optimal_matrix, naive_matrix, optimal_cases"
   ]
  },
  {
   "cell_type": "markdown",
   "metadata": {},
   "source": [
    "# Optimal lambda"
   ]
  },
  {
   "cell_type": "code",
   "execution_count": 21,
   "metadata": {
    "collapsed": false
   },
   "outputs": [
    {
     "data": {
      "image/png": "[encoded data removed]",
      "text/plain": [
       "<matplotlib.figure.Figure at 0x7f89d678c490>"
      ]
     },
     "metadata": {},
     "output_type": "display_data"
    }
   ],
   "source": [
    "optimal_matrix, naive_matrix, optimal_cases = extract_optimal_cases(max_cases, max_msmt_var, \n",
    "                                                                    max_lambda_var=max_lambda_var_,\n",
    "                                                                    metrictype=metrictype_)\n",
    "\n",
    "gslayout = gs(3, 2 , top = 0.95, bottom =0.05, left = 0.1, right = 0.9, wspace = 0.05, hspace = 0.05)\n",
    "\n",
    "pick_msmt_regimes = [1, 9]\n",
    "\n",
    "fig = plt.figure(figsize=(cm2inch(8.7),cm2inch(12)))\n",
    "\n",
    "for truth in range(len(weightratioslist)):\n",
    "       \n",
    "    for idx_opt in range(len(pick_msmt_regimes)):\n",
    "    \n",
    "        filename = weightratioslist[truth]\n",
    "        a, index_array, naive = get_loss_data(filename, idx_prevar, pick_msmt_regimes[idx_opt])\n",
    "        \n",
    "        \n",
    "        ax = fig.add_subplot(gslayout[truth, idx_opt ])\n",
    "        ax.plot(lambda1[0:max_lambda_var_], lambda2[0:max_lambda_var_], 'ko', ms=0.5, alpha=1)\n",
    "              \n",
    "        optimal_color = 'darkred'\n",
    "        diff = a[0] - a[index_array[0]]  \n",
    "        if diff < 0 :\n",
    "            optimal_color = 'g'\n",
    "        elif diff >=0 :\n",
    "            if diff < THRESHOLD: \n",
    "                optimal_color = 'g'\n",
    "\n",
    "\n",
    "\n",
    "        better_than_control=[]\n",
    "        for idx_l in index_array:\n",
    "            diff = a[0] - a[idx_l] \n",
    "\n",
    "            if diff < 0 :\n",
    "                break\n",
    "            elif diff >=0 :\n",
    "                if diff < THRESHOLD: \n",
    "                    break\n",
    "            if idx_l == 0:\n",
    "                break\n",
    "            better_than_control.append(idx_l)\n",
    "        \n",
    "        red_values = np.take(a, better_than_control)\n",
    "        im = ax.scatter(np.take(lambda1, better_than_control), \n",
    "                   np.take(lambda2, better_than_control),\n",
    "                   c= red_values,\n",
    "                   vmin=0.0, vmax=0.7, \n",
    "                   cmap='BuPu_r',alpha=0.6)\n",
    "        \n",
    "        ax.plot(lambda1[index_array[0]],lambda2[index_array[0]], '*',\n",
    "                c=optimal_color, ms=10, alpha=1.)\n",
    "        \n",
    "        if idx_opt >0:\n",
    "            ax.get_yaxis().set_ticklabels([])\n",
    "        if truth < 2:\n",
    "            ax.get_xaxis().set_ticklabels([])\n",
    "        \n",
    "        # Want square graphs with same number of ticks\n",
    "        ax.set_aspect(1.)\n",
    "        equaltics = plticker.MultipleLocator(base=0.5) # this locator puts ticks at regular intervals\n",
    "        ax.xaxis.set_major_locator(equaltics)\n",
    "        ax.yaxis.set_major_locator(equaltics)\n",
    "        # ax.set(xlabel=r'$\\lambda_i $', ylabel=r'$\\lambda_j$')\n",
    "        # ax.set_title(str(ParamUpdater.meta_max_iter_scan[pick_msmt_regimes[idx_opt]])+', '+str(np.round(a[index_array[0]] / a[0], 3)))\n",
    "        \n",
    "# plt.colorbar(im, ticks=[0.0, 0.7], format='%0.2f', orientation='horizontal')\n",
    "plt.savefig('../paperfigs/opt_v3.svg', format='svg', dpi=800)\n",
    "plt.show()"
   ]
  },
  {
   "cell_type": "markdown",
   "metadata": {},
   "source": [
    "# Interpolation and Msmt Analysis "
   ]
  },
  {
   "cell_type": "code",
   "execution_count": 22,
   "metadata": {
    "collapsed": true
   },
   "outputs": [],
   "source": [
    "from scipy.interpolate import interp1d\n",
    "from scipy.interpolate import UnivariateSpline"
   ]
  },
  {
   "cell_type": "code",
   "execution_count": 23,
   "metadata": {
    "collapsed": false
   },
   "outputs": [
    {
     "name": "stderr",
     "output_type": "stream",
     "text": [
      "/home/riddhisw/anaconda2/lib/python2.7/site-packages/ipykernel/__main__.py:22: VisibleDeprecationWarning: using a non-integer number instead of an integer will result in an error in the future\n",
      "/home/riddhisw/anaconda2/lib/python2.7/site-packages/ipykernel/__main__.py:23: VisibleDeprecationWarning: using a non-integer number instead of an integer will result in an error in the future\n"
     ]
    },
    {
     "data": {
      "image/png": "[encoded data removed]",
      "text/plain": [
       "<matplotlib.figure.Figure at 0x7f89d605ea90>"
      ]
     },
     "metadata": {},
     "output_type": "display_data"
    },
    {
     "data": {
      "image/png": "[encoded data removed]",
      "text/plain": [
       "<matplotlib.figure.Figure at 0x7f89d62818d0>"
      ]
     },
     "metadata": {},
     "output_type": "display_data"
    }
   ],
   "source": [
    "''' Save optimal_inverse_curves_list and use it in the next Workbook cell.\n",
    "'''\n",
    "\n",
    "\n",
    "algolabel = ['qslam', 'naive']\n",
    "ssim_c = ['indigo', 'firebrick']\n",
    "min_sims = [0.052, 0.05, 0.07]\n",
    "maxssim = 0.5\n",
    "start_iter=0\n",
    "\n",
    "\n",
    "gslayout = gs(1, 1, top = 0.95, bottom =0.05, left = 0.12, right = 0.88, wspace = 0.4, hspace = 0.4)\n",
    "\n",
    "optimal_inverse_curves_list = []\n",
    "for idx_truth in range(max_cases):\n",
    "\n",
    "\n",
    "    filename = weightratioslist[idx_truth]\n",
    "    full_data_matrix = np.load(filename)[\"full_data_matrix\"]    \n",
    "    \n",
    "    pickl = [optimal_cases[idx_truth, idx, 0] for idx in range(max_msmt_var)]\n",
    "    qslam_data = [full_data_matrix[idx_prevar, idx, pickl[idx], 0, metrictype_] for idx in range(max_msmt_var)]\n",
    "    naive_data = [full_data_matrix[idx_prevar, idx, pickl[idx], 1, metrictype_] for idx in range(max_msmt_var)]\n",
    "    \n",
    "    # Extrapolation range depends on the type of experiment\n",
    "    ssim_vals = np.linspace(min_sims[idx_truth], maxssim, 40)\n",
    "    \n",
    "    # Interpolation 1D linear\n",
    "    msmts = ParamUpdater.meta_max_iter_scan[start_iter:]\n",
    "    qslam_invfunc = interp1d(qslam_data, msmts, fill_value='extrapolate')\n",
    "    naive_invfunc = interp1d(naive_data, msmts, fill_value='extrapolate')\n",
    "\n",
    "    ratio_extrapolated = qslam_invfunc(ssim_vals) / naive_invfunc(ssim_vals)\n",
    "\n",
    "    ydata = [qslam_data, naive_data]\n",
    "    interpy = {algolabel[0]: qslam_invfunc, algolabel[1]: naive_invfunc}\n",
    "        \n",
    "    # ---PLOT INVERSE FIGURE -----------------------------------------------------------------------------\n",
    "    \n",
    "    fig = plt.figure(figsize=(cm2inch(8.7),cm2inch(5)))\n",
    "\n",
    "    ax = fig.add_subplot(gslayout[0,0])\n",
    "    \n",
    "    ax.plot(ssim_vals, ratio_extrapolated*100.0, '-', ms=1.5, lw=1.0, c='green', label=\"Est. from Data\")\n",
    "    ax.set_xlim([0.0, maxssim])\n",
    "    ax.set_yticks(np.arange(0,1.25,0.5)*100.0)\n",
    "    \n",
    "    ax.axhline(y=10, ls='--', label='10%.', c='grey', alpha = 0.75, lw=0.8)\n",
    "    ax.axhline(y=30, ls='-.', label='30%.', c='grey', alpha = 0.5, lw=0.8)\n",
    "    ax.axhline(y=100, ls='-', label='100%.', c='grey', alpha = 0.3, lw=0.8)\n",
    " \n",
    "    ax.set_xlabel('SSIM score (a.u.)')\n",
    "    ax.set_ylabel('% of Msmts \\n (Rel. to Naive)')\n",
    "    ax.legend(loc=0)\n",
    "    \n",
    "    optimal_inverse_curves_list.append([ssim_vals, ratio_extrapolated])\n",
    "        \n",
    "    plt.savefig('../paperfigs/'+metrictypename+str(idx_truth)+'_opt_inv_v3.svg', format='svg', dpi=800)\n",
    "    plt.show()"
   ]
  },
  {
   "cell_type": "markdown",
   "metadata": {},
   "source": [
    "## FIXED LAMBDA"
   ]
  },
  {
   "cell_type": "code",
   "execution_count": 24,
   "metadata": {
    "collapsed": false
   },
   "outputs": [
    {
     "name": "stdout",
     "output_type": "stream",
     "text": [
      "Truth:  0\n",
      "Optimal lambda 0 for msmt iteration 3 20\n",
      "0.887999807254\n",
      "Optimal lambda 1 for msmt iteration 3 20\n",
      "0.968852108212\n"
     ]
    },
    {
     "name": "stderr",
     "output_type": "stream",
     "text": [
      "/home/riddhisw/anaconda2/lib/python2.7/site-packages/ipykernel/__main__.py:26: VisibleDeprecationWarning: using a non-integer number instead of an integer will result in an error in the future\n",
      "/home/riddhisw/anaconda2/lib/python2.7/site-packages/ipykernel/__main__.py:27: VisibleDeprecationWarning: using a non-integer number instead of an integer will result in an error in the future\n"
     ]
    },
    {
     "data": {
      "image/png": "[encoded data removed]",
      "text/plain": [
       "<matplotlib.figure.Figure at 0x7f89d677c490>"
      ]
     },
     "metadata": {},
     "output_type": "display_data"
    },
    {
     "name": "stdout",
     "output_type": "stream",
     "text": [
      "Truth:  1\n",
      "Optimal lambda 0 for msmt iteration 3 20\n",
      "0.785042692882\n",
      "Optimal lambda 1 for msmt iteration 3 20\n",
      "0.858034938437\n"
     ]
    },
    {
     "data": {
      "image/png": "[encoded data removed]",
      "text/plain": [
       "<matplotlib.figure.Figure at 0x7f89d749c510>"
      ]
     },
     "metadata": {},
     "output_type": "display_data"
    }
   ],
   "source": [
    "'''Add the fully optimised inverse curves '''\n",
    "\n",
    "\n",
    "opt_lambda_at_iteration = 3\n",
    "algolabel = ['qslam', 'naive']\n",
    "ssim_c = ['indigo', 'firebrick']\n",
    "min_sims = [0.05, 0.08, 0.068]\n",
    "maxssim = 0.5\n",
    "start_iter=0\n",
    "\n",
    "gslayout = gs(1, 1, top = 0.99, bottom =0.15, left = 0.125, right = 0.95, wspace = 0.01, hspace = 0.01)\n",
    "\n",
    "for idx_truth in range(max_cases):\n",
    "\n",
    "    pick_lambda_idx = optimal_cases[idx_truth, opt_lambda_at_iteration, 0]\n",
    "    \n",
    "    print \"Truth: \", idx_truth\n",
    "    print \"Optimal lambda 0 for msmt iteration\", opt_lambda_at_iteration, ParamUpdater.meta_max_iter_scan[opt_lambda_at_iteration]\n",
    "    print optimal_matrix[idx_truth, opt_lambda_at_iteration, 1]\n",
    "    print \"Optimal lambda 1 for msmt iteration\", opt_lambda_at_iteration, ParamUpdater.meta_max_iter_scan[opt_lambda_at_iteration]\n",
    "    print optimal_matrix[idx_truth, opt_lambda_at_iteration, 2]\n",
    "\n",
    "    filename = weightratioslist[idx_truth]\n",
    "\n",
    "    full_data_matrix = np.load(filename)[\"full_data_matrix\"]    \n",
    "    qslam_data = full_data_matrix[idx_prevar, start_iter:, pick_lambda_idx, 0, metrictype_] \n",
    "    naive_data = full_data_matrix[idx_prevar, start_iter:, pick_lambda_idx, 1, metrictype_]\n",
    "    \n",
    "    # Extrapolation range depends on the type of experiment\n",
    "    ssim_vals = np.linspace(min_sims[idx_truth], maxssim, 40)\n",
    "    \n",
    "    # Interpolation 1D linear\n",
    "    msmts = ParamUpdater.meta_max_iter_scan[start_iter:]\n",
    "    qslam_invfunc = interp1d(qslam_data, msmts, fill_value='extrapolate')\n",
    "    naive_invfunc = interp1d(naive_data, msmts, fill_value='extrapolate')\n",
    "\n",
    "#     # Interpolation Univariate Spline\n",
    "#     qidx = np.argsort(qslam_data)\n",
    "#     nidx = np.argsort(naive_data)\n",
    "#     msmts = ParamUpdater.meta_max_iter_scan[start_iter:]\n",
    "#     qslam_invfunc = UnivariateSpline(np.take(qslam_data, qidx), np.take(msmts, qidx), k=1)#, fill_value='extrapolate')\n",
    "#     naive_invfunc = UnivariateSpline(np.take(naive_data, nidx),  np.take(msmts, nidx), k=1)#, fill_value='extrapolate')\n",
    "\n",
    "    ratio_extrapolated = qslam_invfunc(ssim_vals) / naive_invfunc(ssim_vals)\n",
    "\n",
    "    ydata = [qslam_data, naive_data]\n",
    "    interpy = {algolabel[0]: qslam_invfunc, algolabel[1]: naive_invfunc}\n",
    "\n",
    "\n",
    "#     # -------CHECK INTERPOLATION BEFORE INVERTING IT ------------------------------------------\n",
    "#     plt.figure()\n",
    "#     ax = plt.subplot(111)\n",
    "#     for algo in range(2):\n",
    "#         ax.plot(interpy[algolabel[algo]](ssim_vals), ssim_vals, '--',  \n",
    "#                 label = algolabel[algo],\n",
    "#                 alpha = 1.0,\n",
    "#                 color = ssim_c[algo],\n",
    "#                 ms=1.5,\n",
    "#                 lw=1.)\n",
    "\n",
    "#     plt.show()\n",
    "#     # ------------------------------------------------------------------------------------------\n",
    "        \n",
    "    # ---PLOT INVERSE FIGURE -----------------------------------------------------------------------------\n",
    "    \n",
    "    fig = plt.figure(figsize=(cm2inch(8.6),cm2inch(7)))\n",
    "    ax = fig.add_subplot(gslayout[0,0])\n",
    "    \n",
    "    # ---- Add optimised curve here ---\n",
    "    \n",
    "    ax.plot(optimal_inverse_curves_list[idx_truth][0], 1./ optimal_inverse_curves_list[idx_truth][1],\n",
    "           '-', ms=1.5, lw=1.5, alpha=1,c='darkred', label=r'$\\lambda_{1,2}$ Optimal')\n",
    "    \n",
    "    # ---- Add a fixed lambda curve here ---\n",
    "    ax.plot(ssim_vals, 1./ ratio_extrapolated, \n",
    "            '--', ms=1.5, lw=1.5, alpha=0.7, c='darkred', label=r'$\\lambda_{1,3}$ at $%s$ iters' %(msmts[opt_lambda_at_iteration]))\n",
    "    \n",
    "    \n",
    "    ax.set_xlim([0.0, maxssim])\n",
    "    ax.set_yticks(np.arange(0, 36, 5))\n",
    "    ax.set_ylim([0, 40])\n",
    " \n",
    "    ax.set_xlabel('SSIM score (a.u.)')\n",
    "    ax.set_ylabel('x-Gain over Naive (a.u.)')\n",
    "#    ax.legend(loc=2, fontsize=8, frameon=False)\n",
    "        \n",
    "    plt.savefig('../paperfigs/'+metrictypename+str(idx_truth)+'_inv_v3.svg', format='svg', dpi=800)\n",
    "    plt.show()"
   ]
  },
  {
   "cell_type": "code",
   "execution_count": 25,
   "metadata": {
    "collapsed": false
   },
   "outputs": [
    {
     "data": {
      "image/png": "[encoded data removed]",
      "text/plain": [
       "<matplotlib.figure.Figure at 0x7f89dd945e90>"
      ]
     },
     "metadata": {},
     "output_type": "display_data"
    },
    {
     "name": "stdout",
     "output_type": "stream",
     "text": [
      "0\n",
      "Optimal lambda 0\n",
      "[ 0.50742239  0.88799981  0.97123103  0.88799981  0.98101952  0.872306\n",
      "  0.92804888  0.97938074  0.84392175  0.89248456]\n",
      "Optimal lambda 1\n",
      "[ 0.76614525  0.96885211  0.94459776  0.96885211  0.99127996  0.91831488\n",
      "  0.68006484  0.60611753  0.96390366  0.92697688]\n",
      "Optimal lambda 0 at pick regime 1\n",
      "0.887999807254\n",
      "Optimal lambda 1 at pick_regime 1\n",
      "0.968852108212\n",
      "Optimal lambda 0 at pick regime 9\n",
      "0.892484555997\n",
      "Optimal lambda 1 at pick_regime 9\n",
      "0.926976877469\n"
     ]
    },
    {
     "data": {
      "image/png": "[encoded data removed]",
      "text/plain": [
       "<matplotlib.figure.Figure at 0x7f89d601df90>"
      ]
     },
     "metadata": {},
     "output_type": "display_data"
    },
    {
     "name": "stdout",
     "output_type": "stream",
     "text": [
      "1\n",
      "Optimal lambda 0\n",
      "[ 0.13810754  0.78724444  0.92804888  0.78504269  0.717393    0.59022454\n",
      "  0.81146779  0.83167473  0.76946254  0.59022454]\n",
      "Optimal lambda 1\n",
      "[ 0.65161562  0.80793083  0.68006484  0.85803494  0.84176217  0.23010274\n",
      "  0.62820286  0.60725225  0.97163585  0.23010274]\n",
      "Optimal lambda 0 at pick regime 1\n",
      "0.787244437688\n",
      "Optimal lambda 1 at pick_regime 1\n",
      "0.807930829329\n",
      "Optimal lambda 0 at pick regime 9\n",
      "0.590224537958\n",
      "Optimal lambda 1 at pick_regime 9\n",
      "0.230102738121\n"
     ]
    }
   ],
   "source": [
    "optimal_matrix, naive_matrix, optimal_cases = extract_optimal_cases(max_cases, max_msmt_var, \n",
    "                                                                    max_lambda_var=max_lambda_var_,\n",
    "                                                                    metrictype=metrictype_)\n",
    "\n",
    "gslayout = gs(1,1 , top = 0.9, bottom =0.3, left = 0.3, right = 0.9, wspace = 0.01, hspace = 0.01)\n",
    "\n",
    "pick_msmt_regimes = [1, 9]\n",
    "\n",
    "for truth in range(len(weightratioslist)):\n",
    "    \n",
    "    fig = plt.figure(figsize=(cm2inch(4.5),cm2inch(3.)))\n",
    "    \n",
    "    ax1 = fig.add_subplot(gslayout[0, 0])\n",
    "    \n",
    "    ax1.plot(ParamUpdater.meta_max_iter_scan, naive_matrix[truth, :, 0], label='Naive',\n",
    "            markerfacecolor='white', markeredgecolor='k', color='k', alpha=0.8,\n",
    "            markeredgewidth=0.8, marker='x', linestyle='-', lw=1., ms=4)\n",
    "    ax1.plot(ParamUpdater.meta_max_iter_scan, optimal_matrix[truth, :, 0], label='QSLAM',\n",
    "            markerfacecolor='darkred', markeredgecolor='darkred', color='darkred', alpha=0.8,\n",
    "            markeredgewidth=0.8, marker='o', linestyle='-', lw=1., ms=4)\n",
    "\n",
    "#     #------------------------------------------------------\n",
    "#     (mn, sn, bn) = ax1.stem(ParamUpdater.meta_max_iter_scan, naive_matrix[truth, :, 0], label='Naive')\n",
    "#     ax1.fill_between(ParamUpdater.meta_max_iter_scan, naive_matrix[truth, :, 0], \n",
    "#                      color='k', alpha=0.15)\n",
    "#     plt.setp(bn, visible=False) # baseline\n",
    "#     plt.setp(mn, marker='+', color='k', ms=5, alpha=0.8) # markers\n",
    "#     plt.setp(sn, color='w', alpha=.5) # stems\n",
    "\n",
    "#     #------------------------------------------------------\n",
    "#     (m, s, b) = ax1.stem(ParamUpdater.meta_max_iter_scan, optimal_matrix[truth, :, 0], label='QSLAM')\n",
    "\n",
    "#     ax1.fill_between(ParamUpdater.meta_max_iter_scan, optimal_matrix[truth, :, 0], \n",
    "#                      color='darkred', alpha=0.5)\n",
    "    \n",
    "#     plt.setp(b, visible=False) # baseline\n",
    "#     plt.setp(m, marker='x', color='darkred', ms=5, alpha=0.8) # markers\n",
    "#     plt.setp(s, color='w', alpha=.2) # stems\n",
    "\n",
    "#     ax1.set(ylabel='SSIM (a.u.)', xlabel=' Msmts (num)')\n",
    "#     \n",
    "#     #plt.legend(loc=4)\n",
    "#     #----------------------------------------------------------------------------------------------------\n",
    "#     ax2 = ax1.twinx()\n",
    "#     ax2.plot(ParamUpdater.meta_max_iter_scan, optimal_matrix[truth, :, 1], \n",
    "#              'o-', c='g', ms=4, label=r'$\\lambda_1$', alpha=0.5)\n",
    "#     ax2.plot(ParamUpdater.meta_max_iter_scan, optimal_matrix[truth, :, 2],\n",
    "#              'o-', c='slateblue', ms=4, label=r'$\\lambda_2$', alpha=0.5)\n",
    "#     ax2.set_ylim([0, 1])\n",
    "#     ax2.set(ylabel=r'Optimal $\\lambda_i, i=1,2$')\n",
    "    ax1.set_ylim([0, 1])\n",
    "    plt.legend(loc=0, fontsize=8, frameon=False)\n",
    "    \n",
    "    #----------------------------------------------------------------------------------------------------\n",
    "    plt.savefig('../paperfigs/'+metrictypename+str(truth)+'_inset_v3.svg', format='svg', dpi=800)\n",
    "    plt.show()\n",
    "    \n",
    "    \n",
    "    print truth\n",
    "    print \"Optimal lambda 0\"\n",
    "    print optimal_matrix[truth, :, 1]\n",
    "    print \"Optimal lambda 1\"\n",
    "    print optimal_matrix[truth, :, 2]\n",
    "    \n",
    "    for pick_regime in pick_msmt_regimes:\n",
    "        \n",
    "        print \"Optimal lambda 0 at pick regime\", pick_regime\n",
    "        print optimal_matrix[truth, pick_regime, 1]\n",
    "        print \"Optimal lambda 1 at pick_regime\", pick_regime\n",
    "        print optimal_matrix[truth, pick_regime, 2]"
   ]
  },
  {
   "cell_type": "code",
   "execution_count": null,
   "metadata": {
    "collapsed": true
   },
   "outputs": [],
   "source": []
  }
 ],
 "metadata": {
  "kernelspec": {
   "display_name": "Python 2",
   "language": "python",
   "name": "python2"
  },
  "language_info": {
   "codemirror_mode": {
    "name": "ipython",
    "version": 2
   },
   "file_extension": ".py",
   "mimetype": "text/x-python",
   "name": "python",
   "nbconvert_exporter": "python",
   "pygments_lexer": "ipython2",
   "version": "2.7.13"
  }
 },
 "nbformat": 4,
 "nbformat_minor": 2
}
