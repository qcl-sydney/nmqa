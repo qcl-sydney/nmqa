{
 "cells": [
  {
   "cell_type": "code",
   "execution_count": 1,
   "metadata": {
    "collapsed": false
   },
   "outputs": [],
   "source": [
    "import numpy as np\n",
    "import sys\n",
    "import matplotlib\n",
    "sys.path.append('../qslam')\n",
    "\n",
    "from visualiserisk import *\n",
    "from qslamdesignparams import GRIDDICT"
   ]
  },
  {
   "cell_type": "markdown",
   "metadata": {},
   "source": [
    "# Parameter Regimes\n",
    "\n",
    "The set of parameters are given in the dictionary format, LOOPS_DICT, and used for analysis via ParamUpdater. "
   ]
  },
  {
   "cell_type": "code",
   "execution_count": 2,
   "metadata": {
    "collapsed": false
   },
   "outputs": [],
   "source": [
    "# Choose defaults to match floor case (heights didn't work)\n",
    "TRUTHKWARGS = {}\n",
    "\n",
    "BARRIER_FLOOR = 0.25*np.pi\n",
    "BARRIER_HEIGHT = 0.75*np.pi\n",
    "FLOOR_RATIO = 0.4 # matches floor case\n",
    "\n",
    "TRUTHKWARGS[\"OneStepdheight\"] = {\"low\": BARRIER_FLOOR, \n",
    "                                 \"high\": BARRIER_HEIGHT} \n",
    "TRUTHKWARGS[\"OneStepdfloorarea\"] = FLOOR_RATIO \n",
    "\n",
    "prefix_list = ['2019_Jun_1D', '2019_Jun_2D', '2019_Jun_2D_Gssn'] #2019_Jun_1D\n",
    "PATHDICT['pdir'] = './data_v3'\n",
    "loadpath = ''"
   ]
  },
  {
   "cell_type": "code",
   "execution_count": 3,
   "metadata": {
    "collapsed": false
   },
   "outputs": [],
   "source": [
    "# ------------------------------------------------------------------------------\n",
    "# TURN OFF PARAMETER SCANS\n",
    "# ------------------------------------------------------------------------------\n",
    "\n",
    "idx_prevar = 0 \n",
    "# Fix truth configurations\n",
    "meta_truth_floor_scan = [FLOOR_RATIO] # [0.2, 0.4, 0.6, 0.8, 1.0]\n",
    "lowscan = [BARRIER_FLOOR] # np.asarray([0.2]*5)*np.pi\n",
    "highscan = [BARRIER_HEIGHT] # np.asarray([0.2, 0.4, 0.6, 0.8, 1.0])*np.pi\n",
    "truth_step_scan = zip(lowscan, highscan)\n",
    "\n",
    "\n",
    "idx_noise_var = 0 \n",
    "# Fix to noiseless case\n",
    "noiseclasses = ['noiseless'] \n",
    "noisestrengths = [0.0]\n",
    "meta_noisevar_scan = zip(noiseclasses, noisestrengths)\n",
    "\n",
    "# Fix msmt scan - and turn it off!\n",
    "idx_var_dict =0 # only takes lambda scan\n",
    "msmt_per_qubit_scan = [1] # [1, 2, 4, 5, 6, 8, 10, 15, 20, 25, 50]\n",
    "\n",
    "# ------------------------------------------------------------------------------\n",
    "\n",
    "# ------------------------------------------------------------------------------\n",
    "# NEW PARAMETER SCANS\n",
    "# ------------------------------------------------------------------------------\n",
    "\n",
    "meta_max_iter_scan = [ 5, 10, 15, 20, 25, 50, 75, 100, 125, 250]\n",
    "\n",
    "lambda_databse = np.load('./lambda_pairs.npz')\n",
    "lambda1 = list(lambda_databse['lambda_1']) # [0.99, 0.956, 0.922, 0.888, 0.854, 0.820, 0.786, 0.752, 0.718, 0.684, 0.65]\n",
    "lambda2 = list(lambda_databse['lambda_2']) # [0.977, 0.9752, 0.9734, 0.9716, 0.9698, 0.968, 0.9662, 0.9644, 0.9626, 0.9608, 0.959]\n",
    "lambda_scan = zip(lambda1, lambda2)\n",
    "\n",
    "LOOPS_DICT = {\"meta_truth_floor_scan\": meta_truth_floor_scan,\n",
    "              \"meta_max_iter_scan\":meta_max_iter_scan, \n",
    "              \"meta_noisevar_scan\": meta_noisevar_scan,\n",
    "              \"truth_step_scan\": truth_step_scan,\n",
    "              \"lambda_scan\":lambda_scan,\n",
    "              \"msmt_per_qubit_scan\": msmt_per_qubit_scan}\n",
    "\n",
    "ParamUpdater = DataCube(LOOPS_DICT)\n"
   ]
  },
  {
   "cell_type": "markdown",
   "metadata": {},
   "source": [
    "#### Get data filenames"
   ]
  },
  {
   "cell_type": "code",
   "execution_count": 4,
   "metadata": {
    "collapsed": false
   },
   "outputs": [],
   "source": [
    "weightratioslist = []\n",
    "msmtperqubitlist = []\n",
    "\n",
    "for prefix in prefix_list:\n",
    "\n",
    "    regime_ID = prefix + '_n_' + str(idx_noise_var) +'_vset_' + str(idx_var_dict)\n",
    "    datafile = './data_v3/'+'RISK_' + regime_ID +'.npz'\n",
    "\n",
    "    if idx_var_dict == 0:\n",
    "        weightratioslist.append(datafile) \n",
    "#     elif idx_var_dict ==1 :\n",
    "#         msmtperqubitlist.append(datafile)\n",
    "\n",
    "# Data variables\n",
    "max_msmtvar = len(ParamUpdater.meta_max_iter_scan)\n",
    "max_var = max(len(ParamUpdater.lambda_scan), len(ParamUpdater.msmt_per_qubit_scan))"
   ]
  },
  {
   "cell_type": "markdown",
   "metadata": {},
   "source": [
    "# Data Analysis"
   ]
  },
  {
   "cell_type": "code",
   "execution_count": 5,
   "metadata": {
    "collapsed": false
   },
   "outputs": [],
   "source": [
    "THRESHOLD = 0.1\n",
    "max_lambda_var_ =50\n",
    "max_cases = len(weightratioslist)\n",
    "max_msmt_var = len(ParamUpdater.meta_max_iter_scan)\n",
    "metrictype_ = 3 # SSIM\n",
    "metrictypename = 'SSIM'\n",
    "# metrictype_ = 2 # RMS\n",
    "# metrictypename = 'RMS'\n",
    "max_var = len(ParamUpdater.lambda_scan)\n",
    "idx_prevar=0\n",
    "\n",
    "\n",
    "def get_loss_data(filename, idx_prevar, idx_msmt_var, max_lambda_var=50, metrictype=3):\n",
    "    \n",
    "    full_data_matrix = np.load(filename)[\"full_data_matrix\"]    \n",
    "    qslamdata = full_data_matrix[idx_prevar, idx_msmt_var, : max_lambda_var, 0, metrictype] #qslam is the first index\n",
    "    naivedata = full_data_matrix[idx_prevar, idx_msmt_var, : max_lambda_var, 1, metrictype]\n",
    "    index_array = np.argsort(qslamdata)\n",
    "    \n",
    "    return qslamdata, index_array, naivedata\n",
    "\n",
    "\n",
    "def extract_optimal_cases(max_cases,max_msmt_var, max_lambda_var=50, metrictype=3):\n",
    "    \n",
    "    \n",
    "    optimal_matrix = np.zeros((max_cases, max_msmt_var, 3))\n",
    "    naive_matrix = np.zeros((max_cases, max_msmt_var, 2))\n",
    "    optimal_cases = np.zeros((max_cases, max_msmt_var, max_lambda_var))\n",
    "    \n",
    "    for idx_msmt_var in range(max_msmt_var):\n",
    "        \n",
    "        for idx_truth in range(max_cases):\n",
    "            \n",
    "            filename = weightratioslist[idx_truth]\n",
    "            a, index_array, naive = get_loss_data(filename, idx_prevar, idx_msmt_var, \n",
    "                                                  max_lambda_var=max_lambda_var,\n",
    "                                                  metrictype=metrictype)\n",
    "\n",
    "\n",
    "            optimal_matrix[idx_truth, idx_msmt_var, 0] = a[index_array[0]]\n",
    "            optimal_matrix[idx_truth, idx_msmt_var, 1] = lambda1[index_array[0]]\n",
    "            optimal_matrix[idx_truth, idx_msmt_var, 2] = lambda2[index_array[0]]\n",
    "\n",
    "            naive_matrix[idx_truth, idx_msmt_var, 0] = np.mean(naive)\n",
    "            naive_matrix[idx_truth, idx_msmt_var, 1] = np.std(naive)\n",
    "            \n",
    "            truncate = len(index_array)           \n",
    "            optimal_cases[idx_truth, idx_msmt_var, :truncate] = index_array\n",
    "    \n",
    "    return optimal_matrix, naive_matrix, optimal_cases"
   ]
  },
  {
   "cell_type": "code",
   "execution_count": 6,
   "metadata": {
    "collapsed": true
   },
   "outputs": [],
   "source": [
    "oneD_GRIDDICT= {}\n",
    "for idx_posy in range(25):\n",
    "\n",
    "    if idx_posy < 9 :\n",
    "        oneD_GRIDDICT[\"QUBIT_0\" + str(idx_posy + 1)] = ( float(idx_posy), 0.0)\n",
    "\n",
    "    if idx_posy >= 9 :\n",
    "        oneD_GRIDDICT[\"QUBIT_\" + str(idx_posy + 1)] = (float(idx_posy), 0.0)\n",
    "\n"
   ]
  },
  {
   "cell_type": "markdown",
   "metadata": {},
   "source": [
    "# Single Run Maps"
   ]
  },
  {
   "cell_type": "code",
   "execution_count": 11,
   "metadata": {
    "collapsed": false
   },
   "outputs": [
    {
     "data": {
      "image/png": "[encoded data removed]",
      "text/plain": [
       "<matplotlib.figure.Figure at 0x7fad8f94acd0>"
      ]
     },
     "metadata": {},
     "output_type": "display_data"
    },
    {
     "name": "stdout",
     "output_type": "stream",
     "text": [
      "('run chosen', 24)\n"
     ]
    },
    {
     "data": {
      "image/png": "[encoded data removed]",
      "text/plain": [
       "<matplotlib.figure.Figure at 0x7fad8f1f28d0>"
      ]
     },
     "metadata": {},
     "output_type": "display_data"
    },
    {
     "name": "stdout",
     "output_type": "stream",
     "text": [
      "('run chosen', 30)\n"
     ]
    },
    {
     "data": {
      "image/png": "[encoded data removed]",
      "text/plain": [
       "<matplotlib.figure.Figure at 0x7fad8f20c3d0>"
      ]
     },
     "metadata": {},
     "output_type": "display_data"
    },
    {
     "name": "stdout",
     "output_type": "stream",
     "text": [
      "('run chosen', 20)\n"
     ]
    }
   ],
   "source": [
    "savetopath = ''\n",
    "loadpath = ''\n",
    "qax = qPlotter()\n",
    "PICK = [24, 30, 20] # 30 # np.random.randint(low=0, high=50)\n",
    "\n",
    "optimal_matrix, naive_matrix, optimal_cases = extract_optimal_cases(max_cases, max_msmt_var, \n",
    "                                                                    max_lambda_var=max_lambda_var_,\n",
    "                                                                    metrictype=metrictype_)\n",
    "\n",
    "gslayout = gs(3, 9, top = 0.95, bottom =0.05, left = 0.05, right = 0.95, wspace = 0.05, hspace = 0.12)\n",
    "\n",
    "pick_msmt_regimes = [1, 6]\n",
    "\n",
    "idx_pick_key=0\n",
    "for idx_truth in range(len(weightratioslist)):\n",
    "    \n",
    "    fig = plt.figure(figsize=(cm2inch(30),cm2inch(14)))\n",
    "    \n",
    "    if idx_truth == 0:\n",
    "        GRIDDICT_IDX = oneD_GRIDDICT\n",
    "        LINFLAG = True\n",
    "    elif idx_truth != 0:\n",
    "        GRIDDICT_IDX = GRIDDICT\n",
    "        LINFLAG = False\n",
    "\n",
    "    for idx_msmt_regime in range(len(pick_msmt_regimes)):\n",
    "        \n",
    "        idx_msmt_var = pick_msmt_regimes[idx_msmt_regime] # set msmt regime\n",
    "    \n",
    "        filename = weightratioslist[idx_truth]\n",
    "        index_array = get_loss_data(filename, idx_prevar, idx_msmt_var)[1]\n",
    "        \n",
    "        idx_var = index_array[0] # pick optimal lambda for the msmt regime\n",
    "        \n",
    "        regime_ID = prefix_list[idx_truth] + '_n_' + str(idx_noise_var) +'_vset_' + str(idx_var_dict)\n",
    "        testcase_ID = regime_ID + '_t_' + str(idx_prevar) + '_m_' + str(idx_msmt_var)\n",
    "        unique_ID = loadpath + testcase_ID + '_v_' + str(idx_var)\n",
    "        PATHDICT[\"fle\"] = unique_ID\n",
    "        qslamdata = np.load(path_to_file(PATHDICT, flag='q'))\n",
    "        naivedata = np.load(path_to_file(PATHDICT, flag='n'))\n",
    "                \n",
    "        dataobjs = [qslamdata]*2 + [naivedata]\n",
    "        dataviews = ['truth', 'pred_f', 'pred_f']\n",
    "        \n",
    "        ######\n",
    "        # SCORE CALCS\n",
    "        ######\n",
    "        q_truth = qslamdata['macro_true_fstate'][0, PICK[idx_pick_key], :]\n",
    "        n_truth = naivedata['macro_true_fstate'][0, PICK[idx_pick_key], :]\n",
    "        n_pred = naivedata['macro_predictions'][0, PICK[idx_pick_key], :]\n",
    "        q_pred = qslamdata['macro_predictions'][0, PICK[idx_pick_key], :]\n",
    "\n",
    "        q_rms = np.sqrt(np.mean((q_truth - q_pred)**2)) / np.pi\n",
    "        n_rms = np.sqrt(np.mean((n_truth - n_pred)**2)) / np.pi\n",
    "        q_ssim = Metric.score_ssim(q_pred, q_truth)\n",
    "        n_ssim = Metric.score_ssim(n_pred, n_truth)\n",
    "        \n",
    "        rms_list = [0.0, np.round(q_rms, 2), np.round(n_rms, 2)]\n",
    "        ssim_list = [0.0, np.round(q_ssim, 2), np.round(n_ssim, 2)]\n",
    "        \n",
    "\n",
    "        for idx_key in range(3):\n",
    "\n",
    "            ax = 0.\n",
    "            ax = fig.add_subplot(gslayout[idx_key, idx_msmt_regime])\n",
    "            \n",
    "            ax.set_title('MS: %s,\\n SSIM: %s'%(rms_list[idx_key], ssim_list[idx_key]), fontsize=12)\n",
    "            viewtype = dataviews[idx_key]\n",
    "            \n",
    "            if viewtype != 'path':\n",
    "                if viewtype != 'pred_r':\n",
    "                    ax, cax = qax.show_map(ax, dataobjs[idx_key], viewtype, pickone=PICK[idx_pick_key], linear=LINFLAG)\n",
    "                    if idx_key == 1 and idx_msmt_regime == 0 and idx_truth > 0:\n",
    "                        \n",
    "                        ax = qax.show_control_path(ax, dataobjs[idx_key], GRIDDICT_IDX, pickone=PICK[idx_pick_key], \n",
    "                                                   linear=LINFLAG)\n",
    "                        \n",
    "                        \n",
    "#                     if idx_key == 1:\n",
    "                        \n",
    "#                         ax1 = fig.add_subplot(gslayout[idx_key, idx_msmt_regime**2 + 2] )\n",
    "                        \n",
    "#                         ax1 = qax.show_control_path(ax1, dataobjs[idx_key], GRIDDICT_IDX, pickone=PICK[idx_pick_key], \n",
    "#                                                    linear=LINFLAG)\n",
    "#                         ax1.get_yaxis().set_visible(False)\n",
    "#                         ax1.get_xaxis().set_visible(False)\n",
    "#                         for edge, spine in ax1.spines.items():\n",
    "#                             spine.set_visible(False)\n",
    "                        \n",
    "\n",
    "            if viewtype == 'path':\n",
    "                ax = qax.show_control_path(ax, dataobjs[idx_key], GRIDDICT_IDX, pickone=PICK[idx_pick_key])\n",
    "                \n",
    "            if idx_truth ==0:\n",
    "                ax.set_aspect(7)\n",
    "                \n",
    "            # TURN OFF AXIS LABELS\n",
    "            if idx_msmt_regime > 0:\n",
    "                ax.get_yaxis().set_ticklabels([])\n",
    "            #if idx_key == 1:\n",
    "                # ax.get_xaxis().set_ticklabels([])\n",
    "            \n",
    "            \n",
    "    # plt.colorbar(cax, ticks=[0.0, np.pi], format='%0.2f', orientation='horizontal')\n",
    "    plt.savefig('../paperfigs/'+metrictypename+str(idx_truth)+'_rms_demo_v3.svg', format='svg', dpi=800)\n",
    "    plt.show()\n",
    "    \n",
    "    print('run chosen', PICK[idx_pick_key])\n",
    "    idx_pick_key += 1"
   ]
  },
  {
   "cell_type": "code",
   "execution_count": null,
   "metadata": {
    "collapsed": true
   },
   "outputs": [],
   "source": []
  },
  {
   "cell_type": "code",
   "execution_count": null,
   "metadata": {
    "collapsed": true
   },
   "outputs": [],
   "source": []
  }
 ],
 "metadata": {
  "kernelspec": {
   "display_name": "Python 2",
   "language": "python",
   "name": "python2"
  },
  "language_info": {
   "codemirror_mode": {
    "name": "ipython",
    "version": 2
   },
   "file_extension": ".py",
   "mimetype": "text/x-python",
   "name": "python",
   "nbconvert_exporter": "python",
   "pygments_lexer": "ipython2",
   "version": "2.7.13"
  }
 },
 "nbformat": 4,
 "nbformat_minor": 2
}
