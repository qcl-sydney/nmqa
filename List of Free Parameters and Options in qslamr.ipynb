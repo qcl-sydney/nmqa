{
 "cells": [
  {
   "cell_type": "markdown",
   "metadata": {},
   "source": [
    "### List of Free Parameters and Optional Arguments"
   ]
  },
  {
   "cell_type": "markdown",
   "metadata": {},
   "source": [
    "#### Module: `control_action`"
   ]
  },
  {
   "cell_type": "markdown",
   "metadata": {},
   "source": [
    "**number_of_nodes** (`int`| scalar): Number of single qubit measurements that can be simultaneously performed on the hardware grid. In module level function *control_lengthscale_uncertainty*.\n",
    "\n",
    "**controltype** (`str`| optional): Specifies control protocol to be used:\n",
    "\n",
    "    'lenvar' : Calls protocol control_lengthscale_uncertainty.\n",
    "    'userinput' : Returns listofcontrolparameters (no control).\n",
    "Defaults to 'lenvar'. In module level function *controller*."
   ]
  },
  {
   "cell_type": "markdown",
   "metadata": {},
   "source": [
    "#### Module: `hardware`"
   ]
  },
  {
   "cell_type": "markdown",
   "metadata": {},
   "source": [
    "**lambda_factor** (`int` | scalar ): Hyper-parameter governing the rate at which quasi-measuretments are forgotten as physical measurements accumulate. Attribute of `Node` class object. "
   ]
  },
  {
   "cell_type": "markdown",
   "metadata": {},
   "source": [
    "#### Module: `particlesets`"
   ]
  },
  {
   "cell_type": "markdown",
   "metadata": {},
   "source": [
    "** mean_radius ** : Attribute of `BetaParticle` class object.\n",
    "\n",
    "** kernelfunction**(^^args) : choice of kernel in model_design, helper function for `BetaParticle.smear_fj_on_neighbours()`.\n",
    "\n",
    "\n",
    "\n",
    "**pset_beta** : Attribute of `AlphaParticle` class object.\n",
    "\n",
    "** p_set ** : Attribute of `ParticleSet` class object.\n",
    "\n",
    "**p_set^4 threshold** (IF-THEN Conditional): In `ParticleSet.calc_weights_set()` object, the thresholds for avoiding extremely large weights is:\n",
    "\n",
    "    IF new_weight > self.p_set**4: \n",
    "                RESET new_weight = self.p_set**4\n",
    "                \n",
    "** var_r ** | **SIG2_MEASR** : Attribute of `AlphaParticle` class object.\n",
    "    "
   ]
  },
  {
   "cell_type": "markdown",
   "metadata": {},
   "source": [
    "#### Module : `particleweightcalcs`"
   ]
  },
  {
   "cell_type": "markdown",
   "metadata": {
    "collapsed": true
   },
   "source": [
    "**MU_MEASR** (`float`, scalar): In dictionary LIKELIHOOD_ALPHA[\"l_args\"][\"MU_MEASR\"].\n",
    "\n",
    "** var_r ** | **SIG2_MEASR** (`float`, scalar): Parameter in function particleweightcalcs.rho().Parameter in particleweightcalcs.likelihood_func_alpha(). In dictionary LIKELIHOOD_ALPHA[\"l_args\"][\"SIG2_MEASR\"].\n",
    "\n",
    "**mu_f** | **MU_F** (`float`, scalar):  In dictionary LIKELIHOOD_BETA[\"l_args\"][\"mu_f\"]\n",
    "\n",
    "**sigma_f** | ** SIG2_F** (`float`, scalar): In dictionary LIKELIHOOD_BETA[\"l_args\"][\"sigma_f\"]"
   ]
  },
  {
   "cell_type": "markdown",
   "metadata": {
    "collapsed": true
   },
   "source": [
    "#### Module: qslamr"
   ]
  },
  {
   "cell_type": "markdown",
   "metadata": {},
   "source": [
    "** set_init_alphaparticle ** (class method): Set initial conditions (probability distirbutions) for each substate (x,y,f,r). \n",
    "\n",
    "**sample_radii** (class method): Sampling distribution for radii for each iteration, given previous lengthscale estimate r_state. In particular, `previous_length_scale` for a node is not being exploited\n",
    "when geenrating the prior distribution for r_states in  new beta\n",
    "particle generation. \n",
    "\n",
    "\n",
    "**sample_from_transition_dist** (class method) : Transition praobbaility distribution for time-varying states.\n",
    "\n",
    "**resample_thresh** |**INITIALDICT[\"GAMMA_T\"] ** (`float` | scalar) : Adaptive resampling threshold for initiating resampling at every iteration or after only after some threshold is met (e.g particle weight distributions are approaching singularity).\n",
    "\n",
    "**resample_constant_pset_alpha** (class method): How are distributions\n",
    "over beta and alpha layers collapsed in re-sampling. At present, re-sampling to conserve Alpha particle number might be unfairly discarding data trials.\n",
    "\n",
    "** multiple ** (`float` | scalar): Refers to multiple of max grid separation where R_max as the upper bound for the prior on r_states, in static method `ParticleFilter.set_uniform_prior_for_correlation`(list_of_positions, multiple=10)"
   ]
  },
  {
   "cell_type": "code",
   "execution_count": null,
   "metadata": {
    "collapsed": true
   },
   "outputs": [],
   "source": []
  }
 ],
 "metadata": {
  "kernelspec": {
   "display_name": "Python 2",
   "language": "python",
   "name": "python2"
  },
  "language_info": {
   "codemirror_mode": {
    "name": "ipython",
    "version": 2
   },
   "file_extension": ".py",
   "mimetype": "text/x-python",
   "name": "python",
   "nbconvert_exporter": "python",
   "pygments_lexer": "ipython2",
   "version": "2.7.13"
  }
 },
 "nbformat": 4,
 "nbformat_minor": 2
}
