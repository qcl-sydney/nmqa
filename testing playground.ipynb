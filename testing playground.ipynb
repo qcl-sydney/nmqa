{
 "cells": [
  {
   "cell_type": "markdown",
   "metadata": {},
   "source": [
    "#### Testing for colllapsing and expanding trees of particles"
   ]
  },
  {
   "cell_type": "code",
   "execution_count": 1,
   "metadata": {
    "collapsed": false
   },
   "outputs": [],
   "source": [
    "import numpy aclass Beta(object):\n",
    "    \n",
    "    def __init__(self):\n",
    "        self.weight = 1.0\n",
    "        \n",
    "\n",
    "class Alpha(object):\n",
    "    \n",
    "    def __init__(self):\n",
    "        \n",
    "        self.weight = 0.0\n",
    "        self.beta_alpha_tree = None\n",
    "    \n",
    "    def make_beta_tree(self, beta_num):\n",
    "        self.beta_alpha_tree = [Beta() for particle in range(beta_num)]\n",
    "        \n",
    "\n",
    "class Root(object):\n",
    "    \n",
    "    def __init__(self, alpha_num, beta_num):\n",
    "        \n",
    "        self.alpha_list = [Alpha() for particle in range(alpha_num)]\n",
    "        self.alpha_num = alpha_num\n",
    "        self.beta_num = beta_num\n",
    "        \n",
    "    def get_weights(self):\n",
    "        \n",
    "        posteriorweights = []\n",
    "        \n",
    "        counter_a = 0.0\n",
    "        for alpha_particle in self.alpha_list:\n",
    "            \n",
    "            alpha_particle.weight = (1.0 / self.alpha_num) *counter_a\n",
    "            alpha_particle.make_beta_tree(self.beta_num) # makes beta tree\n",
    "            \n",
    "            counter_b=0.0\n",
    "            for beta_particle in alpha_particle.beta_alpha_tree:\n",
    "                beta_particle.weight = (1.0 / self.beta_num) * counter_b\n",
    "                \n",
    "                joint_weight = beta_particle.weight * alpha_particle.weight\n",
    "                \n",
    "                posteriorweights.append([joint_weight])\n",
    "                counter_b +=1.0\n",
    "            \n",
    "            counter_a += 1.0\n",
    "        return posteriorweights\n",
    "    \n",
    "    def set_new_particles(self, resampled_indices):\n",
    "        \n",
    "        new_particles = []\n",
    "        for idx in resampled_indices:\n",
    "            \n",
    "            alpha_index = int(idx//float(self.beta_num))\n",
    "            beta_alpha_index = int(idx - alpha_index*self.beta_num)\n",
    "            \n",
    "            add_new_particle = self.alpha_list[alpha_index].beta_alpha_tree[beta_alpha_index]\n",
    "            \n",
    "            new_particles.append(add_new_particle)\n",
    "        \n",
    "        return new_particles\n",
    "        \n",
    "        \n",
    "        \n",
    "\n",
    "root = Root(3,4)\n",
    "posterior_weights = np.asarray(root.get_weights()).flatten()\n",
    "reshaped_weights = posterior_weights.reshape(root.alpha_num,root.beta_num) \n",
    "resampled_indices = np.floor(np.random.uniform(low=0, high=11, size=12))\n",
    "new_part = root.set_new_particles(resampled_indices)"
   ]
  },
  {
   "cell_type": "code",
   "execution_count": 112,
   "metadata": {
    "collapsed": false
   },
   "outputs": [
    {
     "data": {
      "text/plain": [
       "'HEY'"
      ]
     },
     "execution_count": 112,
     "metadata": {},
     "output_type": "execute_result"
    }
   ],
   "source": [
    "\"HEY\""
   ]
  },
  {
   "cell_type": "code",
   "execution_count": 2,
   "metadata": {
    "collapsed": false
   },
   "outputs": [
    {
     "data": {
      "text/plain": [
       "array([ 0.        ,  0.        ,  0.        ,  0.        ,  0.        ,\n",
       "        0.08333333,  0.16666667,  0.25      ,  0.        ,  0.16666667,\n",
       "        0.33333333,  0.5       ])"
      ]
     },
     "execution_count": 2,
     "metadata": {},
     "output_type": "execute_result"
    }
   ],
   "source": [
    "posterior_weights"
   ]
  },
  {
   "cell_type": "code",
   "execution_count": 3,
   "metadata": {
    "collapsed": false
   },
   "outputs": [
    {
     "data": {
      "text/plain": [
       "array([  7.,   4.,   6.,  10.,   1.,   3.,   0.,   2.,   9.,   4.,   0.,\n",
       "         7.])"
      ]
     },
     "execution_count": 3,
     "metadata": {},
     "output_type": "execute_result"
    }
   ],
   "source": [
    "resampled_indices"
   ]
  },
  {
   "cell_type": "code",
   "execution_count": 104,
   "metadata": {
    "collapsed": false
   },
   "outputs": [
    {
     "name": "stdout",
     "output_type": "stream",
     "text": [
      "3\n",
      "4.5\n"
     ]
    }
   ],
   "source": [
    "n = 3\n",
    "print n\n",
    "n *= 1.5\n",
    "print n"
   ]
  },
  {
   "cell_type": "code",
   "execution_count": 111,
   "metadata": {
    "collapsed": false
   },
   "outputs": [
    {
     "name": "stdout",
     "output_type": "stream",
     "text": [
      "[1]\n",
      "[0, 1]\n",
      "[0, 1, 2]\n"
     ]
    }
   ],
   "source": [
    "sufficient_sample=False\n",
    "num_of_samples=1\n",
    "while sufficient_sample is False:\n",
    "    num_of_samples *=2 # exponentially growing search \n",
    "    resample_index = np.random.uniform(low=0, high=10, size=num_of_samples)\n",
    "    unique_alphas = list(set([get_alpha_node_from_treeleaf(leafy, pset_beta) for leafy in resample_index]))\n",
    "    print unique_alphas\n",
    "    if len(unique_alphas) == pset_alpha:\n",
    "        sufficient_sample = True"
   ]
  },
  {
   "cell_type": "code",
   "execution_count": 6,
   "metadata": {
    "collapsed": false
   },
   "outputs": [
    {
     "name": "stdout",
     "output_type": "stream",
     "text": [
      "[0.75, 0.0, 0.5, 0.5, 0.25, 0.75, 0.0, 0.5, 0.25, 0.0, 0.0, 0.75]\n"
     ]
    }
   ],
   "source": [
    "weights = [nx.weight for nx in new_part]\n",
    "print weights"
   ]
  },
  {
   "cell_type": "code",
   "execution_count": 97,
   "metadata": {
    "collapsed": false
   },
   "outputs": [],
   "source": [
    "def get_subtrees(self, resampled_indices):\n",
    "    '''docstring'''\n",
    "    \n",
    "    new_sub_trees = []\n",
    "    \n",
    "    resampled_indices.sort()\n",
    "    alpha_index_0 = None\n",
    "    strt_counter=0\n",
    "    end_counter=0\n",
    "\n",
    "    for idx in resampled_indices:\n",
    "\n",
    "        alpha_index = get_alpha_node_from_treeleaf(idx, self.beta_num)\n",
    "        beta_alpha_idx = get_beta_node_from_treeleaf(idx, self.beta_num)\n",
    "\n",
    "        if alpha_index_0 == alpha_index:\n",
    "            end_counter +=1\n",
    "            \n",
    "        elif alpha_index_0 != alpha_index:\n",
    "\n",
    "            new_sub_trees.append([strt_counter, end_counter])\n",
    "            \n",
    "            alpha_index_0 = alpha_index\n",
    "            strt_counter = end_counter\n",
    "            end_counter += 1\n",
    "    \n",
    "    if end_counter == len(resampled_indices):\n",
    "        end_counter += 1\n",
    "        new_sub_trees.append([strt_counter, end_counter])\n",
    "    \n",
    "    return new_sub_trees\n",
    "            \n",
    "\n",
    "def collapse_beta(self, new_sub_trees, resampled_indices, pset_beta):\n",
    "    \n",
    "    state_update = 0.\n",
    "    \n",
    "    new_alpha_particle_list=[]\n",
    "    for pairs in new_sub_trees:\n",
    "        \n",
    "        subtree = resampled_indices[pairs[0]:pairs[1]]\n",
    "        leaf_count = float(len(subtree))\n",
    "        normaliser = (1./leaf_count)\n",
    "        \n",
    "        alpha_node = get_alpha_node_from_treeleaf(pairs[0], pset_beta)\n",
    "        beta_alpha_nodes = [get_beta_node_from_treeleaf(leafy, pset_beta) for leafy in subtree]\n",
    "        \n",
    "        for node in beta_alpha_nodes:\n",
    "            beta_state = self.AlphaSet[alpha_node].Beta_Alpha_j[node].particle\n",
    "            beta_lengthscale = beta_state[self.AlphaSet[alpha_node].node_j]\n",
    "            len_scale_update += normaliser*beta_lengthscale\n",
    "            \n",
    "        parent = self.AlphaSet[alpha_node].particle \n",
    "        parent[self.AlphaSet[alpha_node].node_j] = len_scale_update\n",
    "        \n",
    "        # Beta Layer Collapsed\n",
    "        self.AlphaSet[alpha_node].particle = parent\n",
    "        self.AlphaSet[alpha_node].BetaAlphaSet_j = None\n",
    "    \n",
    "        # New Alphas Stored\n",
    "        new_alpha_particle.append(self.AlphaSet[alpha_node])\n",
    "    \n",
    "    return new_alpha_particle_list\n",
    "            \n",
    "        \n",
    "@staticmethod\n",
    "def get_alpha_node_from_treeleaf(leaf_index, pset_beta):\n",
    "    alpha_node = int(leaf_index//float(pset_beta))\n",
    "    return alpha_node\n",
    "\n",
    "@staticmethod\n",
    "def get_beta_node_from_treeleaf(leaf_index, pset_beta):\n",
    "    beta_node = int(leaf_index - int(leaf_index//float(pset_beta))*pset_beta)\n",
    "    return beta_node"
   ]
  },
  {
   "cell_type": "code",
   "execution_count": 98,
   "metadata": {
    "collapsed": false
   },
   "outputs": [
    {
     "name": "stdout",
     "output_type": "stream",
     "text": [
      "Under the same alpha, we get:  (0, 0)\n",
      "Under the same alpha, we get:  (0, 0)\n",
      "Under the same alpha, we get:  (0, 1)\n",
      "Under the same alpha, we get:  (0, 2)\n",
      "Under the same alpha, we get:  (0, 3)\n",
      "NEW alpha pair, we get:  (1, 0)\n",
      "Under the same alpha, we get:  (1, 0)\n",
      "Under the same alpha, we get:  (1, 2)\n",
      "Under the same alpha, we get:  (1, 3)\n",
      "Under the same alpha, we get:  (1, 3)\n",
      "NEW alpha pair, we get:  (2, 1)\n",
      "Under the same alpha, we get:  (2, 2)\n",
      "calc last pair\n",
      "[[0, 5], [5, 10], [10, 13]]\n",
      "[0, 5]\n",
      "[5, 10]\n",
      "[10, 13]\n"
     ]
    }
   ],
   "source": [
    "subtrees = get_subtrees(resampled_indices)\n",
    "print subtrees\n",
    "for idx in subtrees:\n",
    "    print idx"
   ]
  },
  {
   "cell_type": "code",
   "execution_count": 99,
   "metadata": {
    "collapsed": false
   },
   "outputs": [
    {
     "name": "stdout",
     "output_type": "stream",
     "text": [
      "alpha subtree 0\n",
      "beta leaves [0, 0, 1, 2, 3]\n",
      "alpha subtree 1\n",
      "beta leaves [0, 0, 2, 3, 3]\n",
      "alpha subtree 2\n",
      "beta leaves [1, 2]\n"
     ]
    }
   ],
   "source": [
    "collapse_beta(subtrees, resampled_indices)"
   ]
  },
  {
   "cell_type": "code",
   "execution_count": 79,
   "metadata": {
    "collapsed": false
   },
   "outputs": [
    {
     "name": "stdout",
     "output_type": "stream",
     "text": [
      " [[0, 5], [5, 10], [10, 13]]\n",
      "\n",
      "\n",
      "pair [0, 5]\n",
      "\n",
      "slice for the pair [ 0.  0.  1.  2.  3.]\n",
      "\n",
      "\n",
      "pair [5, 10]\n",
      "\n",
      "slice for the pair [ 4.  4.  6.  7.  7.]\n",
      "\n",
      "\n",
      "pair [10, 13]\n",
      "\n",
      "slice for the pair [  9.  10.]\n",
      "\n",
      "\n"
     ]
    }
   ],
   "source": [
    "print subtrees\n",
    "print\n",
    "print\n",
    "\n",
    "for pairs in subtrees:\n",
    "    print \"pair\", pairs\n",
    "    print\n",
    "    print \"slice for the pair\", \n",
    "    print\n",
    "    print"
   ]
  },
  {
   "cell_type": "code",
   "execution_count": 53,
   "metadata": {
    "collapsed": false
   },
   "outputs": [
    {
     "name": "stdout",
     "output_type": "stream",
     "text": [
      "Under the same alpha, we get:  (0, 0)\n",
      "Under the same alpha, we get:  (0, 0)\n",
      "Under the same alpha, we get:  (0, 1)\n",
      "Under the same alpha, we get:  (0, 2)\n",
      "Under the same alpha, we get:  (0, 3)\n",
      "NEW alpha pair, we get:  (1, 0)\n",
      "Under the same alpha, we get:  (1, 0)\n",
      "Under the same alpha, we get:  (1, 2)\n",
      "Under the same alpha, we get:  (1, 3)\n",
      "Under the same alpha, we get:  (1, 3)\n",
      "NEW alpha pair, we get:  (2, 1)\n",
      "Under the same alpha, we get:  (2, 2)\n"
     ]
    },
    {
     "data": {
      "text/plain": [
       "[[(0, 6)], [(3, 11)]]"
      ]
     },
     "execution_count": 53,
     "metadata": {},
     "output_type": "execute_result"
    }
   ],
   "source": [
    "collapse_beta(resampled_indices)"
   ]
  },
  {
   "cell_type": "code",
   "execution_count": 19,
   "metadata": {
    "collapsed": false
   },
   "outputs": [
    {
     "name": "stdout",
     "output_type": "stream",
     "text": [
      "Under the same alpha, we get:  (0, 0)\n",
      "Under the same alpha, we get:  (0, 0)\n",
      "Under the same alpha, we get:  (0, 1)\n",
      "Under the same alpha, we get:  (0, 2)\n",
      "Under the same alpha, we get:  (0, 3)\n",
      "NEW alpha pair, we get:  (1, 0)\n",
      "Under the same alpha, we get:  (1, 0)\n",
      "Under the same alpha, we get:  (1, 2)\n",
      "Under the same alpha, we get:  (1, 3)\n",
      "Under the same alpha, we get:  (1, 3)\n",
      "NEW alpha pair, we get:  (2, 1)\n",
      "Under the same alpha, we get:  (2, 2)\n"
     ]
    }
   ],
   "source": [
    "collapse_beta(resampled_indices)"
   ]
  },
  {
   "cell_type": "markdown",
   "metadata": {},
   "source": [
    "####  >> Extracting alpha, beta particles that have been resampled"
   ]
  },
  {
   "cell_type": "code",
   "execution_count": 10,
   "metadata": {
    "collapsed": false
   },
   "outputs": [
    {
     "name": "stdout",
     "output_type": "stream",
     "text": [
      "the following is a start end pair: (0, 0)\n",
      "indices extracted []\n",
      "resetting pairs...\n",
      "\n",
      "\n",
      "the following is a start end pair: (0, 2)\n",
      "indices extracted [ 0.  0.]\n",
      "resetting pairs...\n",
      "\n",
      "\n",
      "the following is a start end pair: (2, 3)\n",
      "indices extracted [ 1.]\n",
      "resetting pairs...\n",
      "\n",
      "\n",
      "the following is a start end pair: (3, 4)\n",
      "indices extracted [ 2.]\n",
      "resetting pairs...\n",
      "\n",
      "\n",
      "the following is a start end pair: (4, 5)\n",
      "indices extracted [ 3.]\n",
      "resetting pairs...\n",
      "\n",
      "\n",
      "the following is a start end pair: (5, 7)\n",
      "indices extracted [ 4.  4.]\n",
      "resetting pairs...\n",
      "\n",
      "\n",
      "the following is a start end pair: (7, 8)\n",
      "indices extracted [ 6.]\n",
      "resetting pairs...\n",
      "\n",
      "\n",
      "the following is a start end pair: (8, 10)\n",
      "indices extracted [ 7.  7.]\n",
      "resetting pairs...\n",
      "\n",
      "\n",
      "the following is a start end pair: (10, 11)\n",
      "indices extracted [ 9.]\n",
      "resetting pairs...\n",
      "\n",
      "\n",
      "the last pair is (11, 12)\n",
      "indices extracted [ 10.]\n"
     ]
    }
   ],
   "source": [
    "'''\n",
    "each resampled index represents an (alpha, beta) particle\n",
    "a repeated index means that the same (alpha, beta) particle is repeated\n",
    "\n",
    "we want to \n",
    "\n",
    "--> go to each tree\n",
    "--> delete beta particles under every alpha\n",
    "--> add beta particles if they are resampled more than once\n",
    "--> take the posterior lenthscale for each alpha\n",
    "---> replace the posterior lengthscale for that alpha\n",
    "---> replace all the alpha particles with resampled values\n",
    "---> how do we conserve alpha particle number?\n",
    "\n",
    "\n",
    "each row in reshaped indices is a alpha particle, elemtns of the row are beta leaves in the original tree\n",
    "\n",
    "'''\n",
    "\n",
    "strt = 0\n",
    "end = 0\n",
    "resampled_indices.sort()\n",
    "\n",
    "for idx in range(len(resampled_indices)):\n",
    "\n",
    "    if resampled_indices[idx] == resampled_indices[idx-1]:\n",
    "            end += 1\n",
    "\n",
    "    elif resampled_indices[idx] != resampled_indices[idx-1]:\n",
    "        print \"the following is a start end pair:\", (strt, end)\n",
    "        print \"indices extracted\", resampled_indices[strt: end]\n",
    "        print \"resetting pairs...\"\n",
    "        strt = idx\n",
    "        end = idx +1\n",
    "        print\n",
    "        print\n",
    "\n",
    "    if idx == len(resampled_indices)-1:\n",
    "        end = idx + 1\n",
    "        print \"the last pair is\", (strt, end)\n",
    "        print \"indices extracted\", resampled_indices[strt: end]"
   ]
  },
  {
   "cell_type": "markdown",
   "metadata": {},
   "source": [
    "#### Testing the index extraction for alpha, beta coordinates from a flattened ordered array"
   ]
  },
  {
   "cell_type": "code",
   "execution_count": null,
   "metadata": {
    "collapsed": false
   },
   "outputs": [],
   "source": [
    "import numpy as np \n",
    "posterior_weights = np.asarray(root.get_weights()).flatten()\n",
    "reshaped_weights = posterior_weights.reshape(root.alpha_num,root.beta_num) # view of the original array\n",
    "print reshaped_weights"
   ]
  },
  {
   "cell_type": "code",
   "execution_count": null,
   "metadata": {
    "collapsed": false
   },
   "outputs": [],
   "source": [
    "posterior_weights[-1] = 0.5\n",
    "print posterior_weights"
   ]
  },
  {
   "cell_type": "code",
   "execution_count": null,
   "metadata": {
    "collapsed": false
   },
   "outputs": [],
   "source": [
    "indices = np.arange(root.alpha_num * root.beta_num)\n",
    "print indices.reshape(root.alpha_num,root.beta_num)"
   ]
  },
  {
   "cell_type": "code",
   "execution_count": null,
   "metadata": {
    "collapsed": false
   },
   "outputs": [],
   "source": [
    "resampled_indices = np.floor(np.random.uniform(low=0, high=11, size=12))"
   ]
  },
  {
   "cell_type": "code",
   "execution_count": null,
   "metadata": {
    "collapsed": false,
    "scrolled": false
   },
   "outputs": [],
   "source": [
    "print \"for every alpha, there are %s beta particles\" %(root.beta_num)\n",
    "print \n",
    "print\n",
    "\n",
    "for idx in resampled_indices:\n",
    "    print \"the index is\", idx\n",
    "    dev = idx//float(root.beta_num)\n",
    "    print \"Integer division is\", dev\n",
    "    print \"Did we select the row containing indices?\" , indices.reshape(root.alpha_num,root.beta_num)[dev, :]\n",
    "    col = idx - dev*root.beta_num\n",
    "    print \"predict col index as\", col\n",
    "    print \"recover the resampled index\", indices.reshape(root.alpha_num,root.beta_num)[dev, int(col)]\n",
    "    print\n",
    "    "
   ]
  },
  {
   "cell_type": "markdown",
   "metadata": {},
   "source": [
    "#### Testing for copy and view effects when using assignments for class atrtributes and properties"
   ]
  },
  {
   "cell_type": "code",
   "execution_count": null,
   "metadata": {
    "collapsed": true
   },
   "outputs": [],
   "source": [
    "class AttributeClass(object):\n",
    "    \n",
    "    def __init__(self):\n",
    "        \n",
    "        self.__some_attribute = 0.0\n",
    "        \n",
    "    @property\n",
    "    def some_attribute(self):\n",
    "        return self.__some_attribute\n",
    "    @some_attribute.setter\n",
    "    def some_attribute(self, new_attr_val):\n",
    "        self.__some_attribute = new_attr_val\n",
    "    "
   ]
  },
  {
   "cell_type": "code",
   "execution_count": null,
   "metadata": {
    "collapsed": false
   },
   "outputs": [],
   "source": [
    "test_attribute = AttributeClass()\n",
    "print test_attribute\n",
    "print test_attribute.some_attribute\n",
    "type(test_attribute.some_attribute)"
   ]
  },
  {
   "cell_type": "code",
   "execution_count": null,
   "metadata": {
    "collapsed": false
   },
   "outputs": [],
   "source": [
    "b = test_attribute.some_attribute # assign to b\n",
    "print \"orginal b =\", b # check b\n",
    "b = 3.0 # assign some other value to b\n",
    "print \"new b=\", b # check b\n",
    "print \"orginal attribute=\", test_attribute.some_attribute # check attribute"
   ]
  },
  {
   "cell_type": "code",
   "execution_count": null,
   "metadata": {
    "collapsed": false
   },
   "outputs": [],
   "source": [
    "b = test_attribute.some_attribute # assign to b\n",
    "print \"orginal b =\", b # check b\n",
    "test_attribute.some_attribute = 3.0 # assign some other value to attribute\n",
    "print \"new attribute=\", test_attribute.some_attribute # check attribute\n",
    "print \" (should be orginal) b=\", b # check b"
   ]
  },
  {
   "cell_type": "markdown",
   "metadata": {},
   "source": [
    "#### Testing how to pass dictionaries of dictionaries and functions into class arguments"
   ]
  },
  {
   "cell_type": "code",
   "execution_count": null,
   "metadata": {
    "collapsed": false
   },
   "outputs": [],
   "source": [
    "class Test:\n",
    "    \n",
    "    def __init__(self, **DICT):\n",
    "        \n",
    "        self.dict = DICT\n",
    "        pass\n",
    "\n",
    "    \n",
    "    def calc_weights_set(self):\n",
    "        \n",
    "        self.dict[\"function\"](0, **self.dict[\"args\"])"
   ]
  },
  {
   "cell_type": "code",
   "execution_count": null,
   "metadata": {
    "collapsed": false
   },
   "outputs": [],
   "source": [
    "def cat_func(num, **args):\n",
    "    print num\n",
    "    for key in args.keys():\n",
    "        print (key, args[key])"
   ]
  },
  {
   "cell_type": "code",
   "execution_count": null,
   "metadata": {
    "collapsed": false
   },
   "outputs": [],
   "source": [
    "inputdict = {\"function\": cat_func, \"args\": {\"shifter\": \"ok\", \"uli\":\"great\"} }"
   ]
  },
  {
   "cell_type": "code",
   "execution_count": null,
   "metadata": {
    "collapsed": false
   },
   "outputs": [],
   "source": [
    "testobj = Test(**inputdict)"
   ]
  },
  {
   "cell_type": "code",
   "execution_count": null,
   "metadata": {
    "collapsed": false
   },
   "outputs": [],
   "source": [
    "print testobj.dict.keys()\n",
    "print testobj.dict[\"args\"].values()"
   ]
  },
  {
   "cell_type": "code",
   "execution_count": null,
   "metadata": {
    "collapsed": false
   },
   "outputs": [],
   "source": [
    "type(testobj.dict[\"args\"].values())"
   ]
  },
  {
   "cell_type": "code",
   "execution_count": null,
   "metadata": {
    "collapsed": false
   },
   "outputs": [],
   "source": [
    "testobj.calc_weights_set()"
   ]
  },
  {
   "cell_type": "markdown",
   "metadata": {},
   "source": [
    "#### Testing for functions to calculate the maximal pairwise distance from a set of values"
   ]
  },
  {
   "cell_type": "code",
   "execution_count": null,
   "metadata": {
    "collapsed": true
   },
   "outputs": [],
   "source": [
    "list_pos = [(0.0, 0.0), (1.0, 0.0), (2.0, 0.0), (5.0, 3.0)]"
   ]
  },
  {
   "cell_type": "code",
   "execution_count": null,
   "metadata": {
    "collapsed": false
   },
   "outputs": [],
   "source": [
    "import numpy as np\n",
    "\n",
    "def compute_dist(one_pair):\n",
    "    x, y = one_pair\n",
    "    return np.sqrt((x[0] - y[0])**2 + (x[1] - y[1])**2 )\n",
    "\n",
    "def find_max_distance(list_of_positions):\n",
    "    distance_pairs = [a_pair for a_pair in combinations(list_of_positions,2)]\n",
    "    distances = [compute_dist(one_pair)for one_pair in distance_pairs]\n",
    "    return max(distances), distance_pairs[np.argmax(distances)]\n",
    "\n"
   ]
  },
  {
   "cell_type": "code",
   "execution_count": null,
   "metadata": {
    "collapsed": true
   },
   "outputs": [],
   "source": []
  }
 ],
 "metadata": {
  "kernelspec": {
   "display_name": "Python 2",
   "language": "python",
   "name": "python2"
  },
  "language_info": {
   "codemirror_mode": {
    "name": "ipython",
    "version": 2
   },
   "file_extension": ".py",
   "mimetype": "text/x-python",
   "name": "python",
   "nbconvert_exporter": "python",
   "pygments_lexer": "ipython2",
   "version": "2.7.13"
  }
 },
 "nbformat": 4,
 "nbformat_minor": 2
}
