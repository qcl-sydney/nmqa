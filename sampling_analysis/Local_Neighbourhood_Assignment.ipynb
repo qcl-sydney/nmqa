{
 "cells": [
  {
   "cell_type": "code",
   "execution_count": 1,
   "metadata": {},
   "outputs": [],
   "source": [
    "import numpy as np\n",
    "import sys\n",
    "import matplotlib.pyplot as plt\n",
    "\n",
    "########################\n",
    "# Find qslam modules\n",
    "########################\n",
    "sys.path.append('../qslam/')\n",
    "sys.path.append('../paduaq/')\n",
    "\n",
    "from hardware import Node\n",
    "from visualiserisk import cm2inch, HEATMAP\n",
    "from riskanalysis import EngineeredTruth\n",
    "from true_functions import true_function, generate_data_qubits_coords"
   ]
  },
  {
   "cell_type": "code",
   "execution_count": 2,
   "metadata": {},
   "outputs": [
    {
     "data": {
      "image/png": "[encoded data removed]",
      "text/plain": [
       "<Figure size 62.3622x62.3622 with 1 Axes>"
      ]
     },
     "metadata": {},
     "output_type": "display_data"
    },
    {
     "data": {
      "image/png": "[encoded data removed]",
      "text/plain": [
       "<Figure size 62.3622x62.3622 with 1 Axes>"
      ]
     },
     "metadata": {},
     "output_type": "display_data"
    },
    {
     "data": {
      "image/png": "[encoded data removed]",
      "text/plain": [
       "<Figure size 62.3622x62.3622 with 1 Axes>"
      ]
     },
     "metadata": {},
     "output_type": "display_data"
    },
    {
     "data": {
      "image/png": "[encoded data removed]",
      "text/plain": [
       "<Figure size 62.3622x62.3622 with 1 Axes>"
      ]
     },
     "metadata": {},
     "output_type": "display_data"
    }
   ],
   "source": [
    "# Add an extra case corresponding to simple assignment\n",
    "\n",
    "data_qubits = generate_data_qubits_coords(25, flag='uniform')\n",
    "sensing_qubits = [(x, 0.75) for x in [-0.75, 0.25, 1.0]] + [(x, -0.25) for x in [-0.75, 0.25, 1.0]]\n",
    "sensing_qubits += [(x, -1.) for x in [-0.75, 0.25, 1.0]]\n",
    "sensing_qubits =  np.asarray(sensing_qubits[::-1])\n",
    "\n",
    "# Create sensing grids for each of the 4 orientations\n",
    "sensing_qubit_rot0 = np.asarray([sensing_qubits[:, 0], sensing_qubits[:, 1]])\n",
    "sensing_qubit_rot1 = np.asarray([sensing_qubits[:, 0], -sensing_qubits[:, 1]])\n",
    "sensing_qubit_rot2 = np.asarray([-sensing_qubits[:, 0], sensing_qubits[:, 1]])\n",
    "sensing_qubit_rot3 = np.asarray([-sensing_qubits[:, 0], -sensing_qubits[:, 1]])\n",
    "\n",
    "SENSING_LIST = [sensing_qubit_rot0, sensing_qubit_rot1, sensing_qubit_rot2, sensing_qubit_rot3]\n",
    "GROUP_0, GROUP_1, GROUP_2, GROUP_3 =  {}, {}, {}, {}\n",
    "GROUP_LIST = [GROUP_0, GROUP_1, GROUP_2, GROUP_3]\n",
    "\n",
    "for idx_rotation in range(4):\n",
    "    \n",
    "    for idx in range(9):\n",
    "\n",
    "        item = SENSING_LIST[idx_rotation][:, idx]\n",
    "        GROUP_LIST[idx_rotation]['('+str(item[0])+', '+str(item[1])+')'] = []\n",
    "\n",
    "    plt.figure(figsize=(cm2inch(2.2),cm2inch(2.2)))\n",
    "\n",
    "    plt.plot(np.asarray(data_qubits)[:,0],np.asarray(data_qubits)[:,1], '.',\n",
    "             markeredgecolor='darkgrey', \n",
    "             markerfacecolor='darkgrey',\n",
    "             label=\"Data Qubits\", ms=4, alpha=.5)\n",
    "\n",
    "    plt.plot(SENSING_LIST[idx_rotation][0,:],  SENSING_LIST[idx_rotation][1, :], '.',\n",
    "             markeredgecolor='darkred', \n",
    "             markerfacecolor='darkred',\n",
    "             label=\"Sensor Qubits\", ms=4, alpha=0.5)\n",
    "\n",
    "    plt.xticks([])\n",
    "    plt.yticks([])\n",
    "    plt.savefig('data_figs/LocalNeighborhoodAssignment_GridRot_'+str(idx_rotation)+'.svg', format='svg', dpi=400)\n",
    "    plt.show()\n",
    "\n",
    "    \n",
    "GROUP_0['(-0.75, -0.25)'] = [5, 6, 10, 11]\n",
    "GROUP_0['(1.0, -0.25)']=[9, 14]\n",
    "GROUP_0['(1.0, 0.75)']=[ 19, 24]\n",
    "GROUP_0['(-0.75, 0.75)']=[15, 16, 20, 21]\n",
    "GROUP_0['(1.0, -1.0)']=[4]\n",
    "GROUP_0['(0.25, 0.75)']=[17, 18, 22, 23]\n",
    "GROUP_0['-0.75, -1.0']=[0, 1]\n",
    "GROUP_0['(0.25, -1.0)']=[2,3]\n",
    "GROUP_0['(0.25, -0.25)']=[7,8,12,13]\n",
    "\n",
    "GROUP_1['(-0.75, 0.25)']=[10, 11, 15, 16]\n",
    "GROUP_1['(-0.75, 1.0)']=[20, 21]\n",
    "GROUP_1['(1.0, 0.25)']=[14, 19]\n",
    "GROUP_1['(1.0, 1.0)']=[24]\n",
    "GROUP_1['(0.25, 1.0)']=[22, 23]\n",
    "GROUP_1['(-0.75, -0.75)']=[0, 1, 5, 6]\n",
    "GROUP_1['(0.25, -0.75)']=[2,3, 7,8]\n",
    "GROUP_1['(0.25, 0.25)']=[12, 14, 17, 18]\n",
    "GROUP_1['(1.0, -0.75)']=[4, 9]\n",
    "\n",
    "GROUP_2['(-0.25, -0.25)']=[6, 7, 11, 12]\n",
    "GROUP_2['(-1.0, -0.25)']=[5,10]\n",
    "GROUP_2['(-1.0, -1.0)']=[0]\n",
    "GROUP_2['(-0.25, 0.75)']=[16, 17, 21, 22]\n",
    "GROUP_2['(-0.25, -1.0)']=[1, 2]\n",
    "GROUP_2['(-1.0, 0.75)']=[15, 20]\n",
    "GROUP_2['(0.75, 0.75)']=[18, 19, 23, 24]\n",
    "GROUP_2['(0.75, -0.25)']=[8, 9, 13, 14]\n",
    "GROUP_2['(0.75, -1.0)']=[3, 4]\n",
    "\n",
    "GROUP_3['(-0.25, -0.75)']=[1, 2, 6, 7]\n",
    "GROUP_3['(-0.25, 0.25)']=[11, 12, 16, 17]\n",
    "GROUP_3['(0.75, -0.75)']=[3, 4, 8, 9]\n",
    "GROUP_3['(-1.0, -0.75)']=[0, 5]\n",
    "GROUP_3['(-1.0, 0.25)']=[10, 15] \n",
    "GROUP_3['(-1.0, 1.0)']=[20]\n",
    "GROUP_3['(-0.25, 1.0)']=[21, 22]\n",
    "GROUP_3['(0.75, 0.25)']=[13, 14, 18, 19]\n",
    "GROUP_3['(0.75, 1.0)']=[23, 24]"
   ]
  },
  {
   "cell_type": "code",
   "execution_count": 3,
   "metadata": {},
   "outputs": [],
   "source": [
    "def simple_assignment_map(empirical_estimate, \n",
    "                          all_qubit_locations,\n",
    "                          sensing_qubits, \n",
    "                          GROUP_ASSIGNMENT_DICT):\n",
    "    \n",
    "    for idx_sensor in sensing_qubits:\n",
    "        \n",
    "        \n",
    "        coords = all_qubit_locations[idx_sensor]\n",
    "        neighbours = GROUP_ASSIGNMENT_DICT[str(coords)] \n",
    "        \n",
    "#         print \"For sensor index:\", idx_sensor,\"and coords\", coords\n",
    "        \n",
    "        for idx_neighbour in neighbours:\n",
    "            \n",
    "            idx_data_qubit = idx_neighbour + len(sensing_qubits)\n",
    "#             print \"----> assigning neighbour:\", idx_data_qubit, \" with coords\", all_qubit_locations[idx_data_qubit]\n",
    "#             print \"------------ the value of:\", empirical_estimate[idx_sensor]\n",
    "#             print \"------------ replacing previous value:\", empirical_estimate[idx_data_qubit]\n",
    "            \n",
    "            empirical_estimate[idx_data_qubit] = empirical_estimate[idx_sensor]\n",
    "    \n",
    "    return empirical_estimate"
   ]
  },
  {
   "cell_type": "code",
   "execution_count": 4,
   "metadata": {},
   "outputs": [],
   "source": [
    "class SimpleAssignmentEstimator(object):\n",
    "    '''\n",
    "    Computes expected value of estimated map error using simple assignment strategy.\n",
    "    Simulated measurements generated from an EngineeredTruth instance.\n",
    "\n",
    "    Attributes:\n",
    "    -----------\n",
    "    msmt_per_node (`dtype` | scalar int):\n",
    "        Number of measurements per qubit per iteration before information is\n",
    "            exchanged with neighbours.\n",
    "    numofnodes (`dtype` | scalar int):\n",
    "        Total number of qubit locations.\n",
    "    max_num_iterations (`dtype` | scalar int):\n",
    "        Max number of iterations for a qslam algorithm.\n",
    "        A single control directive corressponds to one iteration.\n",
    "    truth_generator (`dtype` | RealData class instance):\n",
    "        A EngineeredTruth class object instance.\n",
    "    empirical_estimate (`dtype` | numpy array):\n",
    "        Reconstructed map using simple assignment strategy.\n",
    "        Dims: numofnodes.\n",
    "\n",
    "\n",
    "    Class Methods:\n",
    "    --------------\n",
    "    total_msmt_budget : Return total msmt budget given algorithm configurations.\n",
    "    get_empirical_est : Return reconstructed map from Naive measurement strategy.\n",
    "    '''\n",
    "    def __init__(self,\n",
    "                 TRUTHKWARGS,\n",
    "                 msmt_per_node=1,\n",
    "                 numofnodes=25,\n",
    "                 data_qubits_indicies=None, \n",
    "                 intepolationflag='simple_assignment',\n",
    "                 max_num_iterations=None):\n",
    "        \n",
    "        self.msmt_per_node = msmt_per_node\n",
    "        self.numofnodes = numofnodes\n",
    "        self.max_num_iterations = max_num_iterations\n",
    "        self.truth_generator = EngineeredTruth(self.numofnodes, TRUTHKWARGS)\n",
    "\n",
    "        # PADUA\n",
    "        self.data_qubits_indicies = data_qubits_indicies\n",
    "        self.intepolationflag = intepolationflag\n",
    "        self.all_qubit_locations = None\n",
    "        if self.intepolationflag is not None:\n",
    "            self.all_qubit_locations = self.truth_generator.TRUTHKWARGS[\"all_qubit_locations\"]\n",
    "\n",
    "        self.empirical_estimate = None\n",
    "\n",
    "        self.__total_msmt_budget = self.msmt_per_node * self.max_num_iterations\n",
    "\n",
    "    @property\n",
    "    def total_msmt_budget(self):\n",
    "        return self.msmt_per_node * self.max_num_iterations\n",
    "    \n",
    "    def get_empirical_est(self, GROUP_ASSIGNMENT_DICT):\n",
    "\n",
    "        phase_map = self.truth_generator.get_map()\n",
    "\n",
    "        num_of_sensing_nodes = self.numofnodes\n",
    "        \n",
    "        sensing_qubits = np.arange(num_of_sensing_nodes)\n",
    "        \n",
    "        if self.data_qubits_indicies is not None:\n",
    "            sensing_qubits = np.asarray(list(set(sensing_qubits) - set(self.data_qubits_indicies)))\n",
    "            num_of_sensing_nodes = len(sensing_qubits)\n",
    "\n",
    "        mask = np.zeros(self.numofnodes, dtype=bool) # Mask for hiding all values.\n",
    "        if num_of_sensing_nodes <= self.max_num_iterations:\n",
    "\n",
    "            if self.max_num_iterations / num_of_sensing_nodes == self.msmt_per_node:\n",
    "                mask[sensing_qubits] = True\n",
    "            if self.max_num_iterations / num_of_sensing_nodes != self.msmt_per_node:\n",
    "                self.msmt_per_node = int(self.total_msmt_budget / num_of_sensing_nodes)\n",
    "                mask[sensing_qubits] = True\n",
    "\n",
    "        if num_of_sensing_nodes > self.max_num_iterations:\n",
    "            randomly_choose = np.random.choice(sensing_qubits, self.max_num_iterations, replace=False)\n",
    "            mask[randomly_choose] = True\n",
    "\n",
    "        # Final set of qubits that are measured under a Naive Approach\n",
    "        final_measured_qubits = np.arange(self.numofnodes)[mask]\n",
    "        self.empirical_estimate = np.ones(self.numofnodes) * np.random.random_sample(size=1) * np.pi\n",
    "\n",
    "        for idx_node in final_measured_qubits:\n",
    "\n",
    "            single_shots = [Node.quantiser(Node.born_rule(phase_map[idx_node])) for idx_shot in range(self.msmt_per_node)]\n",
    "            self.empirical_estimate[idx_node] = Node.inverse_born(np.mean(np.asarray(single_shots, dtype=float)))\n",
    "\n",
    "        # Add interpolation for unmeasured data qubits.\n",
    "        if self.data_qubits_indicies is not None and self.intepolationflag is not None:\n",
    "\n",
    "            f_data =  self.empirical_estimate[sensing_qubits]\n",
    "            data_points = np.asarray([self.all_qubit_locations[idx_point] for idx_point in sensing_qubits])\n",
    "            test_points = np.asarray([self.all_qubit_locations[idx_point] for idx_point in self.data_qubits_indicies])\n",
    "            \n",
    "            if isinstance(self.intepolationflag, str): \n",
    "                \n",
    "                if self.intepolationflag == 'simple_assignment':\n",
    "                    \n",
    "                    self.empirical_estimate = simple_assignment_map(self.empirical_estimate, \n",
    "                                                                    self.all_qubit_locations,\n",
    "                                                                    sensing_qubits, \n",
    "                                                                    GROUP_ASSIGNMENT_DICT) \n",
    "        return self.empirical_estimate, phase_map"
   ]
  },
  {
   "cell_type": "code",
   "execution_count": 5,
   "metadata": {},
   "outputs": [],
   "source": [
    "TRUTHKWARGS = {}\n",
    "TRUTHKWARGS[\"truthtype\"] = \"UseFunction\"\n",
    "TRUTHKWARGS[\"true_function\"] = true_function\n",
    "Multiples = [1, 3, 5, 7, 9, 10, 15, 20, 50]\n",
    "NUM_SENSING_NODES = 9\n",
    "NUM_DATA_NODES = 25\n",
    "num_of_nodes = NUM_DATA_NODES + NUM_SENSING_NODES\n",
    "data_qubits_indicies=np.arange(num_of_nodes)[NUM_SENSING_NODES: ]\n",
    "interpolation_flag='simple_assignment'\n",
    "trials=50\n",
    "truth_types = ['franke', 'lin', 'cheb2fun', 'franke_2']\n",
    "estimated_map_matrix = np.zeros((len(truth_types), len(Multiples), trials, num_of_nodes))\n",
    "residuals_err_matrix = np.zeros((len(truth_types), len(Multiples), trials, num_of_nodes))"
   ]
  },
  {
   "cell_type": "code",
   "execution_count": 7,
   "metadata": {
    "scrolled": false
   },
   "outputs": [
    {
     "data": {
      "image/png": "[encoded data removed]",
      "text/plain": [
       "<Figure size 1944x216 with 10 Axes>"
      ]
     },
     "metadata": {
      "needs_background": "light"
     },
     "output_type": "display_data"
    },
    {
     "data": {
      "image/png": "[encoded data removed]",
      "text/plain": [
       "<Figure size 1944x216 with 10 Axes>"
      ]
     },
     "metadata": {
      "needs_background": "light"
     },
     "output_type": "display_data"
    },
    {
     "data": {
      "image/png": "[encoded data removed]",
      "text/plain": [
       "<Figure size 1944x216 with 10 Axes>"
      ]
     },
     "metadata": {
      "needs_background": "light"
     },
     "output_type": "display_data"
    },
    {
     "data": {
      "image/png": "[encoded data removed]",
      "text/plain": [
       "<Figure size 1944x216 with 10 Axes>"
      ]
     },
     "metadata": {
      "needs_background": "light"
     },
     "output_type": "display_data"
    }
   ],
   "source": [
    "for idx_rotation in [0]:\n",
    "    \n",
    "    GROUP_ORIENTATION = GROUP_LIST[idx_rotation]\n",
    "    \n",
    "    SENSING_GRID_ORIENTATION = [tuple(item) for item in SENSING_LIST[idx_rotation].T]  \n",
    "    TRUTHKWARGS[\"all_qubit_locations\"] = SENSING_GRID_ORIENTATION + data_qubits\n",
    "    \n",
    "\n",
    "    for idx_truth in range(len(truth_types)):\n",
    "\n",
    "        true_function_type = truth_types[idx_truth]\n",
    "\n",
    "        TRUTHKWARGS[\"true_function_type\"] = true_function_type\n",
    "\n",
    "        fig, axes = plt.subplots(1,len(Multiples) + 1, figsize=(len(Multiples)*3, 3))\n",
    "\n",
    "        fig.suptitle(true_function_type)\n",
    "\n",
    "        for idx_msmt_var in range(len(Multiples)):    \n",
    "\n",
    "            max_num_iterations= NUM_SENSING_NODES * Multiples[idx_msmt_var]\n",
    "\n",
    "            for idx_run in range(trials):\n",
    "\n",
    "                test_object = SimpleAssignmentEstimator(TRUTHKWARGS,\n",
    "                                                        msmt_per_node=1,\n",
    "                                                        numofnodes=num_of_nodes,\n",
    "                                                        data_qubits_indicies=data_qubits_indicies,\n",
    "                                                        intepolationflag=interpolation_flag,\n",
    "                                                        max_num_iterations=max_num_iterations)\n",
    "\n",
    "                estimated_vals, phase_map = test_object.get_empirical_est(GROUP_ORIENTATION)\n",
    "\n",
    "                estimated_map_matrix[idx_truth, idx_msmt_var, idx_run, : ] = estimated_vals\n",
    "                residuals_err_matrix[idx_truth, idx_msmt_var, idx_run, : ] = estimated_vals - phase_map\n",
    "\n",
    "            axes[idx_msmt_var].imshow(estimated_vals[NUM_SENSING_NODES :].reshape(5,5), **HEATMAP)\n",
    "            axes[idx_msmt_var].set_title(\"%s x\" %(Multiples[idx_msmt_var]))\n",
    "\n",
    "        axes[-1].imshow(phase_map[NUM_SENSING_NODES:].reshape(5,5),**HEATMAP)\n",
    "\n",
    "        plt.show()\n",
    "\n",
    "    np.savez('Local_Neighbourhood_Assignment_orientation_'+str(idx_rotation)+'.npz', \n",
    "             estimated_map_matrix=estimated_map_matrix, \n",
    "             residuals_err_matrix=residuals_err_matrix)"
   ]
  },
  {
   "cell_type": "code",
   "execution_count": null,
   "metadata": {},
   "outputs": [],
   "source": []
  }
 ],
 "metadata": {
  "kernelspec": {
   "display_name": "Python 2",
   "language": "python",
   "name": "python2"
  },
  "language_info": {
   "codemirror_mode": {
    "name": "ipython",
    "version": 2
   },
   "file_extension": ".py",
   "mimetype": "text/x-python",
   "name": "python",
   "nbconvert_exporter": "python",
   "pygments_lexer": "ipython2",
   "version": "2.7.16"
  }
 },
 "nbformat": 4,
 "nbformat_minor": 2
}
