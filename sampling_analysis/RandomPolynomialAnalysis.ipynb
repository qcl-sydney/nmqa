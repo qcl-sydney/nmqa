{
 "cells": [
  {
   "cell_type": "code",
   "execution_count": null,
   "metadata": {},
   "outputs": [],
   "source": [
    "import numpy as np, sys\n",
    "from scipy.special import binom\n",
    "import matplotlib.pyplot as plt\n",
    "\n",
    "########################\n",
    "# Find qslam modules\n",
    "########################\n",
    "sys.path.append('../qslam/')\n",
    "sys.path.append('../paduaq/')\n",
    "\n",
    "from visualiserisk import cm2inch, HEATMAP\n",
    "from true_functions import generate_data_qubits_coords\n",
    "from pdinter_MM import pd_interpolant, calc_padua_cgl\n",
    "\n",
    "from randpoly import scale_shift_polynomial as rp_rescale\n",
    "from randpoly import dims_coeffcients as rp_dims\n",
    "from randpoly import random_coeffients as rp_randcoeff"
   ]
  },
  {
   "cell_type": "code",
   "execution_count": null,
   "metadata": {},
   "outputs": [],
   "source": [
    "def get_qubits(order, data_qubit_num = 25, data_qubit_flag ='uniform'):\n",
    "\n",
    "    '''Return geometries (regular or Padua) for sensor qubits on unit square'''\n",
    "    # Sensor-qubits in Padua formation\n",
    "\n",
    "    if order > 0:\n",
    "        sensing_qubits = calc_padua_cgl(order)[0]\n",
    "\n",
    "    # No data-qubits, basic analysis\n",
    "\n",
    "    if order == -1:\n",
    "        sensing_qubits = generate_data_qubits_coords(data_qubit_num,\n",
    "                                              flag=data_qubit_flag)\n",
    "\n",
    "    # Sensor-qubits in regular (non-Padua) formation\n",
    "\n",
    "    if order == -2:\n",
    "        FINEGRID = 81\n",
    "        sensing_qubits = generate_data_qubits_coords(FINEGRID, flag=data_qubit_flag)\n",
    "\n",
    "    if order == -3:\n",
    "        COARSEGRID = 16\n",
    "        sensing_qubits = generate_data_qubits_coords(COARSEGRID, flag=data_qubit_flag)\n",
    "\n",
    "        # Re-position grid inside square region\n",
    "        sensing_qubits = list(np.asarray(sensing_qubits) * 0.75)\n",
    "\n",
    "    if order == -4:\n",
    "        REG4 = 4\n",
    "        sensing_qubits = generate_data_qubits_coords(REG4, flag=data_qubit_flag)\n",
    "        sensing_qubits = list(np.asarray(sensing_qubits) * 0.75)\n",
    "\n",
    "    if order == -5:\n",
    "        REG9 = 9\n",
    "        sensing_qubits = generate_data_qubits_coords(REG9, flag=data_qubit_flag)\n",
    "        sensing_qubits = list(np.asarray(sensing_qubits) * 0.75)\n",
    "\n",
    "    if order == -6:\n",
    "        REG36 = 36\n",
    "        sensing_qubits = generate_data_qubits_coords(REG36, flag=data_qubit_flag)\n",
    "\n",
    "    if order == -7:\n",
    "        # specific grid to address random polynomial functionality\n",
    "        sensing_qubits = generate_data_qubits_coords(25, flag=data_qubit_flag)\n",
    "        sensing_qubits = list(np.asarray(sensing_qubits)*0.75)\n",
    "\n",
    "    return sensing_qubits\n",
    "\n"
   ]
  },
  {
   "cell_type": "raw",
   "metadata": {},
   "source": [
    "# Activate code below to regenerate data base of random polynomials\n",
    "\n",
    "trials = 200\n",
    "m=2\n",
    "data_qubits = generate_data_qubits_coords(25, flag='uniform')\n",
    "HEATMAP['origin']='upper'\n",
    "GRID_ORDER = [-4, -5, -3, -7, -2, 1, 2, 3, 4, 5, 6, 7, 8, 9, 10]\n",
    "\n",
    "allnodes = data_qubits\n",
    "for order in GRID_ORDER:\n",
    "    allnodes += get_qubits(order)\n",
    "\n",
    "for n in [1, 2, 3, 4, 5, 6, 7, 8, 9, 10]:\n",
    "    \n",
    "    dims = rp_dims(n,m)\n",
    "    \n",
    "    uniquepoly = np.zeros((dims + 2, trials))\n",
    "    \n",
    "    for idx_trial in range(trials):\n",
    "   \n",
    "        uniquepoly[2:, idx_trial] = rp_randcoeff(n, m, mval=2.)\n",
    "        uniquepoly[0:2, idx_trial] = rp_rescale(allnodes, n, uniquepoly[2:, idx_trial])\n",
    "    \n",
    "    np.savez('./data/scaledrandpoly_n_'+str(n)+'.npz', uniquepoly=uniquepoly)\n",
    "    "
   ]
  },
  {
   "cell_type": "code",
   "execution_count": 2,
   "metadata": {},
   "outputs": [],
   "source": [
    "!python data_generator_v5_padua_v_rbf.py 1 6\n",
    "!python data_generator_v5_padua_v_rbf.py 2 6\n",
    "!python data_generator_v5_padua_v_rbf.py 3 6\n",
    "!python data_generator_v5_padua_v_rbf.py 4 6\n",
    "!python data_generator_v5_padua_v_rbf.py 5 6\n",
    "!python data_generator_v5_padua_v_rbf.py 6 6\n",
    "!python data_generator_v5_padua_v_rbf.py 7 6\n",
    "!python data_generator_v5_padua_v_rbf.py 8 6\n",
    "!python data_generator_v5_padua_v_rbf.py 9 6\n",
    "!python data_generator_v5_padua_v_rbf.py 10 6"
   ]
  },
  {
   "cell_type": "code",
   "execution_count": null,
   "metadata": {},
   "outputs": [],
   "source": [
    "!python data_generator_v5_padua_v_rbf.py -2 5\n",
    "!python data_generator_v5_padua_v_rbf.py -3 5\n",
    "!python data_generator_v5_padua_v_rbf.py -4 5\n",
    "!python data_generator_v5_padua_v_rbf.py -5 5\n",
    "!python data_generator_v5_padua_v_rbf.py -6 5\n",
    "!python data_generator_v5_padua_v_rbf.py -7 5"
   ]
  },
  {
   "cell_type": "code",
   "execution_count": null,
   "metadata": {},
   "outputs": [],
   "source": [
    "!python data_generator_v5_padua_v_rbf.py 1 5\n",
    "!python data_generator_v5_padua_v_rbf.py 2 5\n",
    "!python data_generator_v5_padua_v_rbf.py 3 5\n",
    "!python data_generator_v5_padua_v_rbf.py 4 5\n",
    "!python data_generator_v5_padua_v_rbf.py 5 5\n",
    "!python data_generator_v5_padua_v_rbf.py 6 5\n",
    "!python data_generator_v5_padua_v_rbf.py 7 5\n",
    "!python data_generator_v5_padua_v_rbf.py 8 5\n",
    "!python data_generator_v5_padua_v_rbf.py 9 5\n",
    "!python data_generator_v5_padua_v_rbf.py 10 5"
   ]
  },
  {
   "cell_type": "code",
   "execution_count": null,
   "metadata": {},
   "outputs": [],
   "source": []
  }
 ],
 "metadata": {
  "kernelspec": {
   "display_name": "Python 2",
   "language": "python",
   "name": "python2"
  },
  "language_info": {
   "codemirror_mode": {
    "name": "ipython",
    "version": 2
   },
   "file_extension": ".py",
   "mimetype": "text/x-python",
   "name": "python",
   "nbconvert_exporter": "python",
   "pygments_lexer": "ipython2",
   "version": "2.7.16"
  }
 },
 "nbformat": 4,
 "nbformat_minor": 2
}
