{
 "cells": [
  {
   "cell_type": "markdown",
   "metadata": {},
   "source": [
    "## SLAM-Particle Filter for Qubits under Dephasing"
   ]
  },
  {
   "cell_type": "markdown",
   "metadata": {},
   "source": [
    "The purpose of this workbook is to apply *qslam* to infer a uniform dephasing noise field from single-qubit Ramsey measurements performed on a grid of qubits.\n",
    "\n",
    "First, we import the relevant packages"
   ]
  },
  {
   "cell_type": "code",
   "execution_count": null,
   "metadata": {
    "collapsed": true
   },
   "outputs": [],
   "source": [
    "import sys, os\n",
    "sys.path.append('../')\n",
    "from qslam.preamble import *"
   ]
  },
  {
   "cell_type": "markdown",
   "metadata": {},
   "source": [
    "#### Physical Device \n",
    "We assume that a physical device consists of a fixed grid of qubits. The location of a qubit on the grid is known and described in terms of grid-coordinates. For example, we specify a 5x5. grid of 20 qubits below: "
   ]
  },
  {
   "cell_type": "code",
   "execution_count": null,
   "metadata": {
    "collapsed": true
   },
   "outputs": [],
   "source": [
    "x_grid=5\n",
    "y_grid=5\n",
    "devicegrid = [x_grid, y_grid] # only square grids for now"
   ]
  },
  {
   "cell_type": "markdown",
   "metadata": {},
   "source": [
    "#### True Dephasing\n",
    "\n",
    "We now create a  dephasing noise field over this grid. In simulation, at each grid point, we define the derivative of the phase noise field that needs to be inferred using single qubit measurements:"
   ]
  },
  {
   "cell_type": "code",
   "execution_count": null,
   "metadata": {
    "collapsed": true
   },
   "outputs": [],
   "source": [
    "somemap_ = np.ones((x_grid, y_grid))*np.pi*0.8 # uniform map, should yield Ramsey measurements 0 more frequently than 1\n",
    "truth = TrueMap(m_vals=somemap_)"
   ]
  },
  {
   "cell_type": "markdown",
   "metadata": {},
   "source": [
    "#### Control Positions and Scan Ranges\n",
    "\n",
    "Next, we want to set up a measurement protocol. In code, this means we specify the sequence in which qubits are made available for a sensing measurement. We call these 'controls' as one can imagine that the availbility of qubits on the grid is analogous to telling a 'robot' where to go next in a SLAM framework. "
   ]
  },
  {
   "cell_type": "code",
   "execution_count": null,
   "metadata": {
    "collapsed": false
   },
   "outputs": [],
   "source": [
    "controls = [(2, 2, 2.)]*3 \n",
    "print(\"Control sequence will take measurements at the following locations:\")\n",
    "print [(idx[0], idx[1]) for idx in controls]"
   ]
  },
  {
   "cell_type": "markdown",
   "metadata": {},
   "source": [
    "Why is there a third parameter in each control? The third parameter refers to how measurement information at a location (x,y) is \"blurred\" over the neighbours of (x,y). This is called a 'scan range' - a correlation length that spreads information under the assumption that dephasing noise fields are continuously varying in space. For the controls above, the scan ranges are:"
   ]
  },
  {
   "cell_type": "code",
   "execution_count": null,
   "metadata": {
    "collapsed": false
   },
   "outputs": [],
   "source": [
    "print(\"Control sequence will blurr information to nearest neighbours within a correlation length:\")\n",
    "print [(idx[2]) for idx in controls]"
   ]
  },
  {
   "cell_type": "markdown",
   "metadata": {},
   "source": [
    "As more measurements are taken, a histogram of qubit measurements at each location is the sample-estimate of the true Born probability of observing a '1' on the qubit, and hence can be used to infer the dephasing noise field. However, we want to minimise the amount of measurements taken, and 'blurring' a data point over its neighbours allows us to use 'quasi-measurement' information to infer true dephasing noise. "
   ]
  },
  {
   "cell_type": "markdown",
   "metadata": {},
   "source": [
    "#### Initiating SLAM using a Particle Filter"
   ]
  },
  {
   "cell_type": "markdown",
   "metadata": {},
   "source": [
    "The true state being estimated is the qubit state under a dephasing noise field, namely, we wish to estimate and track the derivative of the phase noise field and compare it to the true map specified for the device.\n",
    "\n",
    "qslam has been implemented as a particle filter to accomodate non-linear system descriptions and to accomodate the quasi-measurement (blurring) feature. A particle filter requires the user to specify the total number of particles used to approximate the probability distribution (posterior) describing the true state of the system. Changing the number of particles in a particle filter improves the variance on the true state estimates - for a test run with uniform dephasing, it's sufficient to get true state estimates with only 1 particle."
   ]
  },
  {
   "cell_type": "code",
   "execution_count": null,
   "metadata": {
    "collapsed": true
   },
   "outputs": [],
   "source": [
    "particle_num=1"
   ]
  },
  {
   "cell_type": "markdown",
   "metadata": {},
   "source": [
    "The SLAM framework is initiated for a given device as follows:"
   ]
  },
  {
   "cell_type": "code",
   "execution_count": null,
   "metadata": {
    "collapsed": false
   },
   "outputs": [],
   "source": [
    "slamize = ParticleFilter(num_p=particle_num, localgridcoords_=devicegrid)"
   ]
  },
  {
   "cell_type": "markdown",
   "metadata": {},
   "source": [
    "The code above sets up a particle filter SLAM framework. \n",
    "\n",
    "In this framework:\n",
    "\n",
    "1. Phyiscal Device :: *devicegrid* :: defined by grid coordinates; a qubit sits on each grid node. Currently only square grids considered. \n",
    "2. Sensing Qubit :: *globalbot* :: defined as a **robot**, with a **map** and **scanner**. Robot positions are given as grid coordinates; availability of a sensing qubit is modelled as the movement of a robot from one location to another, specified by *controls* (perfectly). Scanner makes a single physical measurement at a location; then uses the physical measurement to generate a number of quasi-measurements over its nearest neighbours. Physical and quasi measurements are passed on the particle filter. (We assumes that only one sensing qubit is available on the grid at any given time.) The map of the Sensing Qubit is updated using only physical measurements (no quasi-msmts are used).  \n",
    "3. Particle Filter :: *single particle* :: defined as a **robot**, with a **map**, and a one-step-ahead **predictor**. Robot (particle) position is inherited from the Sensing Qubit. Particle map and predictor are used to make one-step ahead predictions at the current location and its nearest neighbours. This predicted region is compared with physical msmt and quasi measurement data from the Sensing Qubit. The residuals over the entire region are used to calculate a weight (likelihood) for the robot (particle). \n",
    "4. Particle Filter :: *posterior map* :: returns posterior map. State information is combined across particles - such that a highly likely particles contribute more information to the overall posterior. \n",
    "\n",
    "The above framework is completely general. Note that initiation only requires the user to specify the number of particles."
   ]
  },
  {
   "cell_type": "markdown",
   "metadata": {},
   "source": [
    "#### Running qslam\n",
    "\n",
    "We run qslam using the *qslam_run* method, for a simulated dephasing noise map and a given control path:"
   ]
  },
  {
   "cell_type": "code",
   "execution_count": null,
   "metadata": {
    "collapsed": true
   },
   "outputs": [],
   "source": [
    "%%timeit\n",
    "slamize.qslam_run(truth, controls) # predictions function can't handle rectangular grids"
   ]
  },
  {
   "cell_type": "markdown",
   "metadata": {},
   "source": [
    "#### Results\n",
    "\n",
    "The key check for any simulation is that the map of Sensing Qubit (*globalbot*, based on physical measurements) and posterior map of Particle Filter are identical in the limit of infinite measurements and zero quasi-measurement scan range. \n",
    "\n",
    "For finite, minimal measurements, quasi-measurement data allows particle filter to infer map faster.\n",
    "\n",
    "Below, we plot the residual squared error maps (not RMS) for (a) globalbot and (b) posterior map from the particle filter, with respect to the true maps. Both should converge to zero error for infinite measurements, but the rate of convergence should be faster for (b). "
   ]
  },
  {
   "cell_type": "code",
   "execution_count": null,
   "metadata": {
    "collapsed": true
   },
   "outputs": [],
   "source": [
    "# Global Bot\n",
    "sample_born_est = np.asarray([slamize.particles[0].get_phase_method(val) for val in slamize.global_bot.r_questbk.flatten()]).reshape(x_grid,y_grid)\n",
    "resid_globalbot = (truth - sample_born_est)**2\n",
    "\n",
    "# Particle Map\n",
    "for idx in range(particle_num):\n",
    "    posterior += (1./particle_num)*slamize.particles[idx].m_vals\n",
    "resid_globalbot = (truth - posterior)**2\n"
   ]
  },
  {
   "cell_type": "markdown",
   "metadata": {
    "collapsed": false,
    "scrolled": false
   },
   "source": [
    "'''\n",
    "TEST SCRIPT\n",
    "\n",
    "Type: Module testing\n",
    "Original Script: slampf.py\n",
    "Class: slampf.py\n",
    "Methods: ALL\n",
    "Details: Test slam output for single particle, single control, uniform map \n",
    "Outcome: SUCCESSFUL\n",
    "\n",
    "1. Particle maps aren't updating  - FIXED\n",
    "2. The guestbook for each particle is updating twice on each real msmt - FIXED\n",
    "3. Add extended print statements to probe single particle, single control SLAM - DONE\n",
    "\n",
    "Theory Qns: \n",
    "1. Are we doing better than randomly measuring qubits on the grid?\n",
    "2. Is the likelihood function correct?\n",
    "3. What is the threshold to stop the algorithm?\n",
    "4. What happens if we average over the same region again and again? Do we lose info by averaging using the scanner?\n",
    "5. What if we visit a qubit and it's four neighbours? Does the averaging process give us more or less info? \n",
    "6. For (5), is there a combination of physical and quasi msmts that are optimal? \n",
    "7. How does increasing the number of particles reduce state variance? Where does it flatline?\n",
    "8. How do we compare global_bot, particle map and true maps?\n",
    "9. Why does the particle map differentiate significantly from n=3 to n=4 msmts at the same spot (why not n=2)?\n",
    "10. Need an extra control parameter to control the Gaussian blurring function. \n",
    "At the moment, the correlation length and the variance for the blur are the same. \n",
    "But the blurring kernel (and its hyperparams) should be tuned independently. \n",
    "11. Gaussian blurring needs to change (either by incorporating global_bot / reducing avergaing as more real data is avail)\n",
    "\n",
    "\n",
    "\n",
    "'''\n",
    "\n",
    "As measurements increase, the scan ranges can be reduced such that quasi-measurements have a lesser impact on the inference procedure compared to actual measurements. This diminsishing scan-range functionality has not yet been implemented\n",
    "\n",
    "In fact, the treatment of re-observation in standard SLAM (such that all features become correlated over time) is displaced by the need for quasi-measurements in our application.  This means that the simultaneous mapping and localisation benefits that accrue from re-observing map features - are not being utilised.This is a key question that needs to be explored with more care.\n",
    "\n",
    "\n",
    "Extensions (not implemented):\n",
    "\n",
    " - Every particle in the particle filter should have a randomised scan range, and the weighting procedure should pick out the most relevant scan range based on the likelihood function\n",
    " - Define what it means to \"re-observe\" a map feature in SLAM for this application - is there any benefit to doing SLAM?\n",
    " - Change the likelihood function based on second paper\n",
    " - Jitter in dephasing noise map ==> model this as imperfect knoweldge of robot position on the grid.\n",
    " - Time domain dynamics of map ==> add a temporal AR process to evolve the map at each time step\n",
    " "
   ]
  },
  {
   "cell_type": "code",
   "execution_count": null,
   "metadata": {
    "collapsed": false,
    "scrolled": false
   },
   "outputs": [],
   "source": [
    "with suppress_stdout():\n",
    "    slamize.qslam_run(dunk, loopcontrols)"
   ]
  },
  {
   "cell_type": "code",
   "execution_count": null,
   "metadata": {
    "collapsed": false
   },
   "outputs": [],
   "source": [
    "'''From a Single Posterior State Particle'''\n",
    "print slamize.particles[0].r_questbk"
   ]
  },
  {
   "cell_type": "code",
   "execution_count": null,
   "metadata": {
    "collapsed": false
   },
   "outputs": [],
   "source": [
    "'''From Global Bot (Scanner)'''\n",
    "print slamize.global_bot.r_guestbk_counter\n",
    "print slamize.global_bot.r_questbk"
   ]
  },
  {
   "cell_type": "code",
   "execution_count": null,
   "metadata": {
    "collapsed": false
   },
   "outputs": [],
   "source": [
    "'''Compare True Maps to Maps from Particle (Quasi and Physical Msmts) and Global Bot (Physical)'''\n",
    "print \"True Map\"\n",
    "print map_\n",
    "print\n",
    "print \"Particle Map\"\n",
    "print slamize.particles[0].m_vals\n",
    "print \n",
    "print \"Global Bot Map\"\n",
    "inferred_m_vals = np.asarray([slamize.particles[0].get_phase_method(val) for val in slamize.global_bot.r_questbk.flatten()]).reshape(5,5)\n",
    "print inferred_m_vals\n",
    "\n",
    "\n",
    "'''\n",
    "Notes\n",
    "1. Where the bot has NOT physically visited (off control path), global_bot.m_vals == pi and partcicles[i].m_vals == 0 are equivalent\n",
    "2. For zero correlation length in the control path, both maps should be the same\n",
    "3. For physically measured qubits, both maps should be the same asympotically as long thigns are \"continuous\"\n",
    "\n",
    "'''"
   ]
  },
  {
   "cell_type": "code",
   "execution_count": null,
   "metadata": {
    "collapsed": false
   },
   "outputs": [],
   "source": [
    "x = np.linspace(0,1,100)\n",
    "y = np.arccos(2.0*x - 1.)\n",
    "plt.plot()\n",
    "plt.plot(x,y)\n",
    "plt.xlabel('Prob')\n",
    "plt.ylabel('Phase (rad)')\n",
    "plt.show()"
   ]
  },
  {
   "cell_type": "code",
   "execution_count": null,
   "metadata": {
    "collapsed": false
   },
   "outputs": [],
   "source": [
    "R1=1.42\n",
    "R2=5\n",
    "x = np.linspace(0,5,1000)\n",
    "y1 = np.exp(-(x)**2 / 2.0*(1./(R1 + 1e-14))**2)\n",
    "y2 = np.exp(-(x)**2 / 2.0*(1./(R2 + 1e-14))**2)\n",
    "plt.plot()\n",
    "plt.plot(x,y1, 'k',label='Short R='+str(R1))\n",
    "plt.plot(x, y2, 'b', label='Long R='+str(R2))\n",
    "plt.xlabel('Separation')\n",
    "plt.ylabel('Correlation')\n",
    "plt.legend(loc=0)\n",
    "plt.show()"
   ]
  },
  {
   "cell_type": "code",
   "execution_count": null,
   "metadata": {
    "collapsed": true
   },
   "outputs": [],
   "source": []
  },
  {
   "cell_type": "code",
   "execution_count": 3,
   "metadata": {
    "collapsed": false
   },
   "outputs": [],
   "source": [
    "import numpy as np\n",
    "missing_data = np.nan?"
   ]
  },
  {
   "cell_type": "code",
   "execution_count": 5,
   "metadata": {
    "collapsed": false
   },
   "outputs": [
    {
     "name": "stdout",
     "output_type": "stream",
     "text": [
      "nan\n"
     ]
    }
   ],
   "source": [
    "missing_data = np.nan_to_num?\n",
    "print missing_data"
   ]
  },
  {
   "cell_type": "code",
   "execution_count": 13,
   "metadata": {
    "collapsed": true
   },
   "outputs": [],
   "source": [
    "missing_data = np.nan*np.zeros((5,5))\n",
    "missing_data[2,2] = 2."
   ]
  },
  {
   "cell_type": "code",
   "execution_count": 15,
   "metadata": {
    "collapsed": false
   },
   "outputs": [
    {
     "data": {
      "text/plain": [
       "array([[ 0.,  0.,  0.,  0.,  0.],\n",
       "       [ 0.,  0.,  0.,  0.,  0.],\n",
       "       [ 0.,  0.,  4.,  0.,  0.],\n",
       "       [ 0.,  0.,  0.,  0.,  0.],\n",
       "       [ 0.,  0.,  0.,  0.,  0.]])"
      ]
     },
     "execution_count": 15,
     "metadata": {},
     "output_type": "execute_result"
    }
   ],
   "source": [
    "np.nan_to_num(missing_data**2)"
   ]
  },
  {
   "cell_type": "code",
   "execution_count": null,
   "metadata": {
    "collapsed": true
   },
   "outputs": [],
   "source": []
  }
 ],
 "metadata": {
  "kernelspec": {
   "display_name": "Python 2",
   "language": "python",
   "name": "python2"
  },
  "language_info": {
   "codemirror_mode": {
    "name": "ipython",
    "version": 2
   },
   "file_extension": ".py",
   "mimetype": "text/x-python",
   "name": "python",
   "nbconvert_exporter": "python",
   "pygments_lexer": "ipython2",
   "version": "2.7.13"
  }
 },
 "nbformat": 4,
 "nbformat_minor": 2
}
