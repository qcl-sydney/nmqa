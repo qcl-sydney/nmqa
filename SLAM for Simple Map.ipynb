{
 "cells": [
  {
   "cell_type": "code",
   "execution_count": 18,
   "metadata": {
    "collapsed": false,
    "scrolled": false
   },
   "outputs": [],
   "source": [
    "'''\n",
    "TEST SCRIPT\n",
    "\n",
    "Type: Module testing\n",
    "Original Script: slampf.py\n",
    "Class: slampf.py\n",
    "Methods: ALL\n",
    "Details: Test slam output for single particle, single control, uniform map \n",
    "Outcome: SUCCESSFUL\n",
    "\n",
    "1. Particle maps aren't updating  - FIXED\n",
    "2. The guestbook for each particle is updating twice on each real msmt - FIXED\n",
    "3. Add extended print statements to probe single particle, single control SLAM - DONE\n",
    "\n",
    "Theory Qns: \n",
    "1. Are we doing better than randomly measuring qubits on the grid?\n",
    "2. Is the likelihood function correct?\n",
    "3. What is the threshold to stop the algorithm?\n",
    "4. What happens if we average over the same region again and again? Do we lose info by averaging using the scanner?\n",
    "5. What if we visit a qubit and it's four neighbours? Does the averaging process give us more or less info? \n",
    "6. For (5), is there a combination of physical and quasi msmts that are optimal? \n",
    "7. How does increasing the number of particles reduce state variance? Where does it flatline?\n",
    "8. How do we compare global_bot, particle map and true maps?\n",
    "'''\n",
    "\n",
    "import sys, os\n",
    "import numpy as np\n",
    "import matplotlib.pyplot as plt \n",
    "sys.path.append('../')\n",
    "from qslam.slampf import ParticleFilter\n",
    "from qslam.mapping import TrueMap\n",
    "from contextlib import contextmanager\n",
    "\n",
    "@contextmanager\n",
    "def suppress_stdout():\n",
    "    with open(os.devnull, \"w\") as devnull:\n",
    "        old_stdout = sys.stdout\n",
    "        sys.stdout = devnull\n",
    "        try:  \n",
    "            yield\n",
    "        finally:\n",
    "            sys.stdout = old_stdout\n",
    "\n",
    "###############################################################################\n",
    "# TESTS \n",
    "###############################################################################\n",
    "\n",
    "slamize = ParticleFilter(num_p=1, localgridcoords_=[5,5])\n",
    "map_ = np.ones((5,5))*np.pi*0.75\n",
    "dunk = TrueMap(m_vals=map_)\n",
    "controls = [(2, 2, 10.)]*1# + [(2, 1, 10.)]*1 + [(1, 2, 10.)]*1 + [(2, 3, 10.)]*1 + [(3, 2, 10.)]*1\n",
    "loopcontrols = controls*5#, (0, 1, 1)]# , (2, 2, 1), (1, 3, 1), (3, 1, 1)]*100\n",
    "\n",
    "#print loopcontrols"
   ]
  },
  {
   "cell_type": "code",
   "execution_count": 19,
   "metadata": {
    "collapsed": false,
    "scrolled": false
   },
   "outputs": [],
   "source": [
    "with suppress_stdout():\n",
    "    slamize.qslam_run(dunk, loopcontrols)"
   ]
  },
  {
   "cell_type": "code",
   "execution_count": 20,
   "metadata": {
    "collapsed": false
   },
   "outputs": [
    {
     "name": "stdout",
     "output_type": "stream",
     "text": [
      "[[ 0.   0.   0.   0.   0. ]\n",
      " [ 0.   0.   0.   0.   0. ]\n",
      " [ 0.   0.   0.2  0.   0. ]\n",
      " [ 0.   0.   0.   0.   0. ]\n",
      " [ 0.   0.   0.   0.   0. ]]\n"
     ]
    }
   ],
   "source": [
    "'''From a Single Posterior State Particle'''\n",
    "print slamize.particles[0].r_questbk"
   ]
  },
  {
   "cell_type": "code",
   "execution_count": 21,
   "metadata": {
    "collapsed": false
   },
   "outputs": [
    {
     "name": "stdout",
     "output_type": "stream",
     "text": [
      "[[ 0.  0.  0.  0.  0.]\n",
      " [ 0.  0.  0.  0.  0.]\n",
      " [ 0.  0.  5.  0.  0.]\n",
      " [ 0.  0.  0.  0.  0.]\n",
      " [ 0.  0.  0.  0.  0.]]\n",
      "[[ 0.   0.   0.   0.   0. ]\n",
      " [ 0.   0.   0.   0.   0. ]\n",
      " [ 0.   0.   0.2  0.   0. ]\n",
      " [ 0.   0.   0.   0.   0. ]\n",
      " [ 0.   0.   0.   0.   0. ]]\n"
     ]
    }
   ],
   "source": [
    "'''From Global Bot (Scanner)'''\n",
    "print slamize.global_bot.r_guestbk_counter\n",
    "print slamize.global_bot.r_questbk"
   ]
  },
  {
   "cell_type": "code",
   "execution_count": 22,
   "metadata": {
    "collapsed": false
   },
   "outputs": [
    {
     "name": "stdout",
     "output_type": "stream",
     "text": [
      "True Map\n",
      "[[ 2.35619449  2.35619449  2.35619449  2.35619449  2.35619449]\n",
      " [ 2.35619449  2.35619449  2.35619449  2.35619449  2.35619449]\n",
      " [ 2.35619449  2.35619449  2.35619449  2.35619449  2.35619449]\n",
      " [ 2.35619449  2.35619449  2.35619449  2.35619449  2.35619449]\n",
      " [ 2.35619449  2.35619449  2.35619449  2.35619449  2.35619449]]\n",
      "\n",
      "Particle Map\n",
      "[[ 3.14159265  3.14159265  3.14159265  3.14159265  3.14159265]\n",
      " [ 3.14159265  3.14159265  3.14159265  3.14159265  3.14159265]\n",
      " [ 3.14159265  3.14159265  2.21429744  3.14159265  3.14159265]\n",
      " [ 3.14159265  3.14159265  3.14159265  3.14159265  3.14159265]\n",
      " [ 3.14159265  3.14159265  3.14159265  3.14159265  3.14159265]]\n",
      "\n",
      "Global Bot Map\n",
      "[[ 3.14159265  3.14159265  3.14159265  3.14159265  3.14159265]\n",
      " [ 3.14159265  3.14159265  3.14159265  3.14159265  3.14159265]\n",
      " [ 3.14159265  3.14159265  2.21429744  3.14159265  3.14159265]\n",
      " [ 3.14159265  3.14159265  3.14159265  3.14159265  3.14159265]\n",
      " [ 3.14159265  3.14159265  3.14159265  3.14159265  3.14159265]]\n"
     ]
    },
    {
     "data": {
      "text/plain": [
       "'\\nNotes\\n1. Where the bot has NOT physically visited (off control path), global_bot.m_vals == pi and partcicles[i].m_vals == 0 are equivalent\\n2. For zero correlation length in the control path, both maps should be the same\\n3. For physically measured qubits, both maps should be the same asympotically as long thigns are \"continuous\"\\n\\n'"
      ]
     },
     "execution_count": 22,
     "metadata": {},
     "output_type": "execute_result"
    }
   ],
   "source": [
    "'''Compare True Maps to Maps from Particle (Quasi and Physical Msmts) and Global Bot (Physical)'''\n",
    "print \"True Map\"\n",
    "print map_\n",
    "print\n",
    "print \"Particle Map\"\n",
    "print slamize.particles[0].m_vals\n",
    "print \n",
    "print \"Global Bot Map\"\n",
    "inferred_m_vals = np.asarray([slamize.particles[0].get_phase_method(val) for val in slamize.global_bot.r_questbk.flatten()]).reshape(5,5)\n",
    "print inferred_m_vals\n",
    "\n",
    "\n",
    "'''\n",
    "Notes\n",
    "1. Where the bot has NOT physically visited (off control path), global_bot.m_vals == pi and partcicles[i].m_vals == 0 are equivalent\n",
    "2. For zero correlation length in the control path, both maps should be the same\n",
    "3. For physically measured qubits, both maps should be the same asympotically as long thigns are \"continuous\"\n",
    "\n",
    "'''"
   ]
  },
  {
   "cell_type": "code",
   "execution_count": 23,
   "metadata": {
    "collapsed": false
   },
   "outputs": [
    {
     "data": {
      "image/png": "[encoded data removed]",
      "text/plain": [
       "<matplotlib.figure.Figure at 0x7f1a66288250>"
      ]
     },
     "metadata": {},
     "output_type": "display_data"
    }
   ],
   "source": [
    "x = np.linspace(0,1,100)\n",
    "y = np.arccos(2.0*x - 1.)\n",
    "plt.plot()\n",
    "plt.plot(x,y)\n",
    "plt.xlabel('Prob')\n",
    "plt.ylabel('Phase (rad)')\n",
    "plt.show()"
   ]
  },
  {
   "cell_type": "code",
   "execution_count": 71,
   "metadata": {
    "collapsed": false
   },
   "outputs": [
    {
     "data": {
      "image/png": "[encoded data removed]",
      "text/plain": [
       "<matplotlib.figure.Figure at 0x7f1a2dfefad0>"
      ]
     },
     "metadata": {},
     "output_type": "display_data"
    }
   ],
   "source": [
    "R1=1.42\n",
    "R2=5\n",
    "x = np.linspace(0,5,1000)\n",
    "y1 = np.exp(-(x)**2 / 2.0*(1./(R1 + 1e-14))**2)\n",
    "y2 = np.exp(-(x)**2 / 2.0*(1./(R2 + 1e-14))**2)\n",
    "plt.plot()\n",
    "plt.plot(x,y1, 'k',label='Short R='+str(R1))\n",
    "plt.plot(x, y2, 'b', label='Long R='+str(R2))\n",
    "plt.xlabel('Separation')\n",
    "plt.ylabel('Correlation')\n",
    "plt.legend(loc=0)\n",
    "plt.show()"
   ]
  },
  {
   "cell_type": "code",
   "execution_count": null,
   "metadata": {
    "collapsed": true
   },
   "outputs": [],
   "source": []
  }
 ],
 "metadata": {
  "kernelspec": {
   "display_name": "Python 2",
   "language": "python",
   "name": "python2"
  },
  "language_info": {
   "codemirror_mode": {
    "name": "ipython",
    "version": 2
   },
   "file_extension": ".py",
   "mimetype": "text/x-python",
   "name": "python",
   "nbconvert_exporter": "python",
   "pygments_lexer": "ipython2",
   "version": "2.7.13"
  }
 },
 "nbformat": 4,
 "nbformat_minor": 2
}
