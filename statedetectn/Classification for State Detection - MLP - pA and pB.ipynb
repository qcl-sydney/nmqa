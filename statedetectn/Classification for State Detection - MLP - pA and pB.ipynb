{
 "cells": [
  {
   "cell_type": "code",
   "execution_count": 1,
   "metadata": {},
   "outputs": [],
   "source": [
    "import sys\n",
    "sys.path.append('../')\n",
    "import numpy as np\n",
    "from clfanalysis.predict import run_classifier_predictions"
   ]
  },
  {
   "cell_type": "markdown",
   "metadata": {},
   "source": [
    "# Data"
   ]
  },
  {
   "cell_type": "code",
   "execution_count": 2,
   "metadata": {},
   "outputs": [],
   "source": [
    "DataParams = {}\n",
    "\n",
    "fileID_Igor_list_8 = ['210051', '211842']  #['215255', '222553','225544','232908', '235431']     \n",
    "fileID_Igor_list_25= ['210123', '211909'] #['215322', '222709','225609','232935', '235456']\n",
    "fileID_Igor_list_50= ['210159', '211939'] # ['215351','222738','225640','233005', '235527']\n",
    "\n",
    "clf_flag = 'mlp' \n",
    "datafile_p = fileID_Igor_list_25\n",
    "\n",
    "DataParams['N'] = 5\n",
    "DataParams['prefix']  = '../expt_data/Cornelius_data_2/'\n",
    "DataParams['year']  = '2018'\n",
    "DataParams['date']  = '20181008'\n",
    "DataParams['brightID']  = '210043'#'214921'\n",
    "DataParams['darkID']  = '210005'#'214856'\n",
    "DataParams['img_shape']  = (11, 33)\n",
    "DataParams['cycles']  = 500 #100 \n",
    "DataParams['save'] = '_pApB_25'\n",
    "\n",
    "binary_data = []\n",
    "rho_0_data = []\n",
    "rho_1_data =[]\n",
    "pi_data = []"
   ]
  },
  {
   "cell_type": "markdown",
   "metadata": {},
   "source": [
    "# Classification Analysis"
   ]
  },
  {
   "cell_type": "code",
   "execution_count": 3,
   "metadata": {},
   "outputs": [
    {
     "name": "stdout",
     "output_type": "stream",
     "text": [
      "\n",
      "Ion number 1\n",
      "Request that following prediction datasets are concatenated:\n",
      "['210123', '211909']\n",
      "Adding file with IGOR ID:  210123\n",
      "Adding file with IGOR ID:  211909\n"
     ]
    },
    {
     "name": "stderr",
     "output_type": "stream",
     "text": [
      "../clfanalysis/noisecorrections.py:20: RuntimeWarning: divide by zero encountered in double_scalars\n",
      "  alpha_hat = (nu_min * (nu_max - pi_base)) / (pi_base*(nu_max - nu_min))\n",
      "../clfanalysis/noisecorrections.py:21: RuntimeWarning: divide by zero encountered in double_scalars\n",
      "  beta_hat = ((1 - nu_max)*(pi_base - nu_min)) / ((1 - pi_base)*(nu_max - nu_min))\n",
      "../clfanalysis/noisecorrections.py:22: RuntimeWarning: divide by zero encountered in double_scalars\n",
      "  pi = (pi_base - nu_min) / (nu_max - nu_min)\n",
      "../clfanalysis/noisecorrections.py:24: RuntimeWarning: invalid value encountered in double_scalars\n",
      "  rho_minus = (alpha_hat * pi_base) / (1.0 - pi)\n",
      "../clfanalysis/noisecorrections.py:25: RuntimeWarning: invalid value encountered in double_scalars\n",
      "  rho_plus = (beta_hat * (1.0 - pi_base)) / (pi)\n",
      "../clfanalysis/noisecorrections.py:21: RuntimeWarning: invalid value encountered in double_scalars\n",
      "  beta_hat = ((1 - nu_max)*(pi_base - nu_min)) / ((1 - pi_base)*(nu_max - nu_min))\n"
     ]
    },
    {
     "name": "stdout",
     "output_type": "stream",
     "text": [
      "Making a prediction 7 bare 0.94 0.0\n",
      "\n",
      "Ion number 2\n",
      "Request that following prediction datasets are concatenated:\n",
      "['210123', '211909']\n",
      "Adding file with IGOR ID:  210123\n",
      "Adding file with IGOR ID:  211909\n",
      "Making a prediction 1 bare 0.84 0.0\n"
     ]
    },
    {
     "name": "stderr",
     "output_type": "stream",
     "text": [
      "../clfanalysis/noisecorrections.py:20: RuntimeWarning: divide by zero encountered in double_scalars\n",
      "  alpha_hat = (nu_min * (nu_max - pi_base)) / (pi_base*(nu_max - nu_min))\n",
      "../clfanalysis/noisecorrections.py:21: RuntimeWarning: divide by zero encountered in double_scalars\n",
      "  beta_hat = ((1 - nu_max)*(pi_base - nu_min)) / ((1 - pi_base)*(nu_max - nu_min))\n",
      "../clfanalysis/noisecorrections.py:22: RuntimeWarning: divide by zero encountered in double_scalars\n",
      "  pi = (pi_base - nu_min) / (nu_max - nu_min)\n",
      "../clfanalysis/noisecorrections.py:24: RuntimeWarning: invalid value encountered in double_scalars\n",
      "  rho_minus = (alpha_hat * pi_base) / (1.0 - pi)\n",
      "../clfanalysis/noisecorrections.py:25: RuntimeWarning: invalid value encountered in double_scalars\n",
      "  rho_plus = (beta_hat * (1.0 - pi_base)) / (pi)\n",
      "../clfanalysis/noisecorrections.py:20: RuntimeWarning: invalid value encountered in double_scalars\n",
      "  alpha_hat = (nu_min * (nu_max - pi_base)) / (pi_base*(nu_max - nu_min))\n"
     ]
    },
    {
     "name": "stdout",
     "output_type": "stream",
     "text": [
      "Making a prediction 6 bare 0.87 0.84\n",
      "\n",
      "Ion number 3\n",
      "Request that following prediction datasets are concatenated:\n",
      "['210123', '211909']\n",
      "Adding file with IGOR ID:  210123\n",
      "Adding file with IGOR ID:  211909\n",
      "Making a prediction 2 bare 0.8 0.0\n",
      "Making a prediction 4 bare 0.88 0.8\n",
      "Making a prediction 5 bare 0.95 0.88\n",
      "\n",
      "Ion number 4\n",
      "Request that following prediction datasets are concatenated:\n",
      "['210123', '211909']\n",
      "Adding file with IGOR ID:  210123\n",
      "Adding file with IGOR ID:  211909\n",
      "Making a prediction 0 bare 0.87 0.0\n",
      "Making a prediction 2 bare 0.92 0.87\n",
      "Making a prediction 5 bare 0.95 0.92\n",
      "\n",
      "Ion number 5\n",
      "Request that following prediction datasets are concatenated:\n",
      "['210123', '211909']\n",
      "Adding file with IGOR ID:  210123\n",
      "Adding file with IGOR ID:  211909\n",
      "Making a prediction 0 bare 0.93 0.0\n"
     ]
    }
   ],
   "source": [
    "for ionpos in range(DataParams['N']):\n",
    "    print()\n",
    "    print('Ion number', ionpos + 1)\n",
    "    \n",
    "    pred, wpred, rho0, rho1, pi = run_classifier_predictions(ionpos, clf_flag, datafile_p, **DataParams)\n",
    "    \n",
    "    binary_data.append(pred)\n",
    "    rho_0_data += rho0\n",
    "    rho_1_data += rho1\n",
    "    pi_data +=pi \n",
    "    \n",
    "    np.savez(clf_flag+'_fulldata_'+DataParams['save'], \n",
    "             DataParams=DataParams, \n",
    "             binary_data=binary_data, \n",
    "             rho_0_data=rho_0_data,\n",
    "             rho_1_data=rho_1_data,\n",
    "             pi_data=pi_data)\n",
    "    \n",
    "\n",
    "    "
   ]
  },
  {
   "cell_type": "code",
   "execution_count": 10,
   "metadata": {
    "scrolled": false
   },
   "outputs": [
    {
     "name": "stdout",
     "output_type": "stream",
     "text": [
      "0.08412529850412916 0.008558655304579605 0.45419306718792796\n"
     ]
    },
    {
     "data": {
      "image/png": "[encoded data removed]",
      "text/plain": [
       "<matplotlib.figure.Figure at 0x7fc7ff66beb8>"
      ]
     },
     "metadata": {},
     "output_type": "display_data"
    },
    {
     "data": {
      "image/png": "[encoded data removed]",
      "text/plain": [
       "<matplotlib.figure.Figure at 0x7fc7f94707f0>"
      ]
     },
     "metadata": {},
     "output_type": "display_data"
    },
    {
     "data": {
      "image/png": "[encoded data removed]",
      "text/plain": [
       "<matplotlib.figure.Figure at 0x7fc800e0db70>"
      ]
     },
     "metadata": {},
     "output_type": "display_data"
    },
    {
     "data": {
      "image/png": "[encoded data removed]",
      "text/plain": [
       "<matplotlib.figure.Figure at 0x7fc80031ccc0>"
      ]
     },
     "metadata": {},
     "output_type": "display_data"
    },
    {
     "data": {
      "image/png": "[encoded data removed]",
      "text/plain": [
       "<matplotlib.figure.Figure at 0x7fc7fea61978>"
      ]
     },
     "metadata": {},
     "output_type": "display_data"
    },
    {
     "data": {
      "image/png": "[encoded data removed]",
      "text/plain": [
       "<matplotlib.figure.Figure at 0x7fc7ff66be80>"
      ]
     },
     "metadata": {},
     "output_type": "display_data"
    },
    {
     "data": {
      "image/png": "[encoded data removed]",
      "text/plain": [
       "<matplotlib.figure.Figure at 0x7fc7f95073c8>"
      ]
     },
     "metadata": {},
     "output_type": "display_data"
    },
    {
     "data": {
      "image/png": "[encoded data removed]",
      "text/plain": [
       "<matplotlib.figure.Figure at 0x7fc800995630>"
      ]
     },
     "metadata": {},
     "output_type": "display_data"
    }
   ],
   "source": [
    "print(np.mean(np.asarray(rho_0_data)), np.mean(np.asarray(rho_1_data)),np.mean(np.asarray(pi_data)))\n",
    "\n",
    "\n",
    "import matplotlib.pyplot as plt\n",
    "\n",
    "for idx in range(5):\n",
    "    plt.figure()\n",
    "    plt.hist(binary_data[idx] - 0.05, alpha=0.8)\n",
    "    plt.show()\n",
    "\n",
    "plt.figure()\n",
    "plt.hist(np.asarray(rho_0_data))\n",
    "plt.show()\n",
    "\n",
    "plt.figure()\n",
    "plt.hist(np.asarray(rho_1_data))\n",
    "plt.show()\n",
    "\n",
    "plt.figure()\n",
    "plt.hist(np.asarray(pi_data))\n",
    "plt.show()"
   ]
  },
  {
   "cell_type": "code",
   "execution_count": null,
   "metadata": {},
   "outputs": [],
   "source": []
  }
 ],
 "metadata": {
  "kernelspec": {
   "display_name": "Python 3",
   "language": "python",
   "name": "python3"
  },
  "language_info": {
   "codemirror_mode": {
    "name": "ipython",
    "version": 3
   },
   "file_extension": ".py",
   "mimetype": "text/x-python",
   "name": "python",
   "nbconvert_exporter": "python",
   "pygments_lexer": "ipython3",
   "version": "3.6.7"
  }
 },
 "nbformat": 4,
 "nbformat_minor": 2
}
