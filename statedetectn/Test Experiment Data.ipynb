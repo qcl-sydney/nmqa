{
 "cells": [
  {
   "cell_type": "code",
   "execution_count": 1,
   "metadata": {},
   "outputs": [],
   "source": [
    "import numpy as np\n",
    "\n",
    "DataSetProperties_1 = {}\n",
    "\n",
    "DataSetProperties_1['key'] = 1\n",
    "DataSetProperties_1['path'] =  '/home/riddhisw/Documents/SLAM_project/project/statedetectn/rf_fulldata_ramsey.npz'\n",
    "DataSetProperties_1['wait_time'] = 40 # milliseconds\n",
    "DataSetProperties_1['classifier'] = 'Random Forest with Importance Re-weighting'\n",
    "DataSetProperties_1['expttype'] = 'Ramsey'\n",
    "DataSetProperties_1['parameters'] = np.load(DataSetProperties_1['path'])['DataParams'].item()\n",
    "DataSetProperties_1['parameters']['dpts'] = 1 # same experiment (static)\n",
    "\n",
    "DataSetProperties_2 = {}\n",
    "\n",
    "DataSetProperties_2['key'] = 2\n",
    "DataSetProperties_2['path'] =  '/home/riddhisw/Documents/SLAM_project/project/statedetectn/mlp_fulldata_ramsey.npz'\n",
    "DataSetProperties_2['wait_time'] = 40 # milliseconds\n",
    "DataSetProperties_2['classifier'] = 'MultiLayer Perceptron'\n",
    "DataSetProperties_2['expttype'] = 'Ramsey'\n",
    "DataSetProperties_2['parameters'] = np.load(DataSetProperties_2['path'])['DataParams'].item()\n",
    "DataSetProperties_2['parameters']['dpts'] = 1 # same experiment (static)\n",
    "\n",
    "DataSetProperties_3 = {}\n",
    "\n",
    "DataSetProperties_3['key'] = 3\n",
    "DataSetProperties_3['path'] =  '/home/riddhisw/Documents/SLAM_project/project/statedetectn/rf_fulldata__pApB_8.npz'\n",
    "DataSetProperties_3['wait_time'] = 8 # milliseconds\n",
    "DataSetProperties_3['classifier'] = 'Random Forest with  Importance Re-weighting'\n",
    "DataSetProperties_3['expttype'] = 'pA or pB'\n",
    "DataSetProperties_3['parameters'] = np.load(DataSetProperties_3['path'])['DataParams'].item()\n",
    "DataSetProperties_3['parameters']['dpts'] = 2 # two different types of expts - pA and pB\n",
    "\n",
    "DataSetProperties_4 = {}\n",
    "\n",
    "DataSetProperties_4['key'] = 4\n",
    "DataSetProperties_4['path'] =  '/home/riddhisw/Documents/SLAM_project/project/statedetectn/rf_fulldata__pApB_8.npz'\n",
    "DataSetProperties_4['wait_time'] = 25 # milliseconds\n",
    "DataSetProperties_4['classifier'] = 'MultiLayer Perceptron'\n",
    "DataSetProperties_4['expttype'] = 'pA or pB'\n",
    "DataSetProperties_4['parameters'] = np.load(DataSetProperties_4['path'])['DataParams'].item()\n",
    "DataSetProperties_4['parameters']['dpts'] = 2 # Two different types of expts - pA and pB\n",
    "\n",
    "DataKeys = {'1': DataSetProperties_1,\n",
    "            '2': DataSetProperties_2,\n",
    "            '3': DataSetProperties_3,\n",
    "            '4': DataSetProperties_4\n",
    "}\n",
    "\n",
    "\n",
    "\n",
    "class RealData(object):\n",
    "\n",
    "    def __init__(self, data_key, choose_expt=0):\n",
    "        ''' Accesses output classifier data of prob of seeing a bright ion by Hempel et al. '''\n",
    "        \n",
    "        \n",
    "        self.DataProp = DataKeys[str(data_key)]\n",
    "        self.ions = self.DataProp['parameters']['N']\n",
    "        self.dpts = self.DataProp['parameters']['dpts'] \n",
    "        self.img_shape = self.DataProp['parameters']['img_shape']\n",
    "        self.choose_expt = choose_expt\n",
    "        \n",
    "        \n",
    "        data = np.load(self.DataProp['path']).files\n",
    "        data.remove('DataParams')\n",
    "        \n",
    "        for idx_element_name in data:\n",
    "            setattr(RealData, idx_element_name, np.load(self.DataProp['path'])[idx_element_name])\n",
    "        \n",
    "        self.expt_repetitions = int(self.binary_data.shape[1] / self.dpts)\n",
    "        \n",
    "        # Sampling without replacement at each node. Dummy helper variables.\n",
    "        self.sample_repts = np.zeros((self.ions, self.expt_repetitions))\n",
    "        self.sample_repts[:] = np.arange(self.expt_repetitions)\n",
    "        \n",
    "    \n",
    "\n",
    "    def get_real_data(self, node_j):\n",
    "        '''Return a msmt from analysis of an experimental dataset\n",
    "        node_j: postion index for ion\n",
    "        p_bright: probability that the ion is bright according to classifier\n",
    "        amplification: amplifies p_bright if data is close to extreme values'''\n",
    "\n",
    "        pick_rep = self.sample_repetitions_without_replacement(node_j)\n",
    "        start = int(self.choose_expt * self.expt_repetitions)\n",
    "        stop = int(start + self.expt_repetitions)\n",
    "        image_data_point = self.binary_data[node_j, start :  stop][pick_rep]\n",
    "        \n",
    "        return image_data_point\n",
    "\n",
    "\n",
    "    def sample_repetitions_without_replacement(self, node_j):\n",
    "\n",
    "        total_samples_left = len(set(self.sample_repts[node_j, :])) # remove duplicates\n",
    "\n",
    "        if total_samples_left > 1:\n",
    "            \n",
    "            pick_rep = -1\n",
    "            while pick_rep < 0:\n",
    "                idx = np.random.randint(low=0, high=total_samples_left)\n",
    "                pick_rep = int(list(set(self.sample_repts[node_j, :]))[idx])\n",
    "            \n",
    "            self.sample_repts[node_j, pick_rep] = -1 # remove from next iteration\n",
    "\n",
    "            return pick_rep\n",
    "\n",
    "        elif total_samples_left == 1:\n",
    "            print(\"No more expt measurements avail at node:\", node_j)\n",
    "            raise RuntimeError\n"
   ]
  },
  {
   "cell_type": "code",
   "execution_count": 222,
   "metadata": {},
   "outputs": [],
   "source": [
    "def sample_repetitions_without_replacement( node_j):\n",
    "    total_samples_left = len(set(sample_repts[node_j, :])) # remove duplicates\n",
    "\n",
    "    if total_samples_left > 1:\n",
    "        \n",
    "        pick_rep = -1\n",
    "        while pick_rep < 0:\n",
    "            idx = np.random.randint(low=0, high=total_samples_left)\n",
    "            pick_rep = int(list(set(sample_repts[node_j, :]))[idx])\n",
    "\n",
    "        sample_repts[node_j, pick_rep] = -1 # remove from next iteration\n",
    "\n",
    "        return pick_rep\n",
    "\n",
    "    elif total_samples_left == 1:\n",
    "        print(\"No more expt measurements avail\")\n",
    "        raise RuntimeError"
   ]
  },
  {
   "cell_type": "code",
   "execution_count": 223,
   "metadata": {},
   "outputs": [],
   "source": [
    "sample_repts = np.zeros((5, 10))\n",
    "sample_repts[:] = np.arange(10)"
   ]
  },
  {
   "cell_type": "code",
   "execution_count": 224,
   "metadata": {},
   "outputs": [
    {
     "data": {
      "text/plain": [
       "array([[0., 1., 2., 3., 4., 5., 6., 7., 8., 9.],\n",
       "       [0., 1., 2., 3., 4., 5., 6., 7., 8., 9.],\n",
       "       [0., 1., 2., 3., 4., 5., 6., 7., 8., 9.],\n",
       "       [0., 1., 2., 3., 4., 5., 6., 7., 8., 9.],\n",
       "       [0., 1., 2., 3., 4., 5., 6., 7., 8., 9.]])"
      ]
     },
     "execution_count": 224,
     "metadata": {},
     "output_type": "execute_result"
    }
   ],
   "source": [
    "sample_repts"
   ]
  },
  {
   "cell_type": "code",
   "execution_count": 225,
   "metadata": {},
   "outputs": [],
   "source": [
    "samples = [sample_repetitions_without_replacement( 3) for n in range(3)]"
   ]
  },
  {
   "cell_type": "code",
   "execution_count": 230,
   "metadata": {},
   "outputs": [
    {
     "data": {
      "text/plain": [
       "array([[ 0.,  1.,  2.,  3.,  4.,  5.,  6.,  7.,  8., -1.],\n",
       "       [ 0.,  1.,  2.,  3.,  4.,  5.,  6.,  7.,  8.,  9.],\n",
       "       [-1., -1., -1., -1., -1., -1., -1., -1., -1., -1.],\n",
       "       [ 0.,  1.,  2., -1.,  4., -1.,  6., -1.,  8.,  9.],\n",
       "       [-1., -1., -1., -1., -1., -1., -1., -1., -1., -1.]])"
      ]
     },
     "execution_count": 230,
     "metadata": {},
     "output_type": "execute_result"
    }
   ],
   "source": [
    "sample_repts"
   ]
  },
  {
   "cell_type": "code",
   "execution_count": 227,
   "metadata": {},
   "outputs": [],
   "source": [
    "samples = [sample_repetitions_without_replacement(0) for n in range(1)]"
   ]
  },
  {
   "cell_type": "code",
   "execution_count": 228,
   "metadata": {},
   "outputs": [],
   "source": [
    "samples = [sample_repetitions_without_replacement(4) for n in range(10)]"
   ]
  },
  {
   "cell_type": "code",
   "execution_count": 229,
   "metadata": {},
   "outputs": [
    {
     "name": "stdout",
     "output_type": "stream",
     "text": [
      "No more expt measurements avail\n"
     ]
    },
    {
     "ename": "RuntimeError",
     "evalue": "",
     "output_type": "error",
     "traceback": [
      "\u001b[0;31m---------------------------------------------------------------------------\u001b[0m",
      "\u001b[0;31mRuntimeError\u001b[0m                              Traceback (most recent call last)",
      "\u001b[0;32m<ipython-input-229-f67710b713a8>\u001b[0m in \u001b[0;36m<module>\u001b[0;34m()\u001b[0m\n\u001b[0;32m----> 1\u001b[0;31m \u001b[0msamples\u001b[0m \u001b[0;34m=\u001b[0m \u001b[0;34m[\u001b[0m\u001b[0msample_repetitions_without_replacement\u001b[0m\u001b[0;34m(\u001b[0m\u001b[0;36m2\u001b[0m\u001b[0;34m)\u001b[0m \u001b[0;32mfor\u001b[0m \u001b[0mn\u001b[0m \u001b[0;32min\u001b[0m \u001b[0mrange\u001b[0m\u001b[0;34m(\u001b[0m\u001b[0;36m11\u001b[0m\u001b[0;34m)\u001b[0m\u001b[0;34m]\u001b[0m\u001b[0;34m\u001b[0m\u001b[0;34m\u001b[0m\u001b[0m\n\u001b[0m",
      "\u001b[0;32m<ipython-input-229-f67710b713a8>\u001b[0m in \u001b[0;36m<listcomp>\u001b[0;34m(.0)\u001b[0m\n\u001b[0;32m----> 1\u001b[0;31m \u001b[0msamples\u001b[0m \u001b[0;34m=\u001b[0m \u001b[0;34m[\u001b[0m\u001b[0msample_repetitions_without_replacement\u001b[0m\u001b[0;34m(\u001b[0m\u001b[0;36m2\u001b[0m\u001b[0;34m)\u001b[0m \u001b[0;32mfor\u001b[0m \u001b[0mn\u001b[0m \u001b[0;32min\u001b[0m \u001b[0mrange\u001b[0m\u001b[0;34m(\u001b[0m\u001b[0;36m11\u001b[0m\u001b[0;34m)\u001b[0m\u001b[0;34m]\u001b[0m\u001b[0;34m\u001b[0m\u001b[0;34m\u001b[0m\u001b[0m\n\u001b[0m",
      "\u001b[0;32m<ipython-input-222-4bb0e2f7343f>\u001b[0m in \u001b[0;36msample_repetitions_without_replacement\u001b[0;34m(node_j)\u001b[0m\n\u001b[1;32m     15\u001b[0m     \u001b[0;32melif\u001b[0m \u001b[0mtotal_samples_left\u001b[0m \u001b[0;34m==\u001b[0m \u001b[0;36m1\u001b[0m\u001b[0;34m:\u001b[0m\u001b[0;34m\u001b[0m\u001b[0;34m\u001b[0m\u001b[0m\n\u001b[1;32m     16\u001b[0m         \u001b[0mprint\u001b[0m\u001b[0;34m(\u001b[0m\u001b[0;34m\"No more expt measurements avail\"\u001b[0m\u001b[0;34m)\u001b[0m\u001b[0;34m\u001b[0m\u001b[0;34m\u001b[0m\u001b[0m\n\u001b[0;32m---> 17\u001b[0;31m         \u001b[0;32mraise\u001b[0m \u001b[0mRuntimeError\u001b[0m\u001b[0;34m\u001b[0m\u001b[0;34m\u001b[0m\u001b[0m\n\u001b[0m",
      "\u001b[0;31mRuntimeError\u001b[0m: "
     ]
    }
   ],
   "source": [
    "samples = [sample_repetitions_without_replacement(2) for n in range(11)]"
   ]
  },
  {
   "cell_type": "code",
   "execution_count": null,
   "metadata": {},
   "outputs": [],
   "source": []
  }
 ],
 "metadata": {
  "kernelspec": {
   "display_name": "Python 3",
   "language": "python",
   "name": "python3"
  },
  "language_info": {
   "codemirror_mode": {
    "name": "ipython",
    "version": 3
   },
   "file_extension": ".py",
   "mimetype": "text/x-python",
   "name": "python",
   "nbconvert_exporter": "python",
   "pygments_lexer": "ipython3",
   "version": "3.6.7"
  }
 },
 "nbformat": 4,
 "nbformat_minor": 2
}
