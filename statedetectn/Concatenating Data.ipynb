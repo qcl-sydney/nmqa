{
 "cells": [
  {
   "cell_type": "code",
   "execution_count": 7,
   "metadata": {},
   "outputs": [],
   "source": [
    "import pandas as pd\n",
    "\n",
    "fileID_Igor_list_8=['215255', '222553','225544','232908', '235431']     \n",
    "fileID_Igor_list_25=['215322', '222709','225609','232935', '235456']\n",
    "fileID_Igor_list_50=['215351','222738','225640','233005', '235527']\n",
    "\n"
   ]
  },
  {
   "cell_type": "code",
   "execution_count": 16,
   "metadata": {},
   "outputs": [
    {
     "data": {
      "text/html": [
       "<div>\n",
       "<style scoped>\n",
       "    .dataframe tbody tr th:only-of-type {\n",
       "        vertical-align: middle;\n",
       "    }\n",
       "\n",
       "    .dataframe tbody tr th {\n",
       "        vertical-align: top;\n",
       "    }\n",
       "\n",
       "    .dataframe thead th {\n",
       "        text-align: right;\n",
       "    }\n",
       "</style>\n",
       "<table border=\"1\" class=\"dataframe\">\n",
       "  <thead>\n",
       "    <tr style=\"text-align: right;\">\n",
       "      <th></th>\n",
       "      <th>0</th>\n",
       "      <th>1</th>\n",
       "      <th>2</th>\n",
       "      <th>3</th>\n",
       "      <th>4</th>\n",
       "      <th>5</th>\n",
       "      <th>6</th>\n",
       "      <th>7</th>\n",
       "      <th>8</th>\n",
       "      <th>9</th>\n",
       "      <th>...</th>\n",
       "      <th>36290</th>\n",
       "      <th>36291</th>\n",
       "      <th>36292</th>\n",
       "      <th>36293</th>\n",
       "      <th>36294</th>\n",
       "      <th>36295</th>\n",
       "      <th>36296</th>\n",
       "      <th>36297</th>\n",
       "      <th>36298</th>\n",
       "      <th>36299</th>\n",
       "    </tr>\n",
       "  </thead>\n",
       "  <tbody>\n",
       "    <tr>\n",
       "      <th>0</th>\n",
       "      <td>2178</td>\n",
       "      <td>2189</td>\n",
       "      <td>2172</td>\n",
       "      <td>2193</td>\n",
       "      <td>2177</td>\n",
       "      <td>2180</td>\n",
       "      <td>2179</td>\n",
       "      <td>2191</td>\n",
       "      <td>2190</td>\n",
       "      <td>2179</td>\n",
       "      <td>...</td>\n",
       "      <td>2170</td>\n",
       "      <td>2179</td>\n",
       "      <td>2169</td>\n",
       "      <td>2171</td>\n",
       "      <td>2172</td>\n",
       "      <td>2175</td>\n",
       "      <td>2183</td>\n",
       "      <td>2182</td>\n",
       "      <td>2188</td>\n",
       "      <td>2171</td>\n",
       "    </tr>\n",
       "    <tr>\n",
       "      <th>1</th>\n",
       "      <td>2180</td>\n",
       "      <td>2178</td>\n",
       "      <td>2185</td>\n",
       "      <td>2172</td>\n",
       "      <td>2186</td>\n",
       "      <td>2239</td>\n",
       "      <td>2179</td>\n",
       "      <td>2175</td>\n",
       "      <td>2182</td>\n",
       "      <td>2174</td>\n",
       "      <td>...</td>\n",
       "      <td>2182</td>\n",
       "      <td>2182</td>\n",
       "      <td>2188</td>\n",
       "      <td>2168</td>\n",
       "      <td>2189</td>\n",
       "      <td>2185</td>\n",
       "      <td>2175</td>\n",
       "      <td>2187</td>\n",
       "      <td>2176</td>\n",
       "      <td>2180</td>\n",
       "    </tr>\n",
       "  </tbody>\n",
       "</table>\n",
       "<p>2 rows × 36300 columns</p>\n",
       "</div>"
      ],
      "text/plain": [
       "   0      1      2      3      4      5      6      7      8      9      \\\n",
       "0   2178   2189   2172   2193   2177   2180   2179   2191   2190   2179   \n",
       "1   2180   2178   2185   2172   2186   2239   2179   2175   2182   2174   \n",
       "\n",
       "   ...    36290  36291  36292  36293  36294  36295  36296  36297  36298  36299  \n",
       "0  ...     2170   2179   2169   2171   2172   2175   2183   2182   2188   2171  \n",
       "1  ...     2182   2182   2188   2168   2189   2185   2175   2187   2176   2180  \n",
       "\n",
       "[2 rows x 36300 columns]"
      ]
     },
     "execution_count": 16,
     "metadata": {},
     "output_type": "execute_result"
    }
   ],
   "source": [
    "datacube"
   ]
  },
  {
   "cell_type": "code",
   "execution_count": 32,
   "metadata": {},
   "outputs": [
    {
     "name": "stdout",
     "output_type": "stream",
     "text": [
      "../expt_data/Cornelius_data_2/2018/20181008/20181008-215322/cimg20181008-215322.dat\n",
      "../expt_data/Cornelius_data_2/2018/20181008/20181008-222709/cimg20181008-222709.dat\n",
      "../expt_data/Cornelius_data_2/2018/20181008/20181008-225609/cimg20181008-225609.dat\n",
      "../expt_data/Cornelius_data_2/2018/20181008/20181008-232935/cimg20181008-232935.dat\n",
      "../expt_data/Cornelius_data_2/2018/20181008/20181008-235456/cimg20181008-235456.dat\n"
     ]
    }
   ],
   "source": [
    "prefix = '../expt_data/Cornelius_data_2/'\n",
    "year = '2018'\n",
    "date = '20181008'\n",
    "\n",
    "data =[]\n",
    "\n",
    "for fileID_Igor in fileID_Igor_list_25:\n",
    "    \n",
    "    zf =prefix + year+ '/' + date + '/' + date +'-'+fileID_Igor +'/cimg' + date + '-' + fileID_Igor + '.dat'\n",
    "    datacube = pd.read_csv(str(zf), sep=\"\\t\", header=None)\n",
    "    print(str(zf))\n",
    "    data.append(datacube)"
   ]
  },
  {
   "cell_type": "code",
   "execution_count": 26,
   "metadata": {},
   "outputs": [
    {
     "data": {
      "text/plain": [
       "363"
      ]
     },
     "execution_count": 26,
     "metadata": {},
     "output_type": "execute_result"
    }
   ],
   "source": [
    "img = 11*33\n",
    "img"
   ]
  },
  {
   "cell_type": "code",
   "execution_count": 19,
   "metadata": {},
   "outputs": [],
   "source": [
    "all_data = pd.concat(data, axis=1)"
   ]
  },
  {
   "cell_type": "code",
   "execution_count": 28,
   "metadata": {},
   "outputs": [
    {
     "data": {
      "text/plain": [
       "100.0"
      ]
     },
     "execution_count": 28,
     "metadata": {},
     "output_type": "execute_result"
    }
   ],
   "source": [
    "datacube.values.shape[1] / img"
   ]
  },
  {
   "cell_type": "code",
   "execution_count": 33,
   "metadata": {},
   "outputs": [
    {
     "ename": "NameError",
     "evalue": "name 'file' is not defined",
     "output_type": "error",
     "traceback": [
      "\u001b[0;31m---------------------------------------------------------------------------\u001b[0m",
      "\u001b[0;31mNameError\u001b[0m                                 Traceback (most recent call last)",
      "\u001b[0;32m<ipython-input-33-60640f3fce17>\u001b[0m in \u001b[0;36m<module>\u001b[0;34m()\u001b[0m\n\u001b[0;32m----> 1\u001b[0;31m \u001b[0mfile\u001b[0m\u001b[0;34m.\u001b[0m\u001b[0mvalues\u001b[0m\u001b[0;34m.\u001b[0m\u001b[0mshape\u001b[0m\u001b[0;34m[\u001b[0m\u001b[0;36m1\u001b[0m\u001b[0;34m]\u001b[0m\u001b[0;34m\u001b[0m\u001b[0;34m\u001b[0m\u001b[0m\n\u001b[0m",
      "\u001b[0;31mNameError\u001b[0m: name 'file' is not defined"
     ]
    }
   ],
   "source": [
    "file.values.shape[1]"
   ]
  },
  {
   "cell_type": "code",
   "execution_count": null,
   "metadata": {},
   "outputs": [],
   "source": []
  }
 ],
 "metadata": {
  "kernelspec": {
   "display_name": "Python 3",
   "language": "python",
   "name": "python3"
  },
  "language_info": {
   "codemirror_mode": {
    "name": "ipython",
    "version": 3
   },
   "file_extension": ".py",
   "mimetype": "text/x-python",
   "name": "python",
   "nbconvert_exporter": "python",
   "pygments_lexer": "ipython3",
   "version": "3.6.7"
  }
 },
 "nbformat": 4,
 "nbformat_minor": 2
}
