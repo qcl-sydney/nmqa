{
 "cells": [
  {
   "cell_type": "code",
   "execution_count": 1,
   "metadata": {},
   "outputs": [],
   "source": [
    "import sys\n",
    "sys.path.append('../')\n",
    "import numpy as np\n",
    "from clfanalysis.predict import run_classifier_predictions"
   ]
  },
  {
   "cell_type": "markdown",
   "metadata": {},
   "source": [
    "# Data"
   ]
  },
  {
   "cell_type": "code",
   "execution_count": 3,
   "metadata": {},
   "outputs": [],
   "source": [
    "DataParams = {}\n",
    "\n",
    "fileID_Igor_list_8 = ['210051', '211842']  #['215255', '222553','225544','232908', '235431']     \n",
    "fileID_Igor_list_25= ['210123', '211909'] #['215322', '222709','225609','232935', '235456']\n",
    "fileID_Igor_list_50= ['210159', '211939'] # ['215351','222738','225640','233005', '235527']\n",
    "\n",
    "clf_flag = 'rf' \n",
    "datafile_p = fileID_Igor_list_8\n",
    "\n",
    "DataParams['N'] = 5\n",
    "DataParams['prefix']  = '../expt_data/Cornelius_data_2/'\n",
    "DataParams['year']  = '2018'\n",
    "DataParams['date']  = '20181008'\n",
    "DataParams['brightID']  = '210043'#'214921'\n",
    "DataParams['darkID']  = '210005'#'214856'\n",
    "DataParams['img_shape']  = (11, 33)\n",
    "DataParams['cycles']  = 500 #100 \n",
    "DataParams['save'] = '_pApB_8'\n",
    "\n",
    "binary_data = []\n",
    "rho_0_data = []\n",
    "rho_1_data =[]\n",
    "pi_data = []"
   ]
  },
  {
   "cell_type": "markdown",
   "metadata": {},
   "source": [
    "# Classification Analysis"
   ]
  },
  {
   "cell_type": "code",
   "execution_count": 4,
   "metadata": {},
   "outputs": [
    {
     "name": "stdout",
     "output_type": "stream",
     "text": [
      "\n",
      "Ion number 1\n",
      "Request that following prediction datasets are concatenated:\n",
      "['210051', '211842']\n",
      "Adding file with IGOR ID:  210051\n",
      "Adding file with IGOR ID:  211842\n",
      "Making a prediction 0 estf 0.9 0.0\n",
      "Making a prediction 0 bare 0.89 0.0\n",
      "Making a prediction 1 estf 0.96 0.9\n",
      "Making a prediction 1 bare 0.97 0.89\n",
      "Making a prediction 7 estf 0.97 0.96\n",
      "Making a prediction 9 estf 1.0 0.97\n",
      "Making a prediction 9 bare 1.0 0.97\n",
      "\n",
      "Ion number 2\n",
      "Request that following prediction datasets are concatenated:\n",
      "['210051', '211842']\n",
      "Adding file with IGOR ID:  210051\n",
      "Adding file with IGOR ID:  211842\n",
      "Making a prediction 0 estf 0.96 0.0\n",
      "Making a prediction 0 bare 0.97 0.0\n",
      "Making a prediction 9 estf 0.97 0.96\n",
      "\n",
      "Ion number 3\n",
      "Request that following prediction datasets are concatenated:\n",
      "['210051', '211842']\n",
      "Adding file with IGOR ID:  210051\n",
      "Adding file with IGOR ID:  211842\n",
      "Making a prediction 0 estf 0.96 0.0\n",
      "Making a prediction 0 bare 0.95 0.0\n",
      "\n",
      "Ion number 4\n",
      "Request that following prediction datasets are concatenated:\n",
      "['210051', '211842']\n",
      "Adding file with IGOR ID:  210051\n",
      "Adding file with IGOR ID:  211842\n",
      "Making a prediction 0 estf 0.91 0.0\n",
      "Making a prediction 0 bare 0.91 0.0\n",
      "Making a prediction 1 estf 0.94 0.91\n",
      "Making a prediction 1 bare 0.95 0.91\n",
      "Making a prediction 2 estf 0.95 0.94\n",
      "Making a prediction 4 estf 0.96 0.95\n",
      "Making a prediction 4 bare 0.96 0.95\n",
      "\n",
      "Ion number 5\n",
      "Request that following prediction datasets are concatenated:\n",
      "['210051', '211842']\n",
      "Adding file with IGOR ID:  210051\n",
      "Adding file with IGOR ID:  211842\n",
      "Making a prediction 0 estf 0.96 0.0\n",
      "Making a prediction 0 bare 0.96 0.0\n",
      "Making a prediction 7 estf 0.97 0.96\n"
     ]
    }
   ],
   "source": [
    "for ionpos in range(DataParams['N']):\n",
    "    print()\n",
    "    print('Ion number', ionpos + 1)\n",
    "    \n",
    "    pred, wpred, rho0, rho1, pi = run_classifier_predictions(ionpos, clf_flag, datafile_p, **DataParams)\n",
    "    \n",
    "    binary_data.append(pred)\n",
    "    rho_0_data += rho0\n",
    "    rho_1_data += rho1\n",
    "    pi_data +=pi \n",
    "    \n",
    "    np.savez(clf_flag+'_fulldata_'+DataParams['save'], \n",
    "             DataParams=DataParams, \n",
    "             binary_data=binary_data, \n",
    "             rho_0_data=rho_0_data,\n",
    "             rho_1_data=rho_1_data,\n",
    "             pi_data=pi_data)\n",
    "    \n",
    "\n",
    "    "
   ]
  },
  {
   "cell_type": "code",
   "execution_count": 6,
   "metadata": {
    "scrolled": false
   },
   "outputs": [
    {
     "name": "stdout",
     "output_type": "stream",
     "text": [
      "0.0110789361314087 4.448049987230585e-05 0.4942094623958689\n"
     ]
    },
    {
     "data": {
      "image/png": "[encoded data removed]",
      "text/plain": [
       "<matplotlib.figure.Figure at 0x7faa88c604a8>"
      ]
     },
     "metadata": {},
     "output_type": "display_data"
    },
    {
     "data": {
      "image/png": "[encoded data removed]",
      "text/plain": [
       "<matplotlib.figure.Figure at 0x7faa8d5ae6a0>"
      ]
     },
     "metadata": {},
     "output_type": "display_data"
    },
    {
     "data": {
      "image/png": "[encoded data removed]",
      "text/plain": [
       "<matplotlib.figure.Figure at 0x7faa8dd6be10>"
      ]
     },
     "metadata": {},
     "output_type": "display_data"
    },
    {
     "data": {
      "image/png": "[encoded data removed]",
      "text/plain": [
       "<matplotlib.figure.Figure at 0x7faa8e8f6128>"
      ]
     },
     "metadata": {},
     "output_type": "display_data"
    },
    {
     "data": {
      "image/png": "[encoded data removed]",
      "text/plain": [
       "<matplotlib.figure.Figure at 0x7faa8fcf9320>"
      ]
     },
     "metadata": {},
     "output_type": "display_data"
    },
    {
     "data": {
      "image/png": "[encoded data removed]",
      "text/plain": [
       "<matplotlib.figure.Figure at 0x7faa8eebc6a0>"
      ]
     },
     "metadata": {},
     "output_type": "display_data"
    },
    {
     "data": {
      "image/png": "[encoded data removed]",
      "text/plain": [
       "<matplotlib.figure.Figure at 0x7faa8dd47630>"
      ]
     },
     "metadata": {},
     "output_type": "display_data"
    },
    {
     "data": {
      "image/png": "[encoded data removed]",
      "text/plain": [
       "<matplotlib.figure.Figure at 0x7faa8d5d17b8>"
      ]
     },
     "metadata": {},
     "output_type": "display_data"
    }
   ],
   "source": [
    "print(np.mean(np.asarray(rho_0_data)), np.mean(np.asarray(rho_1_data)),np.mean(np.asarray(pi_data)))\n",
    "\n",
    "\n",
    "import matplotlib.pyplot as plt\n",
    "\n",
    "for idx in range(5):\n",
    "    plt.figure()\n",
    "    plt.hist(binary_data[idx] - 0.05, alpha=0.8)\n",
    "    plt.show()\n",
    "\n",
    "plt.figure()\n",
    "plt.hist(np.asarray(rho_0_data))\n",
    "plt.show()\n",
    "\n",
    "plt.figure()\n",
    "plt.hist(np.asarray(rho_1_data))\n",
    "plt.show()\n",
    "\n",
    "plt.figure()\n",
    "plt.hist(np.asarray(pi_data))\n",
    "plt.show()"
   ]
  },
  {
   "cell_type": "code",
   "execution_count": null,
   "metadata": {},
   "outputs": [],
   "source": []
  }
 ],
 "metadata": {
  "kernelspec": {
   "display_name": "Python 3",
   "language": "python",
   "name": "python3"
  },
  "language_info": {
   "codemirror_mode": {
    "name": "ipython",
    "version": 3
   },
   "file_extension": ".py",
   "mimetype": "text/x-python",
   "name": "python",
   "nbconvert_exporter": "python",
   "pygments_lexer": "ipython3",
   "version": "3.6.7"
  }
 },
 "nbformat": 4,
 "nbformat_minor": 2
}
