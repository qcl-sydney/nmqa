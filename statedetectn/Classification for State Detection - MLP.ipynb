{
 "cells": [
  {
   "cell_type": "code",
   "execution_count": 1,
   "metadata": {},
   "outputs": [],
   "source": [
    "import sys\n",
    "sys.path.append('../')\n",
    "import numpy as np\n",
    "from clfanalysis.predict import run_classifier_predictions"
   ]
  },
  {
   "cell_type": "markdown",
   "metadata": {},
   "source": [
    "# Data"
   ]
  },
  {
   "cell_type": "code",
   "execution_count": 2,
   "metadata": {},
   "outputs": [],
   "source": [
    "DataParams = {}\n",
    "\n",
    "\n",
    "clf_flag = 'mlp' \n",
    "datafile_p = '115434' \n",
    "\n",
    "DataParams['N'] = 6\n",
    "DataParams['prefix']  = '../expt_data/Claire_ramseydata/'\n",
    "DataParams['year']  = '2018'\n",
    "DataParams['date']  = '20181010'\n",
    "DataParams['brightID']  = '115321'\n",
    "DataParams['darkID']  = '115302'\n",
    "DataParams['img_shape']  = (11, 38)\n",
    "DataParams['cycles']  = 500 \n",
    "DataParams['save'] = '_ramsey'\n",
    "\n",
    "binary_data = []\n",
    "rho_0_data = []\n",
    "rho_1_data =[]\n",
    "pi_data = []"
   ]
  },
  {
   "cell_type": "markdown",
   "metadata": {},
   "source": [
    "# Classification Analysis"
   ]
  },
  {
   "cell_type": "code",
   "execution_count": 3,
   "metadata": {},
   "outputs": [
    {
     "name": "stdout",
     "output_type": "stream",
     "text": [
      "\n",
      "Ion number 1\n",
      "Making a prediction 2 bare 0.96 0.0\n",
      "Making a prediction 3 bare 1.0 0.96\n",
      "\n",
      "Ion number 2\n",
      "Making a prediction 0 bare 0.97 0.0\n"
     ]
    },
    {
     "name": "stderr",
     "output_type": "stream",
     "text": [
      "../clfanalysis/noisecorrections.py:20: RuntimeWarning: invalid value encountered in double_scalars\n",
      "  alpha_hat = (nu_min * (nu_max - pi_base)) / (pi_base*(nu_max - nu_min))\n",
      "../clfanalysis/noisecorrections.py:21: RuntimeWarning: divide by zero encountered in double_scalars\n",
      "  beta_hat = ((1 - nu_max)*(pi_base - nu_min)) / ((1 - pi_base)*(nu_max - nu_min))\n",
      "../clfanalysis/noisecorrections.py:22: RuntimeWarning: divide by zero encountered in double_scalars\n",
      "  pi = (pi_base - nu_min) / (nu_max - nu_min)\n",
      "../clfanalysis/noisecorrections.py:25: RuntimeWarning: invalid value encountered in double_scalars\n",
      "  rho_plus = (beta_hat * (1.0 - pi_base)) / (pi)\n"
     ]
    },
    {
     "name": "stdout",
     "output_type": "stream",
     "text": [
      "\n",
      "Ion number 3\n",
      "Making a prediction 0 bare 0.89 0.0\n"
     ]
    },
    {
     "name": "stderr",
     "output_type": "stream",
     "text": [
      "../clfanalysis/noisecorrections.py:20: RuntimeWarning: divide by zero encountered in double_scalars\n",
      "  alpha_hat = (nu_min * (nu_max - pi_base)) / (pi_base*(nu_max - nu_min))\n",
      "../clfanalysis/noisecorrections.py:21: RuntimeWarning: divide by zero encountered in double_scalars\n",
      "  beta_hat = ((1 - nu_max)*(pi_base - nu_min)) / ((1 - pi_base)*(nu_max - nu_min))\n",
      "../clfanalysis/noisecorrections.py:22: RuntimeWarning: divide by zero encountered in double_scalars\n",
      "  pi = (pi_base - nu_min) / (nu_max - nu_min)\n",
      "../clfanalysis/noisecorrections.py:24: RuntimeWarning: invalid value encountered in double_scalars\n",
      "  rho_minus = (alpha_hat * pi_base) / (1.0 - pi)\n",
      "../clfanalysis/noisecorrections.py:25: RuntimeWarning: invalid value encountered in double_scalars\n",
      "  rho_plus = (beta_hat * (1.0 - pi_base)) / (pi)\n"
     ]
    },
    {
     "name": "stdout",
     "output_type": "stream",
     "text": [
      "Making a prediction 4 bare 0.95 0.89\n",
      "Making a prediction 7 bare 0.96 0.95\n",
      "\n",
      "Ion number 4\n",
      "Making a prediction 0 bare 0.95 0.0\n",
      "Making a prediction 1 bare 0.97 0.95\n"
     ]
    },
    {
     "name": "stderr",
     "output_type": "stream",
     "text": [
      "../clfanalysis/noisecorrections.py:20: RuntimeWarning: invalid value encountered in double_scalars\n",
      "  alpha_hat = (nu_min * (nu_max - pi_base)) / (pi_base*(nu_max - nu_min))\n",
      "../clfanalysis/noisecorrections.py:21: RuntimeWarning: divide by zero encountered in double_scalars\n",
      "  beta_hat = ((1 - nu_max)*(pi_base - nu_min)) / ((1 - pi_base)*(nu_max - nu_min))\n",
      "../clfanalysis/noisecorrections.py:22: RuntimeWarning: divide by zero encountered in double_scalars\n",
      "  pi = (pi_base - nu_min) / (nu_max - nu_min)\n",
      "../clfanalysis/noisecorrections.py:25: RuntimeWarning: invalid value encountered in double_scalars\n",
      "  rho_plus = (beta_hat * (1.0 - pi_base)) / (pi)\n"
     ]
    },
    {
     "name": "stdout",
     "output_type": "stream",
     "text": [
      "\n",
      "Ion number 5\n",
      "Making a prediction 3 bare 0.95 0.0\n",
      "Making a prediction 9 bare 0.98 0.95\n",
      "\n",
      "Ion number 6\n",
      "Making a prediction 0 bare 0.94 0.0\n"
     ]
    },
    {
     "name": "stderr",
     "output_type": "stream",
     "text": [
      "../clfanalysis/noisecorrections.py:20: RuntimeWarning: divide by zero encountered in double_scalars\n",
      "  alpha_hat = (nu_min * (nu_max - pi_base)) / (pi_base*(nu_max - nu_min))\n",
      "../clfanalysis/noisecorrections.py:21: RuntimeWarning: invalid value encountered in double_scalars\n",
      "  beta_hat = ((1 - nu_max)*(pi_base - nu_min)) / ((1 - pi_base)*(nu_max - nu_min))\n",
      "../clfanalysis/noisecorrections.py:22: RuntimeWarning: divide by zero encountered in double_scalars\n",
      "  pi = (pi_base - nu_min) / (nu_max - nu_min)\n",
      "../clfanalysis/noisecorrections.py:24: RuntimeWarning: invalid value encountered in double_scalars\n",
      "  rho_minus = (alpha_hat * pi_base) / (1.0 - pi)\n"
     ]
    }
   ],
   "source": [
    "for ionpos in range(DataParams['N']):\n",
    "    \n",
    "    print()\n",
    "    print('Ion number', ionpos + 1)\n",
    "    \n",
    "    pred, wpred, rho0, rho1, pi = run_classifier_predictions(ionpos, clf_flag, datafile_p, **DataParams)\n",
    "    \n",
    "    binary_data.append(pred)\n",
    "    rho_0_data += rho0\n",
    "    rho_1_data += rho1\n",
    "    pi_data += pi\n",
    "    \n",
    "    np.savez(clf_flag+'_fulldata'+DataParams['save'],\n",
    "             DataParams=DataParams, \n",
    "             binary_data=binary_data, \n",
    "             rho_0_data=rho_0_data,\n",
    "             rho_1_data=rho_1_data,\n",
    "             pi_data=pi_data)\n",
    "    \n",
    "    "
   ]
  },
  {
   "cell_type": "code",
   "execution_count": 21,
   "metadata": {
    "scrolled": false
   },
   "outputs": [
    {
     "name": "stdout",
     "output_type": "stream",
     "text": [
      "0.08106680313532894 0.010612881514697572 0.45665310665483466\n"
     ]
    },
    {
     "data": {
      "image/png": "[encoded data removed]",
      "text/plain": [
       "<matplotlib.figure.Figure at 0x7f6941617cf8>"
      ]
     },
     "metadata": {},
     "output_type": "display_data"
    },
    {
     "data": {
      "image/png": "[encoded data removed]",
      "text/plain": [
       "<matplotlib.figure.Figure at 0x7f694164c4a8>"
      ]
     },
     "metadata": {},
     "output_type": "display_data"
    },
    {
     "data": {
      "image/png": "[encoded data removed]",
      "text/plain": [
       "<matplotlib.figure.Figure at 0x7f6941578f60>"
      ]
     },
     "metadata": {},
     "output_type": "display_data"
    },
    {
     "data": {
      "image/png": "[encoded data removed]",
      "text/plain": [
       "<matplotlib.figure.Figure at 0x7f6941f5e6d8>"
      ]
     },
     "metadata": {},
     "output_type": "display_data"
    },
    {
     "data": {
      "image/png": "[encoded data removed]",
      "text/plain": [
       "<matplotlib.figure.Figure at 0x7f694157de48>"
      ]
     },
     "metadata": {},
     "output_type": "display_data"
    },
    {
     "data": {
      "image/png": "[encoded data removed]",
      "text/plain": [
       "<matplotlib.figure.Figure at 0x7f694160d160>"
      ]
     },
     "metadata": {},
     "output_type": "display_data"
    },
    {
     "data": {
      "image/png": "[encoded data removed]",
      "text/plain": [
       "<matplotlib.figure.Figure at 0x7f69416175f8>"
      ]
     },
     "metadata": {},
     "output_type": "display_data"
    },
    {
     "data": {
      "image/png": "[encoded data removed]",
      "text/plain": [
       "<matplotlib.figure.Figure at 0x7f694155a7f0>"
      ]
     },
     "metadata": {},
     "output_type": "display_data"
    },
    {
     "data": {
      "image/png": "[encoded data removed]",
      "text/plain": [
       "<matplotlib.figure.Figure at 0x7f69427b5898>"
      ]
     },
     "metadata": {},
     "output_type": "display_data"
    }
   ],
   "source": [
    "print(np.mean(np.asarray(rho_0_data)), np.mean(np.asarray(rho_1_data)),np.mean(np.asarray(pi_data)))\n",
    "\n",
    "\n",
    "import matplotlib.pyplot as plt\n",
    "clairesdata = np.load('../expt_data/Claire_ramseydata/20181010-115434ion_bright_matrix.npz')['labels_bright']\n",
    "claire_matrix = clairesdata.reshape(6, 51*500)\n",
    "\n",
    "for idx in range(6):\n",
    "    plt.figure()\n",
    "    plt.hist(binary_data[idx] - 0.05, alpha=0.8)\n",
    "    plt.hist(claire_matrix[idx] +0.05  , alpha=0.5)\n",
    "    plt.show()\n",
    "\n",
    "plt.figure()\n",
    "plt.hist(np.asarray(rho_0_data))\n",
    "plt.show()\n",
    "\n",
    "plt.figure()\n",
    "plt.hist(np.asarray(rho_1_data))\n",
    "plt.show()\n",
    "\n",
    "plt.figure()\n",
    "plt.hist(np.asarray(pi_data))\n",
    "plt.show()"
   ]
  },
  {
   "cell_type": "code",
   "execution_count": null,
   "metadata": {},
   "outputs": [],
   "source": []
  }
 ],
 "metadata": {
  "kernelspec": {
   "display_name": "Python 3",
   "language": "python",
   "name": "python3"
  },
  "language_info": {
   "codemirror_mode": {
    "name": "ipython",
    "version": 3
   },
   "file_extension": ".py",
   "mimetype": "text/x-python",
   "name": "python",
   "nbconvert_exporter": "python",
   "pygments_lexer": "ipython3",
   "version": "3.6.7"
  }
 },
 "nbformat": 4,
 "nbformat_minor": 2
}
