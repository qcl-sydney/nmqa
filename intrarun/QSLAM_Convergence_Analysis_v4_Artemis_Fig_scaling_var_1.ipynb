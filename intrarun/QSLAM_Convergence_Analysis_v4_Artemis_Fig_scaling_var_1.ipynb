{
 "cells": [
  {
   "cell_type": "code",
   "execution_count": 1,
   "metadata": {
    "collapsed": false
   },
   "outputs": [],
   "source": [
    "import numpy as np\n",
    "import matplotlib\n",
    "import sys\n",
    "import os\n",
    "\n",
    "sys.path.append('../qslam/')\n",
    "from visualiserisk import *"
   ]
  },
  {
   "cell_type": "code",
   "execution_count": 2,
   "metadata": {
    "collapsed": false
   },
   "outputs": [],
   "source": [
    "#################################\n",
    "# Defaults\n",
    "#################################\n",
    "\n",
    "numofnodes=25\n",
    "repts = 50\n",
    "likelihoodparams_scan = np.load('random_variances.npz')\n",
    "lambda_pairs = np.load('lambda_pairs_2.npz')\n",
    "particleconfigs = [ [3,2], [9,6], [15,10] , [21,14]]#, [30, 20]]\n",
    "max_iterations = 75\n",
    "\n",
    "path = './data_Artemis/'\n",
    "datatype=['Uni_R', 'Trunc_R']\n",
    "keys =  ['marginalised_weights', 'predictive_weights', 'alpha_labels', 'beta_labels', 'rate_of_change_of_len', 'joint_labels', 'posterior_weights', 'joint_weights', 'leaf_weights']"
   ]
  },
  {
   "cell_type": "code",
   "execution_count": 9,
   "metadata": {
    "collapsed": false
   },
   "outputs": [],
   "source": [
    "#################################\n",
    "# PROPOSED (TUNED) OPTIMAL CASE\n",
    "################################## \n",
    "idx_1 = 12#4\n",
    "idx_2 = 13 #18 \n",
    "idx_prefix=2\n",
    "prefix = '_idx_prefix_'+str(idx_prefix)+'_'\n",
    "idx_pconfig_T=3"
   ]
  },
  {
   "cell_type": "code",
   "execution_count": 4,
   "metadata": {
    "collapsed": false
   },
   "outputs": [
    {
     "ename": "IOError",
     "evalue": "[Errno 2] No such file or directory: './data/Uni_R_idx_prefix_2_0_1_2.npz'",
     "output_type": "error",
     "traceback": [
      "\u001b[0;31m---------------------------------------------------------------------------\u001b[0m",
      "\u001b[0;31mIOError\u001b[0m                                   Traceback (most recent call last)",
      "\u001b[0;32m<ipython-input-4-92c979dec334>\u001b[0m in \u001b[0;36m<module>\u001b[0;34m()\u001b[0m\n\u001b[1;32m      8\u001b[0m \u001b[0mbse_3\u001b[0m \u001b[0;34m=\u001b[0m \u001b[0;36m2\u001b[0m \u001b[0;31m# for idx_3 in range(len(particleconfigs)):\u001b[0m\u001b[0;34m\u001b[0m\u001b[0m\n\u001b[1;32m      9\u001b[0m \u001b[0;34m\u001b[0m\u001b[0m\n\u001b[0;32m---> 10\u001b[0;31m \u001b[0mbase_data\u001b[0m \u001b[0;34m=\u001b[0m \u001b[0mnp\u001b[0m\u001b[0;34m.\u001b[0m\u001b[0mload\u001b[0m\u001b[0;34m(\u001b[0m\u001b[0;34m'./data/'\u001b[0m\u001b[0;34m+\u001b[0m\u001b[0mdatatype\u001b[0m\u001b[0;34m[\u001b[0m\u001b[0mbse_typ\u001b[0m\u001b[0;34m]\u001b[0m\u001b[0;34m+\u001b[0m\u001b[0mprefix\u001b[0m\u001b[0;34m+\u001b[0m\u001b[0mstr\u001b[0m\u001b[0;34m(\u001b[0m\u001b[0mbse_1\u001b[0m\u001b[0;34m)\u001b[0m\u001b[0;34m+\u001b[0m\u001b[0;34m'_'\u001b[0m\u001b[0;34m+\u001b[0m\u001b[0mstr\u001b[0m\u001b[0;34m(\u001b[0m\u001b[0mbse_2\u001b[0m\u001b[0;34m)\u001b[0m\u001b[0;34m+\u001b[0m\u001b[0;34m'_'\u001b[0m\u001b[0;34m+\u001b[0m\u001b[0mstr\u001b[0m\u001b[0;34m(\u001b[0m\u001b[0mbse_3\u001b[0m\u001b[0;34m)\u001b[0m\u001b[0;34m+\u001b[0m\u001b[0;34m'.npz'\u001b[0m\u001b[0;34m)\u001b[0m\u001b[0;34m\u001b[0m\u001b[0m\n\u001b[0m\u001b[1;32m     11\u001b[0m \u001b[0mbaseline_err\u001b[0m \u001b[0;34m=\u001b[0m \u001b[0mnp\u001b[0m\u001b[0;34m.\u001b[0m\u001b[0msum\u001b[0m\u001b[0;34m(\u001b[0m\u001b[0mnp\u001b[0m\u001b[0;34m.\u001b[0m\u001b[0mmean\u001b[0m\u001b[0;34m(\u001b[0m\u001b[0mbase_data\u001b[0m\u001b[0;34m[\u001b[0m\u001b[0;34m'absolute_errors_matrix'\u001b[0m\u001b[0;34m]\u001b[0m\u001b[0;34m,\u001b[0m \u001b[0maxis\u001b[0m\u001b[0;34m=\u001b[0m\u001b[0;36m0\u001b[0m\u001b[0;34m)\u001b[0m\u001b[0;34m,\u001b[0m \u001b[0maxis\u001b[0m\u001b[0;34m=\u001b[0m\u001b[0;36m1\u001b[0m\u001b[0;34m)\u001b[0m\u001b[0;34m\u001b[0m\u001b[0m\n\u001b[1;32m     12\u001b[0m \u001b[0;34m\u001b[0m\u001b[0m\n",
      "\u001b[0;32m/home/riddhisw/anaconda2/lib/python2.7/site-packages/numpy/lib/npyio.pyc\u001b[0m in \u001b[0;36mload\u001b[0;34m(file, mmap_mode, allow_pickle, fix_imports, encoding)\u001b[0m\n\u001b[1;32m    360\u001b[0m     \u001b[0mown_fid\u001b[0m \u001b[0;34m=\u001b[0m \u001b[0mFalse\u001b[0m\u001b[0;34m\u001b[0m\u001b[0m\n\u001b[1;32m    361\u001b[0m     \u001b[0;32mif\u001b[0m \u001b[0misinstance\u001b[0m\u001b[0;34m(\u001b[0m\u001b[0mfile\u001b[0m\u001b[0;34m,\u001b[0m \u001b[0mbasestring\u001b[0m\u001b[0;34m)\u001b[0m\u001b[0;34m:\u001b[0m\u001b[0;34m\u001b[0m\u001b[0m\n\u001b[0;32m--> 362\u001b[0;31m         \u001b[0mfid\u001b[0m \u001b[0;34m=\u001b[0m \u001b[0mopen\u001b[0m\u001b[0;34m(\u001b[0m\u001b[0mfile\u001b[0m\u001b[0;34m,\u001b[0m \u001b[0;34m\"rb\"\u001b[0m\u001b[0;34m)\u001b[0m\u001b[0;34m\u001b[0m\u001b[0m\n\u001b[0m\u001b[1;32m    363\u001b[0m         \u001b[0mown_fid\u001b[0m \u001b[0;34m=\u001b[0m \u001b[0mTrue\u001b[0m\u001b[0;34m\u001b[0m\u001b[0m\n\u001b[1;32m    364\u001b[0m     \u001b[0;32melse\u001b[0m\u001b[0;34m:\u001b[0m\u001b[0;34m\u001b[0m\u001b[0m\n",
      "\u001b[0;31mIOError\u001b[0m: [Errno 2] No such file or directory: './data/Uni_R_idx_prefix_2_0_1_2.npz'"
     ]
    }
   ],
   "source": [
    "#################################\n",
    "# Base Case from Short Paper\n",
    "#################################\n",
    "\n",
    "bse_typ = 0\n",
    "bse_1 = 0 # for idx_1 in [3,4,5,6]:#,7,0,1,2]:\n",
    "bse_2 = 1 # for idx_2 in [3,4,5,6]:#,7,0,1,2]:\n",
    "bse_3 = 2 # for idx_3 in range(len(particleconfigs)):\n",
    "\n",
    "base_data = np.load('./data/'+datatype[bse_typ]+prefix+str(bse_1)+'_'+str(bse_2)+'_'+str(bse_3)+'.npz')\n",
    "baseline_err = np.sum(np.mean(base_data['absolute_errors_matrix'], axis=0), axis=1)\n",
    "\n",
    "base_case_scaling_matr = 100*np.ones((len(particleconfigs), max_iterations))\n",
    "\n",
    "for idx_pconfig in range(len(particleconfigs)):\n",
    "\n",
    "    base_data_scaling = np.load('./data/'+datatype[bse_typ]+prefix+str(bse_1)+'_'+str(bse_2)+'_'+str(idx_pconfig)+'.npz')\n",
    "    base_case_scaling_matr[idx_pconfig, :] = np.sum(np.mean(base_data_scaling['absolute_errors_matrix']**2, axis=0), axis=1)\n"
   ]
  },
  {
   "cell_type": "markdown",
   "metadata": {},
   "source": [
    "### Fig 1"
   ]
  },
  {
   "cell_type": "code",
   "execution_count": 10,
   "metadata": {
    "collapsed": false,
    "scrolled": true
   },
   "outputs": [],
   "source": [
    "#################################\n",
    "# DATA ANALYSIS\n",
    "#################################\n",
    "\n",
    "repts=50\n",
    "marginal_state_0 = np.zeros((len(particleconfigs), repts, max_iterations, 50))\n",
    "posterior_state_0 = np.zeros((len(particleconfigs), repts, max_iterations, 50))\n",
    "marginal_state_1 = np.zeros((len(particleconfigs), repts, max_iterations, 50))\n",
    "posterior_state_1 = np.zeros((len(particleconfigs), repts, max_iterations, 50)) # F and R \n",
    "error_scaling_matrix_0 = 100.*np.ones((len(particleconfigs), repts, max_iterations, 25))\n",
    "error_scaling_matrix_1 = 100.*np.ones((len(particleconfigs), repts, max_iterations, 25)) # F only\n",
    "\n",
    "\n",
    "for idx_particle in range(len(particleconfigs)):\n",
    "    \n",
    "    for idx_rept in range(repts):\n",
    "        \n",
    "        filename = prefix+'scaling_'+str(idx_1)+'_'+str(idx_2)+'_'+str(idx_particle)+'_'+str(idx_rept+1)+'.npz'\n",
    "        test_data_0 = np.load(path+datatype[0]+filename)\n",
    "        test_data_1 = np.load(path+datatype[1]+filename)\n",
    "                \n",
    "        for idx_t in range(max_iterations):\n",
    "            \n",
    "            for idx_alphaparticle in range(particleconfigs[idx_particle][0]):\n",
    "\n",
    "                marginal_state_0[idx_particle, idx_rept, idx_t, :] += test_data_0['marginalised_states'][idx_t][idx_alphaparticle][50:]*test_data_0['marginalised_weights'][idx_t][idx_alphaparticle]\n",
    "                posterior_state_0[idx_particle, idx_rept, idx_t, :] += test_data_0['posterior_states'][idx_t][idx_alphaparticle][50:]*test_data_0['posterior_weights'][idx_t][idx_alphaparticle]\n",
    "                error_scaling_matrix_0[idx_particle, idx_rept, idx_t, :] = test_data_0['absolute_errors_matrix'][idx_t]\n",
    "\n",
    "                marginal_state_1[idx_particle, idx_rept, idx_t, :] += test_data_1['marginalised_states'][idx_t][idx_alphaparticle][50:]*test_data_1['marginalised_weights'][idx_t][idx_alphaparticle]\n",
    "                posterior_state_1[idx_particle, idx_rept, idx_t, :] += test_data_1['posterior_states'][idx_t][idx_alphaparticle][50:]*test_data_1['posterior_weights'][idx_t][idx_alphaparticle]\n",
    "                error_scaling_matrix_1[idx_particle, idx_rept, idx_t, :] = test_data_1['absolute_errors_matrix'][idx_t]\n",
    "\n",
    "                \n",
    "scaling_matrix_0 = np.sum(np.mean((marginal_state_0 - posterior_state_0)**2, axis=1), axis=2)\n",
    "scaling_matrix_1 = np.sum(np.mean((marginal_state_1 - posterior_state_1)**2, axis=1), axis=2)\n",
    "error_scaling_matrix_0 = np.sum(np.mean((error_scaling_matrix_0)**2, axis=1), axis=2)\n",
    "error_scaling_matrix_1 =np.sum(np.mean((error_scaling_matrix_1)**2, axis=1), axis=2)"
   ]
  },
  {
   "cell_type": "code",
   "execution_count": 12,
   "metadata": {
    "collapsed": false
   },
   "outputs": [
    {
     "data": {
      "image/png": "[encoded data removed]",
      "text/plain": [
       "<matplotlib.figure.Figure at 0x7fa269437a10>"
      ]
     },
     "metadata": {},
     "output_type": "display_data"
    }
   ],
   "source": [
    "#################################\n",
    "# FIGURE\n",
    "#################################\n",
    "\n",
    "colorsU = [ 'indianred', 'orangered', 'salmon', 'palevioletred' ]#, 'pink']\n",
    "colors = ['midnightblue', 'slateblue',   'steelblue', 'gray']#'lightsteelblue']\n",
    "colors=colors[::-1]\n",
    "colorsU=colorsU[::-1]\n",
    "times =[1, 20, 40 ,74]\n",
    "particle_number = [idxp[0] for idxp in particleconfigs]\n",
    "\n",
    "gslayout = gs(2,2, top = 0.99, bottom =0.1, left = 0.15, right = 0.98, wspace = 0.2, hspace = 0.2)\n",
    "\n",
    "fig = plt.figure(figsize=(cm2inch(8.6),cm2inch(14)))\n",
    "\n",
    "    \n",
    "plt.suptitle('(g1, g2) = (%s, %s) and (l1, l2) = (%s, %s)' %(likelihoodparams_scan['g1var'][idx_1], \n",
    "                                                             likelihoodparams_scan['g2var'][idx_1],\n",
    "                                                             lambda_pairs['lambda_1'][idx_2],\n",
    "                                                             lambda_pairs['lambda_2'][idx_2],\n",
    "                                                             \n",
    "                                                            ),\n",
    "            )\n",
    "\n",
    "ax_err = fig.add_subplot(gslayout[0, :])\n",
    "ax_scl = fig.add_subplot(gslayout[1, 1])\n",
    "ax_uni = fig.add_subplot(gslayout[1, 0])\n",
    "\n",
    "#################################\n",
    "# bottom\n",
    "#################################\n",
    "for idx_t in range(len(times)):\n",
    "\n",
    "    slope, intercept = np.polyfit(np.log(particle_number), np.log(scaling_matrix_1[:, times[idx_t]]), 1)\n",
    "\n",
    "    ax_scl.plot(np.log(particle_number), np.log(scaling_matrix_1[:, times[idx_t]]), \n",
    "             'o', ms=4, markerfacecolor='None', lw=1., c= colors[idx_t], \n",
    "                label= r'$t=%s, \\Delta = %s$'%(times[idx_t], np.round(slope, 2)))\n",
    "    \n",
    "    trendpoly = np.poly1d([slope,intercept]) \n",
    "    \n",
    "    ax_scl.plot(np.log(particle_number),trendpoly(np.log(particle_number)), '--',  lw=1., c= colors[idx_t])\n",
    "    ax_scl.axvline(x=np.log(particleconfigs[idx_pconfig_T][0]), ls='-', lw=0.5, c='lightgray', alpha=0.5)\n",
    "    \n",
    "ax_scl.set_xlabel(r'$\\log(n_\\alpha)$  (a.u.)')\n",
    "#ax_scl.set_ylabel(r'$\\log(\\mathbb{E}[|\\pi^n_t - \\pi_\\infty|])$  (a.u.)')\n",
    "#ax_scl.set_ylim([1,4.])\n",
    "ax_scl.legend(loc=1)\n",
    "\n",
    "\n",
    "\n",
    "for idx_t in range(len(times)):\n",
    "\n",
    "    slope, intercept = np.polyfit(np.log(particle_number), np.log(scaling_matrix_0[:, times[idx_t]]), 1)\n",
    "\n",
    "    ax_uni.plot(np.log(particle_number), np.log(scaling_matrix_0[:, times[idx_t]]), \n",
    "             'x', lw=1., ms=4, c= colorsU[idx_t], \n",
    "                label= r'$t=%s, \\Delta = %s$'%(times[idx_t], np.round(slope, 2)))\n",
    "    \n",
    "    trendpoly = np.poly1d([slope,intercept]) \n",
    "    \n",
    "    ax_uni.plot(np.log(particle_number),trendpoly(np.log(particle_number)), '--', lw=1.,  c= colorsU[idx_t])\n",
    "    ax_uni.axvline(x=np.log(particleconfigs[idx_pconfig_T][0]), ls='-', lw=0.5, c='lightgray', alpha=0.5)\n",
    "    \n",
    "ax_uni.set_xlabel(r'$\\log(n_\\alpha)$  (a.u.)')\n",
    "#ax_uni.set_ylabel(r'$\\log(\\mathbb{E}[|\\pi^n_t - \\pi_\\infty|])$  (a.u.)')\n",
    "#ax_uni.set_ylim([1., 4])\n",
    "ax_uni.legend(loc=1)\n",
    "\n",
    "#################################\n",
    "# top\n",
    "#################################\n",
    "\n",
    "#ax_err.fill_between(range(75), np.log(base_case_scaling_matr[bse_3, :]), alpha=0.1, color='gray', label='Prev. Reported (baseline)')\n",
    "# ax_err.plot(range(75),np.log(base_case_scaling_matr[bse_3, :]), '-',  lw=1., c='k', label='Baseline')\n",
    "ax_err.plot(range(75)[::2],np.log(error_scaling_matrix_0[idx_pconfig_T, ::2]), 'x--', \n",
    "            lw=1., ms=4, c='indianred', \n",
    "            label='Uniform')\n",
    "\n",
    "\n",
    "\n",
    "ax_err.plot(range(75)[::2],np.log(error_scaling_matrix_1[idx_pconfig_T, ::2]), 'o--', \n",
    "            lw=1., ms=4, \n",
    "            c='steelblue',\n",
    "            markerfacecolor='None', label='Trunc. Gauss', alpha=1.)\n",
    "\n",
    "ax_err.set_xlabel(r'$t$  (num)')\n",
    "ax_err.set_ylabel(r'$\\log(\\mathbb{E}[|\\pi^n_t - \\pi_\\infty|])$  (a.u.)')\n",
    "#ax_err.set_ylim([1., 4.])\n",
    "ax_err.legend(loc=0)\n",
    "\n",
    "plt.savefig('fig_optparams_scaling_'+str(idx_prefix)+'.svg', format='svg', dpi=800)\n",
    "plt.show()"
   ]
  },
  {
   "cell_type": "code",
   "execution_count": null,
   "metadata": {
    "collapsed": false
   },
   "outputs": [],
   "source": [
    "filename = prefix+'scaling_'+str(idx_1)+'_'+str(idx_2)+'_'+str(idx_pconfig_T)+'_'+str(np.random.randint(low=1, high=51))+'.npz'\n",
    "test_data_0 = np.load(path+datatype[0]+filename)\n",
    "test_data_1 = np.load(path+datatype[1]+filename)\n",
    "\n",
    "rate_of_change_of_map_0 = test_data_0['rate_of_change_of_map']\n",
    "rate_of_change_of_len_0 = test_data_0['rate_of_change_of_len']\n",
    "rate_of_change_of_map_1 = test_data_1['rate_of_change_of_map']\n",
    "rate_of_change_of_len_1 = test_data_1['rate_of_change_of_len']\n",
    "\n",
    "fig = plt.figure(figsize=(cm2inch(4.5),cm2inch(4)))\n",
    "gslayout = gs(2,2, top = 0.99, bottom =0.1, left = 0.15, right = 0.98, wspace = 0.2, hspace = 0.2)\n",
    "\n",
    "ax3 = fig.add_subplot(gslayout[1, 0])\n",
    "ax3.set_ylabel(r\"$ | \\hat{F}_t - \\hat{F}_{t-1}|$  (rad)\")\n",
    "ax3.plot(np.sum(rate_of_change_of_map_0, axis=1)[1:], c='indianred',lw=1)\n",
    "ax3.set_ylim([0., 3.2])\n",
    "\n",
    "\n",
    "ax1 = fig.add_subplot(gslayout[0, 0])\n",
    "ax1.set_ylabel(r\"$ | \\hat{R}_t - \\hat{R}_{t-1}|$  (dist)\")\n",
    "ax1.plot(np.sum(rate_of_change_of_len_0, axis=1)[1:], c='indianred', lw=1, label='Uniform')\n",
    "ax1.set_ylim([0.00, 60])\n",
    "ax1.legend(loc=0)\n",
    "#plt.yscale('log')\n",
    "\n",
    "\n",
    "ax4 = fig.add_subplot(gslayout[1,1])\n",
    "ax4.plot(np.sum(rate_of_change_of_map_1, axis=1)[1:], c='steelblue', lw=1)\n",
    "ax4.set_ylim([0., 3.2])\n",
    "ax4.set_xlabel(r'$t$  (num)')\n",
    "\n",
    "ax2 = fig.add_subplot(gslayout[0,1])\n",
    "ax2.plot(np.sum(rate_of_change_of_len_1, axis=1)[1:], c='steelblue', lw=1, label='Trunc. Gauss')\n",
    "ax2.set_ylim([0.0, 60])\n",
    "ax2.legend(loc=0)\n",
    "\n",
    "plt.savefig('fig_optparams_scaling_state_change_'+str(idx_prefix)+'.svg', format='svg', dpi=800)\n",
    "plt.show()"
   ]
  },
  {
   "cell_type": "code",
   "execution_count": null,
   "metadata": {
    "collapsed": true
   },
   "outputs": [],
   "source": []
  }
 ],
 "metadata": {
  "kernelspec": {
   "display_name": "Python 2",
   "language": "python",
   "name": "python2"
  },
  "language_info": {
   "codemirror_mode": {
    "name": "ipython",
    "version": 2
   },
   "file_extension": ".py",
   "mimetype": "text/x-python",
   "name": "python",
   "nbconvert_exporter": "python",
   "pygments_lexer": "ipython2",
   "version": "2.7.13"
  }
 },
 "nbformat": 4,
 "nbformat_minor": 2
}
