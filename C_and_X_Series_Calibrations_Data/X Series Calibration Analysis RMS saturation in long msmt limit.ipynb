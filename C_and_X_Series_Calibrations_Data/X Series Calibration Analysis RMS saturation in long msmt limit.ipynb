{
 "cells": [
  {
   "cell_type": "markdown",
   "metadata": {
    "collapsed": true
   },
   "source": [
    "In this notebook we explore key data observations in Calibrations X7-12 (Gaussian field) and XU7-12 (uniform field)."
   ]
  },
  {
   "cell_type": "code",
   "execution_count": 1,
   "metadata": {
    "collapsed": true
   },
   "outputs": [],
   "source": [
    "from qslamdesignparams import GLOBALDICT\n",
    "from riskanalysis import CreateQslamExpt as riskqslam\n",
    "from riskanalysis import NaiveEstimator\n",
    "\n",
    "import numpy as np\n",
    "import matplotlib.pyplot as plt\n",
    "import copy\n",
    "import sys\n",
    "import traceback"
   ]
  },
  {
   "cell_type": "markdown",
   "metadata": {},
   "source": [
    "## Exploring RMS saturation in the long measurement limit"
   ]
  },
  {
   "cell_type": "markdown",
   "metadata": {},
   "source": [
    "### Insight 1: Low Forgetting Factors should enable convergence to the truth"
   ]
  },
  {
   "cell_type": "markdown",
   "metadata": {},
   "source": [
    "One observation is that all RMS error seems to saturate around a value of 1/2. The observation holds true for all types of parameter regimes except msmt_per_node. This leads me to believe that it's a long run bias that has been introduced, or a programming error. To test this, we set the forgetting factors for different values of iterations. The rate of converge to the truth then depends on the value of the forgetting factors - a low value means that we switch off the smart part of the algorithm sooner. For forgetting factors close to zero, the algorithm should approach the true in the large measurement limit.\n"
   ]
  },
  {
   "cell_type": "markdown",
   "metadata": {},
   "source": [
    "#### Update Default Settings"
   ]
  },
  {
   "cell_type": "code",
   "execution_count": 2,
   "metadata": {
    "collapsed": true
   },
   "outputs": [],
   "source": [
    "change_MAX_NUM_ITERATIONS = 100\n",
    "change_MSMTS_PER_NODE = 5\n",
    "change_P_ALPHA = 5 #25\n",
    "change_P_BETA = 3 #10\n",
    "change_SIGMOID_APPROX_ERROR = 10.0**(-6)\n",
    "change_QUANTISATION_UNCERTY = 10.0**(-4)\n",
    "change_LAMBDA_1 = 0.7\n",
    "change_LAMBDA_2 = 0.7\n"
   ]
  },
  {
   "cell_type": "code",
   "execution_count": 3,
   "metadata": {
    "collapsed": true
   },
   "outputs": [],
   "source": [
    "GLOBALDICT[\"MODELDESIGN\"][\"MAX_NUM_ITERATIONS\"] = change_MAX_NUM_ITERATIONS\n",
    "GLOBALDICT[\"MODELDESIGN\"][\"MSMTS_PER_NODE\"] = change_MSMTS_PER_NODE\n",
    "GLOBALDICT[\"NOISEPARAMS\"][\"SIGMOID_APPROX_ERROR\"][\"SIGMA\"] = change_SIGMOID_APPROX_ERROR\n",
    "GLOBALDICT[\"NOISEPARAMS\"][\"QUANTISATION_UNCERTY\"][\"SIGMA\"] = change_QUANTISATION_UNCERTY\n",
    "GLOBALDICT[\"MODELDESIGN\"][\"P_ALPHA\"] = change_P_ALPHA\n",
    "GLOBALDICT[\"MODELDESIGN\"][\"P_BETA\"] = change_P_BETA\n",
    "GLOBALDICT[\"MODELDESIGN\"][\"LAMBDA_1\"] = change_LAMBDA_1\n",
    "GLOBALDICT[\"MODELDESIGN\"][\"LAMBDA_2\"] = change_LAMBDA_2"
   ]
  },
  {
   "cell_type": "markdown",
   "metadata": {},
   "source": [
    "#### Xplay: Gaussian Field"
   ]
  },
  {
   "cell_type": "code",
   "execution_count": 4,
   "metadata": {
    "collapsed": false,
    "scrolled": false
   },
   "outputs": [
    {
     "name": "stdout",
     "output_type": "stream",
     "text": [
      "Measurement Iterations:  5\n"
     ]
    },
    {
     "name": "stderr",
     "output_type": "stream",
     "text": [
      "/home/riddhisw/anaconda2/lib/python2.7/site-packages/numpy/core/numeric.py:190: VisibleDeprecationWarning: using a non-integer number instead of an integer will result in an error in the future\n",
      "  a = empty(shape, dtype, order)\n"
     ]
    },
    {
     "name": "stdout",
     "output_type": "stream",
     "text": [
      "Variation  1 successful.\n"
     ]
    },
    {
     "name": "stderr",
     "output_type": "stream",
     "text": [
      "particlesets.py:162: RuntimeWarning: overflow encountered in double_scalars\n",
      "  normalisation = 1.0/unnormalised_total\n",
      "particlesets.py:163: RuntimeWarning: invalid value encountered in multiply\n",
      "  return normalisation*raw_weights\n"
     ]
    },
    {
     "name": "stdout",
     "output_type": "stream",
     "text": [
      "Variation  2 successful.\n",
      "Variation  3 successful.\n",
      "Variation  4 successful.\n",
      "Variation  5 successful.\n",
      "Variation  6 successful.\n",
      "------ completed a measurement iteration -----\n",
      "\n",
      "\n",
      "\n",
      "Measurement Iterations:  25\n",
      "Variation  1 successful.\n",
      "Variation  2 successful.\n",
      "Variation  3 successful.\n",
      "Variation  4 successful.\n",
      "Variation  5 successful.\n",
      "Variation  6 successful.\n",
      "------ completed a measurement iteration -----\n",
      "\n",
      "\n",
      "\n",
      "Measurement Iterations:  50\n",
      "Variation  1 successful.\n",
      "Variation  2 successful.\n",
      "Variation  3 successful.\n",
      "Variation  4 successful.\n",
      "Variation  5 successful.\n",
      "Variation  6 successful.\n",
      "------ completed a measurement iteration -----\n",
      "\n",
      "\n",
      "\n",
      "Measurement Iterations:  75\n",
      "Variation  1 successful.\n",
      "Variation  2 successful.\n",
      "Variation  3 successful.\n",
      "Variation  4 successful.\n",
      "Variation  5 successful.\n",
      "Variation  6 successful.\n",
      "------ completed a measurement iteration -----\n",
      "\n",
      "\n",
      "\n",
      "Measurement Iterations:  100\n",
      "Variation  1 successful.\n",
      "Variation  2 successful.\n",
      "Variation  3 successful.\n",
      "Variation  4 successful.\n",
      "Variation  5 successful.\n",
      "Variation  6 successful.\n",
      "------ completed a measurement iteration -----\n",
      "\n",
      "\n",
      "\n",
      "Measurement Iterations:  125\n",
      "Variation  1 successful.\n",
      "Variation  2 successful.\n",
      "Variation  3 successful.\n",
      "Variation  4 successful.\n",
      "Variation  5 successful.\n",
      "Variation  6 successful.\n",
      "------ completed a measurement iteration -----\n",
      "\n",
      "\n",
      "\n"
     ]
    },
    {
     "data": {
      "image/png": "[encoded data removed]",
      "text/plain": [
       "<matplotlib.figure.Figure at 0x7fb5d1ea5e90>"
      ]
     },
     "metadata": {},
     "output_type": "display_data"
    }
   ],
   "source": [
    "MAPTYPE = 'Gaussian'\n",
    "\n",
    "msmt_param_scan = [5, 25, 50, 75, 100, 125]\n",
    "var_param_x7 = [0., 0.25, 0.5, 0.75, 0.9, 1.0] \n",
    "colorvar = ['r', 'pink', 'g', 'b', 'navy', 'orange']\n",
    "size_var = [4, 3.75, 3.25, 3.0, 2.75, 2.5]\n",
    "\n",
    "# [0.00000001, 0.0000001, 0.000001, 0.00001, 0.0001, 0.001, 0.01, 0.1, 1.0, 10.0]\n",
    "\n",
    "\n",
    "savetopath = './calibrations_data/'\n",
    "\n",
    "plt.figure(figsize=(10,20))\n",
    "    \n",
    "for idx_msmtvar in range(len(msmt_param_scan)):\n",
    "    \n",
    "    testcase_ID = 'Xplay' + '_msmtvar_' + str(idx_msmtvar)\n",
    "    print \"Measurement Iterations: \", msmt_param_scan[idx_msmtvar]\n",
    "    \n",
    "\n",
    "    var_err_x7 = np.zeros(len(var_param_x7))\n",
    "    emp_err_x7 = np.zeros(len(var_param_x7))\n",
    "\n",
    "\n",
    "    for idx_var in range(len(var_param_x7)):\n",
    "\n",
    "        risk_map = 0.\n",
    "        empirical_state = 0.\n",
    "        vardict = copy.deepcopy(GLOBALDICT)\n",
    "        \n",
    "        vardict[\"MODELDESIGN\"][\"MAX_NUM_ITERATIONS\"] = msmt_param_scan[idx_msmtvar]\n",
    "        vardict[\"MODELDESIGN\"][\"LAMBDA_1\"] = var_param_x7[idx_var]\n",
    "        vardict[\"MODELDESIGN\"][\"LAMBDA_2\"] = var_param_x7[idx_var]\n",
    "        vardict[\"MODELDESIGN\"][\"ID\"] = savetopath + testcase_ID + '_v_' + str(idx_var + 1)\n",
    "        \n",
    "        risk_map = riskqslam(truthtype='Gaussian', **vardict)\n",
    "\n",
    "        try:\n",
    "            risk_map.naive_implementation(randomise='OFF')\n",
    "            print \"Variation \", idx_var + 1, \"successful.\" \n",
    "            qslam_errs = np.asarray(risk_map.macro_residuals)\n",
    "            var_err_x7[idx_var] = (1.0/ np.sqrt(qslam_errs.shape[2]))*np.mean(np.linalg.norm(qslam_errs[0,:,:], axis=1), axis=0)\n",
    "            # plt.plot(var_param_x7[idx_var], var_err_x7[idx_var], 'ko')\n",
    "            plt.plot(msmt_param_scan[idx_msmtvar], var_err_x7[idx_var], 'o', \n",
    "                     c=colorvar[idx_var], alpha=0.75,\n",
    "                     markersize=size_var[idx_var])\n",
    "\n",
    "        except :\n",
    "            print \"Variation \", idx_var + 1, \"was not completed\"\n",
    "            print \"Error information:\"\n",
    "            print \"Type\", sys.exc_info()[0]\n",
    "            print \"Value\", sys.exc_info()[1]\n",
    "            print \"Traceback\", traceback.format_exc()\n",
    "\n",
    "        empirical_state = NaiveEstimator(typeofmap=MAPTYPE)\n",
    "        total_msmt_budget_var =  msmt_param_scan[idx_msmtvar]*vardict[\"MODELDESIGN\"][\"MSMTS_PER_NODE\"]\n",
    "        empirical_state.msmt_per_node = total_msmt_budget_var / len(GLOBALDICT[\"GRIDDICT\"])\n",
    "        maperrors = empirical_state.get_empirical_est()\n",
    "        emp_err_x7[idx_var] = (1.0/ np.sqrt(maperrors.shape[0]))*np.linalg.norm(maperrors)\n",
    "        # plt.plot(var_param_x7[idx_var], emp_err_x7[idx_var], 'rx')\n",
    "        plt.plot(msmt_param_scan[idx_msmtvar], emp_err_x7[idx_var], 'kx')\n",
    "     \n",
    "    print \"------ completed a measurement iteration -----\"\n",
    "    print \n",
    "    print \n",
    "    print\n",
    "    \n",
    "plt.title('Calibration: ' + testcase_ID)\n",
    "plt.ylabel('RMS')\n",
    "plt.xlabel('Num of Iterations')\n",
    "# plt.xscale('log')\n",
    "# plt.ylim([0, 1])\n",
    "plt.show()  "
   ]
  },
  {
   "cell_type": "markdown",
   "metadata": {},
   "source": [
    "#### Xplay: Uniform Field"
   ]
  },
  {
   "cell_type": "code",
   "execution_count": 5,
   "metadata": {
    "collapsed": false,
    "scrolled": false
   },
   "outputs": [
    {
     "name": "stdout",
     "output_type": "stream",
     "text": [
      "Measurement Iterations:  5\n",
      "Variation  1 successful.\n",
      "Variation  2 successful.\n",
      "Variation  3 successful.\n",
      "Variation  4 successful.\n",
      "Variation  5 successful.\n",
      "Variation  6 successful.\n",
      "------ completed a measurement iteration -----\n",
      "\n",
      "\n",
      "\n",
      "Measurement Iterations:  25\n",
      "Variation  1 successful.\n",
      "Variation  2 successful.\n",
      "Variation  3 successful.\n",
      "Variation  4 successful.\n",
      "Variation  5 successful.\n",
      "Variation  6 successful.\n",
      "------ completed a measurement iteration -----\n",
      "\n",
      "\n",
      "\n",
      "Measurement Iterations:  50\n",
      "Variation  1 successful.\n",
      "Variation  2 successful.\n",
      "Variation  3 successful.\n",
      "Variation  4 successful.\n",
      "Variation  5 successful.\n",
      "Variation  6 successful.\n",
      "------ completed a measurement iteration -----\n",
      "\n",
      "\n",
      "\n",
      "Measurement Iterations:  75\n",
      "Variation  1 successful.\n",
      "Variation  2 successful.\n",
      "Variation  3 successful.\n",
      "Variation  4 successful.\n",
      "Variation  5 successful.\n",
      "Variation  6 successful.\n",
      "------ completed a measurement iteration -----\n",
      "\n",
      "\n",
      "\n",
      "Measurement Iterations:  100\n",
      "Variation  1 successful.\n",
      "Variation  2 successful.\n",
      "Variation  3 successful.\n",
      "Variation  4 successful.\n",
      "Variation  5 successful.\n",
      "Variation  6 successful.\n",
      "------ completed a measurement iteration -----\n",
      "\n",
      "\n",
      "\n",
      "Measurement Iterations:  125\n",
      "Variation  1 successful.\n",
      "Variation  2 successful.\n",
      "Variation  3 successful.\n",
      "Variation  4 successful.\n",
      "Variation  5 successful.\n",
      "Variation  6 successful.\n",
      "------ completed a measurement iteration -----\n",
      "\n",
      "\n",
      "\n"
     ]
    },
    {
     "data": {
      "image/png": "[encoded data removed]",
      "text/plain": [
       "<matplotlib.figure.Figure at 0x7fb5fcadd550>"
      ]
     },
     "metadata": {},
     "output_type": "display_data"
    }
   ],
   "source": [
    "MAPTYPE = 'Uniform'\n",
    "\n",
    "msmt_param_scan = [5, 25, 50, 75, 100, 125]\n",
    "var_param_x7 = [0., 0.25, 0.5, 0.75, 0.9, 1.0] \n",
    "colorvar = ['r', 'pink', 'g', 'b', 'navy', 'orange']\n",
    "size_var = [4, 3.75, 3.25, 3.0, 2.75, 2.5]\n",
    "\n",
    "# [0.00000001, 0.0000001, 0.000001, 0.00001, 0.0001, 0.001, 0.01, 0.1, 1.0, 10.0]\n",
    "\n",
    "\n",
    "savetopath = './calibrations_data/'\n",
    "\n",
    "plt.figure(figsize=(10,20))\n",
    "    \n",
    "for idx_msmtvar in range(len(msmt_param_scan)):\n",
    "    \n",
    "    testcase_ID = 'XplayU' + '_msmtvar_' + str(idx_msmtvar)\n",
    "    print \"Measurement Iterations: \", msmt_param_scan[idx_msmtvar]\n",
    "    \n",
    "\n",
    "    var_err_x7 = np.zeros(len(var_param_x7))\n",
    "    emp_err_x7 = np.zeros(len(var_param_x7))\n",
    "\n",
    "\n",
    "    for idx_var in range(len(var_param_x7)):\n",
    "\n",
    "        risk_map = 0.\n",
    "        empirical_state = 0.\n",
    "        vardict = copy.deepcopy(GLOBALDICT)\n",
    "        \n",
    "        vardict[\"MODELDESIGN\"][\"MAX_NUM_ITERATIONS\"] = msmt_param_scan[idx_msmtvar]\n",
    "        vardict[\"MODELDESIGN\"][\"LAMBDA_1\"] = var_param_x7[idx_var]\n",
    "        vardict[\"MODELDESIGN\"][\"LAMBDA_2\"] = var_param_x7[idx_var]\n",
    "        vardict[\"MODELDESIGN\"][\"ID\"] = savetopath + testcase_ID + '_v_' + str(idx_var + 1)\n",
    "        \n",
    "        risk_map = riskqslam(truthtype='Gaussian', **vardict)\n",
    "\n",
    "        try:\n",
    "            risk_map.naive_implementation(randomise='OFF')\n",
    "            print \"Variation \", idx_var + 1, \"successful.\" \n",
    "            qslam_errs = np.asarray(risk_map.macro_residuals)\n",
    "            var_err_x7[idx_var] = (1.0/ np.sqrt(qslam_errs.shape[2]))*np.mean(np.linalg.norm(qslam_errs[0,:,:], axis=1), axis=0)\n",
    "            # plt.plot(var_param_x7[idx_var], var_err_x7[idx_var], 'ko')\n",
    "            plt.plot(msmt_param_scan[idx_msmtvar], var_err_x7[idx_var], 'o', \n",
    "                     c=colorvar[idx_var], alpha=0.75,\n",
    "                     markersize=size_var[idx_var])\n",
    "\n",
    "        except :\n",
    "            print \"Variation \", idx_var + 1, \"was not completed\"\n",
    "            print \"Error information:\"\n",
    "            print \"Type\", sys.exc_info()[0]\n",
    "            print \"Value\", sys.exc_info()[1]\n",
    "            print \"Traceback\", traceback.format_exc()\n",
    "\n",
    "        empirical_state = NaiveEstimator(typeofmap=MAPTYPE)\n",
    "        total_msmt_budget_var =  msmt_param_scan[idx_msmtvar]*vardict[\"MODELDESIGN\"][\"MSMTS_PER_NODE\"]\n",
    "        empirical_state.msmt_per_node = total_msmt_budget_var / len(GLOBALDICT[\"GRIDDICT\"])\n",
    "        maperrors = empirical_state.get_empirical_est()\n",
    "        emp_err_x7[idx_var] = (1.0/ np.sqrt(maperrors.shape[0]))*np.linalg.norm(maperrors)\n",
    "        # plt.plot(var_param_x7[idx_var], emp_err_x7[idx_var], 'rx')\n",
    "        plt.plot(msmt_param_scan[idx_msmtvar], emp_err_x7[idx_var], 'kx')\n",
    "     \n",
    "    print \"------ completed a measurement iteration -----\"\n",
    "    print \n",
    "    print \n",
    "    print\n",
    "    \n",
    "plt.title('Calibration: ' + testcase_ID)\n",
    "plt.ylabel('RMS')\n",
    "plt.xlabel('Num of Iterations')\n",
    "# plt.xscale('log')\n",
    "# plt.ylim([0, 1])\n",
    "plt.show()  "
   ]
  },
  {
   "cell_type": "markdown",
   "metadata": {},
   "source": [
    "The results of the X-Series Calibrations also suggest that the following values of the forgetting factors produce a strong dip in RMS Error\n",
    "\n",
    "   LAMBDA_1 = 0.82\n",
    "   \n",
    "   LAMBDA_1 = 0.968\n",
    "\n",
    "This is supported by the analysis above that an incorrect choice of forgetting factor leads to an aysmpotic bias for any parameter regime."
   ]
  },
  {
   "cell_type": "markdown",
   "metadata": {},
   "source": [
    "## Other Observations"
   ]
  },
  {
   "cell_type": "markdown",
   "metadata": {},
   "source": [
    "###  Handling Invalid Posterior Resampling  / Weight Reset "
   ]
  },
  {
   "cell_type": "markdown",
   "metadata": {},
   "source": [
    "We need to characterise the effect of resetting invalid posterior distributions to uniform weights without resampling. One way to do this is to compare the above results with the case when invalid Posterior distributions result in RunTime errors. We then compare if there is a bias in convergence and whether its possible to remove this bias through:\n",
    "\n",
    "    (a) Abandoning the run and calling Initialise particles() instead of setting weights to uniform \n",
    "    (b) Resampling or setting weights according to a new adaptive procedure (needs literature review)\n",
    "    \n"
   ]
  },
  {
   "cell_type": "markdown",
   "metadata": {},
   "source": [
    "### Making control functions comparable between Naive and Qslam estimators might remove the asympotic offset bias"
   ]
  },
  {
   "cell_type": "markdown",
   "metadata": {},
   "source": [
    "In qslamr, with quasi-msmt factors being switched off via forgetting factors, there is still a uniform sampling over possible control directives. In constrast, teh Naive Estimator measures all qubits sequentially. This, as well as a variety of initial distribution conditions in qslamr, might explain the asympotic offset between measuring the field at all locations perfectly and the output of the qslamr algorithm."
   ]
  },
  {
   "cell_type": "markdown",
   "metadata": {},
   "source": [
    "### Large Alpha particles should enable faster convergence to the truth"
   ]
  },
  {
   "cell_type": "markdown",
   "metadata": {},
   "source": [
    "One feature should be that a large number of particles should enable faster convergence to the truth and/or a greater \"win\" in the sparse measurement regime."
   ]
  },
  {
   "cell_type": "markdown",
   "metadata": {},
   "source": [
    "### Compare performance with smaller measurement budgets"
   ]
  },
  {
   "cell_type": "markdown",
   "metadata": {},
   "source": [
    "We need to examine performance with smaller measurement budgets, for example, when you cannot measue all qubits or you can only measure all qubits once. qslam should win in smaller measurement budget regimes and it will be important to confirm this if a asymptotic offset exists in the large measurement limit"
   ]
  }
 ],
 "metadata": {
  "kernelspec": {
   "display_name": "Python 2",
   "language": "python",
   "name": "python2"
  },
  "language_info": {
   "codemirror_mode": {
    "name": "ipython",
    "version": 2
   },
   "file_extension": ".py",
   "mimetype": "text/x-python",
   "name": "python",
   "nbconvert_exporter": "python",
   "pygments_lexer": "ipython2",
   "version": "2.7.13"
  }
 },
 "nbformat": 4,
 "nbformat_minor": 2
}
