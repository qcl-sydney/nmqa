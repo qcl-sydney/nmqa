{
 "cells": [
  {
   "cell_type": "code",
   "execution_count": 1,
   "metadata": {
    "collapsed": false
   },
   "outputs": [],
   "source": [
    "from qslamdesignparams import GLOBALDICT\n",
    "from riskanalysis import CreateQslamExpt as riskqslam\n",
    "import numpy as np\n",
    "import matplotlib.pyplot as plt\n",
    "import copy"
   ]
  },
  {
   "cell_type": "markdown",
   "metadata": {},
   "source": [
    "#### Playing round run - cplay"
   ]
  },
  {
   "cell_type": "code",
   "execution_count": 2,
   "metadata": {
    "collapsed": false
   },
   "outputs": [
    {
     "name": "stdout",
     "output_type": "stream",
     "text": [
      "Variation  1 successful.\n",
      "Variation  2 successful.\n",
      "Variation  3 successful.\n",
      "Variation  4 successful.\n",
      "Variation  5 successful.\n",
      "Variation  6 successful.\n",
      "Variation  7 was not completed\n"
     ]
    },
    {
     "name": "stderr",
     "output_type": "stream",
     "text": [
      "particlesets.py:162: RuntimeWarning: overflow encountered in double_scalars\n",
      "  normalisation = 1.0/unnormalised_total\n",
      "particlesets.py:163: RuntimeWarning: invalid value encountered in multiply\n",
      "  return normalisation*raw_weights\n"
     ]
    },
    {
     "name": "stdout",
     "output_type": "stream",
     "text": [
      "Variation  8 was not completed\n",
      "Variation  9 was not completed\n",
      "Variation  10 was not completed\n"
     ]
    },
    {
     "name": "stderr",
     "output_type": "stream",
     "text": [
      "qslamr.py:466: RuntimeWarning: invalid value encountered in multiply\n",
      "  posterior_weights.append(alpha_particle.weight*beta_alpha_j_weights)\n"
     ]
    },
    {
     "name": "stdout",
     "output_type": "stream",
     "text": [
      "Variation  11 was not completed\n",
      "Variation  12 was not completed\n",
      "Variation  13 was not completed\n",
      "Variation  14 successful.\n",
      "Variation  15 successful.\n",
      "Variation  16 successful.\n",
      "Variation  17 successful.\n",
      "Variation  18 successful.\n",
      "Variation  19 successful.\n",
      "Variation  20 successful.\n",
      "Variation  21 successful.\n",
      "Variation  22 successful.\n",
      "Variation  23 successful.\n",
      "Variation  24 successful.\n"
     ]
    },
    {
     "data": {
      "image/png": "[encoded data removed]",
      "text/plain": [
       "<matplotlib.figure.Figure at 0x7fc3849f3b50>"
      ]
     },
     "metadata": {},
     "output_type": "display_data"
    }
   ],
   "source": [
    "var_param_cplay = [0.00000001, 0.00000001, 0.0000001, 0.000001, 0.00001, 0.0001, 0.001, 0.003, 0.0063, 0.0082, 0.01, 0.025, 0.05, 0.075, 0.1, 0.25, 0.5, 0.75, 1.0, 1.25, 1.5, 1.75, 2.0, 5.0]\n",
    "change_MAX_NUM_ITERATIONS = 50\n",
    "change_SIGMOID_APPROX_ERROR = 0.001\n",
    "change_QUANTISATION_UNCERTY = 0.01\n",
    "\n",
    "savetopath = './calibrations_data/'\n",
    "testcase_ID = 'cplay'\n",
    "var_err_cplay = np.zeros(len(var_param_cplay))\n",
    "plt.figure()\n",
    "\n",
    "for idx_var in range(len(var_param_cplay)):\n",
    "    risk_map = 0.\n",
    "    vardict = copy.deepcopy(GLOBALDICT)\n",
    "    vardict[\"NOISEPARAMS\"][\"QUANTISATION_UNCERTY\"][\"SIGMA\"] = change_QUANTISATION_UNCERTY #var_param_cplay[idx_var]\n",
    "    vardict[\"MODELDESIGN\"][\"MAX_NUM_ITERATIONS\"] = change_MAX_NUM_ITERATIONS\n",
    "    vardict[\"NOISEPARAMS\"][\"SIGMOID_APPROX_ERROR\"][\"SIGMA\"] = var_param_cplay[idx_var] #change_SIGMOID_APPROX_ERROR\n",
    "    vardict[\"MODELDESIGN\"][\"ID\"] = savetopath + testcase_ID + '_v_' + str(idx_var + 1)\n",
    "    risk_map = riskqslam(**vardict)\n",
    "    \n",
    "    try:\n",
    "        risk_map.naive_implementation(randomise='OFF')\n",
    "        print \"Variation \", idx_var + 1, \"successful.\" \n",
    "        ydata = np.asarray(risk_map.macro_residuals)\n",
    "        var_err_cplay[idx_var] = (1.0/ np.sqrt(ydata.shape[2]))*np.mean(np.linalg.norm(ydata[0,:,:], axis=1), axis=0)\n",
    "        plt.plot(var_param_cplay[idx_var], var_err_cplay[idx_var], 'ko')\n",
    "    except :\n",
    "        print \"Variation \", idx_var + 1, \"was not completed\"\n",
    "\n",
    "plt.title('Calibration: ' + testcase_ID)\n",
    "plt.ylabel('RMS')\n",
    "plt.xlabel('Variations on Parameter Regime')\n",
    "plt.xscale('log')\n",
    "# plt.ylim([0, 1])\n",
    "plt.show()  "
   ]
  },
  {
   "cell_type": "markdown",
   "metadata": {},
   "source": [
    "#### Calibration Run: C1"
   ]
  },
  {
   "cell_type": "code",
   "execution_count": 3,
   "metadata": {
    "collapsed": false
   },
   "outputs": [
    {
     "name": "stdout",
     "output_type": "stream",
     "text": [
      "Variation  1 successful.\n",
      "Variation  2 successful.\n",
      "Variation  3 was not completed\n",
      "Variation  4 was not completed\n",
      "Variation  5 successful.\n",
      "Variation  6 successful.\n",
      "Variation  7 successful.\n",
      "Variation  8 successful.\n"
     ]
    },
    {
     "data": {
      "image/png": "[encoded data removed]",
      "text/plain": [
       "<matplotlib.figure.Figure at 0x7fc3849ea450>"
      ]
     },
     "metadata": {},
     "output_type": "display_data"
    }
   ],
   "source": [
    "var_param_c1 = [0.00001, 0.0001, 0.001, 0.01, 0.1, 1.0, 2.0, 5.0]\n",
    "\n",
    "savetopath = './calibrations_data/'\n",
    "testcase_ID = 'C1'\n",
    "var_err_c1 = np.zeros(len(var_param_c1))\n",
    "plt.figure()\n",
    "\n",
    "for idx_var in range(len(var_param_c1)):\n",
    "    risk_map = 0.\n",
    "    vardict = copy.deepcopy(GLOBALDICT)\n",
    "    vardict[\"NOISEPARAMS\"][\"SIGMOID_APPROX_ERROR\"][\"SIGMA\"] = var_param_c1[idx_var]\n",
    "    vardict[\"MODELDESIGN\"][\"ID\"] = savetopath + testcase_ID + '_v_' + str(idx_var + 1)\n",
    "    risk_map = riskqslam(**vardict)\n",
    "    \n",
    "    try:\n",
    "        risk_map.naive_implementation(randomise='OFF')\n",
    "        print \"Variation \", idx_var + 1, \"successful.\" \n",
    "        ydata = np.asarray(risk_map.macro_residuals)\n",
    "        var_err_c1[idx_var] = (1.0/ np.sqrt(ydata.shape[2]))*np.mean(np.linalg.norm(ydata[0,:,:], axis=1), axis=0)\n",
    "        plt.plot(var_param_c1[idx_var], var_err_c1[idx_var], 'ko')\n",
    "    except :\n",
    "        print \"Variation \", idx_var + 1, \"was not completed\"\n",
    "\n",
    "plt.title('Calibration: ' + testcase_ID)\n",
    "plt.ylabel('RMS')\n",
    "plt.xlabel('Sigmoid Approx Error Variance')\n",
    "plt.xscale('log')\n",
    "# plt.ylim([0, 1])\n",
    "plt.show()  "
   ]
  },
  {
   "cell_type": "markdown",
   "metadata": {},
   "source": [
    "#### Calibration Run: C2"
   ]
  },
  {
   "cell_type": "code",
   "execution_count": 4,
   "metadata": {
    "collapsed": false
   },
   "outputs": [
    {
     "name": "stdout",
     "output_type": "stream",
     "text": [
      "Variation  1 successful.\n",
      "Variation  2 successful.\n",
      "Variation  3 successful.\n",
      "Variation  4 successful.\n",
      "Variation  5 successful.\n",
      "Variation  6 successful.\n",
      "Variation  7 successful.\n",
      "Variation  8 successful.\n",
      "Variation  9 successful.\n",
      "Variation  10 successful.\n",
      "Variation  11 successful.\n"
     ]
    },
    {
     "data": {
      "image/png": "[encoded data removed]",
      "text/plain": [
       "<matplotlib.figure.Figure at 0x7fc38152f2d0>"
      ]
     },
     "metadata": {},
     "output_type": "display_data"
    }
   ],
   "source": [
    "var_param_c2 = [1, 2, 3, 4, 6, 8, 10, 20, 50, 100, 200]\n",
    "savetopath = './calibrations_data/'\n",
    "testcase_ID = 'C2'\n",
    "var_err_c2 = np.zeros(len(var_param_c2))\n",
    "plt.figure()\n",
    "\n",
    "for idx_var in range(len(var_param_c2)):\n",
    "    risk_map = 0.\n",
    "    vardict = copy.deepcopy(GLOBALDICT)\n",
    "    vardict[\"MODELDESIGN\"][\"MAX_NUM_ITERATIONS\"] = var_param_c2[idx_var]\n",
    "    vardict[\"MODELDESIGN\"][\"ID\"] = savetopath + testcase_ID + '_v_' + str(idx_var + 1)\n",
    "    risk_map = riskqslam(**vardict)\n",
    "    \n",
    "    try:\n",
    "        risk_map.naive_implementation(randomise='OFF')\n",
    "        print \"Variation \", idx_var + 1, \"successful.\" \n",
    "        ydata = np.asarray(risk_map.macro_residuals)\n",
    "        var_err_c2[idx_var] = (1.0/ np.sqrt(ydata.shape[2]))*np.mean(np.linalg.norm(ydata[0,:,:], axis=1), axis=0)\n",
    "        plt.plot(var_param_c2[idx_var], var_err_c2[idx_var], 'ko')\n",
    "    except :\n",
    "        print \"Variation \", idx_var + 1, \"was not completed\"\n",
    "\n",
    "plt.title('Calibration: ' + testcase_ID)\n",
    "plt.ylabel('RMS')\n",
    "plt.xlabel('Maximum Number of Iterations (==Total Msmts)')\n",
    "plt.xscale('log')\n",
    "# plt.ylim([0, 1])\n",
    "plt.show()  "
   ]
  },
  {
   "cell_type": "code",
   "execution_count": 9,
   "metadata": {
    "collapsed": false
   },
   "outputs": [
    {
     "data": {
      "text/plain": [
       "array([ 1.49727699,  1.17618959,  0.94068637,  0.78444122,  0.53963922,\n",
       "        0.43385253,  0.40993987,  0.30576905,  0.24025234,  0.19326446,\n",
       "        0.14403593])"
      ]
     },
     "execution_count": 9,
     "metadata": {},
     "output_type": "execute_result"
    }
   ],
   "source": [
    "var_err_c2"
   ]
  },
  {
   "cell_type": "markdown",
   "metadata": {},
   "source": [
    "#### Calibration Run: C3"
   ]
  },
  {
   "cell_type": "code",
   "execution_count": 5,
   "metadata": {
    "collapsed": false
   },
   "outputs": [
    {
     "name": "stdout",
     "output_type": "stream",
     "text": [
      "Variation  1 successful.\n",
      "Variation  2 successful.\n",
      "Variation  3 successful.\n",
      "Variation  4 successful.\n",
      "Variation  5 successful.\n",
      "Variation  6 successful.\n",
      "Variation  7 successful.\n",
      "Variation  8 successful.\n",
      "Variation  9 successful.\n",
      "Variation  10 successful.\n",
      "Variation  11 successful.\n"
     ]
    },
    {
     "data": {
      "image/png": "[encoded data removed]",
      "text/plain": [
       "<matplotlib.figure.Figure at 0x7fc380f34b50>"
      ]
     },
     "metadata": {},
     "output_type": "display_data"
    }
   ],
   "source": [
    "var_param_c3 = [1, 2, 3, 4, 5, 10, 14, 25, 50, 75, 100]\n",
    "savetopath = './calibrations_data/'\n",
    "testcase_ID = 'C3'\n",
    "var_err_c3 = np.zeros(len(var_param_c3))\n",
    "plt.figure()\n",
    "\n",
    "for idx_var in range(len(var_param_c3)):\n",
    "    risk_map = 0.\n",
    "    vardict = copy.deepcopy(GLOBALDICT)\n",
    "    vardict[\"MODELDESIGN\"][\"MSMTS_PER_NODE\"] = var_param_c3[idx_var]\n",
    "    vardict[\"MODELDESIGN\"][\"ID\"] = savetopath + testcase_ID + '_v_' + str(idx_var + 1)\n",
    "    risk_map = riskqslam(**vardict)\n",
    "    \n",
    "    try:\n",
    "        risk_map.naive_implementation(randomise='OFF')\n",
    "        print \"Variation \", idx_var + 1, \"successful.\" \n",
    "        ydata = np.asarray(risk_map.macro_residuals)\n",
    "        var_err_c3[idx_var] = (1.0/ np.sqrt(ydata.shape[2]))*np.mean(np.linalg.norm(ydata[0,:,:], axis=1), axis=0)\n",
    "        plt.plot(var_param_c3[idx_var], var_err_c3[idx_var], 'ko')\n",
    "    except :\n",
    "        print \"Variation \", idx_var + 1, \"was not completed\"\n",
    "\n",
    "plt.title('Calibration: ' + testcase_ID)\n",
    "plt.ylabel('RMS')\n",
    "plt.xlabel('Msmt per qubit (fix: 10 total qubits)')\n",
    "plt.xscale('log')\n",
    "# plt.ylim([0, 1])\n",
    "plt.show()  "
   ]
  },
  {
   "cell_type": "markdown",
   "metadata": {},
   "source": [
    "#### Calibration Run: C4"
   ]
  },
  {
   "cell_type": "code",
   "execution_count": 6,
   "metadata": {
    "collapsed": false,
    "scrolled": true
   },
   "outputs": [
    {
     "name": "stdout",
     "output_type": "stream",
     "text": [
      "Control List empty; randomly chosen qubit on grid.\n",
      "Control List empty; randomly chosen qubit on grid.\n",
      "Control List empty; randomly chosen qubit on grid.\n",
      "Control List empty; randomly chosen qubit on grid.\n",
      "Control List empty; randomly chosen qubit on grid.\n",
      "Control List empty; randomly chosen qubit on grid.\n",
      "Control List empty; randomly chosen qubit on grid.\n",
      "Control List empty; randomly chosen qubit on grid.\n",
      "Control List empty; randomly chosen qubit on grid.\n",
      "Control List empty; randomly chosen qubit on grid.\n",
      "Control List empty; randomly chosen qubit on grid.\n",
      "Control List empty; randomly chosen qubit on grid.\n",
      "Control List empty; randomly chosen qubit on grid.\n",
      "Control List empty; randomly chosen qubit on grid.\n",
      "Control List empty; randomly chosen qubit on grid.\n",
      "Variation  1 successful.\n",
      "Control List empty; randomly chosen qubit on grid.\n",
      "Control List empty; randomly chosen qubit on grid.\n",
      "Control List empty; randomly chosen qubit on grid.\n",
      "Control List empty; randomly chosen qubit on grid.\n",
      "Control List empty; randomly chosen qubit on grid.\n",
      "Control List empty; randomly chosen qubit on grid.\n",
      "Control List empty; randomly chosen qubit on grid.\n",
      "Control List empty; randomly chosen qubit on grid.\n",
      "Control List empty; randomly chosen qubit on grid.\n",
      "Control List empty; randomly chosen qubit on grid.\n",
      "Control List empty; randomly chosen qubit on grid.\n",
      "Control List empty; randomly chosen qubit on grid.\n",
      "Control List empty; randomly chosen qubit on grid.\n",
      "Control List empty; randomly chosen qubit on grid.\n",
      "Control List empty; randomly chosen qubit on grid.\n",
      "Control List empty; randomly chosen qubit on grid.\n",
      "Control List empty; randomly chosen qubit on grid.\n",
      "Variation  2 successful.\n",
      "Control List empty; randomly chosen qubit on grid.\n",
      "Control List empty; randomly chosen qubit on grid.\n",
      "Control List empty; randomly chosen qubit on grid.\n",
      "Variation  3 successful.\n",
      "Variation  4 successful.\n",
      "Variation  5 successful.\n",
      "Variation  6 successful.\n",
      "Variation  7 successful.\n",
      "Variation  8 successful.\n",
      "Variation  9 successful.\n",
      "Variation  10 successful.\n",
      "Variation  11 successful.\n"
     ]
    },
    {
     "data": {
      "image/png": "[encoded data removed]",
      "text/plain": [
       "<matplotlib.figure.Figure at 0x7fc380d36390>"
      ]
     },
     "metadata": {},
     "output_type": "display_data"
    }
   ],
   "source": [
    "var_param_c4 = [0.23, 0.45, 0.91, 1.36, 1.81, 2.26, 4.53, 9.05, 13.58, 18.10, 22.40]\n",
    "savetopath = './calibrations_data/'\n",
    "testcase_ID = 'C4'\n",
    "var_err_c4 = np.zeros(len(var_param_c4))\n",
    "plt.figure()\n",
    "\n",
    "for idx_var in range(len(var_param_c4)):\n",
    "    risk_map = 0.\n",
    "    vardict = copy.deepcopy(GLOBALDICT)\n",
    "    vardict[\"MODELDESIGN\"][\"MULTIPLER_R_MIN\"] = var_param_c4[idx_var]\n",
    "    vardict[\"MODELDESIGN\"][\"ID\"] = savetopath + testcase_ID + '_v_' + str(idx_var + 1)\n",
    "    risk_map = riskqslam(**vardict)\n",
    "    \n",
    "    try:\n",
    "        risk_map.naive_implementation(randomise='OFF')\n",
    "        print \"Variation \", idx_var + 1, \"successful.\" \n",
    "        ydata = np.asarray(risk_map.macro_residuals)\n",
    "        var_err_c4[idx_var] = (1.0/ np.sqrt(ydata.shape[2]))*np.mean(np.linalg.norm(ydata[0,:,:], axis=1), axis=0)\n",
    "        plt.plot(var_param_c4[idx_var], var_err_c4[idx_var], 'ko')\n",
    "    except :\n",
    "        print \"Variation \", idx_var + 1, \"was not completed\"\n",
    "\n",
    "plt.title('Calibration: ' + testcase_ID)\n",
    "plt.ylabel('RMS')\n",
    "plt.xlabel('Lower bound for lengthscale prior')\n",
    "plt.xscale('log')\n",
    "# plt.ylim([0, 1])\n",
    "plt.show()  "
   ]
  },
  {
   "cell_type": "markdown",
   "metadata": {},
   "source": [
    "#### Calibration Run: C5"
   ]
  },
  {
   "cell_type": "code",
   "execution_count": 7,
   "metadata": {
    "collapsed": false
   },
   "outputs": [
    {
     "name": "stdout",
     "output_type": "stream",
     "text": [
      "Variation  1 successful.\n",
      "Variation  2 successful.\n",
      "Variation  3 successful.\n",
      "Variation  4 successful.\n",
      "Variation  5 successful.\n",
      "Variation  6 successful.\n",
      "Variation  7 successful.\n",
      "Variation  8 successful.\n",
      "Variation  9 successful.\n",
      "Variation  10 successful.\n",
      "Variation  11 successful.\n",
      "Variation  12 successful.\n",
      "Variation  13 successful.\n",
      "Variation  14 successful.\n"
     ]
    },
    {
     "data": {
      "image/png": "[encoded data removed]",
      "text/plain": [
       "<matplotlib.figure.Figure at 0x7fc380bbdc10>"
      ]
     },
     "metadata": {},
     "output_type": "display_data"
    }
   ],
   "source": [
    "c5_alpha = [5, 5, 5, 5, 5, 5, 5, 1, 2, 3, 4, 5, 10, 20]\n",
    "c5_beta =  [2, 4, 6, 7, 10, 20, 40, 10, 10, 10, 10, 10, 10, 10]\n",
    "\n",
    "\n",
    "var_param_c5 = zip(c5_alpha, c5_beta)\n",
    "savetopath = './calibrations_data/'\n",
    "testcase_ID = 'C5'\n",
    "var_err_c5 = np.zeros(len(var_param_c5))\n",
    "plt.figure()\n",
    "\n",
    "for idx_var in range(len(var_param_c5)):\n",
    "    risk_map = 0.\n",
    "    vardict = copy.deepcopy(GLOBALDICT)\n",
    "    vardict[\"MODELDESIGN\"][\"P_ALPHA\"] = var_param_c5[idx_var][0]\n",
    "    vardict[\"MODELDESIGN\"][\"P_BETA\"] = var_param_c5[idx_var][1]\n",
    "    vardict[\"MODELDESIGN\"][\"ID\"] = savetopath + testcase_ID + '_v_' + str(idx_var + 1)\n",
    "    risk_map = riskqslam(**vardict)\n",
    "    \n",
    "    try:\n",
    "        risk_map.naive_implementation(randomise='OFF')\n",
    "        print \"Variation \", idx_var + 1, \"successful.\" \n",
    "        ydata = np.asarray(risk_map.macro_residuals)\n",
    "        var_err_c5[idx_var] = (1.0/ np.sqrt(ydata.shape[2]))*np.mean(np.linalg.norm(ydata[0,:,:], axis=1), axis=0)\n",
    "        if idx_var + 1 > 7 :\n",
    "            plt.plot(idx_var + 1, var_err_c5[idx_var], 'ko')\n",
    "        if idx_var + 1 <= 7 :\n",
    "            plt.plot(idx_var + 1, var_err_c5[idx_var], 'bo')\n",
    "    except :\n",
    "        print \"Variation \", idx_var + 1, \"was not completed\"\n",
    "\n",
    "plt.title('Calibration: ' + testcase_ID)\n",
    "plt.ylabel('RMS')\n",
    "plt.xlabel('Variations on Particle Tree configurations')\n",
    "# plt.ylim([0, 1])\n",
    "plt.show()  "
   ]
  },
  {
   "cell_type": "markdown",
   "metadata": {},
   "source": [
    "#### Calibration Run: C6"
   ]
  },
  {
   "cell_type": "code",
   "execution_count": 8,
   "metadata": {
    "collapsed": false
   },
   "outputs": [
    {
     "name": "stdout",
     "output_type": "stream",
     "text": [
      "Variation  1 successful.\n",
      "Variation  2 successful.\n",
      "Variation  3 successful.\n",
      "Variation  4 successful.\n",
      "Variation  5 successful.\n",
      "Variation  6 successful.\n",
      "Variation  7 successful.\n",
      "Variation  8 successful.\n",
      "Variation  9 successful.\n",
      "Variation  10 successful.\n",
      "Variation  11 successful.\n"
     ]
    },
    {
     "data": {
      "image/png": "[encoded data removed]",
      "text/plain": [
       "<matplotlib.figure.Figure at 0x7fc381044d10>"
      ]
     },
     "metadata": {},
     "output_type": "display_data"
    }
   ],
   "source": [
    "c6_lambda1 = [1.0, 1.0, 1.0, 1.0, 1.0, 1.0, 0.996, 0.99, 0.82, 0.965, 0.0]\n",
    "c6_lambda2 = [1.0, 0.998, 0.9955, 0.993, 0.99, 0.9864, 0.982, 0.977, 0.968, 0.956, 0.0]\n",
    "\n",
    "\n",
    "var_param_c6 = zip(c6_lambda1, c6_lambda2)\n",
    "savetopath = './calibrations_data/'\n",
    "testcase_ID = 'C6'\n",
    "var_err_c6 = np.zeros(len(var_param_c6))\n",
    "plt.figure()\n",
    "\n",
    "for idx_var in range(len(var_param_c6)):\n",
    "    risk_map = 0.\n",
    "    vardict = copy.deepcopy(GLOBALDICT)\n",
    "    vardict[\"MODELDESIGN\"][\"LAMBDA_1\"] = var_param_c6[idx_var][0]\n",
    "    vardict[\"MODELDESIGN\"][\"LAMBDA_2\"] = var_param_c6[idx_var][1]\n",
    "    vardict[\"MODELDESIGN\"][\"ID\"] = savetopath + testcase_ID + '_v_' + str(idx_var + 1)\n",
    "    risk_map = riskqslam(**vardict)\n",
    "    \n",
    "    try:\n",
    "        risk_map.naive_implementation(randomise='OFF')\n",
    "        print \"Variation \", idx_var + 1, \"successful.\" \n",
    "        ydata = np.asarray(risk_map.macro_residuals)\n",
    "        var_err_c6[idx_var] = (1.0/ np.sqrt(ydata.shape[2]))*np.mean(np.linalg.norm(ydata[0,:,:], axis=1), axis=0)\n",
    "        plt.plot(idx_var + 1, var_err_c6[idx_var], 'ko')\n",
    "    except :\n",
    "        print \"Variation \", idx_var + 1, \"was not completed\"\n",
    "\n",
    "plt.title('Calibration: ' + testcase_ID)\n",
    "plt.ylabel('RMS')\n",
    "plt.xlabel('Variations on Lambda 1 and 2 configs')\n",
    "# plt.ylim([0, 1])\n",
    "plt.show()  "
   ]
  },
  {
   "cell_type": "code",
   "execution_count": null,
   "metadata": {
    "collapsed": true
   },
   "outputs": [],
   "source": []
  }
 ],
 "metadata": {
  "kernelspec": {
   "display_name": "Python 2",
   "language": "python",
   "name": "python2"
  },
  "language_info": {
   "codemirror_mode": {
    "name": "ipython",
    "version": 2
   },
   "file_extension": ".py",
   "mimetype": "text/x-python",
   "name": "python",
   "nbconvert_exporter": "python",
   "pygments_lexer": "ipython2",
   "version": "2.7.13"
  }
 },
 "nbformat": 4,
 "nbformat_minor": 2
}
