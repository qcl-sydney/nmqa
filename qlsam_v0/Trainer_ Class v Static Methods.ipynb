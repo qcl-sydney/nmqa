{
 "cells": [
  {
   "cell_type": "code",
   "execution_count": 13,
   "metadata": {
    "collapsed": false
   },
   "outputs": [],
   "source": [
    "class Aclass(object):\n",
    "    \n",
    "    def __init__(self, input_=0):\n",
    "        self.input = input_\n",
    "        pass\n",
    "    \n",
    "    @classmethod\n",
    "    def tryaclassmethod(cls, argheaps=\"Beefy\"):\n",
    "        pass\n",
    "        \n",
    "    def normmethod(self, arg=0):\n",
    "        '''Updates self.input == arg'''\n",
    "        self.input = arg\n",
    "        pass\n",
    "    \n",
    "    def callstaticmethod(self, arg1, arg2):\n",
    "        '''call static method from normal method'''\n",
    "        self.normmethod(arg1)\n",
    "        print self.input\n",
    "        somestatmethod(arg2)\n",
    "        pass\n",
    "        \n",
    "    @staticmethod\n",
    "    def somestatmethod(arg):\n",
    "        '''Tries to access self.input == arg but fails'''\n",
    "        try:\n",
    "            self.input = arg\n",
    "        except:\n",
    "            print(\"self.input not updated\")\n",
    "        pass\n",
    "    \n",
    "class Bclass(Aclass):\n",
    "    \n",
    "    def __init__(self, input_=0):\n",
    "        pass\n",
    "        \n",
    "    \n"
   ]
  },
  {
   "cell_type": "code",
   "execution_count": 14,
   "metadata": {
    "collapsed": true
   },
   "outputs": [],
   "source": [
    "\n",
    "bobj = Bclass(5)"
   ]
  },
  {
   "cell_type": "code",
   "execution_count": 15,
   "metadata": {
    "collapsed": false
   },
   "outputs": [
    {
     "name": "stdout",
     "output_type": "stream",
     "text": [
      "self.input not updated\n"
     ]
    }
   ],
   "source": [
    "bobj.somestatmethod(6)"
   ]
  },
  {
   "cell_type": "code",
   "execution_count": 2,
   "metadata": {
    "collapsed": false
   },
   "outputs": [
    {
     "name": "stdout",
     "output_type": "stream",
     "text": [
      "10\n",
      "0\n",
      "self.input not updated\n",
      "0\n",
      "2\n",
      "self.input not updated\n"
     ]
    }
   ],
   "source": [
    "test = Aclass(input_=10)\n",
    "print test.input\n",
    "test.normmethod()\n",
    "print test.input\n",
    "\n",
    "test.somestatmethod(5)\n",
    "print test.input\n",
    "\n",
    "test.callstaticmethod(2, 3)"
   ]
  },
  {
   "cell_type": "code",
   "execution_count": 3,
   "metadata": {
    "collapsed": false
   },
   "outputs": [
    {
     "name": "stdout",
     "output_type": "stream",
     "text": [
      "10\n"
     ]
    }
   ],
   "source": [
    "test2 = Aclass(input_=10)\n",
    "print test2.input"
   ]
  },
  {
   "cell_type": "code",
   "execution_count": 4,
   "metadata": {
    "collapsed": false
   },
   "outputs": [],
   "source": [
    "test2.tryaclassmethod()"
   ]
  },
  {
   "cell_type": "code",
   "execution_count": 5,
   "metadata": {
    "collapsed": false
   },
   "outputs": [
    {
     "data": {
      "text/plain": [
       "2"
      ]
     },
     "execution_count": 5,
     "metadata": {},
     "output_type": "execute_result"
    }
   ],
   "source": [
    "test.input"
   ]
  },
  {
   "cell_type": "code",
   "execution_count": 6,
   "metadata": {
    "collapsed": false
   },
   "outputs": [
    {
     "data": {
      "text/plain": [
       "10"
      ]
     },
     "execution_count": 6,
     "metadata": {},
     "output_type": "execute_result"
    }
   ],
   "source": [
    "test2.input"
   ]
  },
  {
   "cell_type": "code",
   "execution_count": null,
   "metadata": {
    "collapsed": true
   },
   "outputs": [],
   "source": []
  }
 ],
 "metadata": {
  "kernelspec": {
   "display_name": "Python 2",
   "language": "python",
   "name": "python2"
  },
  "language_info": {
   "codemirror_mode": {
    "name": "ipython",
    "version": 2
   },
   "file_extension": ".py",
   "mimetype": "text/x-python",
   "name": "python",
   "nbconvert_exporter": "python",
   "pygments_lexer": "ipython2",
   "version": "2.7.13"
  }
 },
 "nbformat": 4,
 "nbformat_minor": 2
}
