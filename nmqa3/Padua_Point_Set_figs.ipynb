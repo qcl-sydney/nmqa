{
 "cells": [
  {
   "cell_type": "code",
   "execution_count": 1,
   "metadata": {},
   "outputs": [],
   "source": [
    "import numpy as np\n",
    "import matplotlib.pyplot as plt\n",
    "\n",
    "import sys\n",
    "sys.path.append('../paduaq/')\n",
    "sys.path.append('../qslam/')\n",
    "from padua import padua_points, padua_points_set, padua_order\n",
    "from visualiserisk import HEATMAP, cm2inch\n",
    "\n",
    "from pdinter_MM import pd_interpolant, calc_padua_cgl\n",
    "from true_functions import true_function, generate_data_qubits_coords\n",
    "\n",
    "from pdpoints import *\n",
    "from pdweights import reproducing_kernel_v2, fundamental_L_B_v2, Tn_"
   ]
  },
  {
   "cell_type": "code",
   "execution_count": 19,
   "metadata": {},
   "outputs": [
    {
     "data": {
      "image/png": "[encoded data removed]",
      "text/plain": [
       "<Figure size 62.3622x62.3622 with 1 Axes>"
      ]
     },
     "metadata": {},
     "output_type": "display_data"
    },
    {
     "data": {
      "image/png": "[encoded data removed]",
      "text/plain": [
       "<Figure size 62.3622x62.3622 with 1 Axes>"
      ]
     },
     "metadata": {},
     "output_type": "display_data"
    },
    {
     "data": {
      "image/png": "[encoded data removed]",
      "text/plain": [
       "<Figure size 62.3622x62.3622 with 1 Axes>"
      ]
     },
     "metadata": {},
     "output_type": "display_data"
    },
    {
     "data": {
      "image/png": "[encoded data removed]",
      "text/plain": [
       "<Figure size 62.3622x62.3622 with 1 Axes>"
      ]
     },
     "metadata": {},
     "output_type": "display_data"
    },
    {
     "data": {
      "image/png": "[encoded data removed]",
      "text/plain": [
       "<Figure size 62.3622x62.3622 with 1 Axes>"
      ]
     },
     "metadata": {},
     "output_type": "display_data"
    },
    {
     "data": {
      "image/png": "[encoded data removed]",
      "text/plain": [
       "<Figure size 62.3622x62.3622 with 1 Axes>"
      ]
     },
     "metadata": {},
     "output_type": "display_data"
    },
    {
     "data": {
      "image/png": "[encoded data removed]",
      "text/plain": [
       "<Figure size 62.3622x62.3622 with 1 Axes>"
      ]
     },
     "metadata": {},
     "output_type": "display_data"
    },
    {
     "data": {
      "image/png": "[encoded data removed]",
      "text/plain": [
       "<Figure size 62.3622x62.3622 with 1 Axes>"
      ]
     },
     "metadata": {},
     "output_type": "display_data"
    },
    {
     "data": {
      "image/png": "[encoded data removed]",
      "text/plain": [
       "<Figure size 62.3622x62.3622 with 1 Axes>"
      ]
     },
     "metadata": {},
     "output_type": "display_data"
    },
    {
     "data": {
      "image/png": "[encoded data removed]",
      "text/plain": [
       "<Figure size 62.3622x62.3622 with 1 Axes>"
      ]
     },
     "metadata": {},
     "output_type": "display_data"
    },
    {
     "data": {
      "image/png": "[encoded data removed]",
      "text/plain": [
       "<Figure size 62.3622x62.3622 with 1 Axes>"
      ]
     },
     "metadata": {},
     "output_type": "display_data"
    },
    {
     "data": {
      "image/png": "[encoded data removed]",
      "text/plain": [
       "<Figure size 62.3622x62.3622 with 1 Axes>"
      ]
     },
     "metadata": {},
     "output_type": "display_data"
    }
   ],
   "source": [
    "regular_grid_list = [-4, -5, -3, -6, -7, -2, 1, 2, 3, 4, 5, 10]\n",
    "data_qubit_num = 25\n",
    "data_qubit_flag ='uniform'\n",
    "\n",
    "\n",
    "\n",
    "\n",
    "idxorder=0\n",
    "for padua_order in regular_grid_list:\n",
    "    \n",
    "    fig = plt.figure(figsize=(cm2inch(2.2),cm2inch(2.2)))\n",
    "    \n",
    "    ########################\n",
    "    # Generate Sensing Qubits\n",
    "    ########################\n",
    "    \n",
    "    #\n",
    "    if padua_order > 0:\n",
    "        sensing_qubits = calc_padua_cgl(padua_order)[0]\n",
    "    \n",
    "\n",
    "    # No data-qubits, basic analysis\n",
    "\n",
    "    if padua_order == -1: \n",
    "        sensing_qubits = generate_data_qubits_coords(data_qubit_num,\n",
    "                                              flag=data_qubit_flag)\n",
    "\n",
    "    # Sensor-qubits in regular (non-Padua) formation\n",
    "\n",
    "    if padua_order == -2:\n",
    "        FINEGRID = 81\n",
    "        sensing_qubits = generate_data_qubits_coords(FINEGRID, flag=data_qubit_flag)\n",
    "\n",
    "    if padua_order == -3:\n",
    "        COARSEGRID = 16\n",
    "        sensing_qubits = generate_data_qubits_coords(COARSEGRID, flag=data_qubit_flag)\n",
    "\n",
    "        # Re-position grid inside square region\n",
    "        sensing_qubits = list(np.asarray(sensing_qubits) * 0.75)\n",
    "\n",
    "    if padua_order == -4:\n",
    "        REG4 = 4\n",
    "        sensing_qubits = generate_data_qubits_coords(REG4, flag=data_qubit_flag)\n",
    "        sensing_qubits = list(np.asarray(sensing_qubits) * 0.75)\n",
    "\n",
    "    if padua_order == -5:\n",
    "        REG9 = 9\n",
    "        sensing_qubits = generate_data_qubits_coords(REG9, flag=data_qubit_flag)\n",
    "        sensing_qubits = list(np.asarray(sensing_qubits) * 0.75)\n",
    "\n",
    "    if padua_order == -6:\n",
    "        REG36 = 36\n",
    "        sensing_qubits = generate_data_qubits_coords(REG36, flag=data_qubit_flag)\n",
    "        \n",
    "    \n",
    "    if padua_order == -7:\n",
    "        # specific grid to address random polynomial functionality\n",
    "        sensing_qubits = generate_data_qubits_coords(25, flag=data_qubit_flag)\n",
    "        sensing_qubits = list(np.asarray(sensing_qubits)*0.75)\n",
    "    \n",
    "    ########################\n",
    "    # Generate Data Qubits\n",
    "    ########################\n",
    "        \n",
    "    if padua_order > 0:\n",
    "        data_qubits = generate_data_qubits_coords(data_qubit_num, flag=data_qubit_flag)\n",
    "\n",
    "    if padua_order == -1: \n",
    "        data_qubits = None\n",
    "        \n",
    "    if padua_order == -2:\n",
    "        data_qubits = generate_data_qubits_coords(data_qubit_num, flag=data_qubit_flag)\n",
    "        \n",
    "        # remove duplicate sensors:\n",
    "        sensing_qubits = list(set(sensing_qubits) - set(data_qubits))\n",
    "\n",
    "    if padua_order <= -3:\n",
    "        data_qubits = generate_data_qubits_coords(data_qubit_num, flag=data_qubit_flag)\n",
    "\n",
    "\n",
    "    plt.subplot(111) #len(regular_grid_list), idxorder + 1)\n",
    "    plt.ylim([-1.1,1.1])\n",
    "    plt.xlim([-1.1,1.1])\n",
    "    \n",
    "   \n",
    "    # Overlay data grid\n",
    "    if data_qubits is not None:\n",
    "        data_qubits = np.asarray(data_qubits)\n",
    "        plt.plot(data_qubits[:,0], data_qubits[:,1], '.', \n",
    "                 markeredgecolor='darkgrey', \n",
    "                 markerfacecolor='darkgrey',\n",
    "                 label=\"Data Qubits\", ms=4, alpha=0.5)\n",
    "\n",
    "    # Calculated padua points\n",
    "    sensing_qubits = np.asarray(sensing_qubits)\n",
    "    plt.plot(sensing_qubits[:,0], sensing_qubits[:,1], '.', \n",
    "             markeredgecolor='darkred', \n",
    "             markerfacecolor='darkred',\n",
    "             label=\"Sensor Qubits\", ms=4, alpha=0.5)\n",
    "        \n",
    "    if padua_order > 0:\n",
    "        t = np.linspace(0, np.pi, 200)\n",
    "        x_curve, y_curve = generating_curve(padua_order, t)\n",
    "        plt.plot(x_curve, y_curve, '--', label=\"Gen. Curve\", \n",
    "             lw=0.5, c='darkred', alpha=0.5)\n",
    "\n",
    "    #plt.tick_params(labelleft=False, labelbottom=False)\n",
    "    plt.xticks([])\n",
    "    plt.yticks([])\n",
    "    \n",
    "    idxorder+=1\n",
    "\n",
    "    plt.savefig('./data_figs/regular_set_'+str(padua_order)+'.svg', format='svg', dpi=800)\n",
    "    plt.show()"
   ]
  },
  {
   "cell_type": "markdown",
   "metadata": {},
   "source": [
    "# Padua Points\n",
    "\n",
    "All methods validate that the Padua points can be calculated correctly via ideal theory approach, and transformed generating curve approach.\n"
   ]
  },
  {
   "cell_type": "markdown",
   "metadata": {},
   "source": [
    "## Plot and test padua points and generating curve"
   ]
  },
  {
   "cell_type": "code",
   "execution_count": 3,
   "metadata": {},
   "outputs": [
    {
     "data": {
      "text/plain": [
       "'\\nValidation for Python functions:\\n    Ideal Theory: generate_padua_points()\\n    Generating Curve: transform_points(calc_padua_points())\\n'"
      ]
     },
     "execution_count": 3,
     "metadata": {},
     "output_type": "execute_result"
    }
   ],
   "source": [
    "'''\n",
    "Validation for Python functions:\n",
    "    Ideal Theory: generate_padua_points()\n",
    "    Generating Curve: transform_points(calc_padua_points())\n",
    "'''"
   ]
  },
  {
   "cell_type": "code",
   "execution_count": 4,
   "metadata": {
    "scrolled": false
   },
   "outputs": [
    {
     "data": {
      "image/png": "[encoded data removed]",
      "text/plain": [
       "<Figure size 283.465x93.5433 with 3 Axes>"
      ]
     },
     "metadata": {},
     "output_type": "display_data"
    }
   ],
   "source": [
    "t = np.linspace(0, np.pi, 200)\n",
    "x = np.linspace(-1, 1, 5)\n",
    "X, Y = np.meshgrid(x,x)\n",
    "\n",
    "fig = plt.figure(figsize=(cm2inch(10),cm2inch(3.3)))\n",
    "padua_order_list= [1, 4, 10]\n",
    "\n",
    "idxorder=0\n",
    "for order in padua_order_list:\n",
    "    \n",
    "    paduas = calc_padua_points(order)[0]\n",
    "    # paduas_c = padua_points_set(order) \n",
    "    paduas_2 = generate_padua_points(order)\n",
    "    \n",
    "    plt.subplot(1, len(padua_order_list), idxorder + 1)\n",
    "    plt.ylim([-1.1,1.1])\n",
    "    plt.xlim([-1.1,1.1])\n",
    "    \n",
    "   \n",
    "    # Overlay data grid\n",
    "    plt.plot(X.flatten(), Y.flatten(), 'o', \n",
    "             markeredgecolor='lightgrey', \n",
    "             markerfacecolor='lightgrey',\n",
    "             label=\"Data Qubits\", ms=3, alpha=1.)\n",
    "    \n",
    "    # Calculated padua points\n",
    "    plt.plot(paduas_2[:,0], paduas_2[:,1], 'o', \n",
    "             markeredgecolor='darkred', \n",
    "             markerfacecolor='darkred',\n",
    "             label=\"Sensor Qubits\", ms=3, alpha=0.5)\n",
    "    \n",
    "    \n",
    "    # Generating curve\n",
    "    x_curve, y_curve = generating_curve(order, t)\n",
    "    plt.plot(x_curve, y_curve, '--', label=\"Gen. Curve\", \n",
    "             lw=0.5, c='darkred', alpha=0.5) # global rotation (-1) and reflection\n",
    "        \n",
    "    plt.legend(loc=0, fontsize=8)\n",
    "        \n",
    "\n",
    "    #plt.tick_params(labelleft=False, labelbottom=False)\n",
    "    plt.xticks([])\n",
    "    plt.yticks([])\n",
    "    \n",
    "    idxorder+=1\n",
    "\n",
    "plt.savefig('./data_figs/padua_set.svg', format='svg', dpi=800)\n",
    "plt.show()"
   ]
  },
  {
   "cell_type": "markdown",
   "metadata": {},
   "source": [
    "# All Grids\n"
   ]
  },
  {
   "cell_type": "code",
   "execution_count": 5,
   "metadata": {},
   "outputs": [
    {
     "data": {
      "text/plain": [
       "array([[-1. , -1. ],\n",
       "       [-0.5, -1. ],\n",
       "       [ 0. , -1. ],\n",
       "       [ 0.5, -1. ],\n",
       "       [ 1. , -1. ],\n",
       "       [-1. , -0.5],\n",
       "       [-0.5, -0.5],\n",
       "       [ 0. , -0.5],\n",
       "       [ 0.5, -0.5],\n",
       "       [ 1. , -0.5],\n",
       "       [-1. ,  0. ],\n",
       "       [-0.5,  0. ],\n",
       "       [ 0. ,  0. ],\n",
       "       [ 0.5,  0. ],\n",
       "       [ 1. ,  0. ],\n",
       "       [-1. ,  0.5],\n",
       "       [-0.5,  0.5],\n",
       "       [ 0. ,  0.5],\n",
       "       [ 0.5,  0.5],\n",
       "       [ 1. ,  0.5],\n",
       "       [-1. ,  1. ],\n",
       "       [-0.5,  1. ],\n",
       "       [ 0. ,  1. ],\n",
       "       [ 0.5,  1. ],\n",
       "       [ 1. ,  1. ]])"
      ]
     },
     "execution_count": 5,
     "metadata": {},
     "output_type": "execute_result"
    }
   ],
   "source": [
    "data_qubits"
   ]
  },
  {
   "cell_type": "code",
   "execution_count": null,
   "metadata": {},
   "outputs": [],
   "source": []
  }
 ],
 "metadata": {
  "kernelspec": {
   "display_name": "Python 2",
   "language": "python",
   "name": "python2"
  },
  "language_info": {
   "codemirror_mode": {
    "name": "ipython",
    "version": 2
   },
   "file_extension": ".py",
   "mimetype": "text/x-python",
   "name": "python",
   "nbconvert_exporter": "python",
   "pygments_lexer": "ipython2",
   "version": "2.7.16"
  }
 },
 "nbformat": 4,
 "nbformat_minor": 2
}
