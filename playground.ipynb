{
 "cells": [
  {
   "cell_type": "code",
   "execution_count": 42,
   "metadata": {},
   "outputs": [],
   "source": [
    "import numpy as np\n",
    "from itertools import product\n",
    "\n",
    "class Map(object):\n",
    "    '''Generates a noise field defined over a grid structure (nrows x ncols),\n",
    "    where a qubit resides at every node (including edges).\n",
    "    '''\n",
    "\n",
    "    def __init__(self, nrows=1, ncols=1, m_type=0, m_vals=None):\n",
    "       \n",
    "        if m_vals.all() == None:\n",
    "            self.m_vals = np.zeros([nrows, ncols])\n",
    "        else: \n",
    "            self.m_vals = m_vals\n",
    "            nrows, ncols = np.shape(m_vals)[0], np.shape(m_vals)[1]\n",
    "        \n",
    "        self.m_nodes_coords = list(product(range(nrows), range(ncols)))\n",
    "        self.m_nodes = len(self.m_nodes_coords)\n",
    "        self.m_type = 'Pauli_z_noise'\n",
    "        self.m_knn = []\n",
    "\n",
    "    def m_knn_list(self, corr_r):\n",
    "        '''Updates neighest neighbours list given a correlation radius\n",
    "        that sets the maximally far away neighbour.\n",
    "        '''\n",
    "        self.m_knn = 0 #some results\n",
    "\n",
    "    def m_vectorise_map(self):\n",
    "        '''Returns a vector formed by stacking rows of self.m_vals.\n",
    "        '''\n",
    "        vectormap = self.m_vals.reshape(self.m_nodes)\n",
    "        return vectormap"
   ]
  },
  {
   "cell_type": "code",
   "execution_count": 43,
   "metadata": {},
   "outputs": [],
   "source": [
    "testmap = np.arange(12).reshape(3,4)"
   ]
  },
  {
   "cell_type": "code",
   "execution_count": 44,
   "metadata": {},
   "outputs": [],
   "source": [
    "testint = Map(m_vals=testmap)"
   ]
  },
  {
   "cell_type": "code",
   "execution_count": 45,
   "metadata": {},
   "outputs": [
    {
     "data": {
      "text/plain": [
       "array([ 0,  1,  2,  3,  4,  5,  6,  7,  8,  9, 10, 11])"
      ]
     },
     "execution_count": 45,
     "metadata": {},
     "output_type": "execute_result"
    }
   ],
   "source": [
    "testint.m_vectorise_map()"
   ]
  },
  {
   "cell_type": "code",
   "execution_count": null,
   "metadata": {},
   "outputs": [],
   "source": [
    "itertools?"
   ]
  },
  {
   "cell_type": "code",
   "execution_count": null,
   "metadata": {},
   "outputs": [],
   "source": [
    "product?"
   ]
  },
  {
   "cell_type": "code",
   "execution_count": null,
   "metadata": {},
   "outputs": [],
   "source": [
    "iterobject = product(range(5), range(5))"
   ]
  },
  {
   "cell_type": "code",
   "execution_count": null,
   "metadata": {},
   "outputs": [],
   "source": [
    "next(iterobject)"
   ]
  },
  {
   "cell_type": "code",
   "execution_count": null,
   "metadata": {},
   "outputs": [],
   "source": [
    "test = np.arange(25).reshape(5,5)\n",
    "print(test)\n",
    "stacked = test.reshape(25)\n",
    "print(stacked)"
   ]
  },
  {
   "cell_type": "code",
   "execution_count": null,
   "metadata": {},
   "outputs": [],
   "source": [
    "np.vstack?"
   ]
  },
  {
   "cell_type": "code",
   "execution_count": null,
   "metadata": {},
   "outputs": [],
   "source": [
    "nrows=10\n",
    "ncols=2"
   ]
  },
  {
   "cell_type": "code",
   "execution_count": null,
   "metadata": {},
   "outputs": [],
   "source": [
    "coord = list(product(range(3), range(3)))"
   ]
  },
  {
   "cell_type": "code",
   "execution_count": null,
   "metadata": {},
   "outputs": [],
   "source": [
    "map_val = np.zeros([nrows,ncols])\n",
    "map_val"
   ]
  },
  {
   "cell_type": "code",
   "execution_count": null,
   "metadata": {},
   "outputs": [],
   "source": [
    "r = np.arange(nrows)\n",
    "c = np.arange(ncols)\n",
    "\n",
    "def function(i, j):\n",
    "    return (i,j)"
   ]
  },
  {
   "cell_type": "code",
   "execution_count": null,
   "metadata": {},
   "outputs": [],
   "source": [
    "obj= map(function, r,c)"
   ]
  },
  {
   "cell_type": "code",
   "execution_count": null,
   "metadata": {},
   "outputs": [],
   "source": [
    "obj"
   ]
  },
  {
   "cell_type": "code",
   "execution_count": null,
   "metadata": {},
   "outputs": [],
   "source": [
    "for item in np.meshgrid(r,c):\n",
    "    print item\n",
    "    print type(item)"
   ]
  },
  {
   "cell_type": "code",
   "execution_count": null,
   "metadata": {},
   "outputs": [],
   "source": [
    "np.meshgrid(r,c)"
   ]
  },
  {
   "cell_type": "code",
   "execution_count": null,
   "metadata": {},
   "outputs": [],
   "source": []
  }
 ],
 "metadata": {
  "kernelspec": {
   "display_name": "Python 3",
   "language": "python",
   "name": "python3"
  },
  "language_info": {
   "codemirror_mode": {
    "name": "ipython",
    "version": 3
   },
   "file_extension": ".py",
   "mimetype": "text/x-python",
   "name": "python",
   "nbconvert_exporter": "python",
   "pygments_lexer": "ipython3",
   "version": "3.6.4"
  }
 },
 "nbformat": 4,
 "nbformat_minor": 2
}
