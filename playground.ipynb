{
 "cells": [
  {
   "cell_type": "code",
   "execution_count": 1,
   "metadata": {
    "collapsed": false,
    "scrolled": false
   },
   "outputs": [
    {
     "data": {
      "text/plain": [
       "\"\\nNotes: \\n1. Are we doing better than randomly measuring qubits on the grid?\\n2. Is the likelihood function correct?\\n3. What is the threshold to stop the algorithm?\\n4. What happens if we average over the same region again and again? Do we lose info by averaging using the scanner?\\n5. What if we visit a qubit and it's four neighbours? Does the averaging process give us more or less info? \\n6. For (5), is there a combination of physical and quasi msmts that are optimal? \\n7. How does increasing the number of particles reduce state variance? Where does it flatline?\\n8.\\n\""
      ]
     },
     "execution_count": 1,
     "metadata": {},
     "output_type": "execute_result"
    }
   ],
   "source": [
    "'''\n",
    "TEST SCRIPT\n",
    "\n",
    "Type: Module testing\n",
    "Original Script:  particle.py\n",
    "Class: Particle\n",
    "Methods: update_map_state, predict_scan\n",
    "Details: Test functionality of place_bot_on_grid, propagate_bot, update_state\n",
    "Outcome: WIP\n",
    "'''\n",
    "\n",
    "import sys, os\n",
    "import numpy as np\n",
    "import matplotlib.pyplot as plt \n",
    "sys.path.append('../')\n",
    "from qslam.slampf import ParticleFilter\n",
    "from qslam.mapping import TrueMap\n",
    "from contextlib import contextmanager\n",
    "\n",
    "@contextmanager\n",
    "def suppress_stdout():\n",
    "    with open(os.devnull, \"w\") as devnull:\n",
    "        old_stdout = sys.stdout\n",
    "        sys.stdout = devnull\n",
    "        try:  \n",
    "            yield\n",
    "        finally:\n",
    "            sys.stdout = old_stdout\n",
    "\n",
    "###############################################################################\n",
    "# TESTS \n",
    "###############################################################################\n",
    "\n",
    "slamize = ParticleFilter(num_p=1, localgridcoords_=[5,5])\n",
    "map_ = np.ones((5,5))*np.pi\n",
    "\n",
    "dunk = TrueMap(m_vals=map_)\n",
    "controls = [(2, 2, 1.)]*1 + [(2, 1, 1.)]*1 + [(1, 2, 1.)]*1 + [(2, 3, 1.)]*1 + [(3, 2, 1.)]*1\n",
    "loopcontrols = controls*100#, (0, 1, 1)]# , (2, 2, 1), (1, 3, 1), (3, 1, 1)]*100\n",
    "\n",
    "#print loopcontrols\n",
    "\n",
    "\"\"\"\n",
    "Notes: \n",
    "1. Are we doing better than randomly measuring qubits on the grid?\n",
    "2. Is the likelihood function correct?\n",
    "3. What is the threshold to stop the algorithm?\n",
    "4. What happens if we average over the same region again and again? Do we lose info by averaging using the scanner?\n",
    "5. What if we visit a qubit and it's four neighbours? Does the averaging process give us more or less info? \n",
    "6. For (5), is there a combination of physical and quasi msmts that are optimal? \n",
    "7. How does increasing the number of particles reduce state variance? Where does it flatline?\n",
    "8.\n",
    "\"\"\""
   ]
  },
  {
   "cell_type": "code",
   "execution_count": 2,
   "metadata": {
    "collapsed": false,
    "scrolled": false
   },
   "outputs": [
    {
     "name": "stderr",
     "output_type": "stream",
     "text": [
      "../qslam/sensing.py:147: VisibleDeprecationWarning: using a non-integer number instead of an integer will result in an error in the future\n",
      "  born_est = self.r_questbk[pose_x, pose_y]\n",
      "../qslam/particle.py:107: VisibleDeprecationWarning: using a non-integer number instead of an integer will result in an error in the future\n",
      "  predictions.append(self.r_measure(self.m_vals[pred_x, pred_y]))\n",
      "../qslam/particle.py:88: VisibleDeprecationWarning: using a non-integer number instead of an integer will result in an error in the future\n",
      "  prob = self.r_questbk[u_x, u_y]\n",
      "../qslam/particle.py:91: VisibleDeprecationWarning: using a non-integer number instead of an integer will result in an error in the future\n",
      "  self.m_vals[u_x, u_y] = self.get_phase_method(prob)\n"
     ]
    }
   ],
   "source": [
    "with suppress_stdout():\n",
    "    slamize.qslam_run(dunk, loopcontrols)"
   ]
  },
  {
   "cell_type": "code",
   "execution_count": null,
   "metadata": {
    "collapsed": false
   },
   "outputs": [],
   "source": []
  },
  {
   "cell_type": "code",
   "execution_count": 3,
   "metadata": {
    "collapsed": false
   },
   "outputs": [
    {
     "name": "stdout",
     "output_type": "stream",
     "text": [
      "[[ 0.     0.     0.37   0.     0.   ]\n",
      " [ 0.     0.215  0.26   0.445  0.   ]\n",
      " [ 0.05   0.04   0.3    0.385  0.51 ]\n",
      " [ 0.     0.335  0.5    0.54   0.   ]\n",
      " [ 0.     0.     0.63   0.     0.   ]]\n"
     ]
    }
   ],
   "source": [
    "'''From a Single Posterior State Particle'''\n",
    "print slamize.particles[0].r_questbk"
   ]
  },
  {
   "cell_type": "code",
   "execution_count": 4,
   "metadata": {
    "collapsed": false
   },
   "outputs": [
    {
     "name": "stdout",
     "output_type": "stream",
     "text": [
      "[[   0.    0.    0.    0.    0.]\n",
      " [   0.    0.  100.    0.    0.]\n",
      " [   0.  100.  100.  100.    0.]\n",
      " [   0.    0.  100.    0.    0.]\n",
      " [   0.    0.    0.    0.    0.]]\n",
      "[[ 0.    0.    0.    0.    0.  ]\n",
      " [ 0.    0.    0.52  0.    0.  ]\n",
      " [ 0.    0.08  0.    0.77  0.  ]\n",
      " [ 0.    0.    1.    0.    0.  ]\n",
      " [ 0.    0.    0.    0.    0.  ]]\n"
     ]
    }
   ],
   "source": [
    "'''From Global Bot (Scanner)'''\n",
    "print slamize.global_bot.r_guestbk_counter\n",
    "print slamize.global_bot.r_questbk"
   ]
  },
  {
   "cell_type": "code",
   "execution_count": 9,
   "metadata": {
    "collapsed": false
   },
   "outputs": [
    {
     "name": "stdout",
     "output_type": "stream",
     "text": [
      "True Map\n",
      "[[ 3.14159265  3.14159265  3.14159265  3.14159265  3.14159265]\n",
      " [ 3.14159265  3.14159265  1.57079633  3.14159265  3.14159265]\n",
      " [ 3.14159265  2.35619449  3.14159265  0.78539816  3.14159265]\n",
      " [ 3.14159265  3.14159265  0.          3.14159265  3.14159265]\n",
      " [ 3.14159265  3.14159265  3.14159265  3.14159265  3.14159265]]\n",
      "\n",
      "Particle Map\n",
      "[[ 0.          0.          1.83381853  0.          0.        ]\n",
      " [ 0.          2.17730218  2.07145104  1.68101938  0.        ]\n",
      " [ 2.69056584  2.73887681  1.98231317  1.80287401  1.55079499]\n",
      " [ 0.          1.9070999   1.57079633  1.49071075  0.        ]\n",
      " [ 0.          0.          1.30777412  0.          0.        ]]\n",
      "\n",
      "Global Bot Map\n",
      "[[ 3.14159265  3.14159265  3.14159265  3.14159265  3.14159265]\n",
      " [ 3.14159265  3.14159265  1.53078565  3.14159265  3.14159265]\n",
      " [ 3.14159265  2.56807955  3.14159265  1.00035922  3.14159265]\n",
      " [ 3.14159265  3.14159265  0.          3.14159265  3.14159265]\n",
      " [ 3.14159265  3.14159265  3.14159265  3.14159265  3.14159265]]\n"
     ]
    },
    {
     "data": {
      "text/plain": [
       "'\\nNotes\\n1. Where the bot has NOT physically visited (off control path), global_bot.m_vals == pi and partcicles[i].m_vals == 0 are equivalent\\n2. For zero correlation length in the control path, both maps should be the same\\n3. For physically measured qubits, both maps should be the same asympotically as long thigns are \"continuous\"\\n\\n'"
      ]
     },
     "execution_count": 9,
     "metadata": {},
     "output_type": "execute_result"
    }
   ],
   "source": [
    "'''Compare True Maps to Maps from Particle (Quasi and Physical Msmts) and Global Bot (Physical)'''\n",
    "print \"True Map\"\n",
    "print map_\n",
    "print\n",
    "print \"Particle Map\"\n",
    "print slamize.particles[0].m_vals\n",
    "print \n",
    "print \"Global Bot Map\"\n",
    "inferred_m_vals = np.asarray([slamize.particles[0].get_phase_method(val) for val in slamize.global_bot.r_questbk.flatten()]).reshape(5,5)\n",
    "print inferred_m_vals\n",
    "\n",
    "\n",
    "'''\n",
    "Notes\n",
    "1. Where the bot has NOT physically visited (off control path), global_bot.m_vals == pi and partcicles[i].m_vals == 0 are equivalent\n",
    "2. For zero correlation length in the control path, both maps should be the same\n",
    "3. For physically measured qubits, both maps should be the same asympotically as long thigns are \"continuous\"\n",
    "\n",
    "'''"
   ]
  },
  {
   "cell_type": "code",
   "execution_count": 6,
   "metadata": {
    "collapsed": false
   },
   "outputs": [
    {
     "data": {
      "image/png": "[encoded data removed]",
      "text/plain": [
       "<matplotlib.figure.Figure at 0x7f71d0ce32d0>"
      ]
     },
     "metadata": {},
     "output_type": "display_data"
    }
   ],
   "source": [
    "x = np.linspace(0,1,100)\n",
    "y = np.arccos(2.0*x - 1.)\n",
    "plt.plot()\n",
    "plt.plot(x,y)\n",
    "plt.xlabel('Prob')\n",
    "plt.ylabel('Phase (rad)')\n",
    "plt.show()"
   ]
  },
  {
   "cell_type": "code",
   "execution_count": null,
   "metadata": {
    "collapsed": true
   },
   "outputs": [],
   "source": []
  }
 ],
 "metadata": {
  "kernelspec": {
   "display_name": "Python 2",
   "language": "python",
   "name": "python2"
  },
  "language_info": {
   "codemirror_mode": {
    "name": "ipython",
    "version": 2
   },
   "file_extension": ".py",
   "mimetype": "text/x-python",
   "name": "python",
   "nbconvert_exporter": "python",
   "pygments_lexer": "ipython2",
   "version": "2.7.13"
  }
 },
 "nbformat": 4,
 "nbformat_minor": 2
}
