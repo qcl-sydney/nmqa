{
 "cells": [
  {
   "cell_type": "code",
   "execution_count": 5,
   "metadata": {},
   "outputs": [],
   "source": [
    "import numpy as np"
   ]
  },
  {
   "cell_type": "code",
   "execution_count": 6,
   "metadata": {},
   "outputs": [
    {
     "data": {
      "text/plain": [
       "u'/home/riddhisw/Documents/SLAM_project/qslam/expt_data'"
      ]
     },
     "execution_count": 6,
     "metadata": {},
     "output_type": "execute_result"
    }
   ],
   "source": [
    "pwd"
   ]
  },
  {
   "cell_type": "code",
   "execution_count": 7,
   "metadata": {},
   "outputs": [
    {
     "name": "stdout",
     "output_type": "stream",
     "text": [
      "\u001b[0m\u001b[01;34m2018\u001b[0m/                                 20181008-211939ion_bright_matrix.npz\r\n",
      "20181008-210051ion_bright_matrix.npz  20181008-213257ion_bright_matrix.npz\r\n",
      "20181008-210123ion_bright_matrix.npz  20181008-213331ion_bright_matrix.npz\r\n",
      "20181008-210159ion_bright_matrix.npz  20181008-213408ion_bright_matrix.npz\r\n",
      "20181008-211842ion_bright_matrix.npz  cornelius_emails.txt\r\n",
      "20181008-211909ion_bright_matrix.npz  \u001b[01;31mRiddhi_SLAM.zip\u001b[0m\r\n"
     ]
    }
   ],
   "source": [
    "ls Riddhi_SLAM/"
   ]
  },
  {
   "cell_type": "code",
   "execution_count": 8,
   "metadata": {},
   "outputs": [
    {
     "name": "stdout",
     "output_type": "stream",
     "text": [
      "\u001b[0m\u001b[01;34m2018\u001b[0m/                                    20181010-115434ion_bright_matrix.npz\r\n",
      "20181010-114733_concatenated_labels.npz  \u001b[01;31mramseydata.zip\u001b[0m\r\n",
      "20181010-114733ion_bright_matrix.npz\r\n"
     ]
    }
   ],
   "source": [
    "ls Claire_ramseydata/"
   ]
  },
  {
   "cell_type": "markdown",
   "metadata": {},
   "source": [
    "## Concatenating Static Ramseys"
   ]
  },
  {
   "cell_type": "code",
   "execution_count": 13,
   "metadata": {},
   "outputs": [],
   "source": [
    "expt2 = np.load('Claire_ramseydata/'+'20181010-115434ion_bright_matrix.npz')\n",
    "concatenateddata = expt2[\"labels_bright\"].reshape(6, 1, 51*500, 1)\n",
    "np.savez('Claire_ramseydata/'+'20181010-114733_concatenated_labels.npz', labels_bright=concatenateddata)"
   ]
  },
  {
   "cell_type": "markdown",
   "metadata": {},
   "source": [
    "## Concatenating pA Expts"
   ]
  },
  {
   "cell_type": "code",
   "execution_count": 16,
   "metadata": {},
   "outputs": [],
   "source": [
    "fileID_Igor_list = ['213257', '213331', '213408']\n",
    "\n",
    "concatenateddata = np.zeros((5, 2, 300, 1))\n",
    "\n",
    "counter=0\n",
    "for filename in fileID_Igor_list:\n",
    "    data = np.load('Riddhi_SLAM/'+'20181008-'+filename+'ion_bright_matrix.npz')[\"labels_bright\"]\n",
    "    start = counter*100\n",
    "    end = start + 100\n",
    "    concatenateddata[:, :, start:end, :] = data\n",
    "    counter +=1\n",
    "    \n",
    "np.savez('Riddhi_SLAM/'+'20181008-'+'concatenated_labels.npz', labels_bright=concatenateddata)"
   ]
  }
 ],
 "metadata": {
  "kernelspec": {
   "display_name": "python27withPyPDF2",
   "language": "python",
   "name": "python27withpypdf2"
  },
  "language_info": {
   "codemirror_mode": {
    "name": "ipython",
    "version": 2
   },
   "file_extension": ".py",
   "mimetype": "text/x-python",
   "name": "python",
   "nbconvert_exporter": "python",
   "pygments_lexer": "ipython2",
   "version": "2.7.13"
  }
 },
 "nbformat": 4,
 "nbformat_minor": 2
}
