{
 "cells": [
  {
   "cell_type": "code",
   "execution_count": 1,
   "metadata": {},
   "outputs": [],
   "source": [
    "import time\n",
    "import numpy as np\n",
    "import clfanalysis\n",
    "from clfanalysis.preamble import *\n",
    "import matplotlib.pyplot as plt\n",
    "import copy\n",
    "\n",
    "def cm2inch(cm):\n",
    "    return cm / 2.54\n",
    "\n",
    "startscript = time.time()"
   ]
  },
  {
   "cell_type": "markdown",
   "metadata": {},
   "source": [
    "# Assignment 2"
   ]
  },
  {
   "cell_type": "markdown",
   "metadata": {},
   "source": [
    "Each notebook tests a single classifer type on a dataset.\n",
    "\n",
    "The classifier options are set by `clf_flag`:\n",
    "\n",
    "    'lr': Logistic Regression Classifier\n",
    "    'mpl': Multi-Layer Perceptron Classifier\n",
    "    'rf' : Random Forest Classifier\n",
    "\n",
    "The dataset options are set by `data_flag`:\n",
    "\n",
    "    '0' : CIFAR-10 Data\n",
    "    '1' : Fashion-MINST Data\n",
    "\n",
    "All other global parameters are set by `clfanalysis.globalparams`\n"
   ]
  },
  {
   "cell_type": "code",
   "execution_count": 2,
   "metadata": {},
   "outputs": [],
   "source": [
    "clf_flag = 'rf' \n",
    "data_flag = 1"
   ]
  },
  {
   "cell_type": "markdown",
   "metadata": {},
   "source": [
    "### Parameters"
   ]
  },
  {
   "cell_type": "code",
   "execution_count": 3,
   "metadata": {},
   "outputs": [],
   "source": [
    "from clfanalysis.globalparams import *"
   ]
  },
  {
   "cell_type": "markdown",
   "metadata": {},
   "source": [
    "### Data Load + Pre-Process"
   ]
  },
  {
   "cell_type": "code",
   "execution_count": 4,
   "metadata": {},
   "outputs": [],
   "source": [
    "from clfanalysis.preprocess import rescale, greyscale\n",
    "\n",
    "# load data:\n",
    "dataset = np.load(loadpath+datafiles[data_flag]+'.npz')\n",
    "Xtr = dataset['Xtr']\n",
    "Str = dataset['Str']\n",
    "Xts = dataset['Xts']\n",
    "Yts = dataset['Yts']\n",
    "\n",
    "\n",
    "# for MINST\n",
    "if data_flag == 1: \n",
    "    Xtr = rescale(Xtr)\n",
    "    Xts = rescale(Xts)\n",
    "\n",
    "# for CIFAR\n",
    "if data_flag == 0: \n",
    "\n",
    "    Xtr = np.asarray([greyscale(np.transpose(Xtr[sample, :].reshape(3, 32, 32), (1, 2, 0))) for sample in range(10000)])\n",
    "    Xts = np.asarray([greyscale(np.transpose(Xts[sample, :].reshape(3, 32, 32), (1, 2, 0))) for sample in range(2000)])\n",
    "    Xtr = rescale(Xtr.reshape(10000, 32*32))\n",
    "    Xts = rescale(Xts.reshape(2000, 32*32))"
   ]
  },
  {
   "cell_type": "code",
   "execution_count": 5,
   "metadata": {},
   "outputs": [],
   "source": [
    "processtime = time.time()"
   ]
  },
  {
   "cell_type": "markdown",
   "metadata": {},
   "source": [
    "### Train classifier"
   ]
  },
  {
   "cell_type": "code",
   "execution_count": 6,
   "metadata": {},
   "outputs": [
    {
     "name": "stdout",
     "output_type": "stream",
     "text": [
      "Trial: 0\n",
      "Trial: 1\n",
      "Trial: 2\n",
      "Trial: 3\n",
      "Trial: 4\n",
      "Trial: 5\n",
      "Trial: 6\n",
      "Trial: 7\n",
      "Trial: 8\n",
      "Trial: 9\n"
     ]
    }
   ],
   "source": [
    "from clfanalysis.trainclf import computeAccuracy, train_classifier\n",
    "\n",
    "results, class_prob_list, best_model_list = train_classifier(clfdict[clf_flag]['obj'], \n",
    "                                                             clfdict[clf_flag]['prm'], \n",
    "                                                             Xtr, \n",
    "                                                             Str, \n",
    "                                                             N_ITER, \n",
    "                                                             n_repeats, \n",
    "                                                             cv=cv, scoring='accuracy')\n",
    "\n"
   ]
  },
  {
   "cell_type": "code",
   "execution_count": 7,
   "metadata": {},
   "outputs": [],
   "source": [
    "traintime = time.time()"
   ]
  },
  {
   "cell_type": "markdown",
   "metadata": {},
   "source": [
    "### Run Testing with Importance Re-Weighting "
   ]
  },
  {
   "cell_type": "code",
   "execution_count": 15,
   "metadata": {},
   "outputs": [],
   "source": [
    "from clfanalysis.noisecorrections import estimate_Beta, estimate_flip_rates, clean_weights\n",
    "from sklearn.metrics import confusion_matrix\n",
    "\n",
    "\n",
    "\n",
    "estimatortype = ['tf', 'estf']\n",
    "\n",
    "if clf_flag == 'mlp':\n",
    "    estimatortype = [None]\n",
    "\n",
    "for idx_type in estimatortype + ['bare']:\n",
    "    if idx_type is not None:\n",
    "        vars()['acc_'+idx_type] = []\n",
    "\n",
    "rho_plus_list = []\n",
    "rho_minus_list = []\n",
    "cmatrix_list = []\n",
    "pi_list = []\n",
    "\n",
    "for pickrept in range(n_repeats):\n",
    "    \n",
    "    # Pick best model from each RandomisedCV trial with 5 Fold CV.\n",
    "    class_prob = class_prob_list[pickrept]\n",
    "    bestmodel = best_model_list[pickrept]\n",
    "    params = results[pickrept][\"params\"][bestmodel]\n",
    "    \n",
    "    # Estimate Noise Rates from class probabilities of the model acting on training data\n",
    "    alpha, beta, pi, rho_plus, rho_minus = estimate_flip_rates(class_prob[:, 1], Str.flatten())\n",
    "    rho_plus_list.append(rho_plus)\n",
    "    rho_minus_list.append(rho_minus)\n",
    "    pi_list.append(pi)\n",
    "    \n",
    "    \n",
    "    # Calculate weights using true and estimated noise rates\n",
    "    for idx_type in estimatortype:\n",
    "        \n",
    "        if idx_type is not None:\n",
    "        \n",
    "            if idx_type == 'estf':\n",
    "                vars()['weights_'+idx_type] = estimate_Beta(Str, class_prob, rho_minus, rho_plus)\n",
    "            \n",
    "            elif idx_type == 'tf':\n",
    "                vars()['weights_'+idx_type] = estimate_Beta(Str, class_prob, rho_0, rho_1)\n",
    "            \n",
    "            vars()['weights_'+idx_type] =  clean_weights(vars()['weights_'+idx_type])\n",
    "        \n",
    "    pick_data = np.random.randint(low=0, high=10000, size=8000)\n",
    "    \n",
    "    # Run new classifiers with best model parameters and importance re-weighting\n",
    "    for idx_type in estimatortype + ['bare']:\n",
    "        \n",
    "        if idx_type is not None:\n",
    "            \n",
    "            vars()['clf_'+idx_type] = clfdict[clf_flag]['func'](**params)\n",
    "            \n",
    "            X = Xtr[pick_data]\n",
    "            S = Str.flatten()[pick_data]\n",
    "            W = None\n",
    "            \n",
    "            if idx_type != 'bare':\n",
    "                W = vars()['weights_'+idx_type].flatten()[pick_data]\n",
    "\n",
    "            # Fit models\n",
    "            \n",
    "            if clf_flag != 'mlp':\n",
    "                vars()['clf_'+idx_type].fit(X, S, sample_weight=W)\n",
    "            elif clf_flag == 'mlp':\n",
    "                vars()['clf_'+idx_type].fit(X, S)\n",
    "\n",
    "            # Predict on Test Data\n",
    "            vars()['predY_'+idx_type] = vars()['clf_'+idx_type].predict(Xts)\n",
    "\n",
    "            # Store accuracy + confusion matrix\n",
    "            vars()['acc_'+idx_type].append(computeAccuracy(Yts, vars()['predY_'+idx_type]))\n",
    "            \n",
    "            if idx_type == 'bare':\n",
    "                matrixC = confusion_matrix(Yts, vars()['predY_'+idx_type])\n",
    "                cmatrix_list.append(matrixC.flatten())"
   ]
  },
  {
   "cell_type": "code",
   "execution_count": 9,
   "metadata": {},
   "outputs": [
    {
     "name": "stdout",
     "output_type": "stream",
     "text": [
      "Approx Total time\n",
      "6442.506330 seconds\n",
      "\n",
      "Approx Preprocessing time\n",
      "0.531888 seconds\n",
      "Approx Training time\n",
      "6226.500593 seconds\n",
      "Approx Testing time\n",
      "215.473850 seconds\n"
     ]
    }
   ],
   "source": [
    "endscript = time.time()\n",
    "\n",
    "print(\"Approx Total time\")\n",
    "print(\"%f seconds\" %(endscript - startscript))\n",
    "print()\n",
    "print(\"Approx Preprocessing time\")\n",
    "print(\"%f seconds\" %(processtime - startscript))\n",
    "print(\"Approx Training time\")\n",
    "print(\"%f seconds\" %(traintime - processtime))\n",
    "print(\"Approx Testing time\")\n",
    "print(\"%f seconds\" %(endscript - traintime))"
   ]
  },
  {
   "cell_type": "markdown",
   "metadata": {},
   "source": [
    "### Show accuracy scores for test data"
   ]
  },
  {
   "cell_type": "code",
   "execution_count": 16,
   "metadata": {},
   "outputs": [
    {
     "name": "stdout",
     "output_type": "stream",
     "text": [
      "tf:  0.9288000000000001\n",
      "estf:  0.9061\n",
      "bare:  0.8760999999999999\n"
     ]
    }
   ],
   "source": [
    "for idx_type in estimatortype + ['bare']:\n",
    "    \n",
    "    if idx_type is not None:\n",
    "        \n",
    "        print(idx_type + ': ', np.mean(vars()['acc_'+idx_type]))             \n"
   ]
  },
  {
   "cell_type": "markdown",
   "metadata": {},
   "source": [
    "### Show 'best model' configurations for each experiment"
   ]
  },
  {
   "cell_type": "code",
   "execution_count": 17,
   "metadata": {},
   "outputs": [
    {
     "name": "stdout",
     "output_type": "stream",
     "text": [
      "{'n_estimators': 50, 'max_depth': 10, 'criterion': 'entropy', 'bootstrap': True}\n",
      "0.677\n",
      "{'n_estimators': 100, 'max_depth': 10, 'criterion': 'gini', 'bootstrap': False}\n",
      "0.6794\n",
      "{'n_estimators': 100, 'max_depth': 10, 'criterion': 'entropy', 'bootstrap': False}\n",
      "0.6798\n",
      "{'n_estimators': 50, 'max_depth': 10, 'criterion': 'entropy', 'bootstrap': True}\n",
      "0.6799\n",
      "{'n_estimators': 50, 'max_depth': 5, 'criterion': 'entropy', 'bootstrap': False}\n",
      "0.6753\n",
      "{'n_estimators': 50, 'max_depth': 10, 'criterion': 'entropy', 'bootstrap': False}\n",
      "0.6801\n",
      "{'n_estimators': 100, 'max_depth': 10, 'criterion': 'entropy', 'bootstrap': True}\n",
      "0.681\n",
      "{'n_estimators': 50, 'max_depth': 10, 'criterion': 'entropy', 'bootstrap': False}\n",
      "0.6788\n",
      "{'n_estimators': 100, 'max_depth': 10, 'criterion': 'entropy', 'bootstrap': True}\n",
      "0.6805\n",
      "{'n_estimators': 50, 'max_depth': 10, 'criterion': 'entropy', 'bootstrap': True}\n",
      "0.6762\n"
     ]
    }
   ],
   "source": [
    "for idx_trial in range(n_repeats):\n",
    "    print(results[idx_trial]['params'][best_model_list[idx_trial]]), print(results[idx_trial]['mean_test_score'][best_model_list[idx_trial]])\n",
    "    "
   ]
  },
  {
   "cell_type": "markdown",
   "metadata": {},
   "source": [
    "### Figures"
   ]
  },
  {
   "cell_type": "code",
   "execution_count": 18,
   "metadata": {},
   "outputs": [
    {
     "data": {
      "image/png": "[encoded data removed]",
      "text/plain": [
       "<matplotlib.figure.Figure at 0x7fea0d2cf908>"
      ]
     },
     "metadata": {},
     "output_type": "display_data"
    }
   ],
   "source": [
    "fig = plt.figure(figsize=(21./2.5, 4./2.5))\n",
    "\n",
    "counter = 1\n",
    "for idx_type in ['bare'] + estimatortype:\n",
    "    \n",
    "    if idx_type is not None:\n",
    "        \n",
    "        ax = fig.add_subplot(1, 3, counter)\n",
    "        ax.hist(vars()['acc_'+idx_type])\n",
    "        ax.set(xlabel='Accuracy', ylabel='Counts', title=idx_type)\n",
    "        \n",
    "        counter += 1\n",
    "plt.show()"
   ]
  },
  {
   "cell_type": "markdown",
   "metadata": {},
   "source": [
    "### Save Data"
   ]
  },
  {
   "cell_type": "code",
   "execution_count": 19,
   "metadata": {},
   "outputs": [],
   "source": [
    "mean_fit_time = np.zeros(n_repeats)\n",
    "mean_score_time = np.zeros(n_repeats)\n",
    "mean_train_score = np.zeros(n_repeats)\n",
    "mean_test_score = np.zeros(n_repeats)\n",
    "cv_test_score = np.zeros((n_repeats, cv))\n",
    "cv_train_score = np.zeros((n_repeats, cv))\n",
    "\n",
    "for idx_rept in range(n_repeats):\n",
    "    \n",
    "    best_model = best_model_list[idx_rept]\n",
    "    \n",
    "    mean_fit_time[idx_rept] = results[idx_rept][\"mean_fit_time\"][best_model]\n",
    "    mean_score_time[idx_rept] = results[idx_rept][\"mean_score_time\"][best_model]\n",
    "    mean_train_score[idx_rept] = results[idx_rept][\"mean_train_score\"][best_model]\n",
    "    mean_test_score[idx_rept] = results[idx_rept][\"mean_test_score\"][best_model]\n",
    "    \n",
    "    for idx_cv in range(cv):\n",
    "        \n",
    "        cv_test_score[idx_rept, idx_cv] = results[idx_rept]['split'+str(idx_cv)+'_test_score'][best_model]\n",
    "        cv_train_score[idx_rept, idx_cv] = results[idx_rept]['split'+str(idx_cv)+'_train_score'][best_model]\n",
    "        \n",
    "\n",
    "np.savez(clf_flag+'_'+str(data_flag), \n",
    "        mean_fit_time=mean_fit_time,\n",
    "        mean_score_time=mean_score_time,\n",
    "        mean_train_score=mean_train_score,\n",
    "        mean_test_score=mean_test_score,\n",
    "        cv_test_score=cv_test_score,\n",
    "        cv_train_score=cv_train_score,\n",
    "        best_model_list=best_model_list,\n",
    "        class_prob_list=class_prob_list,\n",
    "        rho_minus_list=rho_minus_list,\n",
    "        rho_plus_list=rho_plus_list,\n",
    "        runtimes=[startscript, processtime, traintime, endscript],\n",
    "        acc_bare=acc_bare,\n",
    "        acc_tf=acc_tf,\n",
    "        acc_estf=acc_estf,\n",
    "        pi_list=pi_list,\n",
    "        cmatrix_list=cmatrix_list)"
   ]
  },
  {
   "cell_type": "code",
   "execution_count": null,
   "metadata": {},
   "outputs": [],
   "source": []
  }
 ],
 "metadata": {
  "kernelspec": {
   "display_name": "Python 3",
   "language": "python",
   "name": "python3"
  },
  "language_info": {
   "codemirror_mode": {
    "name": "ipython",
    "version": 3
   },
   "file_extension": ".py",
   "mimetype": "text/x-python",
   "name": "python",
   "nbconvert_exporter": "python",
   "pygments_lexer": "ipython3",
   "version": "3.6.4"
  }
 },
 "nbformat": 4,
 "nbformat_minor": 2
}
