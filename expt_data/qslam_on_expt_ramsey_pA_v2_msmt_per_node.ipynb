{
 "cells": [
  {
   "cell_type": "markdown",
   "metadata": {},
   "source": [
    "using:\n",
    "    \n",
    "    Riddhi_SLAM/20181008-210159ion_bright_matrix.npz"
   ]
  },
  {
   "cell_type": "code",
   "execution_count": 1,
   "metadata": {
    "collapsed": true
   },
   "outputs": [],
   "source": [
    "MAXMSMT =100"
   ]
  },
  {
   "cell_type": "code",
   "execution_count": 2,
   "metadata": {
    "collapsed": false
   },
   "outputs": [
    {
     "name": "stdout",
     "output_type": "stream",
     "text": [
      "/home/riddhisw/Documents/SLAM_project/qslam/expt_data/Riddhi_SLAM/20181008-210159ion_bright_matrix.npz\n"
     ]
    }
   ],
   "source": [
    "import numpy as np\n",
    "import matplotlib\n",
    "\n",
    "fsize=8\n",
    "Fsize=8\n",
    "# Set global parameters\n",
    "matplotlib.rcParams['font.size'] = fsize # global\n",
    "matplotlib.rcParams['font.family'] = 'sans-serif'\n",
    "matplotlib.rcParams['font.sans-serif'] = 'Arial'\n",
    "matplotlib.rcParams['axes.linewidth'] = 0.5\n",
    "matplotlib.rcParams['mathtext.default'] ='regular' # makes mathtext mode Arial. note mathtext is used as ticklabel font in log plots\n",
    "\n",
    "# Set global tick mark parameters\n",
    "matplotlib.rcParams['xtick.major.width'] = 0.5\n",
    "matplotlib.rcParams['ytick.major.width'] = 0.5\n",
    "matplotlib.rcParams['xtick.labelsize']= fsize\n",
    "matplotlib.rcParams['ytick.labelsize'] = fsize\n",
    "matplotlib.rcParams['xtick.minor.visible'] = False\n",
    "matplotlib.rcParams['ytick.minor.visible'] = False\n",
    "matplotlib.rcParams['xtick.direction'] = 'in'\n",
    "matplotlib.rcParams['ytick.direction'] = 'in'\n",
    "\n",
    "\n",
    "import sys\n",
    "sys.path.append('../') # where to find qslam folder\n",
    "import copy\n",
    "## import qslam modules\n",
    "\n",
    "from exptrisk import EmpiricalRisk\n",
    "from qslamdesignparams import GLOBALDICT \n",
    "import matplotlib.pyplot as plt\n",
    "from visualiserisk import DataCube, cm2inch"
   ]
  },
  {
   "cell_type": "code",
   "execution_count": 3,
   "metadata": {
    "collapsed": false
   },
   "outputs": [],
   "source": [
    "num_qubits = 5 # number of ions in the trap"
   ]
  },
  {
   "cell_type": "code",
   "execution_count": 4,
   "metadata": {
    "collapsed": true
   },
   "outputs": [],
   "source": [
    "change_gridconfig = True\n",
    "\n",
    "# assume equi-distant linear array\n",
    "if change_gridconfig is True:\n",
    "    GLOBALDICT[\"GRIDDICT\"] = {}\n",
    "    for idx_posy in range(num_qubits):\n",
    "        if idx_posy < 10 :\n",
    "            GLOBALDICT[\"GRIDDICT\"][\"QUBIT_0\" + str(idx_posy)] = (0.0, float(idx_posy))\n",
    "        if idx_posy >= 10 :\n",
    "            GLOBALDICT[\"GRIDDICT\"][\"QUBIT_\" + str(idx_posy)] = (0.0, float(idx_posy))"
   ]
  },
  {
   "cell_type": "code",
   "execution_count": 5,
   "metadata": {
    "collapsed": false
   },
   "outputs": [],
   "source": [
    "change_MAX_NUM_ITERATIONS = 5\n",
    "change_MSMTS_PER_NODE = 1\n",
    "change_SIGMOID_APPROX_ERROR = 10.0**(-6)\n",
    "change_QUANTISATION_UNCERTY = 10.0**(-4)\n",
    "change_P_ALPHA = 15 \n",
    "change_P_BETA = 10 \n",
    "change_LAMBDA_1 = 0.820\n",
    "change_LAMBDA_2 = 0.968\n",
    "\n",
    "GLOBALDICT[\"MODELDESIGN\"][\"MAX_NUM_ITERATIONS\"] = 5\n",
    "GLOBALDICT[\"MODELDESIGN\"][\"MSMTS_PER_NODE\"] = 1\n",
    "GLOBALDICT[\"NOISEPARAMS\"][\"SIGMOID_APPROX_ERROR\"][\"SIGMA\"] = change_SIGMOID_APPROX_ERROR\n",
    "GLOBALDICT[\"NOISEPARAMS\"][\"QUANTISATION_UNCERTY\"][\"SIGMA\"] = change_QUANTISATION_UNCERTY\n",
    "GLOBALDICT[\"MODELDESIGN\"][\"P_ALPHA\"] = change_P_ALPHA\n",
    "GLOBALDICT[\"MODELDESIGN\"][\"P_BETA\"] = change_P_BETA\n",
    "GLOBALDICT[\"MODELDESIGN\"][\"LAMBDA_1\"] = change_LAMBDA_1\n",
    "GLOBALDICT[\"MODELDESIGN\"][\"LAMBDA_2\"] = change_LAMBDA_2"
   ]
  },
  {
   "cell_type": "code",
   "execution_count": 6,
   "metadata": {
    "collapsed": false
   },
   "outputs": [],
   "source": [
    "meta_max_iter_scan = [ 5, 10, 15, 20, 25, 50, 75, 100, 125, 250]\n",
    "\n",
    "lambda1 = [0.99, 0.956, 0.922, 0.888, 0.854, 0.820, 0.786, 0.752, 0.718, 0.684, 0.65]\n",
    "lambda2 = [0.977, 0.9752, 0.9734, 0.9716, 0.9698, 0.968, 0.9662, 0.9644, 0.9626, 0.9608, 0.959]\n",
    "lambda_scan = zip(lambda1, lambda2)\n",
    "\n",
    "msmt_per_qubit_scan = [1, 2, 4, 5, 6, 8, 10, 15, 20, 25, 50]\n",
    "\n",
    "\n",
    "LOOPS_DICT = {\"meta_max_iter_scan\":meta_max_iter_scan, \n",
    "              \"lambda_scan\":lambda_scan,\n",
    "              \"msmt_per_qubit_scan\": msmt_per_qubit_scan}\n",
    "\n",
    "ParamUpdater = DataCube(LOOPS_DICT)"
   ]
  },
  {
   "cell_type": "code",
   "execution_count": 7,
   "metadata": {
    "collapsed": false
   },
   "outputs": [
    {
     "name": "stdout",
     "output_type": "stream",
     "text": [
      "\n",
      "Using 1 shot per iteration...\n"
     ]
    },
    {
     "name": "stderr",
     "output_type": "stream",
     "text": [
      "../particlesets.py:162: RuntimeWarning: overflow encountered in double_scalars\n",
      "  normalisation = 1.0/unnormalised_total\n",
      "../particlesets.py:163: RuntimeWarning: invalid value encountered in multiply\n",
      "  return normalisation*raw_weights\n"
     ]
    },
    {
     "name": "stdout",
     "output_type": "stream",
     "text": [
      "\n",
      "Using 2 shot per iteration...\n",
      "\n",
      "Using 4 shot per iteration...\n",
      "\n",
      "Using 5 shot per iteration...\n",
      "\n",
      "Using 6 shot per iteration...\n",
      "\n",
      "Using 8 shot per iteration...\n",
      "\n",
      "Using 10 shot per iteration...\n",
      "\n",
      "Using 15 shot per iteration...\n",
      "\n",
      "Using 20 shot per iteration...\n",
      "\n",
      "Using 25 shot per iteration...\n",
      "\n",
      "Using 50 shot per iteration...\n"
     ]
    },
    {
     "data": {
      "image/png": "[encoded data removed]",
      "text/plain": [
       "<matplotlib.figure.Figure at 0x7f3d21394990>"
      ]
     },
     "metadata": {},
     "output_type": "display_data"
    }
   ],
   "source": [
    "SAMPLE_GLOBAL_MODEL = copy.deepcopy(GLOBALDICT)\n",
    "\n",
    "meta_ssim_pairs = []\n",
    "meta_empr_pairs = []\n",
    "\n",
    "fig = plt.figure( figsize=(cm2inch(40), cm2inch(10)))\n",
    "\n",
    "for idx_msmtpernode in range(len(ParamUpdater.msmt_per_qubit_scan)):\n",
    "    \n",
    "    print\n",
    "    print \"Using %s shot per iteration...\" %(ParamUpdater.msmt_per_qubit_scan[idx_msmtpernode])\n",
    "\n",
    "    SAMPLE_GLOBAL_MODEL[\"MODELDESIGN\"][\"MSMTS_PER_NODE\"] = ParamUpdater.msmt_per_qubit_scan[idx_msmtpernode]\n",
    "    \n",
    "    ssim_qslam = []\n",
    "    err_qslam = []\n",
    "    err_naive =[]\n",
    "    ssim_naive =[]\n",
    "    \n",
    "    for idx_msmt_iter in range(len(ParamUpdater.meta_max_iter_scan)):\n",
    "    \n",
    "        SAMPLE_GLOBAL_MODEL[\"MODELDESIGN\"][\"MAX_NUM_ITERATIONS\"] = ParamUpdater.meta_max_iter_scan[idx_msmt_iter]\n",
    "        \n",
    "        if  ParamUpdater.meta_max_iter_scan[idx_msmt_iter]*ParamUpdater.msmt_per_qubit_scan[idx_msmtpernode] > MAXMSMT:\n",
    "            for fakedata in [ssim_qslam, err_qslam, err_naive, ssim_naive]:\n",
    "                fakedata.append(-1.0)\n",
    "            continue\n",
    "        \n",
    "        expt = EmpiricalRisk(SAMPLE_GLOBAL_MODEL)\n",
    "        err, ssim = expt.calculate_risk(number_of_trials=50)\n",
    "        \n",
    "        ssim_qslam.append(ssim[0])\n",
    "        err_qslam.append(err[0])\n",
    "        \n",
    "        ssim_naive.append(ssim[1])\n",
    "        err_naive.append(err[1])\n",
    "\n",
    "   \n",
    "    ax = ax = fig.add_subplot(2, len(ParamUpdater.msmt_per_qubit_scan), len(ParamUpdater.msmt_per_qubit_scan) + idx_msmtpernode + 1)\n",
    "    ax.plot(ParamUpdater.meta_max_iter_scan, ssim_qslam, 'o--', lw=1.0, ms=2., c='indigo')\n",
    "    ax.plot(ParamUpdater.meta_max_iter_scan, ssim_naive, 'o--', lw=1.0, ms=2., c='darkorange')\n",
    "    ax.set_ylim([0, 1.25])\n",
    "        \n",
    "    if idx_msmtpernode==0:\n",
    "        ax.set_xlabel('Number of iterations',fontsize=fsize)\n",
    "        ax.set_ylabel('SSIM')\n",
    "\n",
    "        \n",
    "    ax = fig.add_subplot(2, len(ParamUpdater.msmt_per_qubit_scan), idx_msmtpernode + 1)\n",
    "    ax.set_title(ParamUpdater.msmt_per_qubit_scan[idx_msmtpernode],fontsize=fsize)\n",
    "    ax.plot(ParamUpdater.meta_max_iter_scan, err_qslam, 'o--', lw=1.0, ms=2., c='indigo')\n",
    "    ax.plot(ParamUpdater.meta_max_iter_scan, err_naive, 'o--', lw=1.0, ms=2., c='darkorange')\n",
    "    ax.set_ylim([0, 1.25])\n",
    "    \n",
    "    if idx_msmtpernode==0:\n",
    "        ax.set_xlabel('Number of iterations',fontsize=fsize)\n",
    "        ax.set_ylabel('RMS')\n",
    "    \n",
    "    \n",
    "    meta_ssim_pairs.append([ssim_qslam, ssim_naive])\n",
    "    meta_empr_pairs.append([err_qslam, err_naive])\n",
    "    \n",
    "    np.savez('qslam_Ramseys_pA_v2_msmtpernode',\n",
    "             ParamUpdater=ParamUpdater, \n",
    "             meta_ssim_pairs=meta_ssim_pairs, \n",
    "             meta_empr_pairs=meta_empr_pairs)\n",
    "    \n",
    "plt.show()"
   ]
  },
  {
   "cell_type": "code",
   "execution_count": 8,
   "metadata": {
    "collapsed": false
   },
   "outputs": [
    {
     "data": {
      "image/png": "[encoded data removed]",
      "text/plain": [
       "<matplotlib.figure.Figure at 0x7f3d1d4fce10>"
      ]
     },
     "metadata": {},
     "output_type": "display_data"
    }
   ],
   "source": [
    "xaxis =  ParamUpdater.msmt_per_qubit_scan #np.linspace(0, 1, len(ParamUpdater.lambda_scan))\n",
    "qslam=0\n",
    "naive=1\n",
    "data  = np.load('qslam_Ramseys_pA_v2_msmtpernode.npz')\n",
    "\n",
    "fig = plt.figure( figsize=(cm2inch(40), cm2inch(10)))\n",
    "\n",
    "for idx_iter in range(len(ParamUpdater.meta_max_iter_scan)):\n",
    "    \n",
    "    ax = fig.add_subplot(2, len(ParamUpdater.meta_max_iter_scan), idx_iter + 1)\n",
    "    ax.set_title(ParamUpdater.meta_max_iter_scan[idx_iter],fontsize=fsize)\n",
    "    ax.plot(xaxis, data[\"meta_empr_pairs\"][:, qslam, idx_iter], 'o--', lw=1.0, ms=2., c='indigo')\n",
    "    ax.plot(xaxis, data[\"meta_empr_pairs\"][:, naive, idx_iter], 'o--', lw=1.0, ms=2., c='darkorange')\n",
    "    ax.set_ylim([0, 1.])\n",
    "    ax.set_xscale('log')\n",
    "    if idx_iter ==0:\n",
    "        ax.set_xlabel('WR',fontsize=fsize)\n",
    "        ax.set_ylabel('RMS')\n",
    "    \n",
    "    ax = fig.add_subplot(2, len(ParamUpdater.meta_max_iter_scan), len(ParamUpdater.meta_max_iter_scan) + idx_iter + 1)\n",
    "    #ax.set_title(ParamUpdater.lambda_scan[idx_msmtpernode],fontsize=fsize)\n",
    "    ax.plot(xaxis, data[\"meta_ssim_pairs\"][:, qslam, idx_iter], 'o--', lw=1.0, ms=2., c='indigo')\n",
    "    ax.plot(xaxis, data[\"meta_ssim_pairs\"][:, naive, idx_iter], 'o--', lw=1.0, ms=2., c='darkorange')\n",
    "    ax.set_ylim([0, 1.])\n",
    "    ax.set_xscale('log')\n",
    "    if idx_iter ==0:\n",
    "        ax.set_xlabel('WR',fontsize=fsize)\n",
    "        ax.set_ylabel('SSIM')\n",
    "\n",
    "plt.show()"
   ]
  },
  {
   "cell_type": "code",
   "execution_count": null,
   "metadata": {
    "collapsed": true
   },
   "outputs": [],
   "source": []
  }
 ],
 "metadata": {
  "kernelspec": {
   "display_name": "Python 2",
   "language": "python",
   "name": "python2"
  },
  "language_info": {
   "codemirror_mode": {
    "name": "ipython",
    "version": 2
   },
   "file_extension": ".py",
   "mimetype": "text/x-python",
   "name": "python",
   "nbconvert_exporter": "python",
   "pygments_lexer": "ipython2",
   "version": "2.7.13"
  }
 },
 "nbformat": 4,
 "nbformat_minor": 2
}
