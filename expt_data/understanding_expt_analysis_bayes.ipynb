{
 "cells": [
  {
   "cell_type": "code",
   "execution_count": 1,
   "metadata": {
    "collapsed": true
   },
   "outputs": [],
   "source": [
    "import numpy as np\n",
    "import matplotlib.pyplot as plt"
   ]
  },
  {
   "cell_type": "code",
   "execution_count": 2,
   "metadata": {
    "collapsed": false
   },
   "outputs": [],
   "source": [
    "def maximum_likelihood_state_estimation(likelihood_data, resolution=1e3):\n",
    "    \"\"\"\n",
    "        This function returns the most likely state projection (number between 0 and 1)\n",
    "        for a given set of state likelihoods, that is, tuples of probabilities for\n",
    "        state 0 and 1. This method yields a higher state differentiation than a simple\n",
    "        mean, and was adapted from Sandeep's StateAnalyser code.\n",
    "    \"\"\"\n",
    "    n_points = len(likelihood_data)\n",
    "    \n",
    "    print \"Number of points:\", n_points\n",
    "    \n",
    "    projections = np.arange(resolution) / resolution # Pr(\\phi) # np.arange(resolution + 1)\n",
    "    up_projection, down_projection = projections, 1 - projections\n",
    "    \n",
    "    print \"up_projection:\", up_projection\n",
    "    print \"down_projection\", down_projection\n",
    "    \n",
    "    most_likely_projections = np.zeros(n_points)\n",
    "    error_bars = np.zeros((2, n_points))\n",
    "    \n",
    "    for i in range(n_points):\n",
    "        print\n",
    "        print \"----next sequence----\"\n",
    "        \n",
    "        prob_down = likelihood_data[i, :, 0][:, np.newaxis] # P(0 | data) this comes from the classifier\n",
    "        prob_up = likelihood_data[i, :, 1][:, np.newaxis] # P(1 | data)\n",
    "        state_likelihood = np.prod(\n",
    "            prob_down * down_projection + prob_up * up_projection, axis=0)\n",
    "        \n",
    "        print \"state_likelihood (before norm)\", state_likelihood\n",
    "        state_likelihood /= np.sum(state_likelihood)\n",
    "        \n",
    "        \n",
    "        print \"state_likelihood (after norm)\", state_likelihood\n",
    "        \n",
    "        # \\Pi_r P_r(0 | data) * P(0 | \\phi) + P_r(1 | data) * P(1 | \\phi) = P((1|\\phi) | data)\n",
    "        # r - set of repetitions for a single experiment\n",
    "\n",
    "        #weighted mean to find the most likely state.\n",
    "        most_likely_projections[i] = np.dot(state_likelihood, up_projection)\n",
    "        \n",
    "        print \"most_likely_projections\", most_likely_projections\n",
    "\n",
    "        # Calculate the error bars\n",
    "        cumulative_prob = np.cumsum(state_likelihood)\n",
    "        confidence_interval = 0.682\n",
    "        #lower errorbar\n",
    "        #error_bars[0, i] = (\n",
    "        # most_likely_projections[i] - interp_errorbar((1 - confidence_interval)/2, cumulative_prob)\n",
    "        # / resolution\n",
    "        #)\n",
    "        #upper errorbar             \n",
    "        #error_bars[1, i] = (\n",
    "        # interp_errorbar((1 + confidence_interval)/2, cumulative_prob)\n",
    "        # / resolution - most_likely_projections[i]\n",
    "        #)\n",
    "    return (most_likely_projections, error_bars)"
   ]
  },
  {
   "cell_type": "code",
   "execution_count": 3,
   "metadata": {
    "collapsed": false
   },
   "outputs": [],
   "source": [
    "likelihood_data = np.zeros([1,1,2])"
   ]
  },
  {
   "cell_type": "code",
   "execution_count": 4,
   "metadata": {
    "collapsed": false
   },
   "outputs": [],
   "source": [
    "likelihood_data[:, :, 0] = 0.01\n",
    "likelihood_data[:, :, 1] = 0.99"
   ]
  },
  {
   "cell_type": "code",
   "execution_count": 5,
   "metadata": {
    "collapsed": false
   },
   "outputs": [
    {
     "name": "stdout",
     "output_type": "stream",
     "text": [
      "Number of points: 1\n",
      "up_projection: [ 0.   0.5]\n",
      "down_projection [ 1.   0.5]\n",
      "\n",
      "----next sequence----\n",
      "state_likelihood (before norm) [ 0.01  0.5 ]\n",
      "state_likelihood (after norm) [ 0.01960784  0.98039216]\n",
      "most_likely_projections [ 0.49019608]\n"
     ]
    }
   ],
   "source": [
    "result = maximum_likelihood_state_estimation(likelihood_data, resolution=2.)"
   ]
  },
  {
   "cell_type": "code",
   "execution_count": 31,
   "metadata": {
    "collapsed": false
   },
   "outputs": [
    {
     "name": "stdout",
     "output_type": "stream",
     "text": [
      "[[ 0.9   0.45  0.  ]]\n",
      "[[ 0.    0.05  0.1 ]]\n",
      "\n",
      "[[ 0.9  0.5  0.1]]\n",
      "\n",
      "[ 0.9  0.5  0.1]\n",
      "[ 0.6         0.33333333  0.06666667]\n"
     ]
    }
   ],
   "source": [
    "prob_up = np.asarray([0.9])[:, np.newaxis] \n",
    "prob_down = np.asarray([0.1])[:, np.newaxis]\n",
    "print prob_up * np.asarray([1, 0.5, 0])\n",
    "print prob_down  * np.asarray([0, 0.5, 1])\n",
    "print\n",
    "print prob_up * np.asarray([1, 0.5, 0]) + prob_down  * np.asarray([0, 0.5, 1])\n",
    "print\n",
    "print np.prod(prob_up * np.asarray([1, 0.5, 0]) + prob_down  * np.asarray([0, 0.5, 1]), axis=0)\n",
    "\n",
    "state_likelihood = np.prod(prob_up * np.asarray([1, 0.5, 0]) + prob_down  * np.asarray([0, 0.5, 1]), axis=0)\n",
    "state_likelihood /= np.sum(state_likelihood)\n",
    "\n",
    "print state_likelihood"
   ]
  },
  {
   "cell_type": "code",
   "execution_count": 49,
   "metadata": {
    "collapsed": false
   },
   "outputs": [
    {
     "name": "stdout",
     "output_type": "stream",
     "text": [
      "[[ 0.1   0.05  0.  ]\n",
      " [ 0.1   0.05  0.  ]]\n",
      "[[ 0.    0.45  0.9 ]\n",
      " [ 0.    0.45  0.9 ]]\n",
      "\n",
      "[[ 0.1  0.5  0.9]\n",
      " [ 0.1  0.5  0.9]]\n",
      "\n",
      "[ 0.01  0.25  0.81]\n",
      "[ 0.00934579  0.23364486  0.75700935]\n"
     ]
    }
   ],
   "source": [
    "prob_up = np.asarray([0.9]*2)[:, np.newaxis] \n",
    "prob_down = np.asarray([0.1]*2)[:, np.newaxis]\n",
    "print prob_down * np.asarray([1, 0.5, 0])\n",
    "print prob_up * np.asarray([0, 0.5, 1])\n",
    "print\n",
    "print prob_down * np.asarray([1, 0.5, 0]) + prob_up * np.asarray([0, 0.5, 1])\n",
    "print\n",
    "print np.prod(prob_down * np.asarray([1, 0.5, 0]) + prob_up  * np.asarray([0, 0.5, 1]), axis=0)\n",
    "\n",
    "state_likelihood = np.prod(prob_down * np.asarray([1, 0.5, 0]) + prob_up  * np.asarray([0, 0.5, 1]), axis=0)\n",
    "state_likelihood /= np.sum(state_likelihood)\n",
    "\n",
    "print state_likelihood"
   ]
  },
  {
   "cell_type": "code",
   "execution_count": 208,
   "metadata": {
    "collapsed": false,
    "scrolled": false
   },
   "outputs": [
    {
     "name": "stderr",
     "output_type": "stream",
     "text": [
      "/home/riddhisw/anaconda2/lib/python2.7/site-packages/ipykernel/__main__.py:33: RuntimeWarning: invalid value encountered in divide\n"
     ]
    },
    {
     "data": {
      "image/png": "[encoded data removed]",
      "text/plain": [
       "<matplotlib.figure.Figure at 0x7f11874a8e90>"
      ]
     },
     "metadata": {},
     "output_type": "display_data"
    }
   ],
   "source": [
    "for repts in [100]:\n",
    "    \n",
    "    resoln = 1001\n",
    "    truth =  0.6\n",
    "    data = [0.0, 0.0, 1.0, 1.0, 1.0]*repts\n",
    "    \n",
    "    # \n",
    "    prob_up = np.asarray(data)[:, np.newaxis] # output of the classifier \n",
    "    prob_down = 1.0 - prob_up # both outputs from classifier always add to one\n",
    "    \n",
    "    shots = [np.random.binomial(n=1, p=data[idx]) for idx in range(len(data))]\n",
    "    empirical_mean = np.mean(shots)\n",
    "\n",
    "    project_up = np.linspace(0, 1, resoln)\n",
    "    project_down = (1.0 - project_up)\n",
    "#     print \"first element:\", prob_up * project_up\n",
    "#     print \"second element:\", prob_down  * project_down\n",
    "#     print\n",
    "    total_elements = prob_up * project_up + prob_down * project_down\n",
    "#     print \"first + second element:\", total_elements\n",
    "#     print\n",
    "    normalisers = 1.0 / np.sum(total_elements, axis=1)\n",
    "    # print \"sum of each posterior per rep:\", 1.0/ normalisers\n",
    "    # print \n",
    "    norm_total_elements = [normalisers[idx] * total_elements[idx] for idx in range(len(data))]\n",
    "#     print \"norm_total_elements\", norm_total_elements\n",
    "#     print \"each element of norm_total_elements is a prob dist\", np.sum(norm_total_elements, axis=1)\n",
    "    # print\n",
    "#     print \"product over total_elements\", np.prod(total_elements, axis=0)\n",
    "    # print\n",
    "#     print \"product over norm_total_elements\", np.prod(norm_total_elements, axis=0)\n",
    "    state_likelihood_new = np.prod(norm_total_elements, axis=0)\n",
    "    state_likelihood_new /= np.sum(state_likelihood_new)\n",
    "    state_likelihood_old = np.prod(total_elements, axis=0)\n",
    "    state_likelihood_old /= np.sum(state_likelihood_old)\n",
    "\n",
    "\n",
    "    plt.figure()\n",
    "    plt.title('Total msmts: %s' %(len(data)))\n",
    "    plt.xlabel('p_bright')\n",
    "    plt.plot(project_up, state_likelihood_new, 'b.-', label='another normalisation')\n",
    "    plt.plot(project_up, state_likelihood_old, 'r--', label='original normalisation')\n",
    "    plt.axvline(x=truth, c='k', label='truth')\n",
    "    plt.axvline(x=empirical_mean, c='g', label='empirical mean')\n",
    "    plt.legend(loc=0)\n",
    "    plt.show()"
   ]
  },
  {
   "cell_type": "code",
   "execution_count": null,
   "metadata": {
    "collapsed": true
   },
   "outputs": [],
   "source": []
  }
 ],
 "metadata": {
  "kernelspec": {
   "display_name": "Python 2",
   "language": "python",
   "name": "python2"
  },
  "language_info": {
   "codemirror_mode": {
    "name": "ipython",
    "version": 2
   },
   "file_extension": ".py",
   "mimetype": "text/x-python",
   "name": "python",
   "nbconvert_exporter": "python",
   "pygments_lexer": "ipython2",
   "version": "2.7.13"
  }
 },
 "nbformat": 4,
 "nbformat_minor": 2
}
